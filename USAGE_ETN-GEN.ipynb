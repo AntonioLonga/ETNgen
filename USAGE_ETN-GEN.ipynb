{
 "cells": [
  {
   "cell_type": "code",
   "execution_count": 409,
   "metadata": {},
   "outputs": [
    {
     "name": "stdout",
     "output_type": "stream",
     "text": [
      "The autoreload extension is already loaded. To reload it, use:\n",
      "  %reload_ext autoreload\n"
     ]
    }
   ],
   "source": [
    "import numpy as np\n",
    "import pandas as pd\n",
    "import matplotlib.pyplot as plt\n",
    "\n",
    "\n",
    "import construction as cs\n",
    "from ETN import count_ETN\n",
    "from ETNgen import generate_seed_graphs,generate_graph_g2,get_dict\n",
    "\n",
    "%load_ext autoreload\n",
    "%autoreload 2"
   ]
  },
  {
   "cell_type": "code",
   "execution_count": 410,
   "metadata": {},
   "outputs": [],
   "source": [
    "def get_number_of_interactions(graphs):\n",
    "    nb_inter = []\n",
    "    for g in graphs:\n",
    "        nb_inter.append(len(g.edges()))\n",
    "    return nb_inter\n",
    "    \n",
    "def moving_average(x, w):\n",
    "    return np.convolve(x, np.ones(w), 'valid') / w\n",
    "\n",
    "from matplotlib.lines import Line2D"
   ]
  },
  {
   "cell_type": "code",
   "execution_count": null,
   "metadata": {},
   "outputs": [],
   "source": []
  },
  {
   "cell_type": "code",
   "execution_count": null,
   "metadata": {},
   "outputs": [],
   "source": []
  },
  {
   "cell_type": "markdown",
   "metadata": {},
   "source": [
    "# load data as an array of static graphs"
   ]
  },
  {
   "cell_type": "code",
   "execution_count": 411,
   "metadata": {},
   "outputs": [
    {
     "name": "stdout",
     "output_type": "stream",
     "text": [
      "3293\n"
     ]
    }
   ],
   "source": [
    "file_name = \"InVS13\"\n",
    "\n",
    "data_in = cs.load_data(\"Datasets/\"+file_name+\".dat\")\n",
    "\n",
    "gap = 299 \n",
    "# gap = 599 used  for SMS and calls\n",
    "graphs = cs.build_graphs(data_in,gap=gap)\n",
    "\n",
    "print(len(graphs))"
   ]
  },
  {
   "cell_type": "markdown",
   "metadata": {},
   "source": [
    "### decide local and global splitting"
   ]
  },
  {
   "cell_type": "markdown",
   "metadata": {},
   "source": [
    "![title](img/Local_global_split.svg)"
   ]
  },
  {
   "cell_type": "markdown",
   "metadata": {},
   "source": [
    "here you can set local and global split, so you can decide how many dictionary do you want in a global split"
   ]
  },
  {
   "cell_type": "code",
   "execution_count": 412,
   "metadata": {},
   "outputs": [],
   "source": [
    "local_split = 3600*1 # 1 hours\n",
    "global_slpit = 3600*24*7 # 1 day"
   ]
  },
  {
   "cell_type": "code",
   "execution_count": 413,
   "metadata": {},
   "outputs": [
    {
     "data": {
      "image/png": "[encoded data removed]",
      "text/plain": [
       "<Figure size 1296x216 with 1 Axes>"
      ]
     },
     "metadata": {
      "needs_background": "light"
     },
     "output_type": "display_data"
    }
   ],
   "source": [
    "nb_inter = get_number_of_interactions(graphs)\n",
    "smooth_nb_int = moving_average(nb_inter,10)\n",
    "plt.figure(figsize=(18,3))\n",
    "plt.plot(np.arange(0,len(smooth_nb_int)/(3600/gap),gap/3600), smooth_nb_int,color=\"blue\")\n",
    "plt.xlabel(\"hours\")\n",
    "plt.ylabel(\"nb of interactions\")\n",
    "\n",
    "plt.vlines(global_slpit/3600,0,np.max(smooth_nb_int)*1.1,color=\"red\")\n",
    "plt.vlines(global_slpit*2/3600,0,np.max(smooth_nb_int)*1.1,color=\"red\")\n",
    "plt.vlines(global_slpit*3/3600,0,np.max(smooth_nb_int)*1.1,color=\"red\")\n",
    "for i in range(10):\n",
    "    plt.vlines(local_split*(i)/3600,0,30,color=\"green\")\n",
    "\n",
    "\n",
    "custom_lines = [Line2D([0], [0], color=\"blue\", lw=4),\n",
    "                Line2D([0], [0], color=\"red\", lw=4),\n",
    "                Line2D([0], [0], color=\"green\", lw=4)]\n",
    "plt.legend(custom_lines, ['nb of interactions', 'global split', 'local split'],loc='center left', bbox_to_anchor=(1, 0.5))\n",
    "plt.show()"
   ]
  },
  {
   "cell_type": "code",
   "execution_count": null,
   "metadata": {},
   "outputs": [],
   "source": []
  },
  {
   "cell_type": "markdown",
   "metadata": {},
   "source": [
    "### split graphs into list of graphs (depending on local splitting)"
   ]
  },
  {
   "cell_type": "code",
   "execution_count": 414,
   "metadata": {},
   "outputs": [],
   "source": [
    "local_split = int(local_split/(gap+1))\n",
    "global_slpit = int(global_slpit/(gap+1))"
   ]
  },
  {
   "cell_type": "code",
   "execution_count": 415,
   "metadata": {
    "scrolled": true
   },
   "outputs": [],
   "source": [
    "daily_graphs = []\n",
    "\n",
    "for i in range(int(global_slpit/local_split)):\n",
    "    daily_graphs.append([])\n",
    "    \n",
    "    \n",
    "hour = 0\n",
    "c = 1\n",
    "for i in range(len(graphs)):\n",
    "    g = graphs[i]\n",
    "    if i < local_split*c:\n",
    "        daily_graphs[hour].append(g)\n",
    "    else:\n",
    "        c = c + 1\n",
    "        if hour == len(daily_graphs)-1:\n",
    "            hour = 0\n",
    "        else:\n",
    "            hour = hour + 1\n",
    "        daily_graphs[hour].append(g)"
   ]
  },
  {
   "cell_type": "code",
   "execution_count": null,
   "metadata": {},
   "outputs": [],
   "source": []
  },
  {
   "cell_type": "code",
   "execution_count": null,
   "metadata": {},
   "outputs": [],
   "source": []
  },
  {
   "cell_type": "markdown",
   "metadata": {},
   "source": [
    "### count ETNS and store it in dictionaries (one for each local split)"
   ]
  },
  {
   "cell_type": "code",
   "execution_count": 416,
   "metadata": {},
   "outputs": [],
   "source": [
    "k=2\n",
    "ETNSs = []\n",
    "dizs = []\n",
    "\n",
    "for i in range(int(global_slpit/local_split)):\n",
    "    ETNS = count_ETN(daily_graphs[i],k)\n",
    "    ETNS = {k: v for k, v in sorted(ETNS.items(),reverse=True, key=lambda item: item[1])}\n",
    "    \n",
    "    ETNSs.append(ETNS)\n",
    "\n",
    "    diz = get_dict(ETNS,k)\n",
    "    dizs.append(diz)"
   ]
  },
  {
   "cell_type": "code",
   "execution_count": null,
   "metadata": {},
   "outputs": [],
   "source": []
  },
  {
   "cell_type": "markdown",
   "metadata": {},
   "source": [
    "### starting from a seed graph generate seed graphs up to k!"
   ]
  },
  {
   "cell_type": "code",
   "execution_count": 417,
   "metadata": {},
   "outputs": [],
   "source": [
    "g0 = graphs[0]\n",
    "graph_seed = generate_seed_graphs(g0,graphs,k,alpha = 0.5)"
   ]
  },
  {
   "cell_type": "code",
   "execution_count": 418,
   "metadata": {},
   "outputs": [],
   "source": [
    "# decide how many graphs you want to generate\n",
    "nb_graphs = len(graphs)"
   ]
  },
  {
   "cell_type": "code",
   "execution_count": 419,
   "metadata": {
    "scrolled": false
   },
   "outputs": [
    {
     "name": "stdout",
     "output_type": "stream",
     "text": [
      "0 over 3293\n",
      "100 over 3293\n",
      "200 over 3293\n",
      "300 over 3293\n",
      "400 over 3293\n",
      "500 over 3293\n",
      "600 over 3293\n",
      "700 over 3293\n",
      "800 over 3293\n",
      "900 over 3293\n",
      "1000 over 3293\n",
      "1100 over 3293\n",
      "1200 over 3293\n",
      "1300 over 3293\n",
      "1400 over 3293\n",
      "1500 over 3293\n",
      "1600 over 3293\n",
      "1700 over 3293\n",
      "1800 over 3293\n",
      "1900 over 3293\n",
      "2000 over 3293\n",
      "2100 over 3293\n",
      "2200 over 3293\n",
      "2300 over 3293\n",
      "2400 over 3293\n",
      "2500 over 3293\n",
      "2600 over 3293\n",
      "2700 over 3293\n",
      "2800 over 3293\n",
      "2900 over 3293\n",
      "3000 over 3293\n",
      "3100 over 3293\n",
      "3200 over 3293\n"
     ]
    }
   ],
   "source": [
    "c =  1\n",
    "hour = 0 \n",
    "nodes = list(graph_seed[0].nodes())\n",
    "tg = graph_seed\n",
    "verbose = True\n",
    "\n",
    "for i in range(nb_graphs-1):\n",
    "    if i < local_split*c:\n",
    "        pos = hour\n",
    "    else:\n",
    "        c = c + 1\n",
    "        if hour == len(daily_graphs)-1:\n",
    "            hour = 0\n",
    "        else:\n",
    "            hour = hour + 1\n",
    "        pos = hour\n",
    "        \n",
    "    diz = dizs[pos]\n",
    "        \n",
    "    graphs_in = tg[i:i+k]\n",
    "    g_new = generate_graph_g2(nodes,graphs_in,diz,k,alpha = 0.5)\n",
    "    tg.append(g_new)\n",
    "    \n",
    "    \n",
    "    if verbose:\n",
    "        if i % 100 == 0:\n",
    "            print(i,\"over\",nb_graphs)"
   ]
  },
  {
   "cell_type": "code",
   "execution_count": null,
   "metadata": {},
   "outputs": [],
   "source": []
  },
  {
   "cell_type": "markdown",
   "metadata": {},
   "source": [
    "# save graphs as temporal edge list"
   ]
  },
  {
   "cell_type": "code",
   "execution_count": 420,
   "metadata": {},
   "outputs": [
    {
     "name": "stdout",
     "output_type": "stream",
     "text": [
      "ETNgen-InVS13\n"
     ]
    }
   ],
   "source": [
    "new_temporal_graph_name = \"ETNgen-\"+file_name\n",
    "print(new_temporal_graph_name)"
   ]
  },
  {
   "cell_type": "code",
   "execution_count": 421,
   "metadata": {},
   "outputs": [],
   "source": [
    "edge_list = []\n",
    "c = 0 \n",
    "gap = 300\n",
    "nodes = set()\n",
    "for i in tg:\n",
    "    edges = list(i.edges())\n",
    "\n",
    "    for a,b in edges:\n",
    "        edge_list.append([c*gap,a,b])\n",
    "        nodes.add(a)\n",
    "        nodes.add(b)\n",
    "    c = c + 1\n",
    "    \n",
    "orig_nod = set(tg[0].nodes())\n",
    "diff = orig_nod.difference(nodes)\n",
    "for i in diff:\n",
    "    edge_list.append([c*gap,i,i])"
   ]
  },
  {
   "cell_type": "code",
   "execution_count": 422,
   "metadata": {},
   "outputs": [],
   "source": [
    "df_edge_list = pd.DataFrame(edge_list,columns=[\"time\",\"node_A\",\"node_B\"])\n",
    "df_edge_list.to_csv(\"Generated_graphs/\"+new_temporal_graph_name+\".dat\",sep=\" \",index=False,header=False)"
   ]
  },
  {
   "cell_type": "code",
   "execution_count": null,
   "metadata": {},
   "outputs": [],
   "source": []
  },
  {
   "cell_type": "markdown",
   "metadata": {},
   "source": [
    "# plot"
   ]
  },
  {
   "cell_type": "code",
   "execution_count": 249,
   "metadata": {},
   "outputs": [
    {
     "data": {
      "image/png": "[encoded data removed]",
      "text/plain": [
       "<Figure size 1296x216 with 1 Axes>"
      ]
     },
     "metadata": {
      "needs_background": "light"
     },
     "output_type": "display_data"
    }
   ],
   "source": [
    "w = 10\n",
    "nb_inter = get_number_of_interactions(graphs)\n",
    "smooth_nb_int = moving_average(nb_inter,w)\n",
    "\n",
    "\n",
    "plt.figure(figsize=(18,3))\n",
    "plt.plot(smooth_nb_int,color=\"blue\",label=\"Original\")\n",
    "plt.plot(moving_average(get_number_of_interactions(tg),w),color=\"red\",label=\"ETNgen\")\n",
    "plt.xlabel(\"time\")\n",
    "plt.ylabel(\"nb of interactions\")\n",
    "\n",
    "plt.legend(loc='center left', bbox_to_anchor=(1, 0.5))\n",
    "plt.show()"
   ]
  },
  {
   "cell_type": "code",
   "execution_count": null,
   "metadata": {},
   "outputs": [],
   "source": []
  },
  {
   "cell_type": "code",
   "execution_count": null,
   "metadata": {},
   "outputs": [],
   "source": []
  },
  {
   "cell_type": "code",
   "execution_count": null,
   "metadata": {},
   "outputs": [],
   "source": []
  },
  {
   "cell_type": "code",
   "execution_count": null,
   "metadata": {},
   "outputs": [],
   "source": []
  }
 ],
 "metadata": {
  "interpreter": {
   "hash": "bb17086194d7d73ddadbbf43f541071d992a7ee65541854f310228bfe926c80e"
  },
  "kernelspec": {
   "display_name": "Python 3",
   "language": "python",
   "name": "python3"
  },
  "language_info": {
   "codemirror_mode": {
    "name": "ipython",
    "version": 3
   },
   "file_extension": ".py",
   "mimetype": "text/x-python",
   "name": "python",
   "nbconvert_exporter": "python",
   "pygments_lexer": "ipython3",
   "version": "3.8.8"
  }
 },
 "nbformat": 4,
 "nbformat_minor": 4
}
