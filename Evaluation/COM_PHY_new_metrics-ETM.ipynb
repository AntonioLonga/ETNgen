{
 "cells": [
  {
   "cell_type": "code",
   "execution_count": 4,
   "metadata": {
    "scrolled": true
   },
   "outputs": [
    {
     "name": "stdout",
     "output_type": "stream",
     "text": [
      "The autoreload extension is already loaded. To reload it, use:\n",
      "  %reload_ext autoreload\n"
     ]
    }
   ],
   "source": [
    "import construction as cs\n",
    "import matplotlib.pyplot as plt\n",
    "\n",
    "### read font\n",
    "from matplotlib import font_manager\n",
    "\n",
    "font_dirs = ['Barlow/']\n",
    "font_files = font_manager.findSystemFonts(fontpaths=font_dirs)\n",
    "\n",
    "for font_file in font_files:\n",
    "    font_manager.fontManager.addfont(font_file)\n",
    "\n",
    "# set font\n",
    "plt.rcParams['font.family'] = 'Barlow'\n",
    "\n",
    "import networkx as nx\n",
    "%matplotlib inline\n",
    "%config InlineBackend.figure_format = 'retina'\n",
    "\n",
    "%load_ext autoreload\n",
    "%autoreload 2"
   ]
  },
  {
   "cell_type": "markdown",
   "metadata": {},
   "source": [
    "# Load generated graphs"
   ]
  },
  {
   "cell_type": "code",
   "execution_count": 5,
   "metadata": {},
   "outputs": [],
   "source": [
    "def load_origin_graph(file_name,gap=299):\n",
    "    data_in = cs.load_data(\"../Datasets/\"+file_name+\".dat\")\n",
    "    graphs_in = cs.build_graphs(data_in,gap=gap)\n",
    "    return graphs_in\n",
    "\n",
    "def load_ETNgen_graph(file_name,gap = 299 ):\n",
    "    path = \"../Generated_graphs/Multiple_run/\"+file_name+\"/\"\n",
    "    \n",
    "    graphs = []\n",
    "    for i in os.listdir(path):\n",
    "        data_in = cs.load_data(path+i)\n",
    "        graphs_in = cs.build_graphs(data_in,gap=gap)\n",
    "        graphs.append(graphs_in)\n",
    "    return graphs\n",
    "\n",
    "\n",
    "def load_dym_graph(file_name,gap = 0):\n",
    "    path = \"../Competitors_generated_graphs/Dymond/Multiple_run/\"+file_name+\"/\"\n",
    "    graphs = []\n",
    "    for i in os.listdir(path):\n",
    "        print(path+i)\n",
    "        data_in = cs.load_data(path+i)\n",
    "        graphs_in = cs.build_graphs(data_in,gap=gap)\n",
    "        graphs.append(graphs_in)\n",
    "    return graphs\n",
    "\n",
    "def load_stm_graph(file_name,gap=0):\n",
    "    path = \"../Competitors_generated_graphs/STM/Multiple_run/\"+file_name+\"/\"\n",
    "    graphs = []\n",
    "    for i in os.listdir(path):\n",
    "        print(path+i)\n",
    "        data_in = cs.load_data(path+i)\n",
    "        graphs_in = cs.build_graphs(data_in,gap=gap)\n",
    "        graphs.append(graphs_in)\n",
    "    return graphs\n",
    "\n",
    "def load_tag_graph(file_name,gap=0):\n",
    "    path = \"../Competitors_generated_graphs/TagGen/Multiple_run/\"+file_name+\"/\"\n",
    "    graphs = []\n",
    "    for i in os.listdir(path):\n",
    "        print(path+i)\n",
    "        data_in = cs.load_data(path+i)\n",
    "        graphs_in = cs.build_graphs(data_in,gap=gap)\n",
    "        graphs.append(graphs_in)\n",
    "    return graphs"
   ]
  },
  {
   "cell_type": "code",
   "execution_count": 6,
   "metadata": {},
   "outputs": [],
   "source": [
    "import networkx as nx\n",
    "import numpy as np\n",
    "from scipy import stats\n",
    "import matplotlib.pyplot as plt\n",
    "\n",
    "from topological_metrics import *\n",
    "\n",
    "import os"
   ]
  },
  {
   "cell_type": "markdown",
   "metadata": {},
   "source": [
    "# Compute and store ETM-counts\n",
    "load original count ETM"
   ]
  },
  {
   "cell_type": "code",
   "execution_count": 37,
   "metadata": {},
   "outputs": [],
   "source": [
    "from ETN import *\n",
    "from ETMM import *\n",
    "import json"
   ]
  },
  {
   "cell_type": "code",
   "execution_count": 38,
   "metadata": {},
   "outputs": [],
   "source": [
    "file_name = \"InVS13\"\n",
    "#file_name = \"LH10\"\n",
    "#file_name = \"High_School11\"\n",
    "k = 3\n",
    "ori = load_origin_graph(file_name,gap=299)"
   ]
  },
  {
   "cell_type": "code",
   "execution_count": 39,
   "metadata": {},
   "outputs": [
    {
     "name": "stdout",
     "output_type": "stream",
     "text": [
      "file stored in: \ttopology_results/original_distributions/InVS13/ETNS_3\n",
      "20\n",
      "done 1\n",
      "done 2\n",
      "done 3\n",
      "done 4\n",
      "done 5\n",
      "done 6\n",
      "done 7\n",
      "done 8\n",
      "done 9\n",
      "done 10\n",
      "done 11\n",
      "done 12\n",
      "done 13\n",
      "done 14\n",
      "done 15\n",
      "done 16\n",
      "done 17\n",
      "done 18\n",
      "done 19\n",
      "done 20\n"
     ]
    }
   ],
   "source": [
    "S = count_ETN(ori,k,meta=None)\n",
    "S = {k: v for k, v in sorted(S.items(), key=lambda item: item[1], reverse=1)}\n",
    "directory = \"topology_results/original_distributions/\"+file_name+\"/ETNS_\"+str(k)\n",
    "a_file = open(directory, \"w\")\n",
    "json.dump(S, a_file,indent=1)\n",
    "a_file.close()\n",
    "\n",
    "print(\"file stored in: \\t\"+directory)\n",
    "\n",
    "seed = 10\n",
    "n = 20\n",
    "null_models = shuffle_graphs(ori,n,seed)\n",
    "print(len(null_models))\n",
    "\n",
    "# count etn in null models and store the results\n",
    "counts = counts_ETN_null_models(null_models,S,k,False,None,verbose=True)"
   ]
  },
  {
   "cell_type": "code",
   "execution_count": 40,
   "metadata": {},
   "outputs": [
    {
     "name": "stdout",
     "output_type": "stream",
     "text": [
      "number of etns:\t 363 \n",
      "number of etm: \t 36\n"
     ]
    }
   ],
   "source": [
    "alpha=0.01\n",
    "beta=0.1\n",
    "gamma=10\n",
    "\n",
    "ETM = get_ETM(counts,alpha,beta,gamma)\n",
    "\n",
    "ETM_dic = dict()\n",
    "\n",
    "for i,j in ETM:\n",
    "    ETM_dic[i] = j\n",
    "    \n",
    "directory = \"topology_results/original_distributions/\"+file_name+\"/ETM_\"+str(k)\n",
    "a_file = open(directory, \"w\")\n",
    "json.dump(ETM_dic, a_file,indent=1)\n",
    "a_file.close()"
   ]
  },
  {
   "cell_type": "markdown",
   "metadata": {},
   "source": [
    "# count ETM in other graphs"
   ]
  },
  {
   "cell_type": "code",
   "execution_count": 41,
   "metadata": {},
   "outputs": [],
   "source": [
    "# load ETM \n",
    "file_name = \"InVS13\"\n",
    "#file_name = \"LH10\"\n",
    "#file_name = \"High_School11\"\n",
    "k = 3\n",
    "\n",
    "directory = \"topology_results/original_distributions/\"+file_name+\"/ETM_\"+str(k)\n",
    "with open(directory) as json_file:\n",
    "    ETM = json.load(json_file)"
   ]
  },
  {
   "cell_type": "code",
   "execution_count": 42,
   "metadata": {},
   "outputs": [
    {
     "name": "stdout",
     "output_type": "stream",
     "text": [
      "done 1\n",
      "done 2\n",
      "done 3\n",
      "done 4\n",
      "done 5\n",
      "done 6\n",
      "done 7\n",
      "done 8\n",
      "done 9\n",
      "done 10\n"
     ]
    }
   ],
   "source": [
    "# etn\n",
    "etn_gen = load_ETNgen_graph(file_name,gap=299)\n",
    "counts = counts_ETN_null_models(etn_gen,ETM,k,False,None,verbose=True)\n",
    "directory = \"topology_results/etngen/Multiple_run/distributions/\"+file_name+\"/ETM_\"+str(k)\n",
    "a_file = open(directory, \"w\")\n",
    "json.dump(counts, a_file,indent=1)\n",
    "a_file.close()"
   ]
  },
  {
   "cell_type": "code",
   "execution_count": null,
   "metadata": {},
   "outputs": [],
   "source": []
  },
  {
   "cell_type": "code",
   "execution_count": 43,
   "metadata": {
    "scrolled": true
   },
   "outputs": [
    {
     "name": "stdout",
     "output_type": "stream",
     "text": [
      "../Competitors_generated_graphs/Dymond/Multiple_run/InVS13/InVS13_dym7.dat\n",
      "../Competitors_generated_graphs/Dymond/Multiple_run/InVS13/InVS13_dym8.dat\n",
      "../Competitors_generated_graphs/Dymond/Multiple_run/InVS13/InVS13_dym4.dat\n",
      "../Competitors_generated_graphs/Dymond/Multiple_run/InVS13/InVS13_dym6.dat\n",
      "../Competitors_generated_graphs/Dymond/Multiple_run/InVS13/InVS13_dym1.dat\n",
      "../Competitors_generated_graphs/Dymond/Multiple_run/InVS13/InVS13_dym5.dat\n",
      "../Competitors_generated_graphs/Dymond/Multiple_run/InVS13/InVS13_dym2.dat\n",
      "../Competitors_generated_graphs/Dymond/Multiple_run/InVS13/InVS13_dym3.dat\n",
      "../Competitors_generated_graphs/Dymond/Multiple_run/InVS13/InVS13_dym9.dat\n",
      "../Competitors_generated_graphs/Dymond/Multiple_run/InVS13/InVS13_dym0.dat\n",
      "done 1\n",
      "done 2\n",
      "done 3\n",
      "done 4\n",
      "done 5\n",
      "done 6\n",
      "done 7\n",
      "done 8\n",
      "done 9\n",
      "done 10\n"
     ]
    }
   ],
   "source": [
    "#  dym\n",
    "dym_gen = load_dym_graph(file_name,gap=0)\n",
    "counts = counts_ETN_null_models(dym_gen,ETM,k,False,None,verbose=True)\n",
    "directory = \"topology_results/dymgen/Multiple_run/distributions/\"+file_name+\"/ETM_\"+str(k)\n",
    "a_file = open(directory, \"w\")\n",
    "json.dump(counts, a_file,indent=1)\n",
    "a_file.close()"
   ]
  },
  {
   "cell_type": "code",
   "execution_count": 44,
   "metadata": {},
   "outputs": [
    {
     "data": {
      "text/plain": [
       "{'0b1100': [584, 74, 65, 77, 70, 72, 69, 68, 62, 74, 91],\n",
       " '0b1111': [411, 0, 0, 0, 0, 0, 0, 0, 0, 0, 0],\n",
       " '0b1110': [251, 0, 1, 0, 1, 0, 2, 0, 0, 1, 1],\n",
       " '0b01001000': [168,\n",
       "  3344,\n",
       "  3296,\n",
       "  3406,\n",
       "  3277,\n",
       "  3359,\n",
       "  3291,\n",
       "  3152,\n",
       "  3369,\n",
       "  3289,\n",
       "  3420],\n",
       " '0b1001': [117, 76, 79, 70, 87, 73, 93, 54, 79, 66, 100],\n",
       " '0b1010': [100, 80, 87, 72, 89, 85, 95, 71, 71, 91, 88],\n",
       " '0b1101': [87, 0, 1, 0, 3, 0, 0, 1, 0, 1, 0],\n",
       " '0b10001100': [86, 19, 22, 20, 39, 17, 25, 21, 33, 23, 25],\n",
       " '0b1011': [80, 0, 0, 1, 0, 0, 0, 2, 0, 0, 2],\n",
       " '0b01001100': [63, 24, 32, 23, 25, 21, 23, 28, 25, 25, 27],\n",
       " '0b10001110': [31, 0, 0, 0, 0, 0, 0, 0, 0, 0, 0],\n",
       " '0b00101110': [26, 0, 0, 0, 0, 0, 0, 1, 0, 0, 0],\n",
       " '0b00111000': [25, 26, 17, 19, 12, 11, 11, 18, 14, 15, 22],\n",
       " '0b00011100': [25, 25, 15, 21, 22, 20, 15, 14, 14, 14, 14],\n",
       " '0b01101000': [25, 15, 16, 17, 19, 16, 17, 9, 16, 19, 16],\n",
       " '0b11001100': [23, 5, 5, 12, 8, 15, 8, 8, 6, 6, 3],\n",
       " '0b00011111': [23, 0, 0, 0, 0, 0, 0, 0, 0, 0, 0],\n",
       " '0b00101100': [22, 22, 21, 20, 19, 16, 11, 13, 15, 19, 22],\n",
       " '0b10001111': [21, 0, 0, 0, 0, 0, 0, 0, 0, 0, 0],\n",
       " '0b000100011000': [19, 744, 709, 695, 702, 660, 722, 669, 712, 699, 769],\n",
       " '0b00011001': [16, 18, 21, 29, 23, 31, 32, 23, 26, 24, 36],\n",
       " '0b01001111': [15, 0, 0, 0, 0, 0, 0, 0, 0, 0, 0],\n",
       " '0b00011110': [15, 0, 0, 0, 0, 0, 0, 0, 0, 0, 0],\n",
       " '0b10001010': [15, 28, 26, 34, 20, 23, 26, 26, 25, 23, 28],\n",
       " '0b01001110': [14, 0, 0, 0, 0, 0, 0, 0, 0, 0, 1],\n",
       " '0b01101100': [14, 0, 0, 1, 1, 1, 1, 0, 1, 0, 0],\n",
       " '0b11001110': [13, 0, 0, 0, 0, 0, 0, 0, 0, 0, 0],\n",
       " '0b01111000': [13, 0, 0, 1, 0, 0, 1, 0, 0, 0, 1],\n",
       " '0b00011010': [12, 22, 20, 12, 26, 17, 13, 17, 15, 12, 24],\n",
       " '0b00111111': [12, 0, 0, 0, 0, 0, 0, 0, 0, 0, 0],\n",
       " '0b100010001100': [10, 4, 7, 4, 7, 6, 1, 3, 3, 7, 1],\n",
       " '0b10001011': [10, 0, 0, 0, 0, 0, 0, 0, 0, 0, 2],\n",
       " '0b010010001100': [10, 8, 8, 14, 14, 7, 6, 10, 10, 10, 12],\n",
       " '0b00011011': [10, 0, 1, 0, 0, 0, 0, 0, 0, 0, 0],\n",
       " '0b11101111': [10, 0, 0, 0, 0, 0, 0, 0, 0, 0, 0],\n",
       " '0b001001001000': [10, 887, 839, 932, 851, 852, 839, 844, 878, 840, 861]}"
      ]
     },
     "execution_count": 44,
     "metadata": {},
     "output_type": "execute_result"
    }
   ],
   "source": [
    "counts"
   ]
  },
  {
   "cell_type": "code",
   "execution_count": 45,
   "metadata": {},
   "outputs": [
    {
     "name": "stdout",
     "output_type": "stream",
     "text": [
      "../Competitors_generated_graphs/STM/Multiple_run/InVS13/InVS13_STM_3.dat\n",
      "../Competitors_generated_graphs/STM/Multiple_run/InVS13/InVS13_STM_7.dat\n",
      "../Competitors_generated_graphs/STM/Multiple_run/InVS13/InVS13_STM_9.dat\n",
      "../Competitors_generated_graphs/STM/Multiple_run/InVS13/InVS13_STM_0.dat\n",
      "../Competitors_generated_graphs/STM/Multiple_run/InVS13/InVS13_STM_6.dat\n",
      "../Competitors_generated_graphs/STM/Multiple_run/InVS13/InVS13_STM_2.dat\n",
      "../Competitors_generated_graphs/STM/Multiple_run/InVS13/InVS13_STM_8.dat\n",
      "../Competitors_generated_graphs/STM/Multiple_run/InVS13/InVS13_STM_5.dat\n",
      "../Competitors_generated_graphs/STM/Multiple_run/InVS13/InVS13_STM_1.dat\n",
      "../Competitors_generated_graphs/STM/Multiple_run/InVS13/InVS13_STM_4.dat\n",
      "done 1\n",
      "done 2\n",
      "done 3\n",
      "done 4\n",
      "done 5\n",
      "done 6\n",
      "done 7\n",
      "done 8\n",
      "done 9\n",
      "done 10\n"
     ]
    }
   ],
   "source": [
    "#  stm\n",
    "stm_gen = load_stm_graph(file_name,gap=0)\n",
    "counts = counts_ETN_null_models(stm_gen,ETM,k,False,None,verbose=True)\n",
    "directory = \"topology_results/stmgen/Multiple_run/distributions/\"+file_name+\"/ETM_\"+str(k)\n",
    "a_file = open(directory, \"w\")\n",
    "json.dump(counts, a_file,indent=1)\n",
    "a_file.close()"
   ]
  },
  {
   "cell_type": "code",
   "execution_count": 46,
   "metadata": {},
   "outputs": [
    {
     "data": {
      "text/plain": [
       "{'0b1100': [584, 23, 19, 17, 17, 15, 12, 25, 23, 12, 21],\n",
       " '0b1111': [411, 5, 96, 68, 204, 72, 24, 109, 85, 86, 14],\n",
       " '0b1110': [251, 1, 4, 0, 3, 0, 0, 2, 3, 2, 4],\n",
       " '0b01001000': [168, 585, 508, 534, 445, 486, 478, 550, 487, 505, 468],\n",
       " '0b1001': [117, 18, 12, 26, 16, 26, 13, 16, 19, 18, 20],\n",
       " '0b1010': [100, 19, 26, 17, 16, 14, 10, 26, 16, 24, 12],\n",
       " '0b1101': [87, 0, 6, 0, 2, 0, 0, 2, 2, 3, 1],\n",
       " '0b10001100': [86, 4, 7, 4, 4, 4, 5, 3, 3, 5, 2],\n",
       " '0b1011': [80, 1, 5, 3, 1, 0, 0, 3, 4, 1, 1],\n",
       " '0b01001100': [63, 1, 7, 3, 1, 3, 4, 3, 3, 6, 4],\n",
       " '0b10001110': [31, 1, 1, 0, 1, 0, 0, 1, 0, 3, 1],\n",
       " '0b00101110': [26, 2, 4, 2, 0, 0, 0, 0, 1, 2, 0],\n",
       " '0b00111000': [25, 2, 8, 5, 4, 5, 8, 9, 5, 6, 8],\n",
       " '0b00011100': [25, 5, 9, 8, 7, 6, 7, 7, 5, 7, 8],\n",
       " '0b01101000': [25, 9, 9, 6, 4, 6, 5, 6, 9, 7, 5],\n",
       " '0b11001100': [23, 0, 0, 0, 0, 0, 0, 0, 0, 0, 1],\n",
       " '0b00011111': [23, 1, 2, 1, 0, 3, 2, 2, 1, 5, 1],\n",
       " '0b00101100': [22, 5, 7, 9, 4, 6, 6, 5, 7, 8, 2],\n",
       " '0b10001111': [21, 1, 1, 0, 0, 0, 0, 1, 0, 5, 2],\n",
       " '0b000100011000': [19, 13, 27, 28, 25, 20, 17, 32, 17, 17, 20],\n",
       " '0b00011001': [16, 7, 5, 3, 2, 3, 4, 4, 8, 4, 2],\n",
       " '0b01001111': [15, 1, 2, 0, 0, 1, 0, 0, 0, 3, 2],\n",
       " '0b00011110': [15, 2, 6, 3, 2, 0, 0, 5, 2, 8, 1],\n",
       " '0b10001010': [15, 0, 1, 5, 3, 5, 2, 3, 2, 8, 3],\n",
       " '0b01001110': [14, 1, 1, 0, 0, 2, 1, 3, 0, 2, 1],\n",
       " '0b01101100': [14, 0, 3, 0, 1, 0, 0, 0, 0, 1, 0],\n",
       " '0b11001110': [13, 0, 0, 0, 0, 0, 0, 0, 0, 3, 0],\n",
       " '0b01111000': [13, 0, 3, 1, 1, 1, 0, 2, 2, 5, 1],\n",
       " '0b00011010': [12, 4, 10, 6, 3, 8, 3, 6, 8, 11, 5],\n",
       " '0b00111111': [12, 0, 1, 0, 0, 1, 0, 0, 0, 1, 0],\n",
       " '0b100010001100': [10, 4, 2, 1, 2, 1, 0, 0, 1, 1, 1],\n",
       " '0b10001011': [10, 1, 2, 2, 1, 1, 1, 1, 1, 1, 0],\n",
       " '0b010010001100': [10, 0, 0, 1, 0, 0, 0, 0, 0, 2, 1],\n",
       " '0b00011011': [10, 1, 3, 1, 0, 0, 1, 0, 0, 0, 0],\n",
       " '0b11101111': [10, 0, 0, 0, 0, 0, 0, 0, 0, 2, 1],\n",
       " '0b001001001000': [10, 60, 58, 75, 40, 65, 54, 58, 59, 57, 50]}"
      ]
     },
     "execution_count": 46,
     "metadata": {},
     "output_type": "execute_result"
    }
   ],
   "source": [
    "counts"
   ]
  },
  {
   "cell_type": "code",
   "execution_count": 47,
   "metadata": {},
   "outputs": [
    {
     "name": "stdout",
     "output_type": "stream",
     "text": [
      "../Competitors_generated_graphs/TagGen/Multiple_run/InVS13/InVS13_6_generato_TagGen.dat\n",
      "../Competitors_generated_graphs/TagGen/Multiple_run/InVS13/InVS13_0_generato_TagGen.dat\n",
      "../Competitors_generated_graphs/TagGen/Multiple_run/InVS13/InVS13_2_generato_TagGen.dat\n",
      "../Competitors_generated_graphs/TagGen/Multiple_run/InVS13/InVS13_4_generato_TagGen.dat\n",
      "../Competitors_generated_graphs/TagGen/Multiple_run/InVS13/InVS13_9_generato_TagGen.dat\n",
      "../Competitors_generated_graphs/TagGen/Multiple_run/InVS13/InVS13_5_generato_TagGen.dat\n",
      "../Competitors_generated_graphs/TagGen/Multiple_run/InVS13/InVS13_8_generato_TagGen.dat\n",
      "../Competitors_generated_graphs/TagGen/Multiple_run/InVS13/InVS13_7_generato_TagGen.dat\n",
      "../Competitors_generated_graphs/TagGen/Multiple_run/InVS13/InVS13_3_generato_TagGen.dat\n",
      "../Competitors_generated_graphs/TagGen/Multiple_run/InVS13/InVS13_1_generato_TagGen.dat\n",
      "done 1\n",
      "done 2\n",
      "done 3\n",
      "done 4\n",
      "done 5\n",
      "done 6\n",
      "done 7\n",
      "done 8\n",
      "done 9\n",
      "done 10\n"
     ]
    }
   ],
   "source": [
    "# tag\n",
    "tag_gen = load_tag_graph(file_name,gap=0)\n",
    "counts = counts_ETN_null_models(tag_gen,ETM,k,False,None,verbose=True)\n",
    "directory = \"topology_results/taggen/Multiple_run/distributions/\"+file_name+\"/ETM_\"+str(k)\n",
    "a_file = open(directory, \"w\")\n",
    "json.dump(counts, a_file,indent=1)\n",
    "a_file.close()"
   ]
  },
  {
   "cell_type": "code",
   "execution_count": 48,
   "metadata": {},
   "outputs": [
    {
     "data": {
      "text/plain": [
       "{'0b1100': [584, 205, 160, 172, 215, 224, 188, 398, 317, 138, 558],\n",
       " '0b1111': [411, 4, 10, 1, 2, 1, 3, 132, 71, 8, 373],\n",
       " '0b1110': [251, 18, 21, 15, 26, 25, 12, 130, 79, 25, 239],\n",
       " '0b01001000': [168, 1451, 393, 1185, 1400, 1230, 1100, 246, 221, 763, 162],\n",
       " '0b1001': [117, 95, 54, 97, 117, 118, 100, 81, 62, 55, 112],\n",
       " '0b1010': [100, 143, 54, 130, 129, 135, 138, 70, 55, 83, 94],\n",
       " '0b1101': [87, 14, 7, 15, 15, 11, 11, 41, 18, 13, 85],\n",
       " '0b10001100': [86, 99, 91, 81, 80, 93, 75, 123, 123, 50, 98],\n",
       " '0b1011': [80, 15, 10, 12, 12, 12, 9, 39, 24, 15, 78],\n",
       " '0b01001100': [63, 95, 78, 62, 97, 99, 78, 110, 107, 72, 76],\n",
       " '0b10001110': [31, 6, 12, 6, 15, 8, 14, 52, 41, 11, 29],\n",
       " '0b00101110': [26, 8, 12, 5, 10, 9, 7, 33, 30, 13, 32],\n",
       " '0b00111000': [25, 88, 17, 47, 66, 57, 49, 16, 12, 29, 25],\n",
       " '0b00011100': [25, 68, 15, 54, 66, 59, 43, 18, 16, 27, 25],\n",
       " '0b01101000': [25, 69, 10, 59, 61, 53, 51, 21, 15, 33, 24],\n",
       " '0b11001100': [23, 26, 8, 2, 32, 7, 3, 18, 12, 5, 22],\n",
       " '0b00011111': [23, 0, 8, 2, 1, 3, 2, 40, 30, 6, 29],\n",
       " '0b00101100': [22, 78, 16, 63, 72, 50, 39, 20, 10, 36, 22],\n",
       " '0b10001111': [21, 3, 9, 0, 1, 4, 2, 42, 17, 11, 29],\n",
       " '0b000100011000': [19, 318, 81, 278, 234, 247, 191, 47, 41, 132, 21],\n",
       " '0b00011001': [16, 45, 18, 36, 45, 48, 29, 31, 31, 32, 16],\n",
       " '0b01001111': [15, 1, 13, 2, 1, 1, 2, 48, 18, 9, 20],\n",
       " '0b00011110': [15, 8, 1, 12, 6, 7, 2, 10, 6, 14, 15],\n",
       " '0b10001010': [15, 59, 21, 53, 33, 54, 55, 24, 36, 26, 17],\n",
       " '0b01001110': [14, 7, 13, 9, 5, 12, 11, 37, 23, 8, 17],\n",
       " '0b01101100': [14, 5, 6, 7, 6, 4, 6, 10, 6, 2, 15],\n",
       " '0b11001110': [13, 2, 0, 5, 11, 2, 1, 4, 8, 6, 11],\n",
       " '0b01111000': [13, 6, 3, 8, 10, 7, 6, 9, 6, 9, 12],\n",
       " '0b00011010': [12, 59, 5, 43, 33, 33, 55, 12, 9, 25, 12],\n",
       " '0b00111111': [12, 0, 1, 0, 1, 0, 5, 6, 5, 1, 10],\n",
       " '0b100010001100': [10, 29, 52, 22, 35, 19, 21, 20, 33, 25, 11],\n",
       " '0b10001011': [10, 8, 5, 3, 9, 9, 7, 13, 9, 9, 10],\n",
       " '0b010010001100': [10, 53, 64, 28, 54, 33, 26, 42, 70, 41, 13],\n",
       " '0b00011011': [10, 9, 5, 3, 5, 4, 12, 15, 11, 6, 9],\n",
       " '0b11101111': [10, 0, 0, 0, 1, 0, 2, 1, 0, 8, 9],\n",
       " '0b001001001000': [10, 474, 61, 332, 407, 351, 279, 19, 19, 141, 13]}"
      ]
     },
     "execution_count": 48,
     "metadata": {},
     "output_type": "execute_result"
    }
   ],
   "source": [
    "counts"
   ]
  },
  {
   "cell_type": "code",
   "execution_count": null,
   "metadata": {},
   "outputs": [],
   "source": []
  },
  {
   "cell_type": "markdown",
   "metadata": {},
   "source": [
    "# visualize"
   ]
  },
  {
   "cell_type": "code",
   "execution_count": 2,
   "metadata": {},
   "outputs": [],
   "source": [
    "import json\n",
    "import numpy as np\n",
    "from numpy import dot\n",
    "from numpy.linalg import norm\n",
    "\n",
    "def cos_dist(a,b):\n",
    "    return 1- (dot(a, b)/(norm(a)*norm(b)))\n",
    "\n",
    "def comp_dist(dic,remove=False):\n",
    "    v = np.array(list(dic.values()))\n",
    "    val = []\n",
    "    a = v[:,0]\n",
    "    for i in range(len(v[0])-1):\n",
    "        if not remove:\n",
    "            val.append(cos_dist(a,v[:,i+1]))    \n",
    "        else:\n",
    "            if not(i == 4 or i == 7):\n",
    "                val.append(cos_dist(a,v[:,i+1]))\n",
    "\n",
    "        \n",
    "    return np.mean(val),np.std(val)\n",
    "def tmp_load(model,file_name,k):\n",
    "    directory = \"topology_results/\"+model+\"/Multiple_run/distributions/\"+file_name+\"/ETM_\"+str(k)\n",
    "    with open(directory) as json_file:\n",
    "        ETM = json.load(json_file)\n",
    "        \n",
    "    return ETM"
   ]
  },
  {
   "cell_type": "code",
   "execution_count": 15,
   "metadata": {},
   "outputs": [
    {
     "name": "stdout",
     "output_type": "stream",
     "text": [
      "InVS13\n",
      "etn (0.02638070832388546, 0.007495066477185262)\n",
      "tag (0.48724391431042974, 0.2662489169357832)\n",
      "stm (0.6871997511887862, 0.04803523424768575)\n",
      "dym (0.7773720340071979, 0.0012759108773141873)\n",
      "LH10\n",
      "etn (0.017694769915439557, 0.004081668644252969)\n",
      "tag (0.2017516599400108, 0.215642487756456)\n",
      "stm (0.4626801340274317, 0.09203585851876103)\n",
      "dym (0.7336687901910024, 0.14452498689051915)\n",
      "High_School11\n",
      "etn (0.028398709605439932, 0.0037532765538631453)\n",
      "tag (0.6263985210010755, 0.3123843650184739)\n",
      "stm (0.5988159100287268, 0.2040808471602658)\n",
      "dym (0.9146411035371246, 0.043216470756856536)\n"
     ]
    }
   ],
   "source": [
    "# load ETM \n",
    "file_name = \"InVS13\"\n",
    "file_name = \"LH10\"\n",
    "file_name = \"High_School11\"\n",
    "k = 2\n",
    "\n",
    "for file_name in [\"InVS13\",\"LH10\",\"High_School11\"]:\n",
    "    print(file_name)\n",
    "    etn = tmp_load(\"etngen\",file_name,k)\n",
    "    tag = tmp_load(\"taggen\",file_name,k)\n",
    "    stm = tmp_load(\"stmgen\",file_name,k)\n",
    "    dym = tmp_load(\"dymgen\",file_name,k)\n",
    "    \n",
    "    print(\"etn\",comp_dist(etn))\n",
    "    print(\"tag\",comp_dist(tag))\n",
    "    print(\"stm\",comp_dist(stm))\n",
    "    if file_name == \"LH10\":\n",
    "        print(\"dym\",comp_dist(dym,True))\n",
    "    else:\n",
    "        print(\"dym\",comp_dist(dym))"
   ]
  },
  {
   "cell_type": "code",
   "execution_count": 49,
   "metadata": {},
   "outputs": [
    {
     "name": "stdout",
     "output_type": "stream",
     "text": [
      "InVS13\n",
      "etn (0.05438331547324902, 0.008953892973818727)\n",
      "tag (0.4579499059418903, 0.2524955316297308)\n",
      "stm (0.6805878200562355, 0.05144793262631799)\n",
      "dym (0.7728581835694625, 0.0017805852011776404)\n",
      "LH10\n",
      "etn (0.036410792175716244, 0.008276962376328571)\n",
      "tag (0.19579644801697202, 0.1897372141411464)\n",
      "stm (0.5009368709855135, 0.09664421508574686)\n",
      "dym (0.702762082531529, 0.16842025139046665)\n",
      "High_School11\n",
      "etn (0.09479065341211962, 0.008153527747728644)\n",
      "tag (0.6855213723220438, 0.3215937806260364)\n",
      "stm (0.7336708466594598, 0.21629834723232394)\n",
      "dym (0.9573480803713477, 0.02109484584327577)\n"
     ]
    }
   ],
   "source": [
    "# load ETM \n",
    "file_name = \"InVS13\"\n",
    "file_name = \"LH10\"\n",
    "file_name = \"High_School11\"\n",
    "k = 3\n",
    "\n",
    "for file_name in [\"InVS13\",\"LH10\",\"High_School11\"]:\n",
    "    print(file_name)\n",
    "    etn = tmp_load(\"etngen\",file_name,k)\n",
    "    tag = tmp_load(\"taggen\",file_name,k)\n",
    "    stm = tmp_load(\"stmgen\",file_name,k)\n",
    "    dym = tmp_load(\"dymgen\",file_name,k)\n",
    "    \n",
    "    print(\"etn\",comp_dist(etn))\n",
    "    print(\"tag\",comp_dist(tag))\n",
    "    print(\"stm\",comp_dist(stm))\n",
    "    if file_name == \"LH10\":\n",
    "        print(\"dym\",comp_dist(dym,True))\n",
    "    else:\n",
    "        print(\"dym\",comp_dist(dym))"
   ]
  },
  {
   "cell_type": "code",
   "execution_count": null,
   "metadata": {},
   "outputs": [],
   "source": []
  },
  {
   "cell_type": "code",
   "execution_count": null,
   "metadata": {},
   "outputs": [],
   "source": []
  },
  {
   "cell_type": "code",
   "execution_count": null,
   "metadata": {},
   "outputs": [],
   "source": []
  },
  {
   "cell_type": "code",
   "execution_count": null,
   "metadata": {},
   "outputs": [],
   "source": []
  }
 ],
 "metadata": {
  "interpreter": {
   "hash": "bb17086194d7d73ddadbbf43f541071d992a7ee65541854f310228bfe926c80e"
  },
  "kernelspec": {
   "display_name": "Python 3 (ipykernel)",
   "language": "python",
   "name": "python3"
  },
  "language_info": {
   "codemirror_mode": {
    "name": "ipython",
    "version": 3
   },
   "file_extension": ".py",
   "mimetype": "text/x-python",
   "name": "python",
   "nbconvert_exporter": "python",
   "pygments_lexer": "ipython3",
   "version": "3.10.11"
  }
 },
 "nbformat": 4,
 "nbformat_minor": 4
}
