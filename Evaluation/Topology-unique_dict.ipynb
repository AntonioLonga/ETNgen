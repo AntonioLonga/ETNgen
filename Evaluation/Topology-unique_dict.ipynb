{
 "cells": [
  {
   "cell_type": "code",
   "execution_count": 5,
   "metadata": {
    "scrolled": true
   },
   "outputs": [],
   "source": [
    "import construction as cs\n",
    "import matplotlib.pyplot as plt\n",
    "\n",
    "### read font\n",
    "from matplotlib import font_manager\n",
    "\n",
    "font_dirs = ['Barlow/']\n",
    "font_files = font_manager.findSystemFonts(fontpaths=font_dirs)\n",
    "\n",
    "for font_file in font_files:\n",
    "    font_manager.fontManager.addfont(font_file)\n",
    "\n",
    "# set font\n",
    "plt.rcParams['font.family'] = 'Barlow'\n",
    "\n",
    "import networkx as nx\n",
    "%matplotlib inline\n",
    "%config InlineBackend.figure_format = 'retina'\n",
    "\n",
    "%load_ext autoreload\n",
    "%autoreload 2"
   ]
  },
  {
   "cell_type": "code",
   "execution_count": null,
   "metadata": {},
   "outputs": [],
   "source": []
  },
  {
   "cell_type": "markdown",
   "metadata": {},
   "source": [
    "# Load generated graphs"
   ]
  },
  {
   "cell_type": "code",
   "execution_count": 6,
   "metadata": {},
   "outputs": [],
   "source": [
    "def load_origin_graph(file_name,gap=299):\n",
    "    data_in = cs.load_data(\"../Datasets/\"+file_name+\".dat\")\n",
    "    gap = 299 \n",
    "    graphs_in = cs.build_graphs(data_in,gap=gap)\n",
    "    return graphs_in\n",
    "\n",
    "def load_ETNgen_graph_unique_dict():\n",
    "    path = \"../unique_dictionary/ETNgen-InVS13_uniqueDict.dat\"\n",
    "    gap = 299 \n",
    "    data_in = cs.load_data(path)\n",
    "    graphs_in = cs.build_graphs(data_in,gap=gap)\n",
    "    \n",
    "    return graphs_in\n",
    "\n",
    "def load_ETNgen_graph():\n",
    "    path = \"../Generated_graphs/ETNgen-InVS13.dat\"\n",
    "    gap = 299 \n",
    "    data_in = cs.load_data(path)\n",
    "    graphs_in = cs.build_graphs(data_in,gap=gap)\n",
    "    \n",
    "    return graphs_in"
   ]
  },
  {
   "cell_type": "code",
   "execution_count": 7,
   "metadata": {},
   "outputs": [],
   "source": [
    "import networkx as nx\n",
    "import numpy as np\n",
    "from scipy import stats\n",
    "import matplotlib.pyplot as plt\n",
    "\n",
    "from topological_metrics import *\n",
    "\n",
    "import os"
   ]
  },
  {
   "cell_type": "markdown",
   "metadata": {},
   "source": [
    "# Compute and store topological results"
   ]
  },
  {
   "cell_type": "code",
   "execution_count": 8,
   "metadata": {},
   "outputs": [],
   "source": [
    "\n",
    "ORIGINAL_COLOR = '#474747' #dark grey\n",
    "ETN_COLOR =  '#fb7041' #'#E5865E' # arancio\n",
    "TAG_COLOR = '#96ccc8' # light blue\n",
    "STM_COLOR = '#bad1f2' #8F2E27' # rosso\n",
    "DYM_COLOR = '#559ca6' # teal\n"
   ]
  },
  {
   "cell_type": "code",
   "execution_count": 9,
   "metadata": {},
   "outputs": [],
   "source": [
    "graphs_etn_ud = load_ETNgen_graph_unique_dict()\n",
    "graphs_etn = load_ETNgen_graph()"
   ]
  },
  {
   "cell_type": "code",
   "execution_count": 10,
   "metadata": {},
   "outputs": [],
   "source": [
    "orig_graph = load_origin_graph(\"InVS13\")"
   ]
  },
  {
   "cell_type": "code",
   "execution_count": null,
   "metadata": {},
   "outputs": [],
   "source": []
  },
  {
   "cell_type": "code",
   "execution_count": 14,
   "metadata": {},
   "outputs": [],
   "source": [
    "def comp_metric(metric,o,graphs,graphs_ud,norm=True):\n",
    "    orig = metric(o)\n",
    "    \n",
    "    etn_res_ud = metric(graphs_ud)\n",
    "    etn_res = metric(graphs)\n",
    "    \n",
    "    if norm:\n",
    "            \n",
    "        etn_res = list(np.array(etn_res)/max(etn_res))\n",
    "        etn_res_ud = list(np.array(etn_res_ud)/max(etn_res_ud))\n",
    "\n",
    "    return orig,etn_res,etn_res_ud"
   ]
  },
  {
   "cell_type": "code",
   "execution_count": null,
   "metadata": {},
   "outputs": [],
   "source": []
  },
  {
   "cell_type": "code",
   "execution_count": 17,
   "metadata": {},
   "outputs": [
    {
     "name": "stdout",
     "output_type": "stream",
     "text": [
      "density \t 0.051 0.000380\n",
      "global clu\t 0.030 0.105352\n",
      "avg short p\t 0.021 0.977048\n",
      "metric p \t 0.052 0.000306\n",
      "metric n \t 0.121 0.000002\n",
      "assortat \t 0.252 0.000000\n",
      "s metric\t 0.041 0.007339\n",
      "metric f \t 0.051 0.000380\n",
      "strenght \t 0.220 0.000000\n",
      "duration \t 0.100 0.000085\n"
     ]
    }
   ],
   "source": [
    "res_etn = compute_all_metrics(orig_graph,graphs_etn)"
   ]
  },
  {
   "cell_type": "code",
   "execution_count": 18,
   "metadata": {
    "scrolled": true
   },
   "outputs": [
    {
     "name": "stdout",
     "output_type": "stream",
     "text": [
      "density \t 0.194 0.000000\n",
      "global clu\t 0.032 0.072616\n",
      "avg short p\t 0.239 0.000000\n",
      "metric p \t 0.209 0.000000\n",
      "metric n \t 0.503 0.000000\n",
      "assortat \t 0.740 0.000000\n",
      "s metric\t 0.194 0.000000\n",
      "metric f \t 0.194 0.000000\n",
      "strenght \t 0.324 0.000000\n",
      "duration \t 0.211 0.000000\n"
     ]
    }
   ],
   "source": [
    "res_etn_ud = compute_all_metrics(orig_graph,graphs_etn_ud)"
   ]
  },
  {
   "cell_type": "code",
   "execution_count": 19,
   "metadata": {},
   "outputs": [],
   "source": [
    "np.save(\"../unique_dictionary/topology_res/InVS13-ud.npy\",res_etn_ud)\n",
    "np.save(\"../unique_dictionary/topology_res/InVS13.npy\",res_etn)"
   ]
  },
  {
   "cell_type": "code",
   "execution_count": null,
   "metadata": {},
   "outputs": [],
   "source": []
  },
  {
   "cell_type": "code",
   "execution_count": null,
   "metadata": {
    "scrolled": true
   },
   "outputs": [],
   "source": []
  },
  {
   "cell_type": "code",
   "execution_count": null,
   "metadata": {},
   "outputs": [],
   "source": []
  },
  {
   "cell_type": "code",
   "execution_count": null,
   "metadata": {
    "scrolled": true
   },
   "outputs": [],
   "source": []
  },
  {
   "cell_type": "code",
   "execution_count": null,
   "metadata": {},
   "outputs": [],
   "source": []
  },
  {
   "cell_type": "code",
   "execution_count": null,
   "metadata": {},
   "outputs": [],
   "source": []
  },
  {
   "cell_type": "code",
   "execution_count": null,
   "metadata": {},
   "outputs": [],
   "source": []
  },
  {
   "cell_type": "code",
   "execution_count": null,
   "metadata": {},
   "outputs": [],
   "source": []
  },
  {
   "cell_type": "markdown",
   "metadata": {},
   "source": [
    "# load topology results"
   ]
  },
  {
   "cell_type": "code",
   "execution_count": null,
   "metadata": {},
   "outputs": [],
   "source": []
  },
  {
   "cell_type": "code",
   "execution_count": 11,
   "metadata": {},
   "outputs": [],
   "source": [
    "labels = [\"density\",\"global clu\",\"avg short\",\"metric p\",\"metric n\",\"assortat\",\"s metric\",\"metric f\",\"strenght\",\"duration \"]\n",
    "def load_topo_res(ks):\n",
    "    \n",
    "    res = dict()\n",
    "    #for k in :\n",
    "    for k in ks:\n",
    "        tmp = np.load(\"../variation_of_K_res/topology_res/InVS13-\"+str(k)+\".npy\")\n",
    "        res[k]=tmp\n",
    "        \n",
    "    return res"
   ]
  },
  {
   "cell_type": "code",
   "execution_count": 12,
   "metadata": {},
   "outputs": [],
   "source": [
    "line_width = 1.5\n",
    "\n",
    "\n",
    "ORIGINAL_COLOR = '#474747' #dark grey\n",
    "ETN_COLOR =  '#fb7041' #'#E5865E' # arancio\n",
    "TAG_COLOR = '#96ccc8' # light blue\n",
    "STM_COLOR = '#bad1f2' #8F2E27' # rosso\n",
    "DYM_COLOR = '#559ca6' # teal\n"
   ]
  },
  {
   "cell_type": "code",
   "execution_count": 13,
   "metadata": {},
   "outputs": [],
   "source": [
    "labels = [\"Density\",\n",
    "          \"Global clustering \\ncoefficient\",\n",
    "          \"Average shortest\\npath length\",\n",
    "          \"Interacting\\nindividuals\",\n",
    "          \"New conversations\",\n",
    "          \"Assortativity\",\n",
    "          \"S-metric\",        \n",
    "          \"Frequency of interactions\",\n",
    "          \"Edge strength\",\n",
    "          \"Duration of contacts\"]\n",
    "\n",
    "labels = labels"
   ]
  },
  {
   "cell_type": "code",
   "execution_count": 14,
   "metadata": {},
   "outputs": [],
   "source": [
    "res_ud = np.load(\"../unique_dictionary/topology_res/InVS13-ud.npy\")[:,0]\n",
    "res = np.load(\"../unique_dictionary/topology_res/InVS13.npy\")[:,0]"
   ]
  },
  {
   "cell_type": "code",
   "execution_count": null,
   "metadata": {},
   "outputs": [],
   "source": []
  },
  {
   "cell_type": "code",
   "execution_count": 15,
   "metadata": {},
   "outputs": [],
   "source": [
    "def flip_data(X,idx = [2, 5, 1, 8, 9, 6, 4, 3, 0, 7]):\n",
    "    return X[idx]\n",
    "\n",
    "\n",
    "idx =[2, 5, 1, 8, 9, 6, 4, 3, 0, 7]\n",
    "tmp= [\"Density\",\n",
    "      \"Global clustering \\ncoefficient\",\n",
    "      \"Average shortest\\npath length\",\n",
    "      \"Interacting\\nindividuals\",\n",
    "      \"New conversations\",\n",
    "      \"Assortativity\",\n",
    "      \"S-metric\",        \n",
    "      \"Number of interactions\",\n",
    "      \"Edge strength\",\n",
    "      \"Duration of contacts\"]\n",
    "\n",
    "\n",
    "tmp = np.array(tmp)\n",
    "labels = np.flip(tmp[idx])\n",
    "res_ud = np.flip(flip_data(res_ud))\n",
    "res = np.flip(flip_data(res))"
   ]
  },
  {
   "cell_type": "code",
   "execution_count": null,
   "metadata": {},
   "outputs": [],
   "source": []
  },
  {
   "cell_type": "code",
   "execution_count": 16,
   "metadata": {},
   "outputs": [
    {
     "data": {
      "image/png": "[encoded data removed]",
      "text/plain": [
       "<Figure size 864x288 with 1 Axes>"
      ]
     },
     "metadata": {
      "image/png": {
       "height": 280,
       "width": 863
      },
      "needs_background": "light"
     },
     "output_type": "display_data"
    }
   ],
   "source": [
    "x = np.arange(len(res_ud))  # the label locations\n",
    "width = 0.2  # the width of the bars\n",
    "\n",
    "\n",
    "fig, ax = plt.subplots(1,1,figsize=(12,4))\n",
    "\n",
    "\n",
    "ax.title.set_text(\"Workplace varing K\")\n",
    "rects1 = ax.bar(x - 0.1, res, width,color=\"#fc8e69\",label=\"Multiple dictionaries\")\n",
    "rects2 = ax.bar(x + 0.1, res_ud, width,color=\"#c83504\",label=\"Unique dictionary\")\n",
    "\n",
    "ax.set_xticks(x)\n",
    "ax.set_xticklabels(labels,rotation=45)\n",
    "#ax.set_ylim(0,1)\n",
    "#ax[1].legend(loc='center left', bbox_to_anchor=(1, 0.5))\n",
    "\n",
    "ax.tick_params(bottom=False, right=False,left=False)\n",
    "ax.set_axisbelow(True)\n",
    "ax.yaxis.grid(True, color='#EEEEEE')\n",
    "ax.xaxis.grid(False)\n",
    "\n",
    "ax.spines['top'].set_visible(False)\n",
    "ax.spines['right'].set_visible(False)\n",
    "ax.spines['left'].set_visible(False)\n",
    "ax.spines['bottom'].set_color('#DDDDDD')\n",
    "\n",
    "ax.legend(loc='upper right',ncol = 1,bbox_to_anchor=(1.07, 1))\n",
    "\n",
    "ax.tick_params(bottom=True, right=False,left=False)\n",
    "ax.set_axisbelow(True)\n",
    "ax.yaxis.grid(True, color='#b3b3b3')\n",
    "ax.xaxis.grid(False)\n",
    "ax.set_ylabel(\"KS distance\")\n",
    "fig.tight_layout()\n",
    "plt.savefig(\"../unique_dictionary/topology_unique_dict.pdf\", bbox_inches = 'tight')\n",
    "plt.show()"
   ]
  },
  {
   "cell_type": "code",
   "execution_count": null,
   "metadata": {},
   "outputs": [],
   "source": []
  }
 ],
 "metadata": {
  "interpreter": {
   "hash": "bb17086194d7d73ddadbbf43f541071d992a7ee65541854f310228bfe926c80e"
  },
  "kernelspec": {
   "display_name": "Python 3",
   "language": "python",
   "name": "python3"
  },
  "language_info": {
   "codemirror_mode": {
    "name": "ipython",
    "version": 3
   },
   "file_extension": ".py",
   "mimetype": "text/x-python",
   "name": "python",
   "nbconvert_exporter": "python",
   "pygments_lexer": "ipython3",
   "version": "3.8.8"
  }
 },
 "nbformat": 4,
 "nbformat_minor": 4
}
