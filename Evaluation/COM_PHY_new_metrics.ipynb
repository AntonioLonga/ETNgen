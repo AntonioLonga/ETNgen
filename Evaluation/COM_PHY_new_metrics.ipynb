{
 "cells": [
  {
   "cell_type": "code",
   "execution_count": 246,
   "metadata": {
    "scrolled": true
   },
   "outputs": [
    {
     "name": "stdout",
     "output_type": "stream",
     "text": [
      "The autoreload extension is already loaded. To reload it, use:\n",
      "  %reload_ext autoreload\n"
     ]
    }
   ],
   "source": [
    "import construction as cs\n",
    "import matplotlib.pyplot as plt\n",
    "\n",
    "### read font\n",
    "from matplotlib import font_manager\n",
    "\n",
    "font_dirs = ['Barlow/']\n",
    "font_files = font_manager.findSystemFonts(fontpaths=font_dirs)\n",
    "\n",
    "for font_file in font_files:\n",
    "    font_manager.fontManager.addfont(font_file)\n",
    "\n",
    "# set font\n",
    "plt.rcParams['font.family'] = 'Barlow'\n",
    "\n",
    "import networkx as nx\n",
    "%matplotlib inline\n",
    "%config InlineBackend.figure_format = 'retina'\n",
    "\n",
    "%load_ext autoreload\n",
    "%autoreload 2"
   ]
  },
  {
   "cell_type": "markdown",
   "metadata": {},
   "source": []
  },
  {
   "cell_type": "markdown",
   "metadata": {},
   "source": [
    "# Load generated graphs"
   ]
  },
  {
   "cell_type": "code",
   "execution_count": 247,
   "metadata": {},
   "outputs": [],
   "source": [
    "def load_origin_graph(file_name,gap=299):\n",
    "    data_in = cs.load_data(\"../Datasets/\"+file_name+\".dat\")\n",
    "    gap = 299 \n",
    "    graphs_in = cs.build_graphs(data_in,gap=gap)\n",
    "    return graphs_in\n",
    "\n",
    "def load_ETNgen_graph(file_name):\n",
    "    path = \"../Generated_graphs/Multiple_run/\"+file_name+\"/\"\n",
    "    gap = 299 \n",
    "    graphs = []\n",
    "    for i in os.listdir(path):\n",
    "        data_in = cs.load_data(path+i)\n",
    "        graphs_in = cs.build_graphs(data_in,gap=gap)\n",
    "        graphs.append(graphs_in)\n",
    "    return graphs\n",
    "\n",
    "\n",
    "def load_dym_graph(file_name):\n",
    "    path = \"../Competitors_generated_graphs/Dymond/Multiple_run/\"+file_name+\"/\"\n",
    "    gap = 0 \n",
    "    graphs = []\n",
    "    for i in os.listdir(path):\n",
    "        print(path+i)\n",
    "        data_in = cs.load_data(path+i)\n",
    "        graphs_in = cs.build_graphs(data_in,gap=gap)\n",
    "        graphs.append(graphs_in)\n",
    "    return graphs\n",
    "\n",
    "def load_stm_graph(file_name):\n",
    "    path = \"../Competitors_generated_graphs/STM/Multiple_run/\"+file_name+\"/\"\n",
    "    gap = 0 \n",
    "    graphs = []\n",
    "    for i in os.listdir(path):\n",
    "        print(path+i)\n",
    "        data_in = cs.load_data(path+i)\n",
    "        graphs_in = cs.build_graphs(data_in,gap=gap)\n",
    "        graphs.append(graphs_in)\n",
    "    return graphs\n",
    "\n",
    "def load_tag_graph(file_name):\n",
    "    path = \"../Competitors_generated_graphs/TagGen/Multiple_run/\"+file_name+\"/\"\n",
    "    gap = 0 \n",
    "    graphs = []\n",
    "    for i in os.listdir(path):\n",
    "        print(path+i)\n",
    "        data_in = cs.load_data(path+i)\n",
    "        graphs_in = cs.build_graphs(data_in,gap=gap)\n",
    "        graphs.append(graphs_in)\n",
    "    return graphs"
   ]
  },
  {
   "cell_type": "code",
   "execution_count": 248,
   "metadata": {},
   "outputs": [],
   "source": [
    "import networkx as nx\n",
    "import numpy as np\n",
    "from scipy import stats\n",
    "import matplotlib.pyplot as plt\n",
    "\n",
    "from topological_metrics import *\n",
    "\n",
    "import os"
   ]
  },
  {
   "cell_type": "markdown",
   "metadata": {},
   "source": [
    "# Compute and store topological stuff"
   ]
  },
  {
   "cell_type": "markdown",
   "metadata": {},
   "source": [
    "# connected components"
   ]
  },
  {
   "cell_type": "code",
   "execution_count": 264,
   "metadata": {},
   "outputs": [
    {
     "name": "stdout",
     "output_type": "stream",
     "text": [
      "../Competitors_generated_graphs/Dymond/Multiple_run/InVS13/InVS13_dym7.dat\n",
      "../Competitors_generated_graphs/Dymond/Multiple_run/InVS13/InVS13_dym8.dat\n",
      "../Competitors_generated_graphs/Dymond/Multiple_run/InVS13/InVS13_dym4.dat\n",
      "../Competitors_generated_graphs/Dymond/Multiple_run/InVS13/InVS13_dym6.dat\n",
      "../Competitors_generated_graphs/Dymond/Multiple_run/InVS13/InVS13_dym1.dat\n",
      "../Competitors_generated_graphs/Dymond/Multiple_run/InVS13/InVS13_dym5.dat\n",
      "../Competitors_generated_graphs/Dymond/Multiple_run/InVS13/InVS13_dym2.dat\n",
      "../Competitors_generated_graphs/Dymond/Multiple_run/InVS13/InVS13_dym3.dat\n",
      "../Competitors_generated_graphs/Dymond/Multiple_run/InVS13/InVS13_dym9.dat\n",
      "../Competitors_generated_graphs/Dymond/Multiple_run/InVS13/InVS13_dym0.dat\n",
      "../Competitors_generated_graphs/STM/Multiple_run/InVS13/InVS13_STM_3.dat\n",
      "../Competitors_generated_graphs/STM/Multiple_run/InVS13/InVS13_STM_7.dat\n",
      "../Competitors_generated_graphs/STM/Multiple_run/InVS13/InVS13_STM_9.dat\n",
      "../Competitors_generated_graphs/STM/Multiple_run/InVS13/InVS13_STM_0.dat\n",
      "../Competitors_generated_graphs/STM/Multiple_run/InVS13/InVS13_STM_6.dat\n",
      "../Competitors_generated_graphs/STM/Multiple_run/InVS13/InVS13_STM_2.dat\n",
      "../Competitors_generated_graphs/STM/Multiple_run/InVS13/InVS13_STM_8.dat\n",
      "../Competitors_generated_graphs/STM/Multiple_run/InVS13/InVS13_STM_5.dat\n",
      "../Competitors_generated_graphs/STM/Multiple_run/InVS13/InVS13_STM_1.dat\n",
      "../Competitors_generated_graphs/STM/Multiple_run/InVS13/InVS13_STM_4.dat\n",
      "../Competitors_generated_graphs/TagGen/Multiple_run/InVS13/InVS13_6_generato_TagGen.dat\n",
      "../Competitors_generated_graphs/TagGen/Multiple_run/InVS13/InVS13_0_generato_TagGen.dat\n",
      "../Competitors_generated_graphs/TagGen/Multiple_run/InVS13/InVS13_2_generato_TagGen.dat\n",
      "../Competitors_generated_graphs/TagGen/Multiple_run/InVS13/InVS13_4_generato_TagGen.dat\n",
      "../Competitors_generated_graphs/TagGen/Multiple_run/InVS13/InVS13_9_generato_TagGen.dat\n",
      "../Competitors_generated_graphs/TagGen/Multiple_run/InVS13/InVS13_5_generato_TagGen.dat\n",
      "../Competitors_generated_graphs/TagGen/Multiple_run/InVS13/InVS13_8_generato_TagGen.dat\n",
      "../Competitors_generated_graphs/TagGen/Multiple_run/InVS13/InVS13_7_generato_TagGen.dat\n",
      "../Competitors_generated_graphs/TagGen/Multiple_run/InVS13/InVS13_3_generato_TagGen.dat\n",
      "../Competitors_generated_graphs/TagGen/Multiple_run/InVS13/InVS13_1_generato_TagGen.dat\n"
     ]
    }
   ],
   "source": [
    "file_name = \"InVS13\"\n",
    "#file_name = \"LH10\"\n",
    "#file_name = \"High_School11\"\n",
    "\n",
    "\n",
    "ori = load_origin_graph(file_name)\n",
    "etn_gen = load_ETNgen_graph(file_name)\n",
    "dym_gen = load_dym_graph(file_name)\n",
    "stm_gen = load_stm_graph(file_name)\n",
    "tag_gen = load_tag_graph(file_name)"
   ]
  },
  {
   "cell_type": "code",
   "execution_count": 265,
   "metadata": {},
   "outputs": [
    {
     "data": {
      "text/plain": [
       "(3293, 3294, 3152, 3293, 3389)"
      ]
     },
     "execution_count": 265,
     "metadata": {},
     "output_type": "execute_result"
    }
   ],
   "source": [
    "len(ori),len(etn_gen[0]),len(stm_gen[0]),len(tag_gen[0]),len(dym_gen[0])"
   ]
  },
  {
   "cell_type": "code",
   "execution_count": 266,
   "metadata": {},
   "outputs": [
    {
     "data": {
      "text/plain": [
       "169"
      ]
     },
     "execution_count": 266,
     "metadata": {},
     "output_type": "execute_result"
    }
   ],
   "source": [
    "len([len(i) for i in list(nx.connected_components(graph))])"
   ]
  },
  {
   "cell_type": "code",
   "execution_count": 267,
   "metadata": {},
   "outputs": [],
   "source": [
    "res = []\n",
    "for graph in ori:\n",
    "    res.append(len([len(i) for i in list(nx.connected_components(graph))]))# if len(i)>1]))\n",
    "    \n",
    "res_e = []\n",
    "for graph in etn_gen[0]:\n",
    "    res_e.append(len([len(i) for i in list(nx.connected_components(graph))]))# if len(i)>1]))\n",
    "    \n",
    "res_t = []\n",
    "for graph in tag_gen[0]:\n",
    "    res_t.append(len([len(i) for i in list(nx.connected_components(graph))]))# if len(i)>1]))\n",
    "    \n",
    "res_d = []\n",
    "for graph in dym_gen[0]:\n",
    "    res_d.append(len([len(i) for i in list(nx.connected_components(graph))]))# if len(i)>1]))\n",
    "    \n",
    "res_s = []\n",
    "for graph in stm_gen[0]:\n",
    "    res_s.append(len([len(i) for i in list(nx.connected_components(graph))]))# if len(i)>1]))"
   ]
  },
  {
   "cell_type": "code",
   "execution_count": null,
   "metadata": {},
   "outputs": [],
   "source": []
  },
  {
   "cell_type": "code",
   "execution_count": null,
   "metadata": {},
   "outputs": [],
   "source": []
  },
  {
   "cell_type": "code",
   "execution_count": 268,
   "metadata": {},
   "outputs": [
    {
     "name": "stdout",
     "output_type": "stream",
     "text": [
      "etn 0.055326923903088944\n",
      "stm 1.0\n",
      "tag 0.30610385666565443\n",
      "dym 0.6633855069772994\n"
     ]
    }
   ],
   "source": [
    "from scipy.stats import ks_2samp\n",
    "\n",
    "print(\"etn\",ks_2samp(res,res_e)[0])\n",
    "print(\"stm\",ks_2samp(res,res_s)[0])\n",
    "print(\"tag\",ks_2samp(res,res_t)[0])\n",
    "print(\"dym\",ks_2samp(res,res_d)[0])"
   ]
  },
  {
   "cell_type": "code",
   "execution_count": 274,
   "metadata": {},
   "outputs": [
    {
     "data": {
      "text/plain": [
       "{'bodies': [<matplotlib.collections.PolyCollection at 0x7f31f0d6fdf0>]}"
      ]
     },
     "execution_count": 274,
     "metadata": {},
     "output_type": "execute_result"
    },
    {
     "data": {
      "image/png": "[encoded data removed]",
      "text/plain": [
       "<Figure size 640x480 with 1 Axes>"
      ]
     },
     "metadata": {
      "image/png": {
       "height": 411,
       "width": 548
      }
     },
     "output_type": "display_data"
    }
   ],
   "source": [
    "plt.violinplot(res,positions=[0], showmeans=False, showmedians=False,showextrema=False)\n",
    "plt.violinplot(res_e,positions=[1], showmeans=False, showmedians=False,showextrema=False)\n",
    "plt.violinplot(res_s,positions=[2], showmeans=False, showmedians=False,showextrema=False)\n",
    "plt.violinplot(res_t,positions=[3], showmeans=False, showmedians=False,showextrema=False)\n",
    "plt.violinplot(res_d,positions=[4], showmeans=False, showmedians=False,showextrema=False)"
   ]
  },
  {
   "cell_type": "code",
   "execution_count": null,
   "metadata": {},
   "outputs": [],
   "source": []
  },
  {
   "cell_type": "code",
   "execution_count": null,
   "metadata": {},
   "outputs": [],
   "source": []
  },
  {
   "cell_type": "code",
   "execution_count": null,
   "metadata": {},
   "outputs": [],
   "source": []
  },
  {
   "cell_type": "markdown",
   "metadata": {},
   "source": [
    "# graph aggregato\n",
    "## aspl"
   ]
  },
  {
   "cell_type": "code",
   "execution_count": 12,
   "metadata": {},
   "outputs": [
    {
     "name": "stdout",
     "output_type": "stream",
     "text": [
      "../Competitors_generated_graphs/Dymond/Multiple_run/High_School11/High_School11_dym1.dat\n",
      "../Competitors_generated_graphs/Dymond/Multiple_run/High_School11/High_School11_dym7.dat\n",
      "../Competitors_generated_graphs/Dymond/Multiple_run/High_School11/High_School11_dym8.dat\n",
      "../Competitors_generated_graphs/Dymond/Multiple_run/High_School11/High_School11_dym6.dat\n",
      "../Competitors_generated_graphs/Dymond/Multiple_run/High_School11/High_School11_dym3.dat\n",
      "../Competitors_generated_graphs/Dymond/Multiple_run/High_School11/High_School11_dym0.dat\n",
      "../Competitors_generated_graphs/Dymond/Multiple_run/High_School11/High_School11_dym9.dat\n",
      "../Competitors_generated_graphs/Dymond/Multiple_run/High_School11/High_School11_dym5.dat\n",
      "../Competitors_generated_graphs/Dymond/Multiple_run/High_School11/High_School11_dym4.dat\n",
      "../Competitors_generated_graphs/Dymond/Multiple_run/High_School11/High_School11_dym2.dat\n",
      "../Competitors_generated_graphs/STM/Multiple_run/High_School11/High_School11_STM_2.dat\n",
      "../Competitors_generated_graphs/STM/Multiple_run/High_School11/High_School11_STM_0.dat\n",
      "../Competitors_generated_graphs/STM/Multiple_run/High_School11/High_School11_STM_6.dat\n",
      "../Competitors_generated_graphs/STM/Multiple_run/High_School11/High_School11_STM_9.dat\n",
      "../Competitors_generated_graphs/STM/Multiple_run/High_School11/High_School11_STM_4.dat\n",
      "../Competitors_generated_graphs/STM/Multiple_run/High_School11/High_School11_STM_5.dat\n",
      "../Competitors_generated_graphs/STM/Multiple_run/High_School11/High_School11_STM_7.dat\n",
      "../Competitors_generated_graphs/STM/Multiple_run/High_School11/High_School11_STM_1.dat\n",
      "../Competitors_generated_graphs/STM/Multiple_run/High_School11/High_School11_STM_8.dat\n",
      "../Competitors_generated_graphs/STM/Multiple_run/High_School11/High_School11_STM_3.dat\n",
      "../Competitors_generated_graphs/TagGen/Multiple_run/High_School11/High_School11_8_generato_TagGen.dat\n",
      "../Competitors_generated_graphs/TagGen/Multiple_run/High_School11/High_School11_5_generato_TagGen.dat\n",
      "../Competitors_generated_graphs/TagGen/Multiple_run/High_School11/High_School11_6_generato_TagGen.dat\n",
      "../Competitors_generated_graphs/TagGen/Multiple_run/High_School11/High_School11_4_generato_TagGen.dat\n",
      "../Competitors_generated_graphs/TagGen/Multiple_run/High_School11/High_School11_7_generato_TagGen.dat\n",
      "../Competitors_generated_graphs/TagGen/Multiple_run/High_School11/High_School11_9_generato_TagGen.dat\n"
     ]
    }
   ],
   "source": [
    "file_name = \"InVS13\"\n",
    "file_name = \"LH10\"\n",
    "file_name = \"High_School11\"\n",
    "\n",
    "\n",
    "ori = load_origin_graph(file_name)\n",
    "etn_gen = load_ETNgen_graph(file_name)\n",
    "dym_gen = load_dym_graph(file_name)\n",
    "stm_gen = load_stm_graph(file_name)\n",
    "tag_gen = load_tag_graph(file_name)"
   ]
  },
  {
   "cell_type": "code",
   "execution_count": 13,
   "metadata": {},
   "outputs": [],
   "source": [
    "def to_aggregated_nx(graphs):\n",
    "    G = nx.Graph()\n",
    "    for g in graphs:\n",
    "        G.add_edges_from(g.edges())\n",
    "    return G"
   ]
  },
  {
   "cell_type": "code",
   "execution_count": null,
   "metadata": {},
   "outputs": [],
   "source": []
  },
  {
   "cell_type": "code",
   "execution_count": 14,
   "metadata": {},
   "outputs": [
    {
     "name": "stdout",
     "output_type": "stream",
     "text": [
      "ori 1.948063492063492\n",
      "etn 1.6245460317460316 0.0109536672812598\n",
      "[ 0.3235174603174604 , 0.0109536672812598 ]\n",
      "stm 2.5859861787833274 0.047886986527782845\n",
      "[ -0.6379226867198353 , 0.047886986527782845 ]\n",
      "tag 1.3639788359788358 0.19747166359027524\n",
      "[ 0.5840846560846562 , 0.19747166359027524 ]\n",
      "dym 1.3978867209850434 0.05735514665844567\n",
      "[ 0.5501767710784486 , 0.05735514665844567 ]\n"
     ]
    }
   ],
   "source": [
    "g = to_aggregated_nx(ori)\n",
    "ori_res = nx.average_shortest_path_length(g)\n",
    "print(\"ori\",nx.average_shortest_path_length(g))\n",
    "\n",
    "res = []\n",
    "for gr in etn_gen:\n",
    "    g = to_aggregated_nx(gr)\n",
    "    res.append(nx.average_shortest_path_length(g))\n",
    "    \n",
    "print(\"etn\",np.mean(res),np.std(res))\n",
    "print(\"[\",ori_res - np.mean(res),\",\",np.std(res),\"]\")\n",
    "\n",
    "res = []\n",
    "for gr in stm_gen:\n",
    "    g = to_aggregated_nx(gr)\n",
    "    #if not nx.is_connected(g):\n",
    "    #    largest_cc = max(nx.connected_components(g), key=len) # get the biggest connected components\n",
    "    #    g = g.subgraph(largest_cc).copy()  # get subgrph\n",
    "    if nx.is_connected(g):\n",
    "        res.append(nx.average_shortest_path_length(g))\n",
    "print(\"stm\",np.mean(res),np.std(res))\n",
    "print(\"[\",ori_res - np.mean(res),\",\",np.std(res),\"]\")\n",
    "\n",
    "\n",
    "\n",
    "res = []\n",
    "for gr in tag_gen:\n",
    "    g = to_aggregated_nx(gr)\n",
    "    res.append(nx.average_shortest_path_length(g))\n",
    "print(\"tag\",np.mean(res),np.std(res))\n",
    "print(\"[\",ori_res - np.mean(res),\",\",np.std(res),\"]\")\n",
    "\n",
    "res = []\n",
    "for gr in dym_gen:\n",
    "    g = to_aggregated_nx(gr)\n",
    "    res.append(nx.average_shortest_path_length(g))\n",
    "print(\"dym\",np.mean(res),np.std(res))\n",
    "print(\"[\",ori_res - np.mean(res),\",\",np.std(res),\"]\")"
   ]
  },
  {
   "cell_type": "code",
   "execution_count": null,
   "metadata": {},
   "outputs": [],
   "source": [
    "invs\n",
    "(0.31335403726708067,0.00550078579151765),\n",
    "(0.029854982070633307,0.06023285081321212),\n",
    "(0.5961299569995222, 0.264054878968325),\n",
    "(0.6677777777777778,0.0165899898343224),\n",
    "\n",
    "lh \n",
    "( 0.42266666666666675 , 0.011998917787956411 ),\n",
    "( -0.48443606604403344 , 0.0564648510734005 ),\n",
    "( 0.21736936936936946 , 0.16346803924286843 ),\n",
    "( 0.14984647244069804 , 0.1460067338632974 )\n",
    "\n",
    "hs\n",
    "[ 0.3235174603174604 , 0.0109536672812598 ]\n",
    "[ -0.6379226867198353 , 0.047886986527782845 ]\n",
    "[ 0.5840846560846562 , 0.19747166359027524 ]\n",
    "[ 0.5501767710784486 , 0.05735514665844567 ]"
   ]
  },
  {
   "cell_type": "code",
   "execution_count": null,
   "metadata": {},
   "outputs": [],
   "source": []
  },
  {
   "cell_type": "code",
   "execution_count": null,
   "metadata": {},
   "outputs": [],
   "source": []
  },
  {
   "cell_type": "code",
   "execution_count": null,
   "metadata": {},
   "outputs": [],
   "source": []
  },
  {
   "cell_type": "markdown",
   "metadata": {},
   "source": [
    "# s metric"
   ]
  },
  {
   "cell_type": "code",
   "execution_count": 53,
   "metadata": {},
   "outputs": [
    {
     "name": "stdout",
     "output_type": "stream",
     "text": [
      "../Competitors_generated_graphs/Dymond/Multiple_run/High_School11/High_School11_dym1.dat\n",
      "../Competitors_generated_graphs/Dymond/Multiple_run/High_School11/High_School11_dym7.dat\n",
      "../Competitors_generated_graphs/Dymond/Multiple_run/High_School11/High_School11_dym8.dat\n",
      "../Competitors_generated_graphs/Dymond/Multiple_run/High_School11/High_School11_dym6.dat\n",
      "../Competitors_generated_graphs/Dymond/Multiple_run/High_School11/High_School11_dym3.dat\n",
      "../Competitors_generated_graphs/Dymond/Multiple_run/High_School11/High_School11_dym0.dat\n",
      "../Competitors_generated_graphs/Dymond/Multiple_run/High_School11/High_School11_dym9.dat\n",
      "../Competitors_generated_graphs/Dymond/Multiple_run/High_School11/High_School11_dym5.dat\n",
      "../Competitors_generated_graphs/Dymond/Multiple_run/High_School11/High_School11_dym4.dat\n",
      "../Competitors_generated_graphs/Dymond/Multiple_run/High_School11/High_School11_dym2.dat\n",
      "../Competitors_generated_graphs/STM/Multiple_run/High_School11/High_School11_STM_2.dat\n",
      "../Competitors_generated_graphs/STM/Multiple_run/High_School11/High_School11_STM_0.dat\n",
      "../Competitors_generated_graphs/STM/Multiple_run/High_School11/High_School11_STM_6.dat\n",
      "../Competitors_generated_graphs/STM/Multiple_run/High_School11/High_School11_STM_9.dat\n",
      "../Competitors_generated_graphs/STM/Multiple_run/High_School11/High_School11_STM_4.dat\n",
      "../Competitors_generated_graphs/STM/Multiple_run/High_School11/High_School11_STM_5.dat\n",
      "../Competitors_generated_graphs/STM/Multiple_run/High_School11/High_School11_STM_7.dat\n",
      "../Competitors_generated_graphs/STM/Multiple_run/High_School11/High_School11_STM_1.dat\n",
      "../Competitors_generated_graphs/STM/Multiple_run/High_School11/High_School11_STM_8.dat\n",
      "../Competitors_generated_graphs/STM/Multiple_run/High_School11/High_School11_STM_3.dat\n",
      "../Competitors_generated_graphs/TagGen/Multiple_run/High_School11/High_School11_8_generato_TagGen.dat\n",
      "../Competitors_generated_graphs/TagGen/Multiple_run/High_School11/High_School11_5_generato_TagGen.dat\n",
      "../Competitors_generated_graphs/TagGen/Multiple_run/High_School11/High_School11_6_generato_TagGen.dat\n",
      "../Competitors_generated_graphs/TagGen/Multiple_run/High_School11/High_School11_4_generato_TagGen.dat\n",
      "../Competitors_generated_graphs/TagGen/Multiple_run/High_School11/High_School11_7_generato_TagGen.dat\n",
      "../Competitors_generated_graphs/TagGen/Multiple_run/High_School11/High_School11_9_generato_TagGen.dat\n"
     ]
    }
   ],
   "source": [
    "file_name = \"InVS13\"\n",
    "file_name = \"LH10\"\n",
    "file_name = \"High_School11\"\n",
    "\n",
    "ori = load_origin_graph(file_name)\n",
    "etn_gen = load_ETNgen_graph(file_name)\n",
    "dym_gen = load_dym_graph(file_name)\n",
    "stm_gen = load_stm_graph(file_name)\n",
    "tag_gen = load_tag_graph(file_name)"
   ]
  },
  {
   "cell_type": "code",
   "execution_count": 54,
   "metadata": {},
   "outputs": [],
   "source": [
    "# s metric come in 16 dymond\n",
    "def s_metric(graphs):\n",
    "    res = []\n",
    "    res_in = 0\n",
    "    for i,j in g.edges():\n",
    "        d_i = g.degree(i)\n",
    "        d_j = g.degree(j)\n",
    "        res_in = res_in + d_i*d_j\n",
    "    return res_in"
   ]
  },
  {
   "cell_type": "code",
   "execution_count": 55,
   "metadata": {},
   "outputs": [],
   "source": [
    "res_ori = s_metric(ori)"
   ]
  },
  {
   "cell_type": "code",
   "execution_count": 56,
   "metadata": {},
   "outputs": [],
   "source": [
    "res_etn = []\n",
    "for gr in etn_gen:\n",
    "    g = to_aggregated_nx(gr)\n",
    "    res_etn.append(s_metric(g))    \n",
    "res_etn = [np.mean(res_etn),np.std(res_etn)]\n",
    "\n",
    "res_stm = []\n",
    "for gr in stm_gen:\n",
    "    g = to_aggregated_nx(gr)\n",
    "    #if not nx.is_connected(g):\n",
    "    #    largest_cc = max(nx.connected_components(g), key=len) # get the biggest connected components\n",
    "    #    g = g.subgraph(largest_cc).copy()  # get subgrph\n",
    "    if nx.is_connected(g):\n",
    "        res_stm.append(s_metric(g))\n",
    "res_stm = [np.mean(res_stm),np.std(res_stm)]\n",
    "\n",
    "res_tag = []\n",
    "for gr in tag_gen:\n",
    "    g = to_aggregated_nx(gr)\n",
    "    res_tag.append(s_metric(g))\n",
    "res_tag = [np.mean(res_tag),np.std(res_tag)]\n",
    "\n",
    "res_dym = []\n",
    "for gr in dym_gen:\n",
    "    g = to_aggregated_nx(gr)\n",
    "    res_dym.append(s_metric(g))\n",
    "res_dym = [np.mean(res_dym),np.std(res_dym)]"
   ]
  },
  {
   "cell_type": "code",
   "execution_count": 57,
   "metadata": {},
   "outputs": [
    {
     "name": "stdout",
     "output_type": "stream",
     "text": [
      "-7140500.9 617645.3569687787\n",
      "-2287805.5 138331.65329110326\n",
      "-46346781.0 29931538.316608094\n",
      "-1640299.0 734031.8945490039\n"
     ]
    }
   ],
   "source": [
    "print(res_ori - res_etn[0], res_etn[1])\n",
    "print(res_ori - res_stm[0], res_stm[1])\n",
    "print(res_ori - res_tag[0], res_tag[1])\n",
    "print(res_ori - res_dym[0], res_dym[1])"
   ]
  },
  {
   "cell_type": "code",
   "execution_count": 58,
   "metadata": {},
   "outputs": [
    {
     "ename": "SyntaxError",
     "evalue": "invalid syntax (2406191419.py, line 2)",
     "output_type": "error",
     "traceback": [
      "\u001b[0;36m  Cell \u001b[0;32mIn[58], line 2\u001b[0;36m\u001b[0m\n\u001b[0;31m    12500671.3 78324.66566037801\u001b[0m\n\u001b[0m               ^\u001b[0m\n\u001b[0;31mSyntaxError\u001b[0m\u001b[0;31m:\u001b[0m invalid syntax\n"
     ]
    }
   ],
   "source": [
    "invs\n",
    "1250067.3 78324.66566037801\n",
    "2397440.75 2502688.0403472558\n",
    "56194.09999999963 9373845.068694538 #tolto il negativo\n",
    "16440.099999999627 812115.5922352988#tolto il negativo\n",
    "\n",
    "\n",
    "lh10\n",
    "5331542.0 333342.8752218952\n",
    "10977079.75 410285.7884011308\n",
    "8902336.2 3746975.56843198\n",
    "14045249.5 10113.307760075335\n",
    "\n",
    "hs11\n",
    "7140500.9 617645.3569687787  #tolto il negativo\n",
    "2287805.5 138331.65329110326#tolto il negativo\n",
    "46346781.0 29931538.316608094#tolto il negativo\n",
    "1640299.0 734031.8945490039#tolto il negativo"
   ]
  },
  {
   "cell_type": "code",
   "execution_count": 62,
   "metadata": {},
   "outputs": [
    {
     "data": {
      "text/plain": [
       "(0.5214173906070463, 1.0, 0.023439202824928885, 0.006857354034713737)"
      ]
     },
     "execution_count": 62,
     "metadata": {},
     "output_type": "execute_result"
    }
   ],
   "source": [
    "1250067.3/2397440.75,2397440.75/2397440.75,56194.09999999963/2397440.75,16440.099999999627/2397440.75,"
   ]
  },
  {
   "cell_type": "code",
   "execution_count": 64,
   "metadata": {},
   "outputs": [
    {
     "data": {
      "text/plain": [
       "(0.37959752868754665, 0.781551068209931, 0.633832542455013, 1.0)"
      ]
     },
     "execution_count": 64,
     "metadata": {},
     "output_type": "execute_result"
    }
   ],
   "source": [
    "5331542.0 /14045249.5,10977079.75 /14045249.5,8902336.2 /14045249.5,14045249.5 /14045249.5\n"
   ]
  },
  {
   "cell_type": "code",
   "execution_count": 66,
   "metadata": {},
   "outputs": [
    {
     "data": {
      "text/plain": [
       "(0.1540668142626777, 0.04936277019972541, 1.0, 0.03539186464751457)"
      ]
     },
     "execution_count": 66,
     "metadata": {},
     "output_type": "execute_result"
    }
   ],
   "source": [
    "7140500.9 /46346781,2287805.5 /46346781,46346781.0/46346781,1640299.0 /46346781"
   ]
  },
  {
   "cell_type": "code",
   "execution_count": 44,
   "metadata": {},
   "outputs": [],
   "source": [
    "MAX = np.max([res_ori,max(res_etn),max(res_stm),max(res_tag),max(res_dym)])\n",
    "res_etnN = res_etn/MAX\n",
    "res_stmN = res_stm/MAX\n",
    "res_tagN = res_tag/MAX\n",
    "res_dymN = res_dym/MAX"
   ]
  },
  {
   "cell_type": "code",
   "execution_count": 45,
   "metadata": {},
   "outputs": [
    {
     "data": {
      "text/plain": [
       "(0.05803559242706219, 0.05248739329161747)"
      ]
     },
     "execution_count": 45,
     "metadata": {},
     "output_type": "execute_result"
    }
   ],
   "source": [
    "np.mean(res_etnN),np.std(res_etnN)"
   ]
  },
  {
   "cell_type": "code",
   "execution_count": null,
   "metadata": {},
   "outputs": [],
   "source": []
  },
  {
   "cell_type": "code",
   "execution_count": 36,
   "metadata": {},
   "outputs": [
    {
     "data": {
      "text/plain": [
       "25507642"
      ]
     },
     "execution_count": 36,
     "metadata": {},
     "output_type": "execute_result"
    }
   ],
   "source": [
    "MAX"
   ]
  },
  {
   "cell_type": "code",
   "execution_count": null,
   "metadata": {},
   "outputs": [],
   "source": []
  },
  {
   "cell_type": "code",
   "execution_count": null,
   "metadata": {},
   "outputs": [],
   "source": []
  },
  {
   "cell_type": "markdown",
   "metadata": {},
   "source": [
    "# asp e s-metric e clust e ass\n",
    "# agg 1 ora"
   ]
  },
  {
   "cell_type": "code",
   "execution_count": null,
   "metadata": {},
   "outputs": [],
   "source": []
  },
  {
   "cell_type": "code",
   "execution_count": 238,
   "metadata": {},
   "outputs": [],
   "source": [
    "def load_origin_graph(file_name,gap=299):\n",
    "    data_in = cs.load_data(\"../Datasets/\"+file_name+\".dat\")\n",
    "    gap = (300*12)-1 \n",
    "    graphs_in = cs.build_graphs(data_in,gap=gap)\n",
    "    return graphs_in\n",
    "\n",
    "def load_ETNgen_graph(file_name):\n",
    "    path = \"../Generated_graphs/Multiple_run/\"+file_name+\"/\"\n",
    "    gap = (300*12)-1 \n",
    "    graphs = []\n",
    "    for i in os.listdir(path):\n",
    "        data_in = cs.load_data(path+i)\n",
    "        graphs_in = cs.build_graphs(data_in,gap=gap)\n",
    "        graphs.append(graphs_in)\n",
    "    return graphs\n",
    "\n",
    "\n",
    "def load_dym_graph(file_name):\n",
    "    path = \"../Competitors_generated_graphs/Dymond/Multiple_run/\"+file_name+\"/\"\n",
    "    gap = 12 \n",
    "    graphs = []\n",
    "    for i in os.listdir(path):\n",
    "        print(path+i)\n",
    "        data_in = cs.load_data(path+i)\n",
    "        graphs_in = cs.build_graphs(data_in,gap=gap)\n",
    "        graphs.append(graphs_in)\n",
    "    return graphs\n",
    "\n",
    "def load_stm_graph(file_name):\n",
    "    path = \"../Competitors_generated_graphs/STM/Multiple_run/\"+file_name+\"/\"\n",
    "    gap = 12 \n",
    "    graphs = []\n",
    "    for i in os.listdir(path):\n",
    "        print(path+i)\n",
    "        data_in = cs.load_data(path+i)\n",
    "        graphs_in = cs.build_graphs(data_in,gap=gap)\n",
    "        graphs.append(graphs_in)\n",
    "    return graphs\n",
    "\n",
    "def load_tag_graph(file_name):\n",
    "    path = \"../Competitors_generated_graphs/TagGen/Multiple_run/\"+file_name+\"/\"\n",
    "    gap = 12\n",
    "    graphs = []\n",
    "    for i in os.listdir(path):\n",
    "        print(path+i)\n",
    "        data_in = cs.load_data(path+i)\n",
    "        graphs_in = cs.build_graphs(data_in,gap=gap)\n",
    "        graphs.append(graphs_in)\n",
    "    return graphs"
   ]
  },
  {
   "cell_type": "code",
   "execution_count": 239,
   "metadata": {},
   "outputs": [],
   "source": [
    "import networkx as nx\n",
    "import numpy as np\n",
    "from scipy import stats\n",
    "import matplotlib.pyplot as plt\n",
    "\n",
    "from topological_metrics import *\n",
    "\n",
    "import os"
   ]
  },
  {
   "cell_type": "code",
   "execution_count": 7,
   "metadata": {},
   "outputs": [
    {
     "name": "stdout",
     "output_type": "stream",
     "text": [
      "../Competitors_generated_graphs/Dymond/Multiple_run/InVS13/InVS13_dym7.dat\n",
      "../Competitors_generated_graphs/Dymond/Multiple_run/InVS13/InVS13_dym8.dat\n",
      "../Competitors_generated_graphs/Dymond/Multiple_run/InVS13/InVS13_dym4.dat\n",
      "../Competitors_generated_graphs/Dymond/Multiple_run/InVS13/InVS13_dym6.dat\n",
      "../Competitors_generated_graphs/Dymond/Multiple_run/InVS13/InVS13_dym1.dat\n",
      "../Competitors_generated_graphs/Dymond/Multiple_run/InVS13/InVS13_dym5.dat\n",
      "../Competitors_generated_graphs/Dymond/Multiple_run/InVS13/InVS13_dym2.dat\n",
      "../Competitors_generated_graphs/Dymond/Multiple_run/InVS13/InVS13_dym3.dat\n",
      "../Competitors_generated_graphs/Dymond/Multiple_run/InVS13/InVS13_dym9.dat\n",
      "../Competitors_generated_graphs/Dymond/Multiple_run/InVS13/InVS13_dym0.dat\n",
      "../Competitors_generated_graphs/STM/Multiple_run/InVS13/InVS13_STM_3.dat\n",
      "../Competitors_generated_graphs/STM/Multiple_run/InVS13/InVS13_STM_7.dat\n",
      "../Competitors_generated_graphs/STM/Multiple_run/InVS13/InVS13_STM_9.dat\n",
      "../Competitors_generated_graphs/STM/Multiple_run/InVS13/InVS13_STM_0.dat\n",
      "../Competitors_generated_graphs/STM/Multiple_run/InVS13/InVS13_STM_6.dat\n",
      "../Competitors_generated_graphs/STM/Multiple_run/InVS13/InVS13_STM_2.dat\n",
      "../Competitors_generated_graphs/STM/Multiple_run/InVS13/InVS13_STM_8.dat\n",
      "../Competitors_generated_graphs/STM/Multiple_run/InVS13/InVS13_STM_5.dat\n",
      "../Competitors_generated_graphs/STM/Multiple_run/InVS13/InVS13_STM_1.dat\n",
      "../Competitors_generated_graphs/STM/Multiple_run/InVS13/InVS13_STM_4.dat\n",
      "../Competitors_generated_graphs/TagGen/Multiple_run/InVS13/InVS13_6_generato_TagGen.dat\n",
      "../Competitors_generated_graphs/TagGen/Multiple_run/InVS13/InVS13_0_generato_TagGen.dat\n",
      "../Competitors_generated_graphs/TagGen/Multiple_run/InVS13/InVS13_2_generato_TagGen.dat\n",
      "../Competitors_generated_graphs/TagGen/Multiple_run/InVS13/InVS13_4_generato_TagGen.dat\n",
      "../Competitors_generated_graphs/TagGen/Multiple_run/InVS13/InVS13_9_generato_TagGen.dat\n",
      "../Competitors_generated_graphs/TagGen/Multiple_run/InVS13/InVS13_5_generato_TagGen.dat\n",
      "../Competitors_generated_graphs/TagGen/Multiple_run/InVS13/InVS13_8_generato_TagGen.dat\n",
      "../Competitors_generated_graphs/TagGen/Multiple_run/InVS13/InVS13_7_generato_TagGen.dat\n",
      "../Competitors_generated_graphs/TagGen/Multiple_run/InVS13/InVS13_3_generato_TagGen.dat\n",
      "../Competitors_generated_graphs/TagGen/Multiple_run/InVS13/InVS13_1_generato_TagGen.dat\n"
     ]
    }
   ],
   "source": [
    "file_name = \"InVS13\"\n",
    "#file_name = \"LH10\"\n",
    "#file_name = \"High_School11\"\n",
    "\n",
    "\n",
    "ori = load_origin_graph(file_name)\n",
    "etn_gen = load_ETNgen_graph(file_name)\n",
    "dym_gen = load_dym_graph(file_name)\n",
    "stm_gen = load_stm_graph(file_name)\n",
    "tag_gen = load_tag_graph(file_name)"
   ]
  },
  {
   "cell_type": "code",
   "execution_count": 8,
   "metadata": {},
   "outputs": [
    {
     "data": {
      "text/plain": [
       "(275, 275, 243, 254, 261)"
      ]
     },
     "execution_count": 8,
     "metadata": {},
     "output_type": "execute_result"
    }
   ],
   "source": [
    "len(ori),len(etn_gen[0]),len(stm_gen[0]),len(tag_gen[0]),len(dym_gen[0])"
   ]
  },
  {
   "cell_type": "code",
   "execution_count": null,
   "metadata": {},
   "outputs": [],
   "source": []
  },
  {
   "cell_type": "code",
   "execution_count": 140,
   "metadata": {},
   "outputs": [],
   "source": [
    "res = []\n",
    "for graph in ori:\n",
    "    largest_cc = max(nx.connected_components(graph), key=len) # get the biggest connected components\n",
    "    sub_G = graph.subgraph(largest_cc).copy()  # get subgrph\n",
    "    res.append(nx.average_shortest_path_length(sub_G))\n",
    "    \n",
    "np.save(\"topology_results/original_distributions/\"+file_name+\"/hasp.npy\",res)"
   ]
  },
  {
   "cell_type": "code",
   "execution_count": 141,
   "metadata": {},
   "outputs": [],
   "source": [
    "def aspl_hour(comp):\n",
    "    res = []\n",
    "    for graphs in comp:\n",
    "        tmp = []\n",
    "        for graph in graphs:\n",
    "            largest_cc = max(nx.connected_components(graph), key=len) # get the biggest connected components\n",
    "            sub_G = graph.subgraph(largest_cc).copy()  # get subgrph\n",
    "            tmp.append(nx.average_shortest_path_length(sub_G))\n",
    "        res.append(tmp)\n",
    "        \n",
    "    return np.array(res,dtype=object)"
   ]
  },
  {
   "cell_type": "code",
   "execution_count": 142,
   "metadata": {},
   "outputs": [],
   "source": [
    "res_etn = aspl_hour(etn_gen)\n",
    "np.save(\"topology_results/etngen/Multiple_run/distributions/\"+file_name+\"/hasp.npy\",res_etn)\n",
    "\n",
    "res_stm = aspl_hour(stm_gen)\n",
    "np.save(\"topology_results/stmgen/Multiple_run/distributions/\"+file_name+\"/hasp.npy\",res_stm)\n",
    "\n",
    "res_tag = aspl_hour(tag_gen)\n",
    "np.save(\"topology_results/taggen/Multiple_run/distributions/\"+file_name+\"/hasp.npy\",res_tag)\n",
    "\n",
    "\n",
    "res_dym = aspl_hour(dym_gen)\n",
    "np.save(\"topology_results/dymgen/Multiple_run/distributions/\"+file_name+\"/hasp.npy\",res_dym)\n",
    "\n",
    "from scipy.stats import ks_2samp\n",
    "\n",
    "print(\"etn\",ks_2samp(res,res_etn[0])[0])\n",
    "print(\"stm\",ks_2samp(res,res_stm[0])[0])\n",
    "print(\"tag\",ks_2samp(res,res_tag[0])[0])\n",
    "print(\"dym\",ks_2samp(res,res_dym[0])[0])"
   ]
  },
  {
   "cell_type": "markdown",
   "metadata": {},
   "source": [
    "# smetric"
   ]
  },
  {
   "cell_type": "code",
   "execution_count": null,
   "metadata": {},
   "outputs": [],
   "source": []
  },
  {
   "cell_type": "code",
   "execution_count": 175,
   "metadata": {},
   "outputs": [
    {
     "name": "stdout",
     "output_type": "stream",
     "text": [
      "../Competitors_generated_graphs/Dymond/Multiple_run/High_School11/High_School11_dym1.dat\n",
      "../Competitors_generated_graphs/Dymond/Multiple_run/High_School11/High_School11_dym7.dat\n",
      "../Competitors_generated_graphs/Dymond/Multiple_run/High_School11/High_School11_dym8.dat\n",
      "../Competitors_generated_graphs/Dymond/Multiple_run/High_School11/High_School11_dym6.dat\n",
      "../Competitors_generated_graphs/Dymond/Multiple_run/High_School11/High_School11_dym3.dat\n",
      "../Competitors_generated_graphs/Dymond/Multiple_run/High_School11/High_School11_dym0.dat\n",
      "../Competitors_generated_graphs/Dymond/Multiple_run/High_School11/High_School11_dym9.dat\n",
      "../Competitors_generated_graphs/Dymond/Multiple_run/High_School11/High_School11_dym5.dat\n",
      "../Competitors_generated_graphs/Dymond/Multiple_run/High_School11/High_School11_dym4.dat\n",
      "../Competitors_generated_graphs/Dymond/Multiple_run/High_School11/High_School11_dym2.dat\n",
      "../Competitors_generated_graphs/STM/Multiple_run/High_School11/High_School11_STM_2.dat\n",
      "../Competitors_generated_graphs/STM/Multiple_run/High_School11/High_School11_STM_0.dat\n",
      "../Competitors_generated_graphs/STM/Multiple_run/High_School11/High_School11_STM_6.dat\n",
      "../Competitors_generated_graphs/STM/Multiple_run/High_School11/High_School11_STM_9.dat\n",
      "../Competitors_generated_graphs/STM/Multiple_run/High_School11/High_School11_STM_4.dat\n",
      "../Competitors_generated_graphs/STM/Multiple_run/High_School11/High_School11_STM_5.dat\n",
      "../Competitors_generated_graphs/STM/Multiple_run/High_School11/High_School11_STM_7.dat\n",
      "../Competitors_generated_graphs/STM/Multiple_run/High_School11/High_School11_STM_1.dat\n",
      "../Competitors_generated_graphs/STM/Multiple_run/High_School11/High_School11_STM_8.dat\n",
      "../Competitors_generated_graphs/STM/Multiple_run/High_School11/High_School11_STM_3.dat\n",
      "../Competitors_generated_graphs/TagGen/Multiple_run/High_School11/High_School11_8_generato_TagGen.dat\n",
      "../Competitors_generated_graphs/TagGen/Multiple_run/High_School11/High_School11_5_generato_TagGen.dat\n",
      "../Competitors_generated_graphs/TagGen/Multiple_run/High_School11/High_School11_6_generato_TagGen.dat\n",
      "../Competitors_generated_graphs/TagGen/Multiple_run/High_School11/High_School11_4_generato_TagGen.dat\n",
      "../Competitors_generated_graphs/TagGen/Multiple_run/High_School11/High_School11_7_generato_TagGen.dat\n",
      "../Competitors_generated_graphs/TagGen/Multiple_run/High_School11/High_School11_9_generato_TagGen.dat\n"
     ]
    }
   ],
   "source": [
    "file_name = \"InVS13\"\n",
    "file_name = \"LH10\"\n",
    "file_name = \"High_School11\"\n",
    "\n",
    "\n",
    "ori = load_origin_graph(file_name)\n",
    "etn_gen = load_ETNgen_graph(file_name)\n",
    "dym_gen = load_dym_graph(file_name)\n",
    "stm_gen = load_stm_graph(file_name)\n",
    "tag_gen = load_tag_graph(file_name)"
   ]
  },
  {
   "cell_type": "code",
   "execution_count": 176,
   "metadata": {},
   "outputs": [],
   "source": [
    "# s metric come in 16 dymond\n",
    "def s_metric(graphs):\n",
    "    res = []\n",
    "    res_in = 0\n",
    "    for i,j in graphs.edges():\n",
    "        d_i = graphs.degree(i)\n",
    "        d_j = graphs.degree(j)\n",
    "        res_in = res_in + d_i*d_j\n",
    "    return res_in"
   ]
  },
  {
   "cell_type": "code",
   "execution_count": 177,
   "metadata": {},
   "outputs": [],
   "source": [
    "res = []\n",
    "\n",
    "for g in ori:\n",
    "    res.append(s_metric(g))\n",
    "    \n",
    "    \n",
    "np.save(\"topology_results/original_distributions/\"+file_name+\"/hs_metric.npy\",res)"
   ]
  },
  {
   "cell_type": "code",
   "execution_count": 178,
   "metadata": {},
   "outputs": [],
   "source": [
    "def smetric_hour(comp):\n",
    "    res = []\n",
    "    for graphs in comp:\n",
    "        tmp = []\n",
    "        for graph in graphs:\n",
    "            tmp.append(s_metric(graph))\n",
    "        res.append(tmp)\n",
    "        \n",
    "    return np.array(res,dtype=object)"
   ]
  },
  {
   "cell_type": "code",
   "execution_count": 179,
   "metadata": {},
   "outputs": [],
   "source": [
    "res_etn = smetric_hour(etn_gen)\n",
    "np.save(\"topology_results/etngen/Multiple_run/distributions/\"+file_name+\"/hs_metric.npy\",res_etn)"
   ]
  },
  {
   "cell_type": "code",
   "execution_count": 180,
   "metadata": {},
   "outputs": [],
   "source": [
    "res_stm = smetric_hour(stm_gen)\n",
    "np.save(\"topology_results/stmgen/Multiple_run/distributions/\"+file_name+\"/hs_metric.npy\",res_stm)\n",
    "\n",
    "res_tag = smetric_hour(tag_gen)\n",
    "np.save(\"topology_results/taggen/Multiple_run/distributions/\"+file_name+\"/hs_metric.npy\",res_tag)\n",
    "\n",
    "res_dym = smetric_hour(dym_gen)\n",
    "np.save(\"topology_results/dymgen/Multiple_run/distributions/\"+file_name+\"/hs_metric.npy\",res_dym)"
   ]
  },
  {
   "cell_type": "code",
   "execution_count": null,
   "metadata": {},
   "outputs": [],
   "source": []
  },
  {
   "cell_type": "code",
   "execution_count": 181,
   "metadata": {},
   "outputs": [
    {
     "name": "stdout",
     "output_type": "stream",
     "text": [
      "etn 0.14473684210526316\n",
      "stm 0.5503759398496241\n",
      "tag 0.45827067669172933\n",
      "dym 0.35827067669172935\n"
     ]
    }
   ],
   "source": [
    "from scipy.stats import ks_2samp\n",
    "\n",
    "print(\"etn\",ks_2samp(res,res_etn[0])[0])\n",
    "print(\"stm\",ks_2samp(res,res_stm[0])[0])\n",
    "print(\"tag\",ks_2samp(res,res_tag[0])[0])\n",
    "print(\"dym\",ks_2samp(res,res_dym[0])[0])\n"
   ]
  },
  {
   "cell_type": "markdown",
   "metadata": {},
   "source": [
    "# clust\n",
    "tieni anche gli 0"
   ]
  },
  {
   "cell_type": "code",
   "execution_count": 64,
   "metadata": {},
   "outputs": [
    {
     "name": "stdout",
     "output_type": "stream",
     "text": [
      "../Competitors_generated_graphs/Dymond/Multiple_run/InVS13/InVS13_dym7.dat\n",
      "../Competitors_generated_graphs/Dymond/Multiple_run/InVS13/InVS13_dym8.dat\n",
      "../Competitors_generated_graphs/Dymond/Multiple_run/InVS13/InVS13_dym4.dat\n",
      "../Competitors_generated_graphs/Dymond/Multiple_run/InVS13/InVS13_dym6.dat\n",
      "../Competitors_generated_graphs/Dymond/Multiple_run/InVS13/InVS13_dym1.dat\n",
      "../Competitors_generated_graphs/Dymond/Multiple_run/InVS13/InVS13_dym5.dat\n",
      "../Competitors_generated_graphs/Dymond/Multiple_run/InVS13/InVS13_dym2.dat\n",
      "../Competitors_generated_graphs/Dymond/Multiple_run/InVS13/InVS13_dym3.dat\n",
      "../Competitors_generated_graphs/Dymond/Multiple_run/InVS13/InVS13_dym9.dat\n",
      "../Competitors_generated_graphs/Dymond/Multiple_run/InVS13/InVS13_dym0.dat\n",
      "../Competitors_generated_graphs/STM/Multiple_run/InVS13/InVS13_STM_3.dat\n",
      "../Competitors_generated_graphs/STM/Multiple_run/InVS13/InVS13_STM_7.dat\n",
      "../Competitors_generated_graphs/STM/Multiple_run/InVS13/InVS13_STM_9.dat\n",
      "../Competitors_generated_graphs/STM/Multiple_run/InVS13/InVS13_STM_0.dat\n",
      "../Competitors_generated_graphs/STM/Multiple_run/InVS13/InVS13_STM_6.dat\n",
      "../Competitors_generated_graphs/STM/Multiple_run/InVS13/InVS13_STM_2.dat\n",
      "../Competitors_generated_graphs/STM/Multiple_run/InVS13/InVS13_STM_8.dat\n",
      "../Competitors_generated_graphs/STM/Multiple_run/InVS13/InVS13_STM_5.dat\n",
      "../Competitors_generated_graphs/STM/Multiple_run/InVS13/InVS13_STM_1.dat\n",
      "../Competitors_generated_graphs/STM/Multiple_run/InVS13/InVS13_STM_4.dat\n",
      "../Competitors_generated_graphs/TagGen/Multiple_run/InVS13/InVS13_6_generato_TagGen.dat\n",
      "../Competitors_generated_graphs/TagGen/Multiple_run/InVS13/InVS13_0_generato_TagGen.dat\n",
      "../Competitors_generated_graphs/TagGen/Multiple_run/InVS13/InVS13_2_generato_TagGen.dat\n",
      "../Competitors_generated_graphs/TagGen/Multiple_run/InVS13/InVS13_4_generato_TagGen.dat\n",
      "../Competitors_generated_graphs/TagGen/Multiple_run/InVS13/InVS13_9_generato_TagGen.dat\n",
      "../Competitors_generated_graphs/TagGen/Multiple_run/InVS13/InVS13_5_generato_TagGen.dat\n",
      "../Competitors_generated_graphs/TagGen/Multiple_run/InVS13/InVS13_8_generato_TagGen.dat\n",
      "../Competitors_generated_graphs/TagGen/Multiple_run/InVS13/InVS13_7_generato_TagGen.dat\n",
      "../Competitors_generated_graphs/TagGen/Multiple_run/InVS13/InVS13_3_generato_TagGen.dat\n",
      "../Competitors_generated_graphs/TagGen/Multiple_run/InVS13/InVS13_1_generato_TagGen.dat\n"
     ]
    }
   ],
   "source": [
    "file_name = \"InVS13\"\n",
    "#file_name = \"LH10\"\n",
    "#file_name = \"High_School11\"\n",
    "\n",
    "\n",
    "ori = load_origin_graph(file_name)\n",
    "etn_gen = load_ETNgen_graph(file_name)\n",
    "dym_gen = load_dym_graph(file_name)\n",
    "stm_gen = load_stm_graph(file_name)\n",
    "tag_gen = load_tag_graph(file_name)"
   ]
  },
  {
   "cell_type": "code",
   "execution_count": 65,
   "metadata": {},
   "outputs": [
    {
     "data": {
      "text/plain": [
       "(275, 275, 243, 254, 261)"
      ]
     },
     "execution_count": 65,
     "metadata": {},
     "output_type": "execute_result"
    }
   ],
   "source": [
    "len(ori),len(etn_gen[0]),len(stm_gen[0]),len(tag_gen[0]),len(dym_gen[0])"
   ]
  },
  {
   "cell_type": "code",
   "execution_count": 66,
   "metadata": {},
   "outputs": [],
   "source": [
    "res = []\n",
    "for graph in ori:\n",
    "    a = list(nx.cluster.clustering(graph).values())\n",
    "    for i in a:\n",
    "         #if i > 0:\n",
    "        if True:\n",
    "            res.append(i)"
   ]
  },
  {
   "cell_type": "code",
   "execution_count": 67,
   "metadata": {},
   "outputs": [],
   "source": [
    "np.save(\"topology_results/original_distributions/\"+file_name+\"/hclus_with0.npy\",res)"
   ]
  },
  {
   "cell_type": "code",
   "execution_count": 68,
   "metadata": {},
   "outputs": [],
   "source": [
    "def clust_hour(comp):\n",
    "    res = []\n",
    "    for graphs in comp:      \n",
    "        tmp = []\n",
    "        for graph in graphs:\n",
    "            a = list(nx.cluster.clustering(graph).values())\n",
    "            for i in a:\n",
    "                #if i > 0:\n",
    "                if True:\n",
    "                    tmp.append(i)\n",
    "        res.append(tmp)\n",
    "        \n",
    "    return np.array(res,dtype=object)"
   ]
  },
  {
   "cell_type": "code",
   "execution_count": 69,
   "metadata": {},
   "outputs": [],
   "source": [
    "res_etn = clust_hour(etn_gen)\n",
    "np.save(\"topology_results/etngen/Multiple_run/distributions/\"+file_name+\"/hclus_with0.npy\",res_etn)\n",
    "\n",
    "res_stm = clust_hour(stm_gen)\n",
    "np.save(\"topology_results/stmgen/Multiple_run/distributions/\"+file_name+\"/hclus_with0.npy\",res_stm)\n",
    "\n",
    "res_tag = clust_hour(tag_gen)\n",
    "np.save(\"topology_results/taggen/Multiple_run/distributions/\"+file_name+\"/hclus_with0.npy\",res_tag)\n",
    "\n",
    "res_dym = clust_hour(dym_gen)\n",
    "np.save(\"topology_results/dymgen/Multiple_run/distributions/\"+file_name+\"/hclus_with0.npy\",res_dym)"
   ]
  },
  {
   "cell_type": "code",
   "execution_count": 70,
   "metadata": {},
   "outputs": [
    {
     "name": "stdout",
     "output_type": "stream",
     "text": [
      "etn 0.01588932806324106\n",
      "stm 0.00872669118597702\n",
      "tag 0.25131181724814045\n",
      "dym 0.1792202383656657\n"
     ]
    }
   ],
   "source": [
    "from scipy.stats import ks_2samp\n",
    "\n",
    "print(\"etn\",ks_2samp(res,res_etn[0])[0])\n",
    "print(\"stm\",ks_2samp(res,res_stm[0])[0])\n",
    "print(\"tag\",ks_2samp(res,res_tag[0])[0])\n",
    "print(\"dym\",ks_2samp(res,res_dym[0])[0])"
   ]
  },
  {
   "cell_type": "markdown",
   "metadata": {},
   "source": [
    "# hour ass\n"
   ]
  },
  {
   "cell_type": "code",
   "execution_count": 191,
   "metadata": {},
   "outputs": [
    {
     "name": "stdout",
     "output_type": "stream",
     "text": [
      "../Competitors_generated_graphs/Dymond/Multiple_run/High_School11/High_School11_dym1.dat\n",
      "../Competitors_generated_graphs/Dymond/Multiple_run/High_School11/High_School11_dym7.dat\n",
      "../Competitors_generated_graphs/Dymond/Multiple_run/High_School11/High_School11_dym8.dat\n",
      "../Competitors_generated_graphs/Dymond/Multiple_run/High_School11/High_School11_dym6.dat\n",
      "../Competitors_generated_graphs/Dymond/Multiple_run/High_School11/High_School11_dym3.dat\n",
      "../Competitors_generated_graphs/Dymond/Multiple_run/High_School11/High_School11_dym0.dat\n",
      "../Competitors_generated_graphs/Dymond/Multiple_run/High_School11/High_School11_dym9.dat\n",
      "../Competitors_generated_graphs/Dymond/Multiple_run/High_School11/High_School11_dym5.dat\n",
      "../Competitors_generated_graphs/Dymond/Multiple_run/High_School11/High_School11_dym4.dat\n",
      "../Competitors_generated_graphs/Dymond/Multiple_run/High_School11/High_School11_dym2.dat\n",
      "../Competitors_generated_graphs/STM/Multiple_run/High_School11/High_School11_STM_2.dat\n",
      "../Competitors_generated_graphs/STM/Multiple_run/High_School11/High_School11_STM_0.dat\n",
      "../Competitors_generated_graphs/STM/Multiple_run/High_School11/High_School11_STM_6.dat\n",
      "../Competitors_generated_graphs/STM/Multiple_run/High_School11/High_School11_STM_9.dat\n",
      "../Competitors_generated_graphs/STM/Multiple_run/High_School11/High_School11_STM_4.dat\n",
      "../Competitors_generated_graphs/STM/Multiple_run/High_School11/High_School11_STM_5.dat\n",
      "../Competitors_generated_graphs/STM/Multiple_run/High_School11/High_School11_STM_7.dat\n",
      "../Competitors_generated_graphs/STM/Multiple_run/High_School11/High_School11_STM_1.dat\n",
      "../Competitors_generated_graphs/STM/Multiple_run/High_School11/High_School11_STM_8.dat\n",
      "../Competitors_generated_graphs/STM/Multiple_run/High_School11/High_School11_STM_3.dat\n",
      "../Competitors_generated_graphs/TagGen/Multiple_run/High_School11/High_School11_8_generato_TagGen.dat\n",
      "../Competitors_generated_graphs/TagGen/Multiple_run/High_School11/High_School11_5_generato_TagGen.dat\n",
      "../Competitors_generated_graphs/TagGen/Multiple_run/High_School11/High_School11_6_generato_TagGen.dat\n",
      "../Competitors_generated_graphs/TagGen/Multiple_run/High_School11/High_School11_4_generato_TagGen.dat\n",
      "../Competitors_generated_graphs/TagGen/Multiple_run/High_School11/High_School11_7_generato_TagGen.dat\n",
      "../Competitors_generated_graphs/TagGen/Multiple_run/High_School11/High_School11_9_generato_TagGen.dat\n"
     ]
    }
   ],
   "source": [
    "file_name = \"InVS13\"\n",
    "file_name = \"LH10\"\n",
    "file_name = \"High_School11\"\n",
    "\n",
    "\n",
    "ori = load_origin_graph(file_name)\n",
    "etn_gen = load_ETNgen_graph(file_name)\n",
    "dym_gen = load_dym_graph(file_name)\n",
    "stm_gen = load_stm_graph(file_name)\n",
    "tag_gen = load_tag_graph(file_name)"
   ]
  },
  {
   "cell_type": "code",
   "execution_count": 192,
   "metadata": {},
   "outputs": [
    {
     "data": {
      "text/plain": [
       "(76, 76, 70, 70, 70)"
      ]
     },
     "execution_count": 192,
     "metadata": {},
     "output_type": "execute_result"
    }
   ],
   "source": [
    "len(ori),len(etn_gen[0]),len(stm_gen[0]),len(tag_gen[0]),len(dym_gen[0])"
   ]
  },
  {
   "cell_type": "code",
   "execution_count": 193,
   "metadata": {},
   "outputs": [],
   "source": [
    "res = []\n",
    "for graph in ori:\n",
    "    a = nx.assortativity.degree_assortativity_coefficient(graph)\n",
    "    if not np.isnan(a):\n",
    "        res.append(a)\n",
    "np.save(\"topology_results/original_distributions/\"+file_name+\"/hass.npy\",res)"
   ]
  },
  {
   "cell_type": "code",
   "execution_count": 194,
   "metadata": {},
   "outputs": [],
   "source": [
    "def ass_hour(comp):\n",
    "    res = []\n",
    "    for graphs in comp: \n",
    "        tmp = []\n",
    "        for graph in graphs:\n",
    "            a = nx.assortativity.degree_assortativity_coefficient(graph)\n",
    "            if not np.isnan(a):\n",
    "                tmp.append(a)\n",
    "                \n",
    "        res.append(tmp)\n",
    "    return np.array(res,dtype=object)"
   ]
  },
  {
   "cell_type": "code",
   "execution_count": 195,
   "metadata": {},
   "outputs": [],
   "source": [
    "res_etn = ass_hour(etn_gen)\n",
    "np.save(\"topology_results/etngen/Multiple_run/distributions/\"+file_name+\"/hass.npy\",res_etn)\n",
    "\n",
    "res_stm = ass_hour(stm_gen)\n",
    "np.save(\"topology_results/stmgen/Multiple_run/distributions/\"+file_name+\"/hass.npy\",res_stm)\n",
    "\n",
    "res_tag = ass_hour(tag_gen)\n",
    "np.save(\"topology_results/taggen/Multiple_run/distributions/\"+file_name+\"/hass.npy\",res_tag)\n",
    "\n",
    "res_dym = ass_hour(dym_gen)\n",
    "np.save(\"topology_results/dymgen/Multiple_run/distributions/\"+file_name+\"/hass.npy\",res_dym)"
   ]
  },
  {
   "cell_type": "code",
   "execution_count": 196,
   "metadata": {},
   "outputs": [
    {
     "name": "stdout",
     "output_type": "stream",
     "text": [
      "etn 0.5691554467564259\n",
      "stm 0.6075851393188855\n",
      "tag 0.9210526315789473\n",
      "dym 0.5129186602870813\n"
     ]
    }
   ],
   "source": [
    "from scipy.stats import ks_2samp\n",
    "\n",
    "print(\"etn\",ks_2samp(res,res_etn[0])[0])\n",
    "print(\"stm\",ks_2samp(res,res_stm[0])[0])\n",
    "print(\"tag\",ks_2samp(res,res_tag[0])[0])\n",
    "print(\"dym\",ks_2samp(res,res_dym[0])[0])"
   ]
  },
  {
   "cell_type": "markdown",
   "metadata": {},
   "source": [
    "# con comp"
   ]
  },
  {
   "cell_type": "code",
   "execution_count": 240,
   "metadata": {},
   "outputs": [
    {
     "name": "stdout",
     "output_type": "stream",
     "text": [
      "../Competitors_generated_graphs/Dymond/Multiple_run/LH10/LH10_dym7.dat\n",
      "../Competitors_generated_graphs/Dymond/Multiple_run/LH10/LH10_dym8.dat\n",
      "../Competitors_generated_graphs/Dymond/Multiple_run/LH10/LH10_dym4.dat\n",
      "../Competitors_generated_graphs/Dymond/Multiple_run/LH10/LH10_dym5.dat\n",
      "../Competitors_generated_graphs/Dymond/Multiple_run/LH10/LH10_dym9.dat\n",
      "../Competitors_generated_graphs/Dymond/Multiple_run/LH10/LH10_dym3.dat\n",
      "../Competitors_generated_graphs/Dymond/Multiple_run/LH10/LH10_dym0.dat\n",
      "../Competitors_generated_graphs/Dymond/Multiple_run/LH10/LH10_dym1.dat\n",
      "../Competitors_generated_graphs/Dymond/Multiple_run/LH10/LH10_dym2.dat\n",
      "../Competitors_generated_graphs/Dymond/Multiple_run/LH10/LH10_dym6.dat\n",
      "../Competitors_generated_graphs/STM/Multiple_run/LH10/LH10_STM_7.dat\n",
      "../Competitors_generated_graphs/STM/Multiple_run/LH10/LH10_STM_9.dat\n",
      "../Competitors_generated_graphs/STM/Multiple_run/LH10/LH10_STM_5.dat\n",
      "../Competitors_generated_graphs/STM/Multiple_run/LH10/LH10_STM_6.dat\n",
      "../Competitors_generated_graphs/STM/Multiple_run/LH10/LH10_STM_3.dat\n",
      "../Competitors_generated_graphs/STM/Multiple_run/LH10/LH10_STM_4.dat\n",
      "../Competitors_generated_graphs/STM/Multiple_run/LH10/LH10_STM_1.dat\n",
      "../Competitors_generated_graphs/STM/Multiple_run/LH10/LH10_STM_2.dat\n",
      "../Competitors_generated_graphs/STM/Multiple_run/LH10/LH10_STM_8.dat\n",
      "../Competitors_generated_graphs/STM/Multiple_run/LH10/LH10_STM_0.dat\n",
      "../Competitors_generated_graphs/TagGen/Multiple_run/LH10/LH10_1_generato_TagGen.dat\n",
      "../Competitors_generated_graphs/TagGen/Multiple_run/LH10/LH10_3_generato_TagGen.dat\n",
      "../Competitors_generated_graphs/TagGen/Multiple_run/LH10/LH10_2_generato_TagGen.dat\n",
      "../Competitors_generated_graphs/TagGen/Multiple_run/LH10/LH10_0_generato_TagGen.dat\n",
      "../Competitors_generated_graphs/TagGen/Multiple_run/LH10/LH10_4_generato_TagGen.dat\n"
     ]
    },
    {
     "data": {
      "text/plain": [
       "(97, 97, 76, 90, 90)"
      ]
     },
     "execution_count": 240,
     "metadata": {},
     "output_type": "execute_result"
    }
   ],
   "source": [
    "file_name = \"InVS13\"\n",
    "file_name = \"LH10\"\n",
    "#file_name = \"High_School11\"\n",
    "\n",
    "\n",
    "ori = load_origin_graph(file_name)\n",
    "etn_gen = load_ETNgen_graph(file_name)\n",
    "dym_gen = load_dym_graph(file_name)\n",
    "stm_gen = load_stm_graph(file_name)\n",
    "tag_gen = load_tag_graph(file_name)\n",
    "\n",
    "len(ori),len(etn_gen[0]),len(stm_gen[0]),len(tag_gen[0]),len(dym_gen[0])"
   ]
  },
  {
   "cell_type": "code",
   "execution_count": null,
   "metadata": {},
   "outputs": [],
   "source": []
  },
  {
   "cell_type": "code",
   "execution_count": null,
   "metadata": {},
   "outputs": [],
   "source": []
  },
  {
   "cell_type": "code",
   "execution_count": null,
   "metadata": {},
   "outputs": [],
   "source": []
  },
  {
   "cell_type": "code",
   "execution_count": null,
   "metadata": {},
   "outputs": [],
   "source": []
  }
 ],
 "metadata": {
  "interpreter": {
   "hash": "bb17086194d7d73ddadbbf43f541071d992a7ee65541854f310228bfe926c80e"
  },
  "kernelspec": {
   "display_name": "Python 3 (ipykernel)",
   "language": "python",
   "name": "python3"
  },
  "language_info": {
   "codemirror_mode": {
    "name": "ipython",
    "version": 3
   },
   "file_extension": ".py",
   "mimetype": "text/x-python",
   "name": "python",
   "nbconvert_exporter": "python",
   "pygments_lexer": "ipython3",
   "version": "3.10.11"
  }
 },
 "nbformat": 4,
 "nbformat_minor": 4
}
