{
 "cells": [
  {
   "cell_type": "code",
   "execution_count": 1,
   "metadata": {
    "scrolled": true
   },
   "outputs": [],
   "source": [
    "import construction as cs\n",
    "import matplotlib.pyplot as plt\n",
    "\n",
    "### read font\n",
    "from matplotlib import font_manager\n",
    "\n",
    "font_dirs = ['Barlow/']\n",
    "font_files = font_manager.findSystemFonts(fontpaths=font_dirs)\n",
    "\n",
    "for font_file in font_files:\n",
    "    font_manager.fontManager.addfont(font_file)\n",
    "\n",
    "# set font\n",
    "plt.rcParams['font.family'] = 'Barlow'\n",
    "\n",
    "import networkx as nx\n",
    "%matplotlib inline\n",
    "%config InlineBackend.figure_format = 'retina'\n",
    "\n",
    "%load_ext autoreload\n",
    "%autoreload 2"
   ]
  },
  {
   "cell_type": "markdown",
   "metadata": {},
   "source": [
    "# Load generated graphs"
   ]
  },
  {
   "cell_type": "code",
   "execution_count": 2,
   "metadata": {},
   "outputs": [],
   "source": [
    "def load_origin_graph(file_name,gap=299):\n",
    "    data_in = cs.load_data(\"../Datasets/\"+file_name+\".dat\")\n",
    "    gap = 299 \n",
    "    graphs_in = cs.build_graphs(data_in,gap=gap)\n",
    "    return graphs_in\n",
    "\n",
    "def load_ETNgen_graph(file_name):\n",
    "    path = \"../Generated_graphs/Multiple_run/\"+file_name+\"/\"\n",
    "    gap = 299 \n",
    "    graphs = []\n",
    "    for i in os.listdir(path):\n",
    "        data_in = cs.load_data(path+i)\n",
    "        graphs_in = cs.build_graphs(data_in,gap=gap)\n",
    "        graphs.append(graphs_in)\n",
    "    return graphs\n",
    "\n",
    "\n",
    "def load_dym_graph(file_name):\n",
    "    path = \"../Competitors_generated_graphs/Dymond/Multiple_run/\"+file_name+\"/\"\n",
    "    gap = 0 \n",
    "    graphs = []\n",
    "    for i in os.listdir(path):\n",
    "        print(path+i)\n",
    "        data_in = cs.load_data(path+i)\n",
    "        graphs_in = cs.build_graphs(data_in,gap=gap)\n",
    "        graphs.append(graphs_in)\n",
    "    return graphs\n",
    "\n",
    "def load_stm_graph(file_name):\n",
    "    path = \"../Competitors_generated_graphs/STM/Multiple_run/\"+file_name+\"/\"\n",
    "    gap = 0 \n",
    "    graphs = []\n",
    "    for i in os.listdir(path):\n",
    "        print(path+i)\n",
    "        data_in = cs.load_data(path+i)\n",
    "        graphs_in = cs.build_graphs(data_in,gap=gap)\n",
    "        graphs.append(graphs_in)\n",
    "    return graphs\n",
    "\n",
    "def load_tag_graph(file_name):\n",
    "    path = \"../Competitors_generated_graphs/TagGen/Multiple_run/\"+file_name+\"/\"\n",
    "    gap = 0 \n",
    "    graphs = []\n",
    "    for i in os.listdir(path):\n",
    "        print(path+i)\n",
    "        data_in = cs.load_data(path+i)\n",
    "        graphs_in = cs.build_graphs(data_in,gap=gap)\n",
    "        graphs.append(graphs_in)\n",
    "    return graphs"
   ]
  },
  {
   "cell_type": "code",
   "execution_count": 3,
   "metadata": {},
   "outputs": [],
   "source": [
    "import networkx as nx\n",
    "import numpy as np\n",
    "from scipy import stats\n",
    "import matplotlib.pyplot as plt\n",
    "\n",
    "from topological_metrics import *\n",
    "\n",
    "import os"
   ]
  },
  {
   "cell_type": "markdown",
   "metadata": {},
   "source": [
    "# Compute and store topological stuff"
   ]
  },
  {
   "cell_type": "markdown",
   "metadata": {},
   "source": [
    "# number of communities"
   ]
  },
  {
   "cell_type": "code",
   "execution_count": null,
   "metadata": {},
   "outputs": [],
   "source": [
    "file_name = \"InVS13\"\n",
    "\n",
    "ori = load_origin_graph(file_name)\n",
    "etn_gen = load_ETNgen_graph(file_name)\n",
    "dym_gen = load_dym_graph(file_name)\n",
    "stm_gen = load_stm_graph(file_name)\n",
    "tag_gen = load_tag_graph(file_name)"
   ]
  },
  {
   "cell_type": "code",
   "execution_count": null,
   "metadata": {},
   "outputs": [],
   "source": [
    "# original\n",
    "nb_conn_comp = []\n",
    "for g in ori:\n",
    "    nb_conn_comp.append(len([len(x) for x in list(nx.connected_components(g)) if len(x)>1]))\n",
    "    \n",
    "np.save(\"topology_results/original_distributions/\"+file_name+\"/con_comp.npy\",np.array([nb_conn_comp]))\n",
    "\n",
    "print(len(nb_conn_comp))"
   ]
  },
  {
   "cell_type": "code",
   "execution_count": null,
   "metadata": {},
   "outputs": [],
   "source": [
    "# etm gen\n",
    "nb_conn_comp = []\n",
    "for graphs in etn_gen:\n",
    "    tmp = []\n",
    "    for g in graphs:\n",
    "        tmp.append(len([len(x) for x in list(nx.connected_components(g)) if len(x)>1]))\n",
    "    nb_conn_comp.append(tmp[:3283])\n",
    "    \n",
    "for i in nb_conn_comp:\n",
    "    print(len(i))\n",
    "np.save(\"topology_results/etngen/Multiple_run/distributions/\"+file_name+\"/con_comp.npy\",nb_conn_comp)"
   ]
  },
  {
   "cell_type": "code",
   "execution_count": null,
   "metadata": {},
   "outputs": [],
   "source": [
    "# tag gen\n",
    "nb_conn_comp = []\n",
    "for graphs in tag_gen:\n",
    "    tmp = []\n",
    "    for g in graphs:\n",
    "        tmp.append(len([len(x) for x in list(nx.connected_components(g)) if len(x)>1]))\n",
    "    nb_conn_comp.append(tmp[:3289])\n",
    "    \n",
    "for i in nb_conn_comp:\n",
    "    print(len(i))\n",
    "np.save(\"topology_results/taggen/Multiple_run/distributions/\"+file_name+\"/con_comp.npy\",nb_conn_comp)"
   ]
  },
  {
   "cell_type": "code",
   "execution_count": null,
   "metadata": {},
   "outputs": [],
   "source": [
    "# stm gen\n",
    "nb_conn_comp = []\n",
    "for graphs in stm_gen:\n",
    "    tmp = []\n",
    "    for g in graphs:\n",
    "        tmp.append(len([len(x) for x in list(nx.connected_components(g)) if len(x)>1]))\n",
    "    nb_conn_comp.append(tmp[:2274])\n",
    "    \n",
    "for i in nb_conn_comp:\n",
    "    print(len(i))\n",
    "np.save(\"topology_results/stmgen/Multiple_run/distributions/\"+file_name+\"/con_comp.npy\",nb_conn_comp)\n"
   ]
  },
  {
   "cell_type": "code",
   "execution_count": null,
   "metadata": {},
   "outputs": [],
   "source": [
    "# dym gen\n",
    "nb_conn_comp = []\n",
    "for graphs in dym_gen:\n",
    "    tmp = []\n",
    "    for g in graphs:\n",
    "        tmp.append(len([len(x) for x in list(nx.connected_components(g)) if len(x)>1]))\n",
    "    nb_conn_comp.append(tmp[:1154])\n",
    "    \n",
    "for i in nb_conn_comp:\n",
    "    print(len(i))    \n",
    "np.save(\"topology_results/dymgen/Multiple_run/distributions/\"+file_name+\"/con_comp.npy\",nb_conn_comp)"
   ]
  },
  {
   "cell_type": "markdown",
   "metadata": {},
   "source": [
    "# motifs aggregated graph"
   ]
  },
  {
   "cell_type": "code",
   "execution_count": 4,
   "metadata": {},
   "outputs": [],
   "source": [
    "import networkx as nx\n",
    "import itertools \n",
    "\n",
    "def count_subgraphs(graph, subgraph):\n",
    "    count = 0\n",
    "    for i in itertools.combinations(list(graph.nodes()), len(list(subgraph.nodes()))):\n",
    "        sub_g = nx.subgraph(graph,i)\n",
    "        \n",
    "        if nx.is_isomorphic(sub_g, subgraph):\n",
    "            count += 1\n",
    "    return count"
   ]
  },
  {
   "cell_type": "code",
   "execution_count": 5,
   "metadata": {},
   "outputs": [],
   "source": [
    "\n",
    "from networkx.algorithms import isomorphism\n",
    "\n",
    "\n",
    "def count_subgraphs2(graph, subgraph):\n",
    "    \n",
    "    count = 0\n",
    "    \n",
    "    GM = isomorphism.GraphMatcher(graph, subgraph)\n",
    "    c = 0 \n",
    "    for i in GM.subgraph_isomorphisms_iter():\n",
    "        c = c +1 \n",
    "    \n",
    "    return c\n",
    "\n",
    "\n"
   ]
  },
  {
   "cell_type": "code",
   "execution_count": 6,
   "metadata": {},
   "outputs": [
    {
     "data": {
      "image/png": "[encoded data removed]",
      "text/plain": [
       "<Figure size 1000x200 with 5 Axes>"
      ]
     },
     "metadata": {
      "image/png": {
       "height": 174,
       "width": 795
      }
     },
     "output_type": "display_data"
    }
   ],
   "source": [
    "motifs = {\"s1\":nx.Graph([(1,2),(2,3)]),\n",
    "         \"s2\":nx.Graph([(1,2),(2,3),(3,1)]),\n",
    "         \"s3\":nx.Graph([(1,2),(2,3),(3,4),(4,1)]),\n",
    "         \"s4\":nx.Graph([(1,2),(2,3),(3,4),(4,1),(2,4)]),\n",
    "         \"s5\":nx.Graph([(1,2),(2,3),(3,4),(4,1),(2,4),(1,3)])}\n",
    "\n",
    "c = 1\n",
    "plt.figure(figsize=(10,2))\n",
    "for k,v in motifs.items():\n",
    "    plt.subplot(1,5,c)\n",
    "    nx.draw(v)\n",
    "    c = c + 1"
   ]
  },
  {
   "cell_type": "code",
   "execution_count": null,
   "metadata": {},
   "outputs": [],
   "source": []
  },
  {
   "cell_type": "code",
   "execution_count": null,
   "metadata": {},
   "outputs": [],
   "source": []
  },
  {
   "cell_type": "code",
   "execution_count": null,
   "metadata": {},
   "outputs": [],
   "source": []
  },
  {
   "cell_type": "code",
   "execution_count": null,
   "metadata": {},
   "outputs": [],
   "source": []
  },
  {
   "cell_type": "markdown",
   "metadata": {},
   "source": [
    "# load agg graph"
   ]
  },
  {
   "cell_type": "code",
   "execution_count": 7,
   "metadata": {},
   "outputs": [
    {
     "name": "stdout",
     "output_type": "stream",
     "text": [
      "../Competitors_generated_graphs/Dymond/Multiple_run/InVS13/InVS13_dym7.dat\n",
      "../Competitors_generated_graphs/Dymond/Multiple_run/InVS13/InVS13_dym8.dat\n",
      "../Competitors_generated_graphs/Dymond/Multiple_run/InVS13/InVS13_dym4.dat\n",
      "../Competitors_generated_graphs/Dymond/Multiple_run/InVS13/InVS13_dym6.dat\n",
      "../Competitors_generated_graphs/Dymond/Multiple_run/InVS13/InVS13_dym1.dat\n",
      "../Competitors_generated_graphs/Dymond/Multiple_run/InVS13/InVS13_dym5.dat\n",
      "../Competitors_generated_graphs/Dymond/Multiple_run/InVS13/InVS13_dym2.dat\n",
      "../Competitors_generated_graphs/Dymond/Multiple_run/InVS13/InVS13_dym3.dat\n",
      "../Competitors_generated_graphs/Dymond/Multiple_run/InVS13/InVS13_dym9.dat\n",
      "../Competitors_generated_graphs/Dymond/Multiple_run/InVS13/InVS13_dym0.dat\n",
      "../Competitors_generated_graphs/STM/Multiple_run/InVS13/InVS13_STM_3.dat\n",
      "../Competitors_generated_graphs/STM/Multiple_run/InVS13/InVS13_STM_7.dat\n",
      "../Competitors_generated_graphs/STM/Multiple_run/InVS13/InVS13_STM_9.dat\n",
      "../Competitors_generated_graphs/STM/Multiple_run/InVS13/InVS13_STM_0.dat\n",
      "../Competitors_generated_graphs/STM/Multiple_run/InVS13/InVS13_STM_6.dat\n",
      "../Competitors_generated_graphs/STM/Multiple_run/InVS13/InVS13_STM_2.dat\n",
      "../Competitors_generated_graphs/STM/Multiple_run/InVS13/InVS13_STM_8.dat\n",
      "../Competitors_generated_graphs/STM/Multiple_run/InVS13/InVS13_STM_5.dat\n",
      "../Competitors_generated_graphs/STM/Multiple_run/InVS13/InVS13_STM_1.dat\n",
      "../Competitors_generated_graphs/STM/Multiple_run/InVS13/InVS13_STM_4.dat\n",
      "../Competitors_generated_graphs/TagGen/Multiple_run/InVS13/InVS13_6_generato_TagGen.dat\n",
      "../Competitors_generated_graphs/TagGen/Multiple_run/InVS13/InVS13_0_generato_TagGen.dat\n",
      "../Competitors_generated_graphs/TagGen/Multiple_run/InVS13/InVS13_2_generato_TagGen.dat\n",
      "../Competitors_generated_graphs/TagGen/Multiple_run/InVS13/InVS13_4_generato_TagGen.dat\n",
      "../Competitors_generated_graphs/TagGen/Multiple_run/InVS13/InVS13_9_generato_TagGen.dat\n",
      "../Competitors_generated_graphs/TagGen/Multiple_run/InVS13/InVS13_5_generato_TagGen.dat\n",
      "../Competitors_generated_graphs/TagGen/Multiple_run/InVS13/InVS13_8_generato_TagGen.dat\n",
      "../Competitors_generated_graphs/TagGen/Multiple_run/InVS13/InVS13_7_generato_TagGen.dat\n",
      "../Competitors_generated_graphs/TagGen/Multiple_run/InVS13/InVS13_3_generato_TagGen.dat\n",
      "../Competitors_generated_graphs/TagGen/Multiple_run/InVS13/InVS13_1_generato_TagGen.dat\n"
     ]
    }
   ],
   "source": [
    "file_name = \"InVS13\"\n",
    "\n",
    "ori = load_origin_graph(file_name)\n",
    "etn_gen = load_ETNgen_graph(file_name)\n",
    "dym_gen = load_dym_graph(file_name)\n",
    "stm_gen = load_stm_graph(file_name)\n",
    "tag_gen = load_tag_graph(file_name)"
   ]
  },
  {
   "cell_type": "code",
   "execution_count": 8,
   "metadata": {},
   "outputs": [
    {
     "data": {
      "text/plain": [
       "(0.18036311514572384, 92)"
      ]
     },
     "execution_count": 8,
     "metadata": {},
     "output_type": "execute_result"
    }
   ],
   "source": [
    "G_ori = nx.Graph()\n",
    "\n",
    "for g in ori:\n",
    "    for e in g.edges():\n",
    "        G_ori.add_edge(e[0],e[1])\n",
    "nx.density(G_ori),len(G_ori)"
   ]
  },
  {
   "cell_type": "code",
   "execution_count": null,
   "metadata": {},
   "outputs": [],
   "source": []
  },
  {
   "cell_type": "code",
   "execution_count": 9,
   "metadata": {},
   "outputs": [],
   "source": [
    "graph = G_ori"
   ]
  },
  {
   "cell_type": "code",
   "execution_count": 10,
   "metadata": {
    "scrolled": false
   },
   "outputs": [
    {
     "name": "stdout",
     "output_type": "stream",
     "text": [
      "s1 18034\n",
      "s2 10512\n",
      "s3 31976\n",
      "s4 38204\n",
      "s5 47520\n",
      "CPU times: user 26.4 s, sys: 0 ns, total: 26.4 s\n",
      "Wall time: 26.4 s\n"
     ]
    }
   ],
   "source": [
    "%%time\n",
    "occs = {\"s1\":[],\n",
    "         \"s2\":[],\n",
    "         \"s3\":[],\n",
    "         \"s4\":[],\n",
    "         \"s5\":[]}\n",
    "\n",
    "for k,subgraph in motifs.items():\n",
    "    occurrences = count_subgraphs2(graph, subgraph)\n",
    "    print(k,occurrences)\n",
    "    occs[k].append(occurrences)"
   ]
  },
  {
   "cell_type": "code",
   "execution_count": 13,
   "metadata": {},
   "outputs": [
    {
     "name": "stdout",
     "output_type": "stream",
     "text": [
      "s1 18034.0\n",
      "s2 10512.0\n",
      "s3 31976.0\n",
      "s4 38204.0\n",
      "s5 47520.0\n"
     ]
    }
   ],
   "source": [
    "for k,v in occs.items():\n",
    "    print(k,np.mean(v))"
   ]
  },
  {
   "cell_type": "code",
   "execution_count": 12,
   "metadata": {},
   "outputs": [
    {
     "name": "stdout",
     "output_type": "stream",
     "text": [
      "done\n",
      "done\n",
      "{'s1': [59040, 61456], 's2': [31722, 33912], 's3': [413232, 449024], 's4': [227504, 248052], 's5': [121368, 138288]}\n",
      "done\n",
      "done\n",
      "{'s1': [45506, 78922], 's2': [564054, 192918], 's3': [48768, 338416], 's4': [2336904, 1843336], 's5': [40841280, 6785256]}\n",
      "done\n",
      "done\n",
      "{'s1': [235832, 243330], 's2': [182208, 187704], 's3': [1824920, 2061848], 's4': [2198852, 2433688], 's5': [3797736, 3557544]}\n",
      "done\n",
      "done\n",
      "{'s1': [74060, 75834], 's2': [336906, 342624], 's3': [241792, 286664], 's4': [2601328, 2743320], 's5': [17399256, 17603208]}\n"
     ]
    }
   ],
   "source": [
    "#etn \n",
    "counts = {\"s1\":[],\n",
    "         \"s2\":[],\n",
    "         \"s3\":[],\n",
    "         \"s4\":[],\n",
    "         \"s5\":[]}\n",
    "\n",
    "for G in etn_gen[0:2]:\n",
    "    G_ori = nx.Graph()\n",
    "\n",
    "    for g in G:\n",
    "        for e in g.edges():\n",
    "            G_ori.add_edge(e[0],e[1])    \n",
    "    graph = G_ori\n",
    "    for k,subgraph in motifs.items():\n",
    "        occurrences = count_subgraphs2(graph, subgraph)\n",
    "        counts[k].append(occurrences)\n",
    "    print(\"done\")\n",
    "import json\n",
    "with open(\"topology_results/etngen/Multiple_run/distributions/\"+file_name+\"/motifs.json\", \"w\") as file:\n",
    "    json.dump(counts, file,indent=2)\n",
    "print(counts)\n",
    "    \n",
    "    \n",
    "# tag\n",
    "counts = {\"s1\":[],\n",
    "         \"s2\":[],\n",
    "         \"s3\":[],\n",
    "         \"s4\":[],\n",
    "         \"s5\":[]}\n",
    "\n",
    "for G in tag_gen[0:2]:\n",
    "    G_ori = nx.Graph()\n",
    "\n",
    "    for g in G:\n",
    "        for e in g.edges():\n",
    "            G_ori.add_edge(e[0],e[1])\n",
    "    \n",
    "    graph = G_ori\n",
    "    for k,subgraph in motifs.items():\n",
    "        occurrences = count_subgraphs2(graph, subgraph)\n",
    "        counts[k].append(occurrences)\n",
    "    print(\"done\")\n",
    "        \n",
    "import json\n",
    "with open(\"topology_results/taggen/Multiple_run/distributions/\"+file_name+\"/motifs.json\", \"w\") as file:\n",
    "    json.dump(counts, file,indent=2)\n",
    "    \n",
    "print(counts)\n",
    "# stm\n",
    "counts = {\"s1\":[],\n",
    "         \"s2\":[],\n",
    "         \"s3\":[],\n",
    "         \"s4\":[],\n",
    "         \"s5\":[]}\n",
    "\n",
    "for G in stm_gen[0:2]:\n",
    "    G_ori = nx.Graph()\n",
    "\n",
    "    for g in G:\n",
    "        for e in g.edges():\n",
    "            G_ori.add_edge(e[0],e[1])\n",
    "    \n",
    "    graph = G_ori\n",
    "    for k,subgraph in motifs.items():\n",
    "        occurrences = count_subgraphs2(graph, subgraph)\n",
    "        counts[k].append(occurrences)\n",
    "        \n",
    "    print(\"done\")\n",
    "import json\n",
    "with open(\"topology_results/stmgen/Multiple_run/distributions/\"+file_name+\"/motifs.json\", \"w\") as file:\n",
    "    json.dump(counts, file,indent=2)\n",
    "\n",
    "print(counts)    \n",
    "    \n",
    "# dym\n",
    "counts = {\"s1\":[],\n",
    "         \"s2\":[],\n",
    "         \"s3\":[],\n",
    "         \"s4\":[],\n",
    "         \"s5\":[]}\n",
    "\n",
    "for G in dym_gen[0:2]:\n",
    "    G_ori = nx.Graph()\n",
    "\n",
    "    for g in G:\n",
    "        for e in g.edges():\n",
    "            G_ori.add_edge(e[0],e[1])\n",
    "            \n",
    "    graph = G_ori\n",
    "    for k,subgraph in motifs.items():\n",
    "        occurrences = count_subgraphs2(graph, subgraph)\n",
    "        counts[k].append(occurrences)\n",
    "    print(\"done\")\n",
    "        \n",
    "import json\n",
    "with open(\"topology_results/dymgen/Multiple_run/distributions/\"+file_name+\"/motifs.json\", \"w\") as file:\n",
    "    json.dump(counts, file,indent=2)\n",
    "print(counts)"
   ]
  },
  {
   "cell_type": "code",
   "execution_count": 19,
   "metadata": {},
   "outputs": [],
   "source": [
    "etn_count = json.load(open(\"topology_results/etngen/Multiple_run/distributions/InVS13/motifs.json\"))\n",
    "tag_count = json.load(open(\"topology_results/taggen/Multiple_run/distributions/InVS13/motifs.json\"))\n",
    "stm_count = json.load(open(\"topology_results/stmgen/Multiple_run/distributions/InVS13/motifs.json\"))\n",
    "dym_count = json.load(open(\"topology_results/dymgen/Multiple_run/distributions/InVS13/motifs.json\"))"
   ]
  },
  {
   "cell_type": "code",
   "execution_count": 36,
   "metadata": {},
   "outputs": [
    {
     "data": {
      "text/plain": [
       "<matplotlib.legend.Legend at 0x7f9b5e9d8f10>"
      ]
     },
     "execution_count": 36,
     "metadata": {},
     "output_type": "execute_result"
    },
    {
     "data": {
      "image/png": "[encoded data removed]",
      "text/plain": [
       "<Figure size 1000x500 with 1 Axes>"
      ]
     },
     "metadata": {
      "image/png": {
       "height": 426,
       "width": 823
      }
     },
     "output_type": "display_data"
    }
   ],
   "source": [
    "plt.figure(figsize=(10,5))\n",
    "plt.plot(occs.values(),label=\"orig\")\n",
    "plt.plot(np.mean(list(etn_count.values()),axis=1),label=\"noi\")\n",
    "plt.plot(np.mean(list(tag_count.values()),axis=1),label=\"tag\")\n",
    "plt.plot(np.mean(list(stm_count.values()),axis=1),label=\"stm\")\n",
    "plt.plot(np.mean(list(dym_count.values()),axis=1),label=\"dym\")\n",
    "plt.yscale(\"log\")\n",
    "plt.legend()"
   ]
  },
  {
   "cell_type": "code",
   "execution_count": null,
   "metadata": {},
   "outputs": [],
   "source": []
  },
  {
   "cell_type": "code",
   "execution_count": null,
   "metadata": {},
   "outputs": [],
   "source": []
  },
  {
   "cell_type": "code",
   "execution_count": null,
   "metadata": {},
   "outputs": [],
   "source": []
  },
  {
   "cell_type": "code",
   "execution_count": null,
   "metadata": {},
   "outputs": [],
   "source": []
  },
  {
   "cell_type": "code",
   "execution_count": null,
   "metadata": {},
   "outputs": [],
   "source": []
  },
  {
   "cell_type": "code",
   "execution_count": null,
   "metadata": {},
   "outputs": [],
   "source": []
  },
  {
   "cell_type": "code",
   "execution_count": 37,
   "metadata": {},
   "outputs": [
    {
     "name": "stdout",
     "output_type": "stream",
     "text": [
      "../Competitors_generated_graphs/Dymond/Multiple_run/LH10/LH10_dym7.dat\n",
      "../Competitors_generated_graphs/Dymond/Multiple_run/LH10/LH10_dym8.dat\n",
      "../Competitors_generated_graphs/Dymond/Multiple_run/LH10/LH10_dym4.dat\n",
      "../Competitors_generated_graphs/Dymond/Multiple_run/LH10/LH10_dym5.dat\n",
      "../Competitors_generated_graphs/Dymond/Multiple_run/LH10/LH10_dym9.dat\n",
      "../Competitors_generated_graphs/Dymond/Multiple_run/LH10/LH10_dym3.dat\n",
      "../Competitors_generated_graphs/Dymond/Multiple_run/LH10/LH10_dym0.dat\n",
      "../Competitors_generated_graphs/Dymond/Multiple_run/LH10/LH10_dym1.dat\n",
      "../Competitors_generated_graphs/Dymond/Multiple_run/LH10/LH10_dym2.dat\n",
      "../Competitors_generated_graphs/Dymond/Multiple_run/LH10/LH10_dym6.dat\n",
      "../Competitors_generated_graphs/STM/Multiple_run/LH10/LH10_STM_7.dat\n",
      "../Competitors_generated_graphs/STM/Multiple_run/LH10/LH10_STM_9.dat\n",
      "../Competitors_generated_graphs/STM/Multiple_run/LH10/LH10_STM_5.dat\n",
      "../Competitors_generated_graphs/STM/Multiple_run/LH10/LH10_STM_6.dat\n",
      "../Competitors_generated_graphs/STM/Multiple_run/LH10/LH10_STM_3.dat\n",
      "../Competitors_generated_graphs/STM/Multiple_run/LH10/LH10_STM_4.dat\n",
      "../Competitors_generated_graphs/STM/Multiple_run/LH10/LH10_STM_1.dat\n",
      "../Competitors_generated_graphs/STM/Multiple_run/LH10/LH10_STM_2.dat\n",
      "../Competitors_generated_graphs/STM/Multiple_run/LH10/LH10_STM_8.dat\n",
      "../Competitors_generated_graphs/STM/Multiple_run/LH10/LH10_STM_0.dat\n",
      "../Competitors_generated_graphs/TagGen/Multiple_run/LH10/LH10_1_generato_TagGen.dat\n",
      "../Competitors_generated_graphs/TagGen/Multiple_run/LH10/LH10_3_generato_TagGen.dat\n",
      "../Competitors_generated_graphs/TagGen/Multiple_run/LH10/LH10_2_generato_TagGen.dat\n",
      "../Competitors_generated_graphs/TagGen/Multiple_run/LH10/LH10_0_generato_TagGen.dat\n",
      "../Competitors_generated_graphs/TagGen/Multiple_run/LH10/LH10_4_generato_TagGen.dat\n",
      "s1 17268\n",
      "s2 8215\n",
      "s3 12668\n",
      "s4 91540\n",
      "s5 38162\n"
     ]
    }
   ],
   "source": [
    "file_name = \"LH10\"\n",
    "\n",
    "ori = load_origin_graph(file_name)\n",
    "etn_gen = load_ETNgen_graph(file_name)\n",
    "dym_gen = load_dym_graph(file_name)\n",
    "stm_gen = load_stm_graph(file_name)\n",
    "tag_gen = load_tag_graph(file_name)\n",
    "\n",
    "G_ori = nx.Graph()\n",
    "\n",
    "for g in ori:\n",
    "    for e in g.edges():\n",
    "        G_ori.add_edge(e[0],e[1])\n",
    "nx.density(G_ori),len(G_ori)\n",
    "\n",
    "graph = G_ori\n",
    "\n",
    "for k,subgraph in motifs.items():\n",
    "    occurrences = count_subgraphs(graph, subgraph)\n",
    "    print(k, occurrences)"
   ]
  },
  {
   "cell_type": "code",
   "execution_count": 39,
   "metadata": {},
   "outputs": [
    {
     "data": {
      "text/plain": [
       "75"
      ]
     },
     "execution_count": 39,
     "metadata": {},
     "output_type": "execute_result"
    }
   ],
   "source": [
    "len(ori[0].nodes())"
   ]
  },
  {
   "cell_type": "code",
   "execution_count": 46,
   "metadata": {},
   "outputs": [
    {
     "name": "stdout",
     "output_type": "stream",
     "text": [
      "0.8212612612612613\n",
      "done\n",
      "0.8241441441441442\n",
      "done\n",
      "{'s1': [22185, 22521], 's2': [38652, 38719], 's3': [34619, 37571], 's4': [432017, 445920], 's5': [421033, 416501]}\n"
     ]
    }
   ],
   "source": [
    "#etn \n",
    "counts = {\"s1\":[],\n",
    "         \"s2\":[],\n",
    "         \"s3\":[],\n",
    "         \"s4\":[],\n",
    "         \"s5\":[]}\n",
    "\n",
    "for G in etn_gen[0:2]:\n",
    "    G_ori = nx.Graph()\n",
    "    for g in G:\n",
    "        for e in g.edges():\n",
    "            G_ori.add_edge(e[0],e[1])    \n",
    "    graph = G_ori\n",
    "    print(+nx.density(G_ori))\n",
    "    for k,subgraph in motifs.items():\n",
    "        occurrences = count_subgraphs(graph, subgraph)\n",
    "        counts[k].append(occurrences)\n",
    "    print(\"done\")\n",
    "        \n",
    "import json\n",
    "with open(\"topology_results/etngen/Multiple_run/distributions/\"+file_name+\"/motifs.json\", \"w\") as file:\n",
    "    json.dump(counts, file,indent=2)\n",
    "print(counts)"
   ]
  },
  {
   "cell_type": "code",
   "execution_count": 47,
   "metadata": {},
   "outputs": [
    {
     "name": "stdout",
     "output_type": "stream",
     "text": [
      "0.5502702702702703\n",
      "done\n",
      "0.6374774774774775\n",
      "done\n"
     ]
    }
   ],
   "source": [
    "# tag\n",
    "counts = {\"s1\":[],\n",
    "         \"s2\":[],\n",
    "         \"s3\":[],\n",
    "         \"s4\":[],\n",
    "         \"s5\":[]}\n",
    "\n",
    "for G in tag_gen[0:2]:\n",
    "    G_ori = nx.Graph()\n",
    "\n",
    "    for g in G:\n",
    "        for e in g.edges():\n",
    "            G_ori.add_edge(e[0],e[1])\n",
    "    graph = G_ori\n",
    "    print(+nx.density(G_ori))\n",
    "    \n",
    "    for k,subgraph in motifs.items():\n",
    "        occurrences = count_subgraphs(graph, subgraph)\n",
    "        counts[k].append(occurrences)\n",
    "    print(\"done\")\n",
    "        \n",
    "import json\n",
    "with open(\"topology_results/taggen/Multiple_run/distributions/\"+file_name+\"/motifs.json\", \"w\") as file:\n",
    "    json.dump(counts, file,indent=2)\n",
    "    \n",
    "\n",
    "print(counts)"
   ]
  },
  {
   "cell_type": "code",
   "execution_count": null,
   "metadata": {},
   "outputs": [],
   "source": []
  },
  {
   "cell_type": "code",
   "execution_count": 53,
   "metadata": {},
   "outputs": [
    {
     "data": {
      "text/plain": [
       "171"
      ]
     },
     "execution_count": 53,
     "metadata": {},
     "output_type": "execute_result"
    }
   ],
   "source": [
    "len(G_ori)"
   ]
  },
  {
   "cell_type": "code",
   "execution_count": null,
   "metadata": {},
   "outputs": [],
   "source": [
    "# stm\n",
    "counts = {\"s1\":[],\n",
    "         \"s2\":[],\n",
    "         \"s3\":[],\n",
    "         \"s4\":[],\n",
    "         \"s5\":[]}\n",
    "\n",
    "for G in stm_gen[0:2]:\n",
    "    G_ori = nx.Graph()\n",
    "\n",
    "    for g in G:\n",
    "        for e in g.edges():\n",
    "            G_ori.add_edge(e[0],e[1])\n",
    "    \n",
    "    #graph = G_ori\n",
    "    graph = G_ori.subgraph(list(G_ori.nodes())[0:75])\n",
    "    print(nx.density(graph))\n",
    "    \n",
    "    for k,subgraph in motifs.items():\n",
    "        occurrences = count_subgraphs(graph, subgraph)\n",
    "        counts[k].append(occurrences)\n",
    "    print(\"done\")\n",
    "        \n",
    "import json\n",
    "with open(\"topology_results/stmgen/Multiple_run/distributions/\"+file_name+\"/motifs.json\", \"w\") as file:\n",
    "    json.dump(counts, file,indent=2)\n",
    "\n",
    "print(counts)   "
   ]
  },
  {
   "cell_type": "code",
   "execution_count": 62,
   "metadata": {},
   "outputs": [
    {
     "name": "stdout",
     "output_type": "stream",
     "text": [
      "0.6470588235294118\n",
      "done\n",
      "0.6631578947368421\n",
      "done\n",
      "{'s1': [289, 457], 's2': [271, 369], 's3': [48, 154], 's4': [684, 1258], 's5': [444, 586]}\n"
     ]
    }
   ],
   "source": [
    "# dym\n",
    "counts = {\"s1\":[],\n",
    "         \"s2\":[],\n",
    "         \"s3\":[],\n",
    "         \"s4\":[],\n",
    "         \"s5\":[]}\n",
    "\n",
    "for G in dym_gen[0:2]:\n",
    "    G_ori = nx.Graph()\n",
    "\n",
    "    for g in G:\n",
    "        for e in g.edges():\n",
    "            G_ori.add_edge(e[0],e[1])\n",
    "            \n",
    "    graph = G_ori\n",
    "    print(+nx.density(G_ori))\n",
    "    for k,subgraph in motifs.items():\n",
    "        occurrences = count_subgraphs(graph, subgraph)\n",
    "        counts[k].append(occurrences)\n",
    "    print(\"done\")\n",
    "        \n",
    "import json\n",
    "with open(\"topology_results/dymgen/Multiple_run/distributions/\"+file_name+\"/motifs.json\", \"w\") as file:\n",
    "    json.dump(counts, file,indent=2)\n",
    "print(counts)"
   ]
  },
  {
   "cell_type": "code",
   "execution_count": 63,
   "metadata": {},
   "outputs": [],
   "source": [
    "etn_count = json.load(open(\"topology_results/etngen/Multiple_run/distributions/LH10/motifs.json\"))\n",
    "tag_count = json.load(open(\"topology_results/taggen/Multiple_run/distributions/LH10/motifs.json\"))\n",
    "stm_count = json.load(open(\"topology_results/stmgen/Multiple_run/distributions/LH10/motifs.json\"))\n",
    "dym_count = json.load(open(\"topology_results/dymgen/Multiple_run/distributions/LH10/motifs.json\"))"
   ]
  },
  {
   "cell_type": "code",
   "execution_count": 66,
   "metadata": {},
   "outputs": [
    {
     "data": {
      "text/plain": [
       "<matplotlib.legend.Legend at 0x7f9b7da70340>"
      ]
     },
     "execution_count": 66,
     "metadata": {},
     "output_type": "execute_result"
    },
    {
     "data": {
      "image/png": "[encoded data removed]",
      "text/plain": [
       "<Figure size 1000x500 with 1 Axes>"
      ]
     },
     "metadata": {
      "image/png": {
       "height": 426,
       "width": 825
      }
     },
     "output_type": "display_data"
    }
   ],
   "source": [
    "plt.figure(figsize=(10,5))\n",
    "plt.plot(occs.values(),label=\"orig\")\n",
    "plt.plot(np.mean(list(etn_count.values()),axis=1),label=\"noi\")\n",
    "plt.plot(np.mean(list(tag_count.values()),axis=1),label=\"tag\")\n",
    "plt.plot(np.mean(list(stm_count.values()),axis=1),label=\"stm\")\n",
    "plt.plot(np.mean(list(dym_count.values()),axis=1),label=\"dym\")\n",
    "plt.yscale(\"log\")\n",
    "plt.legend()"
   ]
  },
  {
   "cell_type": "code",
   "execution_count": null,
   "metadata": {},
   "outputs": [],
   "source": []
  },
  {
   "cell_type": "code",
   "execution_count": null,
   "metadata": {},
   "outputs": [],
   "source": []
  },
  {
   "cell_type": "code",
   "execution_count": null,
   "metadata": {},
   "outputs": [],
   "source": []
  },
  {
   "cell_type": "code",
   "execution_count": null,
   "metadata": {},
   "outputs": [],
   "source": []
  },
  {
   "cell_type": "code",
   "execution_count": null,
   "metadata": {},
   "outputs": [],
   "source": []
  },
  {
   "cell_type": "code",
   "execution_count": 67,
   "metadata": {},
   "outputs": [
    {
     "name": "stdout",
     "output_type": "stream",
     "text": [
      "../Competitors_generated_graphs/Dymond/Multiple_run/High_School11/High_School11_dym1.dat\n",
      "../Competitors_generated_graphs/Dymond/Multiple_run/High_School11/High_School11_dym7.dat\n",
      "../Competitors_generated_graphs/Dymond/Multiple_run/High_School11/High_School11_dym8.dat\n",
      "../Competitors_generated_graphs/Dymond/Multiple_run/High_School11/High_School11_dym6.dat\n",
      "../Competitors_generated_graphs/Dymond/Multiple_run/High_School11/High_School11_dym3.dat\n",
      "../Competitors_generated_graphs/Dymond/Multiple_run/High_School11/High_School11_dym0.dat\n",
      "../Competitors_generated_graphs/Dymond/Multiple_run/High_School11/High_School11_dym9.dat\n",
      "../Competitors_generated_graphs/Dymond/Multiple_run/High_School11/High_School11_dym5.dat\n",
      "../Competitors_generated_graphs/Dymond/Multiple_run/High_School11/High_School11_dym4.dat\n",
      "../Competitors_generated_graphs/Dymond/Multiple_run/High_School11/High_School11_dym2.dat\n",
      "../Competitors_generated_graphs/STM/Multiple_run/High_School11/High_School11_STM_2.dat\n",
      "../Competitors_generated_graphs/STM/Multiple_run/High_School11/High_School11_STM_0.dat\n",
      "../Competitors_generated_graphs/STM/Multiple_run/High_School11/High_School11_STM_6.dat\n",
      "../Competitors_generated_graphs/STM/Multiple_run/High_School11/High_School11_STM_9.dat\n",
      "../Competitors_generated_graphs/STM/Multiple_run/High_School11/High_School11_STM_4.dat\n",
      "../Competitors_generated_graphs/STM/Multiple_run/High_School11/High_School11_STM_5.dat\n",
      "../Competitors_generated_graphs/STM/Multiple_run/High_School11/High_School11_STM_7.dat\n",
      "../Competitors_generated_graphs/STM/Multiple_run/High_School11/High_School11_STM_1.dat\n",
      "../Competitors_generated_graphs/STM/Multiple_run/High_School11/High_School11_STM_8.dat\n",
      "../Competitors_generated_graphs/STM/Multiple_run/High_School11/High_School11_STM_3.dat\n",
      "../Competitors_generated_graphs/TagGen/Multiple_run/High_School11/High_School11_8_generato_TagGen.dat\n",
      "../Competitors_generated_graphs/TagGen/Multiple_run/High_School11/High_School11_5_generato_TagGen.dat\n",
      "../Competitors_generated_graphs/TagGen/Multiple_run/High_School11/High_School11_6_generato_TagGen.dat\n",
      "../Competitors_generated_graphs/TagGen/Multiple_run/High_School11/High_School11_4_generato_TagGen.dat\n",
      "../Competitors_generated_graphs/TagGen/Multiple_run/High_School11/High_School11_7_generato_TagGen.dat\n",
      "../Competitors_generated_graphs/TagGen/Multiple_run/High_School11/High_School11_9_generato_TagGen.dat\n",
      "s1 25991\n",
      "s2 9448\n",
      "s3 15466\n",
      "s4 81161\n",
      "s5 32759\n"
     ]
    }
   ],
   "source": [
    "file_name = \"High_School11\"\n",
    "\n",
    "ori = load_origin_graph(file_name)\n",
    "etn_gen = load_ETNgen_graph(file_name)\n",
    "dym_gen = load_dym_graph(file_name)\n",
    "stm_gen = load_stm_graph(file_name)\n",
    "tag_gen = load_tag_graph(file_name)\n",
    "\n",
    "G_ori = nx.Graph()\n",
    "\n",
    "for g in ori:\n",
    "    for e in g.edges():\n",
    "        G_ori.add_edge(e[0],e[1])\n",
    "nx.density(G_ori),len(G_ori)\n",
    "\n",
    "graph = G_ori\n",
    "\n",
    "for k,subgraph in motifs.items():\n",
    "    occurrences = count_subgraphs(graph, subgraph)\n",
    "    print(k, occurrences)"
   ]
  },
  {
   "cell_type": "code",
   "execution_count": null,
   "metadata": {},
   "outputs": [],
   "source": []
  },
  {
   "cell_type": "code",
   "execution_count": null,
   "metadata": {},
   "outputs": [],
   "source": []
  },
  {
   "cell_type": "code",
   "execution_count": null,
   "metadata": {},
   "outputs": [
    {
     "name": "stdout",
     "output_type": "stream",
     "text": [
      "done\n",
      "done\n",
      "{'s1': [89778, 83262], 's2': [21636, 18224], 's3': [247029, 211983], 's4': [397513, 308498], 's5': [53057, 37803]}\n",
      "done\n",
      "done\n",
      "{'s1': [47676, 64441], 's2': [249126, 23700], 's3': [13360, 86921], 's4': [1628070, 392124], 's5': [6456284, 117441]}\n"
     ]
    }
   ],
   "source": [
    "#etn \n",
    "counts = {\"s1\":[],\n",
    "         \"s2\":[],\n",
    "         \"s3\":[],\n",
    "         \"s4\":[],\n",
    "         \"s5\":[]}\n",
    "\n",
    "for G in etn_gen[0:2]:\n",
    "    G_ori = nx.Graph()\n",
    "\n",
    "    for g in G:\n",
    "        for e in g.edges():\n",
    "            G_ori.add_edge(e[0],e[1])    \n",
    "    graph = G_ori\n",
    "    for k,subgraph in motifs.items():\n",
    "        occurrences = count_subgraphs(graph, subgraph)\n",
    "        counts[k].append(occurrences)\n",
    "    print(\"done\")\n",
    "        \n",
    "import json\n",
    "with open(\"topology_results/etngen/Multiple_run/distributions/\"+file_name+\"/motifs.json\", \"w\") as file:\n",
    "    json.dump(counts, file,indent=2)\n",
    "print(counts)\n",
    "    \n",
    "    \n",
    "# tag\n",
    "counts = {\"s1\":[],\n",
    "         \"s2\":[],\n",
    "         \"s3\":[],\n",
    "         \"s4\":[],\n",
    "         \"s5\":[]}\n",
    "\n",
    "for G in tag_gen[0:2]:\n",
    "    G_ori = nx.Graph()\n",
    "\n",
    "    for g in G:\n",
    "        for e in g.edges():\n",
    "            G_ori.add_edge(e[0],e[1])\n",
    "    \n",
    "    graph = G_ori\n",
    "    for k,subgraph in motifs.items():\n",
    "        occurrences = count_subgraphs(graph, subgraph)\n",
    "        counts[k].append(occurrences)\n",
    "    print(\"done\")\n",
    "        \n",
    "import json\n",
    "with open(\"topology_results/taggen/Multiple_run/distributions/\"+file_name+\"/motifs.json\", \"w\") as file:\n",
    "    json.dump(counts, file,indent=2)\n",
    "    \n",
    "print(counts)\n",
    "# stm\n",
    "counts = {\"s1\":[],\n",
    "         \"s2\":[],\n",
    "         \"s3\":[],\n",
    "         \"s4\":[],\n",
    "         \"s5\":[]}\n",
    "\n",
    "for G in stm_gen[0:2]:\n",
    "    G_ori = nx.Graph()\n",
    "\n",
    "    for g in G:\n",
    "        for e in g.edges():\n",
    "            G_ori.add_edge(e[0],e[1])\n",
    "    \n",
    "    graph = G_ori\n",
    "    for k,subgraph in motifs.items():\n",
    "        occurrences = count_subgraphs(graph, subgraph)\n",
    "        counts[k].append(occurrences)\n",
    "        \n",
    "    print(\"done\")\n",
    "import json\n",
    "with open(\"topology_results/stmgen/Multiple_run/distributions/\"+file_name+\"/motifs.json\", \"w\") as file:\n",
    "    json.dump(counts, file,indent=2)\n",
    "\n",
    "print(counts)    \n",
    "    \n",
    "# dym\n",
    "counts = {\"s1\":[],\n",
    "         \"s2\":[],\n",
    "         \"s3\":[],\n",
    "         \"s4\":[],\n",
    "         \"s5\":[]}\n",
    "\n",
    "for G in dym_gen[0:2]:\n",
    "    G_ori = nx.Graph()\n",
    "\n",
    "    for g in G:\n",
    "        for e in g.edges():\n",
    "            G_ori.add_edge(e[0],e[1])\n",
    "            \n",
    "    graph = G_ori\n",
    "    for k,subgraph in motifs.items():\n",
    "        occurrences = count_subgraphs(graph, subgraph)\n",
    "        counts[k].append(occurrences)\n",
    "    print(\"done\")\n",
    "        \n",
    "import json\n",
    "with open(\"topology_results/dymgen/Multiple_run/distributions/\"+file_name+\"/motifs.json\", \"w\") as file:\n",
    "    json.dump(counts, file,indent=2)\n",
    "print(counts)"
   ]
  },
  {
   "cell_type": "code",
   "execution_count": null,
   "metadata": {},
   "outputs": [],
   "source": []
  },
  {
   "cell_type": "code",
   "execution_count": null,
   "metadata": {},
   "outputs": [],
   "source": []
  },
  {
   "cell_type": "code",
   "execution_count": null,
   "metadata": {},
   "outputs": [],
   "source": []
  },
  {
   "cell_type": "code",
   "execution_count": null,
   "metadata": {},
   "outputs": [],
   "source": []
  },
  {
   "cell_type": "code",
   "execution_count": null,
   "metadata": {},
   "outputs": [],
   "source": []
  },
  {
   "cell_type": "code",
   "execution_count": null,
   "metadata": {},
   "outputs": [],
   "source": []
  },
  {
   "cell_type": "code",
   "execution_count": null,
   "metadata": {},
   "outputs": [],
   "source": []
  },
  {
   "cell_type": "code",
   "execution_count": null,
   "metadata": {},
   "outputs": [],
   "source": []
  },
  {
   "cell_type": "code",
   "execution_count": null,
   "metadata": {
    "scrolled": true
   },
   "outputs": [],
   "source": []
  },
  {
   "cell_type": "code",
   "execution_count": null,
   "metadata": {},
   "outputs": [],
   "source": []
  },
  {
   "cell_type": "code",
   "execution_count": null,
   "metadata": {},
   "outputs": [],
   "source": [
    "\n",
    "def tmp(ax,orig,etn,stm,tag,dym,name,remove=False):\n",
    "    ax.tick_params(bottom=False, right=False,left=False)\n",
    "    ax.set_axisbelow(True)\n",
    "    ax.yaxis.grid(True, color='#EEEEEE')\n",
    "    ax.xaxis.grid(False)\n",
    "\n",
    "    ax.spines['top'].set_color('#DDDDDD')\n",
    "    ax.spines['right'].set_color('#DDDDDD')\n",
    "    ax.spines['left'].set_color('#DDDDDD')\n",
    "    ax.spines['bottom'].set_color('#DDDDDD')\n",
    "\n",
    "\n",
    "\n",
    "    data = orig\n",
    "    col = ORIGINAL_COLOR\n",
    "    lw = 3\n",
    "    violin_parts = ax.violinplot(data,positions=[1], showmeans=False, showmedians=False,showextrema=False)\n",
    "    for pc in violin_parts['bodies']:\n",
    "        pc.set_edgecolor(col)\n",
    "        pc.set_facecolor(col)\n",
    "        pc.set_linewidth(lw)\n",
    "\n",
    "    data = etn\n",
    "    col = ETN_COLOR\n",
    "    violin_parts = ax.violinplot(data,positions=[1.75], showmeans=False, showmedians=False,showextrema=False)\n",
    "    for pc in violin_parts['bodies']:\n",
    "        pc.set_edgecolor(col)\n",
    "        pc.set_facecolor(col)\n",
    "        pc.set_linewidth(lw)\n",
    "\n",
    "    data = tag\n",
    "    col = TAG_COLOR\n",
    "    violin_parts = ax.violinplot(data,positions=[2.5], showmeans=False, showmedians=False,showextrema=False)\n",
    "    for pc in violin_parts['bodies']:\n",
    "        pc.set_edgecolor(col)\n",
    "        pc.set_facecolor(col)\n",
    "        pc.set_linewidth(lw)\n",
    "\n",
    "\n",
    "    data = stm\n",
    "    col = STM_COLOR\n",
    "    violin_parts = ax.violinplot(data,positions=[3.25], showmeans=False, showmedians=False,showextrema=False)\n",
    "    for pc in violin_parts['bodies']:\n",
    "        pc.set_facecolor(col)\n",
    "        pc.set_edgecolor(col)\n",
    "        pc.set_linewidth(lw)\n",
    "\n",
    "\n",
    "    data = dym\n",
    "    col = DYM_COLOR\n",
    "    violin_parts = ax.violinplot(data,positions=[4], showmeans=False, showmedians=False,showextrema=False)\n",
    "    for pc in violin_parts['bodies']:\n",
    "        pc.set_facecolor(col)\n",
    "        pc.set_edgecolor(col)\n",
    "        pc.set_linewidth(lw)\n",
    "\n",
    "  \n",
    "    ax.set_yticks([1,0.1,0.01,0.001,0.0001])\n",
    "    ax.set_yticklabels([\"1\",r\"$10^{-1}$\",r\"$10^{-2}$\",r\"$10^{-3}$\",r\"$10^{-4}$\"])\n",
    "\n",
    "    ax.set_xticks([1,1.75,2.5,3.25,4])\n",
    "    ax.set_xticklabels([\"Original\",\"ETN-Gen\",\"TagGen\",\"STM\",\"Dymond\"],rotation=0)\n",
    "    ax.set_title(name)\n",
    "    ax.set_yscale(\"log\")\n",
    "    ax.yaxis.grid(True, color='#EEEEEE')"
   ]
  },
  {
   "cell_type": "code",
   "execution_count": null,
   "metadata": {},
   "outputs": [],
   "source": []
  },
  {
   "cell_type": "code",
   "execution_count": null,
   "metadata": {},
   "outputs": [],
   "source": [
    "metric = dist_frequency_of_interactions\n",
    "o,e,s,t,d = load_tmp(\"LH10\",\"lh\")\n",
    "o1,e1,s1,t1,d1 = comp_metric(metric,o,e,s,t,d,False)\n",
    "\n",
    "o,e,s,t,d = load_tmp(\"InVS13\",\"in\")\n",
    "o2,e2,s2,t2,d2 = comp_metric(metric,o,e,s,t,d,False)\n",
    "\n",
    "o,e,s,t,d = load_tmp(\"High_School11\",\"hs\")\n",
    "o3,e3,s3,t3,d3 = comp_metric(metric,o,e,s,t,d,False)"
   ]
  },
  {
   "cell_type": "code",
   "execution_count": null,
   "metadata": {},
   "outputs": [],
   "source": [
    "#plt.figure(figsize=(5,3))\n",
    "#ax = plt.gca()\n",
    "fig, ax = plt.subplots(1,3,figsize=(12,3),sharey=True)\n",
    "fig.tight_layout(pad=0)\n",
    "\n",
    "\n",
    "tmp(ax[0],o1,e1,s1,t1,d1,\"Hospital\")\n",
    "tmp(ax[1],o2,e2,s2,t2,d2,\"Workplace\",True)\n",
    "tmp(ax[2],o3,e3,s3,t3,d3,\"High school\",True)\n",
    "\n",
    "fig.savefig(\"dist_nb_int.pdf\", bbox_inches='tight')"
   ]
  },
  {
   "cell_type": "code",
   "execution_count": null,
   "metadata": {},
   "outputs": [],
   "source": [
    "\n",
    "def tmp2(ax,orig,etn,stm,tag,dym,name,remove=False):\n",
    "    ax.tick_params(bottom=False, right=False,left=False)\n",
    "    ax.set_axisbelow(True)\n",
    "    ax.yaxis.grid(True, color='#EEEEEE')\n",
    "    ax.xaxis.grid(False)\n",
    "\n",
    "    ax.spines['top'].set_color('#DDDDDD')\n",
    "    ax.spines['right'].set_color('#DDDDDD')\n",
    "    ax.spines['left'].set_color('#DDDDDD')\n",
    "    ax.spines['bottom'].set_color('#DDDDDD')\n",
    "\n",
    "    \n",
    "    data = orig\n",
    "    col = ORIGINAL_COLOR\n",
    "    lw = 3\n",
    "    violin_parts = ax.violinplot(data,positions=[1], showmeans=False, showmedians=False,showextrema=False)\n",
    "    for pc in violin_parts['bodies']:\n",
    "        pc.set_edgecolor(col)\n",
    "        pc.set_facecolor(col)\n",
    "        pc.set_linewidth(lw)\n",
    "\n",
    "    data = etn\n",
    "    col = ETN_COLOR\n",
    "    violin_parts = ax.violinplot(data,positions=[1.75], showmeans=False, showmedians=False,showextrema=False)\n",
    "    for pc in violin_parts['bodies']:\n",
    "        pc.set_edgecolor(col)\n",
    "        pc.set_facecolor(col)\n",
    "        pc.set_linewidth(lw)\n",
    "\n",
    "    data = tag\n",
    "    col = TAG_COLOR\n",
    "    violin_parts = ax.violinplot(data,positions=[3.25], showmeans=False, showmedians=False,showextrema=False)\n",
    "    for pc in violin_parts['bodies']:\n",
    "        pc.set_edgecolor(col)\n",
    "        pc.set_facecolor(col)\n",
    "        pc.set_linewidth(lw)\n",
    "\n",
    "\n",
    "    data = stm\n",
    "    col = STM_COLOR\n",
    "    violin_parts = ax.violinplot(data,positions=[2.5], showmeans=False, showmedians=False,showextrema=False)\n",
    "    for pc in violin_parts['bodies']:\n",
    "        pc.set_facecolor(col)\n",
    "        pc.set_edgecolor(col)\n",
    "        pc.set_linewidth(lw)\n",
    "\n",
    "\n",
    "    data = dym\n",
    "    col = DYM_COLOR\n",
    "    violin_parts = ax.violinplot(data,positions=[4], showmeans=False, showmedians=False,showextrema=False)\n",
    "    for pc in violin_parts['bodies']:\n",
    "        pc.set_facecolor(col)\n",
    "        pc.set_edgecolor(col)\n",
    "        pc.set_linewidth(lw)\n",
    "\n",
    "  \n",
    "    #ax.set_yticks([1,0.1,0.01,0.001,0.0001])\n",
    "    #ax.set_yticklabels([\"1\",r\"$10^{-1}$\",r\"$10^{-2}$\",r\"$10^{-3}$\",r\"$10^{-4}$\"])\n",
    "\n",
    "    ax.set_xticks([1,1.75,2.5,3.25,4])\n",
    "    ax.set_xticklabels([\"Original\",\"ETN-Gen\",\"STM\",\"TagGen\",\"Dymond\"],rotation=0)\n",
    "    ax.set_title(name)\n",
    "    ax.set_yscale(\"log\")\n",
    "    ax.yaxis.grid(True, color='#EEEEEE')"
   ]
  },
  {
   "cell_type": "code",
   "execution_count": null,
   "metadata": {},
   "outputs": [],
   "source": []
  },
  {
   "cell_type": "code",
   "execution_count": null,
   "metadata": {},
   "outputs": [],
   "source": [
    "o,e,s,t,d = load_tmp(\"LH10\",\"lh\")"
   ]
  },
  {
   "cell_type": "code",
   "execution_count": null,
   "metadata": {},
   "outputs": [],
   "source": [
    "metric = dist_number_of_individuals\n",
    "o2,e2,s2,t2,d2 = comp_metric(metric,o,e,s,t,d,False)\n",
    "\n",
    "fig, ax = plt.subplots(1,1,figsize=(6,3))\n",
    "fig.tight_layout(pad=0)\n",
    "\n",
    "tmp2(ax,o2,e2,s2,t2,d2,\"Hospital\")\n",
    "fig.savefig(\"dist_nb_int_hospital.pdf\", bbox_inches='tight')"
   ]
  },
  {
   "cell_type": "code",
   "execution_count": null,
   "metadata": {},
   "outputs": [],
   "source": []
  },
  {
   "cell_type": "code",
   "execution_count": null,
   "metadata": {},
   "outputs": [],
   "source": []
  },
  {
   "cell_type": "code",
   "execution_count": null,
   "metadata": {},
   "outputs": [],
   "source": []
  },
  {
   "cell_type": "code",
   "execution_count": null,
   "metadata": {},
   "outputs": [],
   "source": []
  },
  {
   "cell_type": "code",
   "execution_count": null,
   "metadata": {},
   "outputs": [],
   "source": []
  },
  {
   "cell_type": "code",
   "execution_count": null,
   "metadata": {
    "scrolled": true
   },
   "outputs": [],
   "source": [
    "res_etn = []\n",
    "c = 0\n",
    "print(len(etn_gen))\n",
    "for graphs_gen in etn_gen:\n",
    "    c = c + 1 \n",
    "    print(c,len(graphs_gen[0].nodes()))\n",
    "    res = compute_all_metrics(orig_graphs,graphs_gen)\n",
    "    res = np.array(res)\n",
    "    res = res[:,0]\n",
    "    print(res)\n",
    "    res_etn.append(res)"
   ]
  },
  {
   "cell_type": "code",
   "execution_count": null,
   "metadata": {},
   "outputs": [],
   "source": [
    "np.array(res_etn)"
   ]
  },
  {
   "cell_type": "code",
   "execution_count": null,
   "metadata": {},
   "outputs": [],
   "source": [
    "file_name"
   ]
  },
  {
   "cell_type": "code",
   "execution_count": null,
   "metadata": {},
   "outputs": [],
   "source": [
    "np.save(\"topology_results/taggen/Multiple_run/topology_res_10runs_\"+file_name+\".npy\",res_etn)"
   ]
  },
  {
   "cell_type": "code",
   "execution_count": null,
   "metadata": {},
   "outputs": [],
   "source": []
  },
  {
   "cell_type": "markdown",
   "metadata": {},
   "source": [
    "# load topology results"
   ]
  },
  {
   "cell_type": "code",
   "execution_count": null,
   "metadata": {},
   "outputs": [],
   "source": []
  },
  {
   "cell_type": "code",
   "execution_count": null,
   "metadata": {},
   "outputs": [],
   "source": [
    "\n",
    "def load_topo_res(file_name):\n",
    "    res_etn = np.load(\"topology_results/etngen/Multiple_run/topology_res_10runs_\"+file_name+\".npy\")\n",
    "    res_dym = np.load(\"topology_results/dymgen/Multiple_run/topology_res_10runs_\"+file_name+\".npy\")\n",
    "    res_stm = np.load(\"topology_results/stmgen/Multiple_run/topology_res_10runs_\"+file_name+\".npy\")\n",
    "    res_tag = np.load(\"topology_results/taggen/Multiple_run/topology_res_10runs_\"+file_name+\".npy\")\n",
    "\n",
    "    return [np.mean(res_etn,axis=0),np.std(res_etn,axis=0)],[np.mean(res_stm,axis=0),np.std(res_stm,axis=0)],[np.mean(res_tag,axis=0),np.std(res_tag,axis=0)],[np.mean(res_dym,axis=0),np.std(res_dym,axis=0)]\n"
   ]
  },
  {
   "cell_type": "code",
   "execution_count": null,
   "metadata": {},
   "outputs": [],
   "source": []
  },
  {
   "cell_type": "code",
   "execution_count": null,
   "metadata": {},
   "outputs": [],
   "source": []
  },
  {
   "cell_type": "code",
   "execution_count": null,
   "metadata": {},
   "outputs": [],
   "source": []
  },
  {
   "cell_type": "code",
   "execution_count": null,
   "metadata": {},
   "outputs": [],
   "source": [
    "\n",
    "\n",
    "line_width = 1.5\n",
    "\n",
    "\n",
    "ORIGINAL_COLOR = '#474747' #dark grey\n",
    "ETN_COLOR =  '#fb7041' #'#E5865E' # arancio\n",
    "TAG_COLOR = '#96ccc8' # light blue\n",
    "STM_COLOR = '#bad1f2' #8F2E27' # rosso\n",
    "DYM_COLOR = '#559ca6' # teal\n"
   ]
  },
  {
   "cell_type": "code",
   "execution_count": null,
   "metadata": {},
   "outputs": [],
   "source": [
    "labels = [\"Density\",\n",
    "          \"Global clustering \\ncoefficient\",\n",
    "          \"Average shortest\\npath length\",\n",
    "          \"Interacting\\nindividuals\",\n",
    "          \"New conversations\",\n",
    "          \"Assortativity\",\n",
    "          \"S-metric\",        \n",
    "          \"Frequency of interactions\",\n",
    "          \"Edge strength\",\n",
    "          \"Duration of contacts\"]\n",
    "\n",
    "labels = labels"
   ]
  },
  {
   "cell_type": "code",
   "execution_count": null,
   "metadata": {},
   "outputs": [],
   "source": []
  },
  {
   "cell_type": "code",
   "execution_count": null,
   "metadata": {
    "scrolled": false
   },
   "outputs": [],
   "source": [
    "import matplotlib\n",
    "import matplotlib.pyplot as plt\n",
    "import numpy as np\n",
    "\n",
    "\n",
    "x1,x2,x3,x4 = load_topo_res(\"LH10\")\n",
    "\n",
    "x = np.arange(len(x1[0]))  # the label locations\n",
    "width = 0.2  # the width of the bars\n",
    "\n",
    "\n",
    "fig, ax = plt.subplots(3,1,figsize=(12,9))\n",
    "\n",
    "\n",
    "ax[0].title.set_text(\"Hospital\")\n",
    "rects1 = ax[0].bar(x - width/2, x1[0], width, yerr=x1[1], label='ETN-gen',color=ETN_COLOR,ecolor=Error_bar_color)\n",
    "rects2 = ax[0].bar(x + width/2, x2[0], width, yerr=x2[1],label='STM',color=STM_COLOR,ecolor=Error_bar_color)\n",
    "rects3 = ax[0].bar(x + 0.3, x3[0], width, yerr=x3[1],label='TagGen',color=TAG_COLOR,ecolor=Error_bar_color)\n",
    "rects4 = ax[0].bar(x + 0.3+0.2, x4[0], width, yerr=x4[1],label='Dymond',color=DYM_COLOR,ecolor=Error_bar_color)\n",
    "\n",
    "\n",
    "\n",
    "\n",
    "x1,x2,x3,x4 = load_topo_res(\"InVS13\")\n",
    "ax[1].title.set_text(\"Workplace\")\n",
    "rects1 = ax[1].bar(x - width/2, x1[0], width, yerr=x1[1], label='ETN-gen',color=ETN_COLOR,ecolor=Error_bar_color)\n",
    "rects2 = ax[1].bar(x + width/2, x2[0], width, yerr=x2[1],label='STM',color=STM_COLOR,ecolor=Error_bar_color)\n",
    "rects3 = ax[1].bar(x + 0.3, x3[0], width, yerr=x3[1],label='TagGen',color=TAG_COLOR,ecolor=Error_bar_color)\n",
    "rects4 = ax[1].bar(x + 0.3+0.2, x4[0], width, yerr=x4[1],label='Dymond',color=DYM_COLOR,ecolor=Error_bar_color)\n",
    "\n",
    "\n",
    "\n",
    "x1,x2,x3,x4 = load_topo_res(\"High_School11\")\n",
    "ax[2].title.set_text(\"High school\")\n",
    "rects1 = ax[2].bar(x - width/2, x1[0], width, yerr=x1[1], label='ETN-gen',color=ETN_COLOR,ecolor=Error_bar_color)\n",
    "rects2 = ax[2].bar(x + width/2, x2[0], width, yerr=x2[1],label='STM',color=STM_COLOR,ecolor=Error_bar_color)\n",
    "rects3 = ax[2].bar(x + 0.3, x3[0], width, yerr=x3[1],label='TagGen',color=TAG_COLOR,ecolor=Error_bar_color)\n",
    "rects4 = ax[2].bar(x + 0.3+0.2, x4[0], width, yerr=x4[1],label='Dymond',color=DYM_COLOR,ecolor=Error_bar_color)\n",
    "\n",
    "\n",
    "ax[0].set_xticks(x)\n",
    "ax[0].set_xticklabels([\" \",\" \",\" \",\" \",\" \",\" \",\" \",\" \",\" \",\" \"],rotation=45)\n",
    "ax[0].set_ylim(0,1)\n",
    "ax[1].set_xticks(x)\n",
    "ax[1].set_xticklabels([\" \",\" \",\" \",\" \",\" \",\" \",\" \",\" \",\" \",\" \"],rotation=45)\n",
    "ax[1].set_ylim(0,1)\n",
    "ax[2].set_xticks(x)\n",
    "ax[2].set_xticklabels(labels,rotation=45)\n",
    "ax[2].set_ylim(0,1)\n",
    "#ax[1].legend(loc='center left', bbox_to_anchor=(1, 0.5))\n",
    "\n",
    "ax[0].tick_params(bottom=False, right=False,left=False)\n",
    "ax[0].set_axisbelow(True)\n",
    "ax[0].yaxis.grid(True, color='#EEEEEE')\n",
    "ax[0].xaxis.grid(False)\n",
    "\n",
    "ax[1].tick_params(bottom=False, right=False,left=False)\n",
    "ax[1].set_axisbelow(True)\n",
    "ax[1].yaxis.grid(True, color='#EEEEEE')\n",
    "ax[1].xaxis.grid(False)\n",
    "\n",
    "ax[2].tick_params(bottom=False, right=False,left=False)\n",
    "ax[2].set_axisbelow(True)\n",
    "ax[2].yaxis.grid(True, color='#EEEEEE')\n",
    "ax[2].xaxis.grid(False)\n",
    "\n",
    "\n",
    "ax[0].spines['top'].set_visible(False)\n",
    "ax[0].spines['right'].set_visible(False)\n",
    "ax[0].spines['left'].set_visible(False)\n",
    "ax[0].spines['bottom'].set_color('#DDDDDD')\n",
    "\n",
    "\n",
    "\n",
    "ax[1].spines['top'].set_visible(False)\n",
    "ax[1].spines['right'].set_visible(False)\n",
    "ax[1].spines['left'].set_visible(False)\n",
    "ax[1].spines['bottom'].set_color('#DDDDDD')\n",
    "\n",
    "\n",
    "\n",
    "ax[2].spines['top'].set_visible(False)\n",
    "ax[2].spines['right'].set_visible(False)\n",
    "ax[2].spines['left'].set_visible(False)\n",
    "ax[2].spines['bottom'].set_color('#DDDDDD')\n",
    "\n",
    "ax[2].legend(loc='upper right',ncol = 5,bbox_to_anchor=(0.38, -0.5))\n",
    "\n",
    "fig.tight_layout()\n",
    "#plt.savefig(\"topology_main.pdf\", bbox_inches = 'tight')\n",
    "plt.show()"
   ]
  },
  {
   "cell_type": "code",
   "execution_count": null,
   "metadata": {},
   "outputs": [],
   "source": [
    "x1"
   ]
  },
  {
   "cell_type": "code",
   "execution_count": null,
   "metadata": {},
   "outputs": [],
   "source": [
    "ORIGINAL_COLOR = '#474747' #dark grey\n",
    "ETN_COLOR = '#E5865E' # arancio\n",
    "STM_COLOR = '#95D1D3' # light blue\n",
    "TAG_COLOR = '#8F2E27' # rosso\n",
    "DYM_COLOR = '#558B8F' # teal\n",
    "\n",
    "\n",
    "\n",
    "ORIGINAL_COLOR = '#474747' #dark grey\n",
    "ETN_COLOR =  '#fb7041' #'#E5865E' # arancio\n",
    "TAG_COLOR = '#96ccc8' # light blue\n",
    "STM_COLOR = '#bad1f2' #8F2E27' # rosso\n",
    "DYM_COLOR = '#559ca6' # teal\n",
    "\n",
    "\n",
    "line_width = 1.5"
   ]
  },
  {
   "cell_type": "code",
   "execution_count": null,
   "metadata": {},
   "outputs": [],
   "source": [
    "\n",
    "def load_topo_res_dist(file_name):\n",
    "    res_etn = np.load(\"topology_results/etngen/Multiple_run/topology_res_10runs_\"+file_name+\".npy\")\n",
    "    res_dym = np.load(\"topology_results/dymgen/Multiple_run/topology_res_10runs_\"+file_name+\".npy\")\n",
    "    res_stm = np.load(\"topology_results/stmgen/Multiple_run/topology_res_10runs_\"+file_name+\".npy\")\n",
    "    res_tag = np.load(\"topology_results/taggen/Multiple_run/topology_res_10runs_\"+file_name+\".npy\")\n",
    "    return res_etn,res_dym,res_stm,res_tag\n",
    "\n",
    "\n",
    "\n",
    "\n",
    "def flip_data(x1,x2,x3,x4,idx = [2, 5, 1, 8, 9, 6, 4, 3, 0, 7]):\n",
    "    x1[0] = x1[0][idx]\n",
    "    x1[1] = x1[1][idx]\n",
    "    \n",
    "    x2[0] = x2[0][idx]\n",
    "    x2[1] = x2[1][idx]\n",
    "    \n",
    "    x3[0] = x3[0][idx]\n",
    "    x3[1] = x3[1][idx]\n",
    "    \n",
    "    x4[0] = x4[0][idx]\n",
    "    x4[1] = x4[1][idx]\n",
    "    \n",
    "    return x1,x2,x3,x4"
   ]
  },
  {
   "cell_type": "code",
   "execution_count": null,
   "metadata": {},
   "outputs": [],
   "source": []
  },
  {
   "cell_type": "code",
   "execution_count": null,
   "metadata": {},
   "outputs": [],
   "source": []
  },
  {
   "cell_type": "code",
   "execution_count": null,
   "metadata": {},
   "outputs": [],
   "source": [
    "\n"
   ]
  },
  {
   "cell_type": "code",
   "execution_count": null,
   "metadata": {},
   "outputs": [],
   "source": []
  },
  {
   "cell_type": "code",
   "execution_count": null,
   "metadata": {},
   "outputs": [],
   "source": [
    "idx =[2, 5, 1, 8, 9, 6, 4, 3, 0, 7]\n",
    "tmp= [\"Density\",\n",
    "      \"Global clustering \\ncoefficient\",\n",
    "      \"Average shortest\\npath length\",\n",
    "      \"Interacting\\nindividuals\",\n",
    "      \"New conversations\",\n",
    "      \"Assortativity\",\n",
    "      \"S-metric\",        \n",
    "      \"Number of interactions\",\n",
    "      \"Edge strength\",\n",
    "      \"Duration of contacts\"]\n",
    "\n",
    "\n",
    "tmp = np.array(tmp)"
   ]
  },
  {
   "cell_type": "code",
   "execution_count": null,
   "metadata": {},
   "outputs": [],
   "source": [
    "#labels"
   ]
  },
  {
   "cell_type": "code",
   "execution_count": null,
   "metadata": {},
   "outputs": [],
   "source": []
  },
  {
   "cell_type": "code",
   "execution_count": null,
   "metadata": {},
   "outputs": [],
   "source": []
  },
  {
   "cell_type": "code",
   "execution_count": null,
   "metadata": {},
   "outputs": [],
   "source": []
  },
  {
   "cell_type": "code",
   "execution_count": null,
   "metadata": {
    "scrolled": false
   },
   "outputs": [],
   "source": [
    "import matplotlib\n",
    "import matplotlib.pyplot as plt\n",
    "import numpy as np\n",
    "\n",
    "\n",
    "\n",
    "#labels = list(np.flip(labels))\n",
    "#labels = tmp\n",
    "labels = tmp[idx]\n",
    "\n",
    "x1,x2,x3,x4 = load_topo_res(\"LH10\")\n",
    "x1,x2,x3,x4 = flip_data(x1,x2,x3,x4)\n",
    "\n",
    "\n",
    "x = np.arange(len(x1[0]))  # the label locations\n",
    "width = 0.2  # the width of the bars\n",
    "\n",
    "\n",
    "fig, ax = plt.subplots(1,3,figsize=(12,10))\n",
    "fig.tight_layout(pad=-4)\n",
    "\n",
    "\n",
    "error_bar_style = dict(ecolor=ORIGINAL_COLOR, alpha=0.8, lw=1.5, capsize=3, capthick=1)\n",
    "\n",
    "ax[0].title.set_text(\"Hospital\")\n",
    "rects1 = ax[0].barh(x + 0.3, x1[0], width, xerr=x1[1], label='ETN-gen',color=ETN_COLOR, error_kw=error_bar_style)\n",
    "rects2 = ax[0].barh(x + 0.1, x2[0], width, xerr=x2[1],label='STM',color=STM_COLOR, error_kw=error_bar_style)\n",
    "rects3 = ax[0].barh(x - 0.1, x3[0], width, xerr=x3[1],label='TagGen',color=TAG_COLOR, error_kw=error_bar_style)\n",
    "rects4 = ax[0].barh(x - 0.3, x4[0], width, xerr=x4[1],label='Dymond',color=DYM_COLOR,error_kw=error_bar_style)\n",
    "\n",
    "\n",
    "x1,x2,x3,x4 = load_topo_res(\"InVS13\")\n",
    "x1,x2,x3,x4 = flip_data(x1,x2,x3,x4)\n",
    "ax[1].title.set_text(\"Workplace\")\n",
    "\n",
    "rects1 = ax[1].barh(x + 0.3, x1[0], width, xerr=x1[1], label='ETN-gen',color=ETN_COLOR,error_kw=error_bar_style)\n",
    "rects2 = ax[1].barh(x + 0.1, x2[0], width, xerr=x2[1],label='STM',color=STM_COLOR,error_kw=error_bar_style)\n",
    "rects3 = ax[1].barh(x - 0.1, x3[0], width, xerr=x3[1],label='TagGen',color=TAG_COLOR,error_kw=error_bar_style)\n",
    "rects4 = ax[1].barh(x - 0.3, x4[0], width, xerr=x4[1],label='Dymond',color=DYM_COLOR,error_kw=error_bar_style)\n",
    "\n",
    "\n",
    "\n",
    "x1,x2,x3,x4 = load_topo_res(\"High_School11\")\n",
    "x1,x2,x3,x4 = flip_data(x1,x2,x3,x4)\n",
    "ax[2].title.set_text(\"High school\")\n",
    "rects1 = ax[2].barh(x + 0.3, x1[0], width, xerr=x1[1], label='ETN-gen',color=ETN_COLOR,error_kw=error_bar_style)\n",
    "rects2 = ax[2].barh(x + 0.1, x2[0], width, xerr=x2[1],label='STM',color=STM_COLOR,error_kw=error_bar_style)\n",
    "rects3 = ax[2].barh(x - 0.1, x3[0], width, xerr=x3[1],label='TagGen',color=TAG_COLOR,error_kw=error_bar_style)\n",
    "rects4 = ax[2].barh(x - 0.3, x4[0], width, xerr=x4[1],label='Dymond',color=DYM_COLOR,error_kw=error_bar_style)\n",
    "\n",
    "\n",
    "\n",
    "\n",
    "ax[0].set_yticklabels(labels)\n",
    "ax[0].set_yticks(x)\n",
    "ax[0].set_xlim(0,1)\n",
    "\n",
    "ax[1].set_yticks(x)\n",
    "ax[1].set_yticklabels([\" \",\" \",\" \",\" \",\" \",\" \",\" \",\" \",\" \",\" \"],rotation=0)\n",
    "ax[1].set_xlim(0,1)\n",
    "\n",
    "ax[2].set_yticks(x)\n",
    "ax[2].set_xlim(0,1)\n",
    "ax[2].set_yticklabels([\" \",\" \",\" \",\" \",\" \",\" \",\" \",\" \",\" \",\" \"],rotation=0)\n",
    "\n",
    "ax[2].set_xticks([0,0.33,0.66,1])\n",
    "ax[2].set_xticklabels([\"0.0\",\"0.33\",\"0.66\",\"1.0\"])\n",
    "ax[1].set_xticks([0,0.33,0.66,1])\n",
    "ax[1].set_xticklabels([\"0.0\",\"0.33\",\"0.66\",\"1.0\"])\n",
    "ax[0].set_xticks([0,0.33,0.66,1])\n",
    "ax[0].set_xticklabels([\"0.0\",\"0.33\",\"0.66\",\"1.0\"])\n",
    "\n",
    "\n",
    "ax[0].tick_params(bottom=True, right=False,left=False)\n",
    "ax[0].set_axisbelow(True)\n",
    "ax[0].xaxis.grid(True, color='#b3b3b3')\n",
    "ax[0].yaxis.grid(False)\n",
    "\n",
    "ax[1].tick_params(bottom=True, right=False,left=False)\n",
    "ax[1].set_axisbelow(True)\n",
    "ax[1].xaxis.grid(True, color='#b3b3b3')\n",
    "ax[1].yaxis.grid(False)\n",
    "\n",
    "ax[2].tick_params(bottom=True, right=False,left=False)\n",
    "ax[2].set_axisbelow(True)\n",
    "ax[2].xaxis.grid(True, color='#b3b3b3')\n",
    "ax[2].yaxis.grid(False)\n",
    "\n",
    "\n",
    "\n",
    "ax[0].spines['top'].set_visible(False)\n",
    "ax[0].spines['right'].set_visible(False)\n",
    "ax[0].spines['left'].set_visible(False)\n",
    "ax[0].spines['bottom'].set_visible(False)\n",
    "\n",
    "\n",
    "\n",
    "ax[1].spines['top'].set_visible(False)\n",
    "ax[1].spines['right'].set_visible(False)\n",
    "ax[1].spines['left'].set_visible(False)\n",
    "ax[1].spines['bottom'].set_visible(False)\n",
    "\n",
    "\n",
    "ax[2].spines['top'].set_visible(False)\n",
    "ax[2].spines['right'].set_visible(False)\n",
    "ax[2].spines['left'].set_visible(False)\n",
    "ax[2].spines['bottom'].set_visible(False)\n",
    "\n",
    "\n",
    "ax[0].legend(loc='upper right',ncol = 5,bbox_to_anchor=(1, -0.05))\n",
    "\n",
    "fig.tight_layout()\n",
    "plt.savefig(\"topology_main_test_1_WithE_V8.pdf\", bbox_inches = 'tight')\n",
    "plt.show()"
   ]
  },
  {
   "cell_type": "code",
   "execution_count": null,
   "metadata": {},
   "outputs": [],
   "source": []
  },
  {
   "cell_type": "code",
   "execution_count": null,
   "metadata": {},
   "outputs": [],
   "source": []
  },
  {
   "cell_type": "code",
   "execution_count": null,
   "metadata": {
    "scrolled": true
   },
   "outputs": [],
   "source": []
  },
  {
   "cell_type": "code",
   "execution_count": null,
   "metadata": {},
   "outputs": [],
   "source": []
  },
  {
   "cell_type": "code",
   "execution_count": null,
   "metadata": {},
   "outputs": [],
   "source": []
  },
  {
   "cell_type": "code",
   "execution_count": null,
   "metadata": {},
   "outputs": [],
   "source": []
  },
  {
   "cell_type": "code",
   "execution_count": null,
   "metadata": {},
   "outputs": [],
   "source": []
  },
  {
   "cell_type": "code",
   "execution_count": null,
   "metadata": {},
   "outputs": [],
   "source": []
  },
  {
   "cell_type": "code",
   "execution_count": null,
   "metadata": {},
   "outputs": [],
   "source": []
  }
 ],
 "metadata": {
  "interpreter": {
   "hash": "bb17086194d7d73ddadbbf43f541071d992a7ee65541854f310228bfe926c80e"
  },
  "kernelspec": {
   "display_name": "Python 3 (ipykernel)",
   "language": "python",
   "name": "python3"
  },
  "language_info": {
   "codemirror_mode": {
    "name": "ipython",
    "version": 3
   },
   "file_extension": ".py",
   "mimetype": "text/x-python",
   "name": "python",
   "nbconvert_exporter": "python",
   "pygments_lexer": "ipython3",
   "version": "3.10.11"
  }
 },
 "nbformat": 4,
 "nbformat_minor": 4
}
