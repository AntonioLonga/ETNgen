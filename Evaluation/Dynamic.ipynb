{
 "cells": [
  {
   "cell_type": "code",
   "execution_count": 2,
   "metadata": {},
   "outputs": [],
   "source": [
    "import construction as cs\n",
    "import networkx as nx\n",
    "import numpy as np\n",
    "import pandas as pd\n",
    "import matplotlib.pyplot as plt\n",
    "from scipy.stats import ks_2samp\n",
    "\n",
    "\n",
    "import dynamic_metrics as ds\n",
    "\n",
    "\n",
    "import matplotlib.pyplot as plt\n",
    "\n",
    "### read font\n",
    "from matplotlib import font_manager\n",
    "\n",
    "font_dirs = ['Barlow/']\n",
    "font_files = font_manager.findSystemFonts(fontpaths=font_dirs)\n",
    "\n",
    "for font_file in font_files:\n",
    "    font_manager.fontManager.addfont(font_file)\n",
    "\n",
    "# set font\n",
    "plt.rcParams['font.family'] = 'Barlow'\n",
    "\n",
    "import networkx as nx\n",
    "%matplotlib inline\n",
    "%config InlineBackend.figure_format = 'retina'\n",
    "\n",
    "\n",
    "\n",
    "\n",
    "%load_ext autoreload\n",
    "%autoreload 2"
   ]
  },
  {
   "cell_type": "code",
   "execution_count": 3,
   "metadata": {},
   "outputs": [],
   "source": [
    "def load_origin_graph(file_name,gap=299):\n",
    "    data_in = cs.load_data(\"../Datasets/\"+file_name+\".dat\")\n",
    "    gap = 299 \n",
    "    graphs_in = cs.build_graphs(data_in,gap=gap)\n",
    "    return graphs_in\n",
    "\n",
    "def load_ETNgen_graph(file_name):\n",
    "    data_in = cs.load_data(\"../Generated_graphs/ETNgen-\"+file_name+\".dat\")\n",
    "    gap = 299 \n",
    "    graphs_in = cs.build_graphs(data_in,gap=gap)\n",
    "    return graphs_in\n",
    "\n",
    "def load_dym_graph(file_name):\n",
    "    data_in = cs.load_data(\"../Competitors_generated_graphs/Dymond/\"+file_name+\"_dym.dat\")\n",
    "    gap = 0 \n",
    "    graphs_in = cs.build_graphs(data_in,gap=gap)\n",
    "    return graphs_in\n",
    "\n",
    "def load_tag_graph(file_name):\n",
    "    data_in = cs.load_data(\"../Competitors_generated_graphs/TagGen/\"+file_name+\"_generato_TagGen.dat\")\n",
    "    gap = 0 \n",
    "    graphs_in = cs.build_graphs(data_in,gap=gap)\n",
    "    return graphs_in\n",
    "\n",
    "def load_stm_graph(file_name):\n",
    "    data_in = cs.load_data(\"../Competitors_generated_graphs/STM/\"+file_name+\"_STM.dat\")\n",
    "    gap = 0 \n",
    "    graphs_in = cs.build_graphs(data_in,gap=gap)\n",
    "    return graphs_in"
   ]
  },
  {
   "cell_type": "code",
   "execution_count": null,
   "metadata": {},
   "outputs": [],
   "source": []
  },
  {
   "cell_type": "code",
   "execution_count": 46,
   "metadata": {},
   "outputs": [],
   "source": [
    "file_name = \"High_School11\"\n",
    "orig_graphs = load_origin_graph(file_name,gap=299)\n",
    "etn_gen = load_ETNgen_graph(file_name)\n",
    "dym_gen = load_dym_graph(file_name)\n",
    "tag_gen = load_tag_graph(file_name)\n",
    "stm_gen = load_stm_graph(file_name)"
   ]
  },
  {
   "cell_type": "code",
   "execution_count": 47,
   "metadata": {},
   "outputs": [],
   "source": [
    "import os\n",
    "\n",
    "path = \"dynamic_results/\"+file_name\n",
    "COV = path+\"/coverage\"\n",
    "MFPTs = path+\"/MFPT\"\n",
    "\n",
    "if not os.path.exists(path):\n",
    "    os.makedirs(path)\n",
    "    os.makedirs(COV)\n",
    "    os.makedirs(MFPTs)"
   ]
  },
  {
   "cell_type": "markdown",
   "metadata": {},
   "source": [
    "# coverage"
   ]
  },
  {
   "cell_type": "markdown",
   "metadata": {},
   "source": [
    "k volte, con n0 e t0 random"
   ]
  },
  {
   "cell_type": "code",
   "execution_count": 48,
   "metadata": {},
   "outputs": [],
   "source": [
    "from scipy.stats import ks_2samp"
   ]
  },
  {
   "cell_type": "code",
   "execution_count": 49,
   "metadata": {},
   "outputs": [
    {
     "name": "stdout",
     "output_type": "stream",
     "text": [
      "coverage\n",
      "orig vs sta \t 0.044\n",
      "orig vs etn \t 0.501\n",
      "orig vs tag \t 1.0\n",
      "orig vs dym \t 0.453\n",
      "orig vs stm \t 0.524\n"
     ]
    }
   ],
   "source": [
    "K = 1000\n",
    "T = 500\n",
    "c_stm = ds.coverage(stm_gen,K,T)\n",
    "c_orig = ds.coverage(orig_graphs,K,T)\n",
    "c_stab = ds.coverage(orig_graphs,K,T)\n",
    "c_mio = ds.coverage(etn_gen,K,T)\n",
    "c_tag = ds.coverage(tag_gen,K,T)\n",
    "c_dym = ds.coverage(dym_gen,K,T)\n",
    "c_stm = ds.coverage(stm_gen,K,T)\n",
    "\n",
    "print(\"coverage\")\n",
    "print(\"orig vs sta \\t\",ks_2samp(c_orig, c_stab)[0])\n",
    "print(\"orig vs etn \\t\",ks_2samp(c_orig, c_mio)[0])\n",
    "print(\"orig vs tag \\t\",ks_2samp(c_orig, c_tag)[0])\n",
    "print(\"orig vs dym \\t\",ks_2samp(c_orig, c_dym)[0])\n",
    "print(\"orig vs stm \\t\",ks_2samp(c_orig, c_stm)[0])\n",
    "\n",
    "np.save(COV+\"/stab\",c_stab)\n",
    "np.save(COV+\"/orig\",c_orig)\n",
    "np.save(COV+\"/tag\",c_tag)\n",
    "np.save(COV+\"/etn\",c_mio)\n",
    "np.save(COV+\"/dym\",c_dym)\n",
    "np.save(COV+\"/stm\",c_stm)"
   ]
  },
  {
   "cell_type": "code",
   "execution_count": null,
   "metadata": {},
   "outputs": [],
   "source": []
  },
  {
   "cell_type": "code",
   "execution_count": null,
   "metadata": {},
   "outputs": [],
   "source": []
  },
  {
   "cell_type": "code",
   "execution_count": 55,
   "metadata": {},
   "outputs": [],
   "source": []
  },
  {
   "cell_type": "markdown",
   "metadata": {},
   "source": [
    "# MFPT"
   ]
  },
  {
   "cell_type": "code",
   "execution_count": 108,
   "metadata": {},
   "outputs": [
    {
     "name": "stdout",
     "output_type": "stream",
     "text": [
      "dynamic_results/LH10/MFPT\n"
     ]
    }
   ],
   "source": [
    "file_name = \"LH10\"\n",
    "path = \"dynamic_results/\"+file_name\n",
    "MFPTs = path+\"/MFPT\"\n",
    "\n",
    "orig_graphs = load_origin_graph(file_name,gap=299)\n",
    "etn_gen = load_ETNgen_graph(file_name)\n",
    "dym_gen = load_dym_graph(file_name)\n",
    "tag_gen = load_tag_graph(file_name)\n",
    "stm_gen = load_stm_graph(file_name)\n",
    "print(MFPTs)"
   ]
  },
  {
   "cell_type": "code",
   "execution_count": 109,
   "metadata": {},
   "outputs": [
    {
     "name": "stdout",
     "output_type": "stream",
     "text": [
      "1\n",
      "2\n",
      "3\n",
      "4\n",
      "5\n",
      "6\n"
     ]
    }
   ],
   "source": [
    "K = 1\n",
    "m_ori = ds.MFPT(orig_graphs,K)\n",
    "print(1)\n",
    "m_stb = ds.MFPT(orig_graphs,K)\n",
    "print(2)\n",
    "m_etn = ds.MFPT(etn_gen,K)\n",
    "print(3)\n",
    "m_dym = ds.MFPT(dym_gen,K)\n",
    "print(4)\n",
    "m_stm = ds.MFPT(stm_gen,K)\n",
    "print(5)\n",
    "m_tag = ds.MFPT(tag_gen,K)\n",
    "print(6)"
   ]
  },
  {
   "cell_type": "code",
   "execution_count": 110,
   "metadata": {},
   "outputs": [],
   "source": [
    "m_ori2 = [x for x in m_ori if x < max(m_ori)-10]\n",
    "m_stb2 = [x for x in m_stb if x < max(m_ori)-10]\n",
    "m_etn2 = [x for x in m_etn if x < max(m_ori)-10]\n",
    "m_tag2 = [x for x in m_tag if x < max(m_ori)-10]\n",
    "m_dym2 = [x for x in m_dym if x < max(m_ori)-10]\n",
    "m_stm2 = [x for x in m_stm if x < max(m_ori)-10]"
   ]
  },
  {
   "cell_type": "code",
   "execution_count": 111,
   "metadata": {},
   "outputs": [
    {
     "name": "stdout",
     "output_type": "stream",
     "text": [
      "MFPS\n",
      "orig vs sta \t 0.014228015421332844\n",
      "orig vs etn \t 0.08135856506387812\n",
      "orig vs tag \t 0.4048540320727837\n",
      "orig vs dym \t 0.3775115594787726\n",
      "orig vs stm \t 0.3064436865074999\n"
     ]
    }
   ],
   "source": [
    "print(\"MFPS\")\n",
    "print(\"orig vs sta \\t\",ks_2samp(m_ori2, m_stb2)[0])\n",
    "print(\"orig vs etn \\t\",ks_2samp(m_ori2, m_etn2)[0])\n",
    "print(\"orig vs tag \\t\",ks_2samp(m_ori2, m_tag2)[0])\n",
    "print(\"orig vs dym \\t\",ks_2samp(m_ori2, m_dym2)[0])\n",
    "print(\"orig vs stm \\t\",ks_2samp(m_ori2, m_stm2)[0])\n",
    "\n",
    "\n",
    "np.save(MFPTs+\"/stab\",m_stb2)\n",
    "np.save(MFPTs+\"/orig\",m_ori2)\n",
    "np.save(MFPTs+\"/tag\",m_tag2)\n",
    "np.save(MFPTs+\"/etn\",m_etn2)\n",
    "np.save(MFPTs+\"/dym\",m_dym2)\n",
    "np.save(MFPTs+\"/stm\",m_stm2)"
   ]
  },
  {
   "cell_type": "code",
   "execution_count": null,
   "metadata": {},
   "outputs": [],
   "source": []
  },
  {
   "cell_type": "code",
   "execution_count": null,
   "metadata": {},
   "outputs": [],
   "source": []
  },
  {
   "cell_type": "markdown",
   "metadata": {},
   "source": [
    "# SIR model"
   ]
  },
  {
   "cell_type": "code",
   "execution_count": null,
   "metadata": {},
   "outputs": [],
   "source": []
  },
  {
   "cell_type": "code",
   "execution_count": 129,
   "metadata": {},
   "outputs": [],
   "source": [
    "import os\n",
    "file_name = \"High_School11\"\n",
    "\n",
    "path = \"dynamic_results/\"+file_name\n",
    "R0 = path+\"/R0/\"\n",
    "la025 = R0+\"la025\"\n",
    "la015 = R0+\"la015\"\n",
    "la001 = R0+\"la001\"\n",
    "if not os.path.exists(la001):\n",
    "    os.makedirs(la025)\n",
    "    os.makedirs(la015)\n",
    "    os.makedirs(la001)\n",
    "    "
   ]
  },
  {
   "cell_type": "code",
   "execution_count": 130,
   "metadata": {},
   "outputs": [],
   "source": [
    "orig_graphs = load_origin_graph(file_name,gap=299)\n",
    "etn_gen = load_ETNgen_graph(file_name)\n",
    "dym_gen = load_dym_graph(file_name)\n",
    "tag_gen = load_tag_graph(file_name)\n",
    "stm_gen = load_stm_graph(file_name)"
   ]
  },
  {
   "cell_type": "code",
   "execution_count": 131,
   "metadata": {},
   "outputs": [
    {
     "name": "stdout",
     "output_type": "stream",
     "text": [
      "R0 lambda 0.25 dynamic_results/High_School11/R0/la025\n",
      "orig vs sta \t 0.18\n",
      "orig vs etn \t 0.16\n",
      "orig vs stm \t 0.81\n",
      "orig vs tag \t 0.44\n",
      "orig vs dym \t 0.85\n",
      "R0 lambda 0.15 dynamic_results/High_School11/R0/la015\n",
      "orig vs sta \t 0.12\n",
      "orig vs etn \t 0.19\n",
      "orig vs stm \t 0.64\n",
      "orig vs tag \t 0.5\n",
      "orig vs dym \t 0.78\n",
      "R0 lambda 0.01 dynamic_results/High_School11/R0/la001\n",
      "orig vs sta \t 0.08\n",
      "orig vs etn \t 0.17\n",
      "orig vs stm \t 0.07\n",
      "orig vs tag \t 0.71\n",
      "orig vs dym \t 0.41\n"
     ]
    }
   ],
   "source": [
    "for lambd in [0.25,0.15,0.01]:\n",
    "    \n",
    "    if lambd == 0.25:\n",
    "        la = la025\n",
    "    if lambd == 0.15:\n",
    "        la = la015\n",
    "    if lambd == 0.01:\n",
    "        la = la001\n",
    "        \n",
    "    K = 100\n",
    "    mu = 0.005\n",
    "    \n",
    "    print(\"R0 lambda\",lambd,la)\n",
    "    r_ori = ds.compute_r0(K,orig_graphs,lambd,mu)\n",
    "    r_sta = ds.compute_r0(K,orig_graphs,lambd,mu)\n",
    "    r_etn = ds.compute_r0(K,etn_gen,lambd,mu)\n",
    "    r_stm = ds.compute_r0(K,stm_gen,lambd,mu)\n",
    "    r_tag = ds.compute_r0(K,tag_gen,lambd,mu)\n",
    "    r_dym = ds.compute_r0(K,dym_gen,lambd,mu)\n",
    "    \n",
    "    print(\"orig vs sta \\t\",ks_2samp(r_ori, r_sta)[0])\n",
    "    print(\"orig vs etn \\t\",ks_2samp(r_ori, r_etn)[0])\n",
    "    print(\"orig vs stm \\t\",ks_2samp(r_ori, r_stm)[0])\n",
    "    print(\"orig vs tag \\t\",ks_2samp(r_ori, r_tag)[0])\n",
    "    print(\"orig vs dym \\t\",ks_2samp(r_ori, r_dym)[0])\n",
    "\n",
    "    np.save(la+\"/stab\",r_sta)\n",
    "    np.save(la+\"/orig\",r_ori)\n",
    "    np.save(la+\"/tag\",r_tag)\n",
    "    np.save(la+\"/etn\",r_etn)\n",
    "    np.save(la+\"/dym\",r_dym)\n",
    "    np.save(la+\"/stm\",r_stm)"
   ]
  },
  {
   "cell_type": "code",
   "execution_count": null,
   "metadata": {},
   "outputs": [],
   "source": []
  },
  {
   "cell_type": "code",
   "execution_count": null,
   "metadata": {},
   "outputs": [],
   "source": []
  },
  {
   "cell_type": "markdown",
   "metadata": {},
   "source": [
    "# plot"
   ]
  },
  {
   "cell_type": "code",
   "execution_count": 9,
   "metadata": {},
   "outputs": [],
   "source": [
    "ORIGINAL_COLOR = \"#4C4C4C\"\n",
    "ETN_COLOR = \"#5100FF\"\n",
    "STM_COLOR = \"#FF6A74\"\n",
    "TAG_COLOR = \"#63CA82\"\n",
    "DYM_COLOR = \"#FFD579\""
   ]
  },
  {
   "cell_type": "code",
   "execution_count": 4,
   "metadata": {},
   "outputs": [],
   "source": [
    "def load_cov(file_name):\n",
    "    \n",
    "    ori = np.load(\"dynamic_results/\"+file_name+\"/coverage/orig.npy\")\n",
    "    stb = np.load(\"dynamic_results/\"+file_name+\"/coverage/stab.npy\")\n",
    "    etn = np.load(\"dynamic_results/\"+file_name+\"/coverage/etn.npy\")\n",
    "    tag = np.load(\"dynamic_results/\"+file_name+\"/coverage/tag.npy\")\n",
    "    stm = np.load(\"dynamic_results/\"+file_name+\"/coverage/stm.npy\")\n",
    "    dym = np.load(\"dynamic_results/\"+file_name+\"/coverage/dym.npy\")\n",
    "    \n",
    "    return ori,stb,etn,tag,stm,dym\n",
    "\n",
    "def load_mfpt(file_name):\n",
    "    \n",
    "    ori = np.load(\"dynamic_results/\"+file_name+\"/MFPT/orig.npy\")\n",
    "    stb = np.load(\"dynamic_results/\"+file_name+\"/MFPT/stab.npy\")\n",
    "    etn = np.load(\"dynamic_results/\"+file_name+\"/MFPT/etn.npy\")\n",
    "    tag = np.load(\"dynamic_results/\"+file_name+\"/MFPT/tag.npy\")\n",
    "    stm = np.load(\"dynamic_results/\"+file_name+\"/MFPT/stm.npy\")\n",
    "    dym = np.load(\"dynamic_results/\"+file_name+\"/MFPT/dym.npy\")\n",
    "    \n",
    "    return ori,stb,etn,tag,stm,dym\n",
    "\n",
    "def load_r0(file_name,lambd=\"la001\"):\n",
    "    \n",
    "    ori = np.load(\"dynamic_results/\"+file_name+\"/R0/\"+lambd+\"/orig.npy\")\n",
    "    stb = np.load(\"dynamic_results/\"+file_name+\"/R0/\"+lambd+\"/stab.npy\")\n",
    "    etn = np.load(\"dynamic_results/\"+file_name+\"/R0/\"+lambd+\"/etn.npy\")\n",
    "    tag = np.load(\"dynamic_results/\"+file_name+\"/R0/\"+lambd+\"/tag.npy\")\n",
    "    stm = np.load(\"dynamic_results/\"+file_name+\"/R0/\"+lambd+\"/stm.npy\")\n",
    "    dym = np.load(\"dynamic_results/\"+file_name+\"/R0/\"+lambd+\"/dym.npy\")\n",
    "    \n",
    "    return ori,stb,etn,tag,stm,dym"
   ]
  },
  {
   "cell_type": "code",
   "execution_count": 5,
   "metadata": {},
   "outputs": [],
   "source": [
    "file_name = \"LH10\"\n",
    "cov = load_cov(file_name)\n",
    "mfpt = load_mfpt(file_name)\n",
    "ro_025 = load_r0(file_name,\"la025\")\n",
    "ro_015 = load_r0(file_name,\"la015\")\n",
    "ro_001 = load_r0(file_name,\"la001\")"
   ]
  },
  {
   "cell_type": "code",
   "execution_count": 10,
   "metadata": {},
   "outputs": [],
   "source": [
    "ORIGINAL_COLOR = \"#4C4C4C\"\n",
    "ETN_COLOR = \"#5100FF\"\n",
    "STM_COLOR = \"#FF6A74\"\n",
    "TAG_COLOR = \"#63CA82\"\n",
    "DYM_COLOR = \"#FFD579\"\n",
    "\n",
    "def compute_ks_cov_mfpt(cov,mfpt):\n",
    "    orig_c = cov[0]\n",
    "    orig_m = mfpt[0]\n",
    "    res = []\n",
    "    for i in range(len(cov)-1):\n",
    "        i = i+1\n",
    "        ks_c = ks_2samp(orig_c, cov[i])[0]\n",
    "        ks_m = ks_2samp(orig_m, mfpt[i])[0]\n",
    "        res.append([ks_c,ks_m])\n",
    "        \n",
    "    return res\n",
    "\n",
    "\n",
    "def plot_cov_mfpt(ax,file_name,legend=False):\n",
    "    ax.set_title(file_name)\n",
    "    cov = load_cov(file_name)\n",
    "    mfpt = load_mfpt(file_name)\n",
    "    x = np.arange(2)\n",
    "    x1,x2,x3,x4,x5 = compute_ks_cov_mfpt(cov,mfpt)\n",
    "    width = 0.2\n",
    "    rects1 = ax.bar(x - 0.3, x2, width, label='ETN-gen',color=ETN_COLOR)\n",
    "    rects4 = ax.bar(x - 0.1, x3, width, label='STM',color=STM_COLOR)\n",
    "    rects5 = ax.bar(x + 0.1, x4, width, label='Dymond',color=DYM_COLOR)\n",
    "    rects4 = ax.bar(x + 0.3 , x5, width, label='TagGen',color=TAG_COLOR)\n",
    "    ax.plot([-0.45,0.45],[x1[0],x1[0]],\"--\",linewidth=3, label='Stability',color=ORIGINAL_COLOR)\n",
    "    ax.plot([1-0.45,1.45],[x1[1],x1[1]],\"--\",linewidth=3, label='Stability',color=ORIGINAL_COLOR)\n",
    "    \n",
    "              \n",
    "    ax.tick_params(bottom=False, right=False,left=False)\n",
    "    ax.set_axisbelow(True)\n",
    "    ax.yaxis.grid(True, color='#EEEEEE')\n",
    "    ax.xaxis.grid(False)\n",
    "    ax.spines['top'].set_visible(False)\n",
    "    ax.spines['right'].set_visible(False)\n",
    "    ax.spines['left'].set_visible(False)\n",
    "    ax.spines['bottom'].set_color('#DDDDDD')    \n",
    "    \n",
    "    labels = [\"Coverage\",\"MFPT\"]\n",
    "    ax.set_xticks(x)\n",
    "    ax.set_xticklabels(labels,rotation=0)\n",
    "    ax.set_ylim((0,1))\n",
    "    \n",
    "def plot_r0(ax,file_name,legend=False):\n",
    "    ax.set_title(file_name)\n",
    "    r0_025 = load_r0(file_name,\"la025\")\n",
    "    r0_015 = load_r0(file_name,\"la015\")\n",
    "    r0_001 = load_r0(file_name,\"la001\")\n",
    "    x1,x2,x3,x4,x5 = compute_ks_r0(r0_025,r0_015,r0_001)\n",
    "    x = np.arange(3)\n",
    "    width = 0.2\n",
    "    rects1 = ax.bar(x - 0.3, x2, width, label='ETN-gen',color=ETN_COLOR)\n",
    "    rects4 = ax.bar(x - 0.1, x3, width, label='STM',color=STM_COLOR)\n",
    "    rects5 = ax.bar(x + 0.1, x4, width, label='Dymond',color=DYM_COLOR)\n",
    "    rects4 = ax.bar(x + 0.3 , x5, width, label='TagGen',color=TAG_COLOR)\n",
    "    ax.plot([-0.45,0.45],[x1[0],x1[0]],\"--\",linewidth=3, label='Stability',color=ORIGINAL_COLOR)\n",
    "    ax.plot([1-0.45,1.45],[x1[1],x1[1]],\"--\",linewidth=3, label='Stability',color=ORIGINAL_COLOR)\n",
    "    ax.plot([2-0.45,2.45],[x1[2],x1[2]],\"--\",linewidth=3, label='Stability',color=ORIGINAL_COLOR)\n",
    "    \n",
    "          \n",
    "    ax.tick_params(bottom=False, right=False,left=False)\n",
    "    ax.set_axisbelow(True)\n",
    "    ax.yaxis.grid(True, color='#EEEEEE')\n",
    "    ax.xaxis.grid(False)\n",
    "    ax.spines['top'].set_visible(False)\n",
    "    ax.spines['right'].set_visible(False)\n",
    "    ax.spines['left'].set_visible(False)\n",
    "    ax.spines['bottom'].set_color('#DDDDDD')\n",
    "    \n",
    "\n",
    "    labels = [r\"$\\lambda$ = 0.25\",r\"$\\lambda$ = 0.15\",r\"$\\lambda$ = 0.01\"]\n",
    "    ax.set_xticks(x)\n",
    "    ax.set_xticklabels(labels,rotation=0)\n",
    "    ax.set_ylim((0,1))\n",
    "    if legend:\n",
    "        ax.legend(loc='center left', bbox_to_anchor=(-0.85, -0.25),ncol=7)"
   ]
  },
  {
   "cell_type": "code",
   "execution_count": null,
   "metadata": {},
   "outputs": [],
   "source": []
  },
  {
   "cell_type": "code",
   "execution_count": 11,
   "metadata": {},
   "outputs": [],
   "source": [
    "def compute_ks_r0(la25,la15,la01):\n",
    "    orig_25 = la25[0]\n",
    "    orig_15 = la15[0]\n",
    "    orig_01 = la01[0]\n",
    "    res = []\n",
    "    for i in range(len(la25)-1):\n",
    "        i = i+1\n",
    "        ks_25 = ks_2samp(orig_25, la25[i])[0]\n",
    "        ks_15 = ks_2samp(orig_15, la15[i])[0]\n",
    "        ks_01 = ks_2samp(orig_01, la01[i])[0]\n",
    "        res.append([ks_25,ks_15,ks_01])\n",
    "        \n",
    "    return res\n"
   ]
  },
  {
   "cell_type": "code",
   "execution_count": 12,
   "metadata": {},
   "outputs": [
    {
     "data": {
      "image/png": "[encoded data removed]",
      "text/plain": [
       "<Figure size 864x648 with 6 Axes>"
      ]
     },
     "metadata": {
      "image/png": {
       "height": 644,
       "width": 812
      },
      "needs_background": "light"
     },
     "output_type": "display_data"
    }
   ],
   "source": [
    "fig, ax = plt.subplots(3,2, figsize=(12,9), gridspec_kw={'width_ratios': [2, 3]})\n",
    "fig.tight_layout(pad=3.0)\n",
    "plot_cov_mfpt(ax[0][0],\"LH10\")\n",
    "plot_r0(ax[0][1],\"LH10\")\n",
    "\n",
    "plot_cov_mfpt(ax[1][0],\"InVS13\")\n",
    "plot_r0(ax[1][1],\"InVS13\")\n",
    "\n",
    "\n",
    "plot_cov_mfpt(ax[2][0],\"High_School11\",legend=True)\n",
    "plot_r0(ax[2][1],\"High_School11\",legend=True)\n",
    "\n",
    "fig.savefig(\"dynamic_main.pdf\", bbox_inches = 'tight')"
   ]
  },
  {
   "cell_type": "code",
   "execution_count": null,
   "metadata": {},
   "outputs": [],
   "source": []
  },
  {
   "cell_type": "code",
   "execution_count": null,
   "metadata": {},
   "outputs": [],
   "source": []
  }
 ],
 "metadata": {
  "kernelspec": {
   "display_name": "Python 3",
   "language": "python",
   "name": "python3"
  },
  "language_info": {
   "codemirror_mode": {
    "name": "ipython",
    "version": 3
   },
   "file_extension": ".py",
   "mimetype": "text/x-python",
   "name": "python",
   "nbconvert_exporter": "python",
   "pygments_lexer": "ipython3",
   "version": "3.8.8"
  }
 },
 "nbformat": 4,
 "nbformat_minor": 4
}
