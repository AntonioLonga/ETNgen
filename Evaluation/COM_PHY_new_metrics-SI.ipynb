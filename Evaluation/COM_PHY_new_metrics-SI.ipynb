{
 "cells": [
  {
   "cell_type": "code",
   "execution_count": 171,
   "metadata": {
    "scrolled": true
   },
   "outputs": [
    {
     "name": "stdout",
     "output_type": "stream",
     "text": [
      "The autoreload extension is already loaded. To reload it, use:\n",
      "  %reload_ext autoreload\n"
     ]
    }
   ],
   "source": [
    "import construction as cs\n",
    "import matplotlib.pyplot as plt\n",
    "\n",
    "### read font\n",
    "from matplotlib import font_manager\n",
    "\n",
    "font_dirs = ['Barlow/']\n",
    "font_files = font_manager.findSystemFonts(fontpaths=font_dirs)\n",
    "\n",
    "for font_file in font_files:\n",
    "    font_manager.fontManager.addfont(font_file)\n",
    "\n",
    "# set font\n",
    "plt.rcParams['font.family'] = 'Barlow'\n",
    "\n",
    "import networkx as nx\n",
    "%matplotlib inline\n",
    "%config InlineBackend.figure_format = 'retina'\n",
    "\n",
    "%load_ext autoreload\n",
    "%autoreload 2"
   ]
  },
  {
   "cell_type": "markdown",
   "metadata": {},
   "source": []
  },
  {
   "cell_type": "markdown",
   "metadata": {},
   "source": [
    "# Load generated graphs"
   ]
  },
  {
   "cell_type": "code",
   "execution_count": 172,
   "metadata": {},
   "outputs": [],
   "source": [
    "def aspl_hour(graphs):\n",
    "    c = []\n",
    "    tot_hours_dataset = (len(graphs)*300/3600)\n",
    "\n",
    "    for hour_n in range(int(tot_hours_dataset)):\n",
    "        G_aggr = get_weighted_graph(graphs[int(3600/300)*hour_n:int(3600/300)*(hour_n+1)])\n",
    "        if not len(G_aggr.nodes()) == 0:\n",
    "            largest_cc = max(nx.connected_components(G_aggr), key=len) # get the biggest connected components\n",
    "            sub_G = G_aggr.subgraph(largest_cc).copy()  # get subgrph\n",
    "            c.append(nx.average_shortest_path_length(sub_G))\n",
    "\n",
    "    return c\n",
    "\n",
    "def smetric_hour(graphs):\n",
    "    c = []\n",
    "    tot_hours_dataset = len(graphs)*300/3600\n",
    "    for hour_n in range(int(tot_hours_dataset)):\n",
    "        G_aggr = get_weighted_graph(graphs[int(3600/300)*hour_n:int(3600/300)*(hour_n+1)])\n",
    "\n",
    "        c.append(s_metric([G_aggr])[0])\n",
    "        \n",
    "    return c\n",
    "\n",
    "def load_origin_graph(file_name,gap):\n",
    "    data_in = cs.load_data(\"../Datasets/\"+file_name+\".dat\")\n",
    "    \n",
    "    graphs_in = cs.build_graphs(data_in,gap=gap)\n",
    "    return graphs_in\n",
    "\n",
    "def load_ETNgen_graph(file_name,gap):\n",
    "    \n",
    "    path = \"../Generated_graphs/ETNgen-\"+file_name+\".dat\"\n",
    "    data_in = cs.load_data(path)\n",
    "    graphs_in = cs.build_graphs(data_in,gap=gap)\n",
    "    \n",
    "    return graphs_in\n",
    "\n",
    "def load_tag_graph(file_name,gap):\n",
    "    path = \"../Competitors_generated_graphs/TagGen/\"+file_name+\"_generato_TagGen.dat\"\n",
    "    data_in = cs.load_data(path)\n",
    "    graphs_in = cs.build_graphs(data_in,gap=gap)\n",
    "\n",
    "    return graphs_in\n",
    "\n",
    "import networkx as nx\n",
    "import numpy as np\n",
    "from scipy import stats\n",
    "import matplotlib.pyplot as plt\n",
    "\n",
    "from topological_metrics import *\n",
    "\n",
    "import os"
   ]
  },
  {
   "cell_type": "markdown",
   "metadata": {},
   "source": [
    "# load SI dataset"
   ]
  },
  {
   "cell_type": "code",
   "execution_count": 173,
   "metadata": {},
   "outputs": [],
   "source": [
    "file_name = \"High_School12\"\n",
    "file_name = \"High_School13\"\n",
    "file_name = \"primary_school\"\n",
    "\n",
    "m = 1\n",
    "ori = load_origin_graph(file_name,gap=299*m)\n",
    "etn_gen = load_ETNgen_graph(file_name,gap=299*m)\n",
    "tag_gen = load_tag_graph(file_name,gap=m-1)"
   ]
  },
  {
   "cell_type": "code",
   "execution_count": null,
   "metadata": {},
   "outputs": [],
   "source": [
    "len(ori),len(etn_gen),len(tag_gen)"
   ]
  },
  {
   "cell_type": "code",
   "execution_count": null,
   "metadata": {
    "scrolled": true
   },
   "outputs": [],
   "source": [
    "e = compute_all_metrics_comphy(ori,etn_gen)\n",
    "\n",
    "sm_o = smetric_hour(ori)\n",
    "sm_e = smetric_hour(etn_gen)\n",
    "sm = stats.ks_2samp(sm_o,sm_e)[0]\n",
    "print(\"hour smetric \",sm)\n",
    "e.append((sm,0))\n",
    "asp_o = aspl_hour(ori)\n",
    "asp_e = aspl_hour(etn_gen)\n",
    "hasp = stats.ks_2samp(asp_o,asp_e)[0]\n",
    "print(\"hour asp\", hasp)\n",
    "e.append((hasp,0))"
   ]
  },
  {
   "cell_type": "code",
   "execution_count": null,
   "metadata": {},
   "outputs": [],
   "source": [
    "t = compute_all_metrics_comphy(ori,tag_gen)\n",
    "\n",
    "\n",
    "sm_t = smetric_hour(tag_gen)\n",
    "sm = stats.ks_2samp(sm_o,sm_t)[0]\n",
    "print(\"hour smetric \",sm)\n",
    "t.append((sm,0))\n",
    "asp_t = aspl_hour(tag_gen)\n",
    "hasp = stats.ks_2samp(asp_o,asp_t)[0]\n",
    "print(\"hour asp\", hasp)\n",
    "t.append((hasp,0))"
   ]
  },
  {
   "cell_type": "code",
   "execution_count": null,
   "metadata": {},
   "outputs": [],
   "source": [
    "ee = np.array(e)[:,0]\n",
    "tt = np.array(t)[:,0]\n",
    "x = np.arange(len(ee))\n",
    "plt.bar(x-0.1,ee,width=0.2)\n",
    "plt.bar(x+0.1,tt,width=0.2)"
   ]
  },
  {
   "cell_type": "code",
   "execution_count": null,
   "metadata": {},
   "outputs": [],
   "source": [
    "hclo = hour_closeness(ori)\n",
    "hbet = hour_betweenness(ori,False)\n",
    "whbet = hour_betweenness(ori,True)\n",
    "concom = nb_connected_components(ori)\n",
    "hmod = hour_modularity(ori)\n",
    "hclu = hour_clustering(ori)\n",
    "hass =hour_assort(ori)\n",
    "\n",
    "np.save(\"topology_results/original_distributions/\"+file_name+\"/hclo.npy\",hclo)\n",
    "np.save(\"topology_results/original_distributions/\"+file_name+\"/hbet.npy\",hbet)\n",
    "np.save(\"topology_results/original_distributions/\"+file_name+\"/whbet.npy\",whbet)\n",
    "np.save(\"topology_results/original_distributions/\"+file_name+\"/concomp.npy\",concom)\n",
    "np.save(\"topology_results/original_distributions/\"+file_name+\"/hmod.npy\",hmod)\n",
    "np.save(\"topology_results/original_distributions/\"+file_name+\"/hclu.npy\",hclu)\n",
    "np.save(\"topology_results/original_distributions/\"+file_name+\"/hass.npy\",hass)\n",
    "\n",
    "\n",
    "sm_e = smetric_hour(ori)\n",
    "np.save(\"topology_results/original_distributions/\"+file_name+\"/hs_metric.npy\",sm_e)\n",
    "asp_e = aspl_hour(ori)\n",
    "np.save(\"topology_results/original_distributions/\"+file_name+\"/hasp.npy\",asp_e)"
   ]
  },
  {
   "cell_type": "code",
   "execution_count": null,
   "metadata": {},
   "outputs": [],
   "source": []
  },
  {
   "cell_type": "code",
   "execution_count": null,
   "metadata": {
    "scrolled": true
   },
   "outputs": [],
   "source": [
    "hclo = hour_closeness(etn_gen)\n",
    "hbet = hour_betweenness(etn_gen,False)\n",
    "whbet = hour_betweenness(etn_gen,True)\n",
    "concom = nb_connected_components(etn_gen)\n",
    "hmod = hour_modularity(etn_gen)\n",
    "hclu = hour_clustering(etn_gen)\n",
    "hass =hour_assort(etn_gen)\n",
    "\n",
    "np.save(\"topology_results/SI/etngen/\"+file_name+\"/hclo.npy\",hclo)\n",
    "np.save(\"topology_results/SI/etngen/\"+file_name+\"/hbet.npy\",hbet)\n",
    "np.save(\"topology_results/SI/etngen/\"+file_name+\"/whbet.npy\",whbet)\n",
    "np.save(\"topology_results/SI/etngen/\"+file_name+\"/concomp.npy\",concom)\n",
    "print(\"meta\")\n",
    "np.save(\"topology_results/SI/etngen/\"+file_name+\"/hmod.npy\",hmod)\n",
    "np.save(\"topology_results/SI/etngen/\"+file_name+\"/hclu.npy\",hclu)\n",
    "np.save(\"topology_results/SI/etngen/\"+file_name+\"/hass.npy\",hass)\n",
    "\n",
    "print(\"quasi\")\n",
    "sm_e = smetric_hour(etn_gen)\n",
    "np.save(\"topology_results/SI/etngen/\"+file_name+\"/hs_metric.npy\",sm_e)\n",
    "asp_e = aspl_hour(etn_gen)\n",
    "np.save(\"topology_results/SI/etngen/\"+file_name+\"/hasp.npy\",asp_e)"
   ]
  },
  {
   "cell_type": "code",
   "execution_count": null,
   "metadata": {
    "scrolled": true
   },
   "outputs": [],
   "source": [
    "hclo = hour_closeness(tag_gen)\n",
    "hbet = hour_betweenness(tag_gen,False)\n",
    "whbet = hour_betweenness(tag_gen,True)\n",
    "concom = nb_connected_components(tag_gen)\n",
    "hmod = hour_modularity(tag_gen)\n",
    "hclu = hour_clustering(tag_gen)\n",
    "hass =hour_assort(tag_gen)\n",
    "\n",
    "np.save(\"topology_results/SI/taggen/\"+file_name+\"/hclo.npy\",hclo)\n",
    "np.save(\"topology_results/SI/taggen/\"+file_name+\"/hbet.npy\",hbet)\n",
    "np.save(\"topology_results/SI/taggen/\"+file_name+\"/whbet.npy\",whbet)\n",
    "np.save(\"topology_results/SI/taggen/\"+file_name+\"/concomp.npy\",concom)\n",
    "print(\"meta\")\n",
    "np.save(\"topology_results/SI/taggen/\"+file_name+\"/hmod.npy\",hmod)\n",
    "np.save(\"topology_results/SI/taggen/\"+file_name+\"/hclu.npy\",hclu)\n",
    "np.save(\"topology_results/SI/taggen/\"+file_name+\"/hass.npy\",hass)\n",
    "print(\"quasi\")\n",
    "sm_t = smetric_hour(tag_gen)\n",
    "np.save(\"topology_results/SI/taggen/\"+file_name+\"/hs_metric.npy\",sm_t)\n",
    "asp_t = aspl_hour(tag_gen)\n",
    "np.save(\"topology_results/SI/taggen/\"+file_name+\"/hasp.npy\",asp_t)"
   ]
  },
  {
   "cell_type": "markdown",
   "metadata": {},
   "source": [
    "## call sms"
   ]
  },
  {
   "cell_type": "code",
   "execution_count": 3,
   "metadata": {},
   "outputs": [],
   "source": [
    "def load_origin_graph(file_name,gap = 599):\n",
    "    data_in = cs.load_data(\"../Datasets/\"+file_name+\".dat\")\n",
    "    \n",
    "    graphs_in = cs.build_graphs(data_in,gap=599)\n",
    "    return graphs_in\n",
    "\n",
    "def load_ETNgen_graph(file_name,gap = 299):\n",
    "    \n",
    "    path = \"../Generated_graphs/ETNgen-\"+file_name+\".dat\"\n",
    "    data_in = cs.load_data(path)\n",
    "    graphs_in = cs.build_graphs(data_in,gap=gap)\n",
    "    \n",
    "    return graphs_in\n",
    "\n",
    "def load_tag_graph(file_name):\n",
    "    path = \"../Competitors_generated_graphs/TagGen/\"+file_name+\"_599_generato_TagGen.dat\"\n",
    "    gap = 0\n",
    "    data_in = cs.load_data(path)\n",
    "    graphs_in = cs.build_graphs(data_in,gap=gap)\n",
    "\n",
    "    return graphs_in"
   ]
  },
  {
   "cell_type": "code",
   "execution_count": 34,
   "metadata": {},
   "outputs": [],
   "source": [
    "\n",
    "file_name = \"DTU_calls_1sett\"\n",
    "#file_name = \"DTU_SMS_1sett\"\n",
    "#file_name = \"FF_calls_1sett\"\n",
    "#file_name = \"FF_SMS_1sett\"\n",
    "\n",
    "ori = load_origin_graph(file_name)\n",
    "etn_gen = load_ETNgen_graph(file_name)\n",
    "tag_gen = load_tag_graph(file_name)"
   ]
  },
  {
   "cell_type": "code",
   "execution_count": 35,
   "metadata": {},
   "outputs": [
    {
     "data": {
      "text/plain": [
       "(1003, 1005, 1003)"
      ]
     },
     "execution_count": 35,
     "metadata": {},
     "output_type": "execute_result"
    }
   ],
   "source": [
    "len(ori),len(etn_gen),len(tag_gen)"
   ]
  },
  {
   "cell_type": "code",
   "execution_count": 36,
   "metadata": {},
   "outputs": [],
   "source": [
    "def nint(g):\n",
    "    res = []\n",
    "    for n in g:\n",
    "        res.append(len(n.edges()))\n",
    "    return res"
   ]
  },
  {
   "cell_type": "code",
   "execution_count": 37,
   "metadata": {},
   "outputs": [
    {
     "data": {
      "text/plain": [
       "[<matplotlib.lines.Line2D at 0x7fd04700d0f0>]"
      ]
     },
     "execution_count": 37,
     "metadata": {},
     "output_type": "execute_result"
    },
    {
     "data": {
      "image/png": "[encoded data removed]",
      "text/plain": [
       "<Figure size 640x480 with 1 Axes>"
      ]
     },
     "metadata": {
      "image/png": {
       "height": 411,
       "width": 548
      }
     },
     "output_type": "display_data"
    }
   ],
   "source": [
    "plt.plot(nint(ori))\n",
    "plt.plot(nint(etn_gen))\n",
    "plt.plot(nint(tag_gen))"
   ]
  },
  {
   "cell_type": "code",
   "execution_count": 38,
   "metadata": {},
   "outputs": [
    {
     "name": "stdout",
     "output_type": "stream",
     "text": [
      "hour_closeness \t 0.108 0.716927\n",
      "hour_betweenness \t 0.145 0.352556\n",
      "W hour_betweenness \t 0.145 0.352556\n",
      "nb_connected_components\t 0.111 0.000007\n",
      "hour_modularity f \t 0.155 0.387825\n"
     ]
    },
    {
     "name": "stderr",
     "output_type": "stream",
     "text": [
      "/home/antonio/Desktop/Dottorato/2021-20/GRAPHGEN/github/ETNgen/Evaluation/topological_metrics.py:20: RuntimeWarning: ks_2samp: Exact calculation unsuccessful. Switching to method=asymp.\n",
      "  s,p = stats.ks_2samp(metrics_in,metrics_gen)\n"
     ]
    },
    {
     "name": "stdout",
     "output_type": "stream",
     "text": [
      "hour_clustering \t 0.012 1.000000\n",
      "hour_assort \t 0.190 0.947907\n",
      "hour smetric  0.1927710843373494\n",
      "hour asp 0.1504879301489471\n"
     ]
    }
   ],
   "source": [
    "e = compute_all_metrics_comphy(ori,etn_gen)\n",
    "\n",
    "sm_o = smetric_hour(ori)\n",
    "sm_e = smetric_hour(etn_gen)\n",
    "sm = stats.ks_2samp(sm_o,sm_e)[0]\n",
    "print(\"hour smetric \",sm)\n",
    "e.append((sm,0))\n",
    "asp_o = aspl_hour(ori)\n",
    "asp_e = aspl_hour(etn_gen)\n",
    "hasp = stats.ks_2samp(asp_o,asp_e)[0]\n",
    "print(\"hour asp\", hasp)\n",
    "e.append((hasp,0))"
   ]
  },
  {
   "cell_type": "code",
   "execution_count": 39,
   "metadata": {},
   "outputs": [
    {
     "name": "stdout",
     "output_type": "stream",
     "text": [
      "hour_closeness \t 0.639 0.000000\n",
      "hour_betweenness \t 0.771 0.000000\n",
      "W hour_betweenness \t 0.771 0.000000\n",
      "nb_connected_components\t 0.317 0.000000\n",
      "hour_modularity f \t 0.727 0.000000\n",
      "hour_clustering \t 0.627 0.000000\n",
      "hour_assort \t 0.843 0.000000\n",
      "hour smetric  0.7590361445783133\n",
      "hour asp 0.9696969696969697\n"
     ]
    }
   ],
   "source": [
    "t = compute_all_metrics_comphy(ori,tag_gen)\n",
    "\n",
    "\n",
    "sm_t = smetric_hour(tag_gen)\n",
    "sm = stats.ks_2samp(sm_o,sm_t)[0]\n",
    "print(\"hour smetric \",sm)\n",
    "t.append((sm,0))\n",
    "asp_t = aspl_hour(tag_gen)\n",
    "hasp = stats.ks_2samp(asp_o,asp_t)[0]\n",
    "print(\"hour asp\", hasp)\n",
    "t.append((hasp,0))"
   ]
  },
  {
   "cell_type": "code",
   "execution_count": 40,
   "metadata": {},
   "outputs": [
    {
     "data": {
      "text/plain": [
       "<BarContainer object of 9 artists>"
      ]
     },
     "execution_count": 40,
     "metadata": {},
     "output_type": "execute_result"
    },
    {
     "data": {
      "image/png": "[encoded data removed]",
      "text/plain": [
       "<Figure size 640x480 with 1 Axes>"
      ]
     },
     "metadata": {
      "image/png": {
       "height": 411,
       "width": 545
      }
     },
     "output_type": "display_data"
    }
   ],
   "source": [
    "ee = np.array(e)[:,0]\n",
    "tt = np.array(t)[:,0]\n",
    "x = np.arange(len(ee))\n",
    "plt.bar(x-0.1,ee,width=0.2)\n",
    "plt.bar(x+0.1,tt,width=0.2)"
   ]
  },
  {
   "cell_type": "code",
   "execution_count": null,
   "metadata": {},
   "outputs": [],
   "source": []
  },
  {
   "cell_type": "code",
   "execution_count": null,
   "metadata": {},
   "outputs": [],
   "source": []
  },
  {
   "cell_type": "code",
   "execution_count": 41,
   "metadata": {},
   "outputs": [],
   "source": [
    "hclo = hour_closeness(ori)\n",
    "hbet = hour_betweenness(ori,False)\n",
    "whbet = hour_betweenness(ori,True)\n",
    "concom = nb_connected_components(ori)\n",
    "hmod = hour_modularity(ori)\n",
    "hclu = hour_clustering(ori)\n",
    "hass =hour_assort(ori)\n",
    "\n",
    "np.save(\"topology_results/original_distributions/\"+file_name+\"/hclo.npy\",hclo)\n",
    "np.save(\"topology_results/original_distributions/\"+file_name+\"/hbet.npy\",hbet)\n",
    "np.save(\"topology_results/original_distributions/\"+file_name+\"/whbet.npy\",whbet)\n",
    "np.save(\"topology_results/original_distributions/\"+file_name+\"/concomp.npy\",concom)\n",
    "np.save(\"topology_results/original_distributions/\"+file_name+\"/hmod.npy\",hmod)\n",
    "np.save(\"topology_results/original_distributions/\"+file_name+\"/hclu.npy\",hclu)\n",
    "np.save(\"topology_results/original_distributions/\"+file_name+\"/hass.npy\",hass)\n",
    "\n",
    "\n",
    "sm_e = smetric_hour(ori)\n",
    "np.save(\"topology_results/original_distributions/\"+file_name+\"/hs_metric.npy\",sm_e)\n",
    "asp_e = aspl_hour(ori)\n",
    "np.save(\"topology_results/original_distributions/\"+file_name+\"/hasp.npy\",asp_e)"
   ]
  },
  {
   "cell_type": "code",
   "execution_count": 42,
   "metadata": {},
   "outputs": [
    {
     "name": "stdout",
     "output_type": "stream",
     "text": [
      "quasi\n"
     ]
    }
   ],
   "source": [
    "hclo = hour_closeness(etn_gen)\n",
    "hbet = hour_betweenness(etn_gen,False)\n",
    "whbet = hour_betweenness(etn_gen,True)\n",
    "concom = nb_connected_components(etn_gen)\n",
    "hmod = hour_modularity(etn_gen)\n",
    "hclu = hour_clustering(etn_gen)\n",
    "hass =hour_assort(etn_gen)\n",
    "\n",
    "np.save(\"topology_results/SI/etngen/\"+file_name+\"/hclo.npy\",hclo)\n",
    "np.save(\"topology_results/SI/etngen/\"+file_name+\"/hbet.npy\",hbet)\n",
    "np.save(\"topology_results/SI/etngen/\"+file_name+\"/whbet.npy\",whbet)\n",
    "np.save(\"topology_results/SI/etngen/\"+file_name+\"/concomp.npy\",concom)\n",
    "np.save(\"topology_results/SI/etngen/\"+file_name+\"/hmod.npy\",hmod)\n",
    "np.save(\"topology_results/SI/etngen/\"+file_name+\"/hclu.npy\",hclu)\n",
    "np.save(\"topology_results/SI/etngen/\"+file_name+\"/hass.npy\",hass)\n",
    "\n",
    "\n",
    "print(\"quasi\")\n",
    "sm_e = smetric_hour(etn_gen)\n",
    "np.save(\"topology_results/SI/etngen/\"+file_name+\"/hs_metric.npy\",sm_e)\n",
    "asp_e = aspl_hour(etn_gen)\n",
    "np.save(\"topology_results/SI/etngen/\"+file_name+\"/hasp.npy\",asp_e)"
   ]
  },
  {
   "cell_type": "code",
   "execution_count": 43,
   "metadata": {},
   "outputs": [
    {
     "name": "stdout",
     "output_type": "stream",
     "text": [
      "quasi\n"
     ]
    }
   ],
   "source": [
    "hclo = hour_closeness(tag_gen)\n",
    "hbet = hour_betweenness(tag_gen,False)\n",
    "whbet = hour_betweenness(tag_gen,True)\n",
    "concom = nb_connected_components(tag_gen)\n",
    "hmod = hour_modularity(tag_gen)\n",
    "hclu = hour_clustering(tag_gen)\n",
    "hass =hour_assort(tag_gen)\n",
    "\n",
    "np.save(\"topology_results/SI/taggen/\"+file_name+\"/hclo.npy\",hclo)\n",
    "np.save(\"topology_results/SI/taggen/\"+file_name+\"/hbet.npy\",hbet)\n",
    "np.save(\"topology_results/SI/taggen/\"+file_name+\"/whbet.npy\",whbet)\n",
    "np.save(\"topology_results/SI/taggen/\"+file_name+\"/concomp.npy\",concom)\n",
    "np.save(\"topology_results/SI/taggen/\"+file_name+\"/hmod.npy\",hmod)\n",
    "np.save(\"topology_results/SI/taggen/\"+file_name+\"/hclu.npy\",hclu)\n",
    "np.save(\"topology_results/SI/taggen/\"+file_name+\"/hass.npy\",hass)\n",
    "print(\"quasi\")\n",
    "sm_t = smetric_hour(tag_gen)\n",
    "np.save(\"topology_results/SI/taggen/\"+file_name+\"/hs_metric.npy\",sm_t)\n",
    "asp_t = aspl_hour(tag_gen)\n",
    "np.save(\"topology_results/SI/taggen/\"+file_name+\"/hasp.npy\",asp_t)"
   ]
  },
  {
   "cell_type": "code",
   "execution_count": null,
   "metadata": {},
   "outputs": [],
   "source": []
  },
  {
   "cell_type": "code",
   "execution_count": null,
   "metadata": {},
   "outputs": [],
   "source": []
  },
  {
   "cell_type": "code",
   "execution_count": null,
   "metadata": {},
   "outputs": [],
   "source": []
  },
  {
   "cell_type": "code",
   "execution_count": null,
   "metadata": {},
   "outputs": [],
   "source": []
  },
  {
   "cell_type": "code",
   "execution_count": null,
   "metadata": {},
   "outputs": [],
   "source": []
  },
  {
   "cell_type": "code",
   "execution_count": null,
   "metadata": {},
   "outputs": [],
   "source": []
  },
  {
   "cell_type": "markdown",
   "metadata": {},
   "source": [
    "# Compute and store topological stuff"
   ]
  },
  {
   "cell_type": "markdown",
   "metadata": {},
   "source": [
    "# graph aggregato\n",
    "## clos, bet e weig bet"
   ]
  },
  {
   "cell_type": "code",
   "execution_count": 174,
   "metadata": {},
   "outputs": [],
   "source": [
    "file_name = \"High_School12\"\n",
    "file_name = \"High_School13\"\n",
    "file_name = \"primary_school\"\n",
    "\n",
    "m = 1\n",
    "ori = load_origin_graph(file_name,gap=299*m)\n",
    "etn_gen = load_ETNgen_graph(file_name,gap=299*m)\n",
    "tag_gen = load_tag_graph(file_name,gap=m-1)"
   ]
  },
  {
   "cell_type": "code",
   "execution_count": 175,
   "metadata": {},
   "outputs": [],
   "source": [
    "def to_aggregated_nx(graphs):\n",
    "    G = nx.Graph()\n",
    "    for g in graphs:\n",
    "        for u,v in g.edges():\n",
    "            if G.has_edge(u,v):\n",
    "                G.edges()[(u,v)][\"weight\"] = G.edges()[(u,v)][\"weight\"] + 1\n",
    "            else:\n",
    "                G.add_edge(u,v)\n",
    "                G.edges()[(u,v)][\"weight\"] = 1\n",
    "        G.add_edges_from(g.edges())\n",
    "    return G"
   ]
  },
  {
   "cell_type": "code",
   "execution_count": 176,
   "metadata": {},
   "outputs": [],
   "source": [
    "ori_a = to_aggregated_nx(ori)\n",
    "etn_a = to_aggregated_nx(etn_gen)\n",
    "tag_a = to_aggregated_nx(tag_gen)"
   ]
  },
  {
   "cell_type": "code",
   "execution_count": null,
   "metadata": {},
   "outputs": [],
   "source": []
  },
  {
   "cell_type": "code",
   "execution_count": 177,
   "metadata": {},
   "outputs": [
    {
     "name": "stdout",
     "output_type": "stream",
     "text": [
      "etn 0.9669421487603306\n",
      "tag 1.0\n"
     ]
    }
   ],
   "source": [
    "clo = list(nx.centrality.closeness_centrality(ori_a).values())\n",
    "np.save(\"topology_results/original_distributions/\"+file_name+\"/clo_agg.npy\",clo)\n",
    "cloe = list(nx.centrality.closeness_centrality(etn_a).values())\n",
    "np.save(\"topology_results/SI/etngen/\"+file_name+\"/clo_agg.npy\",cloe)\n",
    "clot = list(nx.centrality.closeness_centrality(tag_a).values())\n",
    "np.save(\"topology_results/SI/taggen/\"+file_name+\"/clo_agg.npy\",clot)\n",
    "print(\"etn\",stats.ks_2samp(clo,cloe)[0])\n",
    "print(\"tag\",stats.ks_2samp(clo,clot)[0])"
   ]
  },
  {
   "cell_type": "code",
   "execution_count": 178,
   "metadata": {},
   "outputs": [
    {
     "name": "stdout",
     "output_type": "stream",
     "text": [
      "etn 0.6033057851239669\n",
      "tag 0.9752066115702479\n"
     ]
    }
   ],
   "source": [
    "clo = list(nx.centrality.betweenness_centrality(ori_a).values())\n",
    "np.save(\"topology_results/original_distributions/\"+file_name+\"/bet_agg.npy\",clo)\n",
    "cloe = list(nx.centrality.betweenness_centrality(etn_a).values())\n",
    "np.save(\"topology_results/SI/etngen/\"+file_name+\"/bet_agg.npy\",cloe)\n",
    "clot = list(nx.centrality.betweenness_centrality(tag_a).values())\n",
    "np.save(\"topology_results/SI/taggen/\"+file_name+\"/bet_agg.npy\",clot)\n",
    "print(\"etn\",stats.ks_2samp(clo,cloe)[0])\n",
    "print(\"tag\",stats.ks_2samp(clo,clot)[0])"
   ]
  },
  {
   "cell_type": "code",
   "execution_count": 179,
   "metadata": {},
   "outputs": [
    {
     "name": "stdout",
     "output_type": "stream",
     "text": [
      "etn 0.2644628099173554\n",
      "tag 0.3760330578512397\n"
     ]
    }
   ],
   "source": [
    "clo = list(nx.centrality.betweenness_centrality(ori_a,weight=\"weight\").values())\n",
    "np.save(\"topology_results/original_distributions/\"+file_name+\"/wbet_agg.npy\",clo)\n",
    "cloe = list(nx.centrality.betweenness_centrality(etn_a,weight=\"weight\").values())\n",
    "np.save(\"topology_results/SI/etngen/\"+file_name+\"/wbet_agg.npy\",cloe)\n",
    "print(\"etn\",stats.ks_2samp(clo,cloe)[0])\n",
    "clot = list(nx.centrality.betweenness_centrality(tag_a,weight=\"weight\").values())\n",
    "np.save(\"topology_results/SI/taggen/\"+file_name+\"/wbet_agg.npy\",clot)\n",
    "print(\"tag\",stats.ks_2samp(clo,clot)[0])"
   ]
  },
  {
   "cell_type": "markdown",
   "metadata": {},
   "source": [
    "### altri dataset"
   ]
  },
  {
   "cell_type": "code",
   "execution_count": 145,
   "metadata": {},
   "outputs": [],
   "source": [
    "def load_origin_graph(file_name,gap = 599):\n",
    "    data_in = cs.load_data(\"../Datasets/\"+file_name+\".dat\")\n",
    "    \n",
    "    graphs_in = cs.build_graphs(data_in,gap=599)\n",
    "    return graphs_in\n",
    "\n",
    "def load_ETNgen_graph(file_name,gap = 299):\n",
    "    \n",
    "    path = \"../Generated_graphs/ETNgen-\"+file_name+\".dat\"\n",
    "    data_in = cs.load_data(path)\n",
    "    graphs_in = cs.build_graphs(data_in,gap=gap)\n",
    "    \n",
    "    return graphs_in\n",
    "\n",
    "def load_tag_graph(file_name):\n",
    "    path = \"../Competitors_generated_graphs/TagGen/\"+file_name+\"_599_generato_TagGen.dat\"\n",
    "    gap = 0\n",
    "    data_in = cs.load_data(path)\n",
    "    graphs_in = cs.build_graphs(data_in,gap=gap)\n",
    "\n",
    "    return graphs_in"
   ]
  },
  {
   "cell_type": "code",
   "execution_count": 164,
   "metadata": {},
   "outputs": [],
   "source": [
    "\n",
    "file_name = \"DTU_calls_1sett\"\n",
    "#file_name = \"DTU_SMS_1sett\"\n",
    "#file_name = \"FF_calls_1sett\"\n",
    "#file_name = \"FF_SMS_1sett\"\n",
    "\n",
    "ori = load_origin_graph(file_name)\n",
    "etn_gen = load_ETNgen_graph(file_name)\n",
    "tag_gen = load_tag_graph(file_name)"
   ]
  },
  {
   "cell_type": "code",
   "execution_count": 165,
   "metadata": {},
   "outputs": [
    {
     "data": {
      "text/plain": [
       "(1003, 1005, 1003)"
      ]
     },
     "execution_count": 165,
     "metadata": {},
     "output_type": "execute_result"
    }
   ],
   "source": [
    "len(ori),len(etn_gen),len(tag_gen)"
   ]
  },
  {
   "cell_type": "code",
   "execution_count": 166,
   "metadata": {},
   "outputs": [],
   "source": [
    "ori_a = to_aggregated_nx(ori)\n",
    "etn_a = to_aggregated_nx(etn_gen)\n",
    "tag_a = to_aggregated_nx(tag_gen)"
   ]
  },
  {
   "cell_type": "code",
   "execution_count": 167,
   "metadata": {},
   "outputs": [
    {
     "name": "stdout",
     "output_type": "stream",
     "text": [
      "etn 0.9416342412451362\n",
      "tag 0.9935064935064936\n"
     ]
    }
   ],
   "source": [
    "clo = list(nx.centrality.closeness_centrality(ori_a).values())\n",
    "np.save(\"topology_results/original_distributions/\"+file_name+\"/clo_agg.npy\",clo)\n",
    "cloe = list(nx.centrality.closeness_centrality(etn_a).values())\n",
    "np.save(\"topology_results/SI/etngen/\"+file_name+\"/clo_agg.npy\",cloe)\n",
    "clot = list(nx.centrality.closeness_centrality(tag_a).values())\n",
    "np.save(\"topology_results/SI/taggen/\"+file_name+\"/clo_agg.npy\",clot)\n",
    "print(\"etn\",stats.ks_2samp(clo,cloe)[0])\n",
    "print(\"tag\",stats.ks_2samp(clo,clot)[0])"
   ]
  },
  {
   "cell_type": "code",
   "execution_count": 168,
   "metadata": {},
   "outputs": [
    {
     "name": "stdout",
     "output_type": "stream",
     "text": [
      "etn 0.6815781494769821\n",
      "tag 0.6623376623376623\n"
     ]
    }
   ],
   "source": [
    "clo = list(nx.centrality.betweenness_centrality(ori_a).values())\n",
    "np.save(\"topology_results/original_distributions/\"+file_name+\"/bet_agg.npy\",clo)\n",
    "cloe = list(nx.centrality.betweenness_centrality(etn_a).values())\n",
    "np.save(\"topology_results/SI/etngen/\"+file_name+\"/bet_agg.npy\",cloe)\n",
    "clot = list(nx.centrality.betweenness_centrality(tag_a).values())\n",
    "np.save(\"topology_results/SI/taggen/\"+file_name+\"/bet_agg.npy\",clot)\n",
    "print(\"etn\",stats.ks_2samp(clo,cloe)[0])\n",
    "print(\"tag\",stats.ks_2samp(clo,clot)[0])"
   ]
  },
  {
   "cell_type": "code",
   "execution_count": 169,
   "metadata": {},
   "outputs": [
    {
     "name": "stdout",
     "output_type": "stream",
     "text": [
      "etn 0.6809338521400778\n",
      "tag 0.7175324675324676\n"
     ]
    }
   ],
   "source": [
    "clo = list(nx.centrality.betweenness_centrality(ori_a,weight=\"weight\").values())\n",
    "np.save(\"topology_results/original_distributions/\"+file_name+\"/wbet_agg.npy\",clo)\n",
    "cloe = list(nx.centrality.betweenness_centrality(etn_a,weight=\"weight\").values())\n",
    "np.save(\"topology_results/SI/etngen/\"+file_name+\"/wbet_agg.npy\",cloe)\n",
    "print(\"etn\",stats.ks_2samp(clo,cloe)[0])\n",
    "clot = list(nx.centrality.betweenness_centrality(tag_a,weight=\"weight\").values())\n",
    "np.save(\"topology_results/SI/taggen/\"+file_name+\"/wbet_agg.npy\",clot)\n",
    "print(\"tag\",stats.ks_2samp(clo,clot)[0])"
   ]
  },
  {
   "cell_type": "code",
   "execution_count": null,
   "metadata": {},
   "outputs": [],
   "source": []
  },
  {
   "cell_type": "code",
   "execution_count": null,
   "metadata": {},
   "outputs": [],
   "source": []
  },
  {
   "cell_type": "code",
   "execution_count": null,
   "metadata": {},
   "outputs": [],
   "source": []
  },
  {
   "cell_type": "code",
   "execution_count": null,
   "metadata": {},
   "outputs": [],
   "source": []
  },
  {
   "cell_type": "markdown",
   "metadata": {},
   "source": [
    "# s metric"
   ]
  },
  {
   "cell_type": "code",
   "execution_count": null,
   "metadata": {},
   "outputs": [],
   "source": [
    "file_name = \"InVS13\"\n",
    "file_name = \"LH10\"\n",
    "file_name = \"High_School11\"\n",
    "\n",
    "ori = load_origin_graph(file_name)\n",
    "etn_gen = load_ETNgen_graph(file_name)\n",
    "dym_gen = load_dym_graph(file_name)\n",
    "stm_gen = load_stm_graph(file_name)\n",
    "tag_gen = load_tag_graph(file_name)"
   ]
  },
  {
   "cell_type": "code",
   "execution_count": null,
   "metadata": {},
   "outputs": [],
   "source": [
    "# s metric come in 16 dymond\n",
    "def s_metric(graphs):\n",
    "    res = []\n",
    "    res_in = 0\n",
    "    for i,j in g.edges():\n",
    "        d_i = g.degree(i)\n",
    "        d_j = g.degree(j)\n",
    "        res_in = res_in + d_i*d_j\n",
    "    return res_in"
   ]
  },
  {
   "cell_type": "code",
   "execution_count": null,
   "metadata": {},
   "outputs": [],
   "source": [
    "res_ori = s_metric(ori)"
   ]
  },
  {
   "cell_type": "code",
   "execution_count": null,
   "metadata": {},
   "outputs": [],
   "source": [
    "res_etn = []\n",
    "for gr in etn_gen:\n",
    "    g = to_aggregated_nx(gr)\n",
    "    res_etn.append(s_metric(g))    \n",
    "res_etn = [np.mean(res_etn),np.std(res_etn)]\n",
    "\n",
    "res_stm = []\n",
    "for gr in stm_gen:\n",
    "    g = to_aggregated_nx(gr)\n",
    "    #if not nx.is_connected(g):\n",
    "    #    largest_cc = max(nx.connected_components(g), key=len) # get the biggest connected components\n",
    "    #    g = g.subgraph(largest_cc).copy()  # get subgrph\n",
    "    if nx.is_connected(g):\n",
    "        res_stm.append(s_metric(g))\n",
    "res_stm = [np.mean(res_stm),np.std(res_stm)]\n",
    "\n",
    "res_tag = []\n",
    "for gr in tag_gen:\n",
    "    g = to_aggregated_nx(gr)\n",
    "    res_tag.append(s_metric(g))\n",
    "res_tag = [np.mean(res_tag),np.std(res_tag)]\n",
    "\n",
    "res_dym = []\n",
    "for gr in dym_gen:\n",
    "    g = to_aggregated_nx(gr)\n",
    "    res_dym.append(s_metric(g))\n",
    "res_dym = [np.mean(res_dym),np.std(res_dym)]"
   ]
  },
  {
   "cell_type": "code",
   "execution_count": null,
   "metadata": {},
   "outputs": [],
   "source": [
    "print(res_ori - res_etn[0], res_etn[1])\n",
    "print(res_ori - res_stm[0], res_stm[1])\n",
    "print(res_ori - res_tag[0], res_tag[1])\n",
    "print(res_ori - res_dym[0], res_dym[1])"
   ]
  },
  {
   "cell_type": "code",
   "execution_count": null,
   "metadata": {},
   "outputs": [],
   "source": [
    "invs\n",
    "1250067.3 78324.66566037801\n",
    "2397440.75 2502688.0403472558\n",
    "56194.09999999963 9373845.068694538 #tolto il negativo\n",
    "16440.099999999627 812115.5922352988#tolto il negativo\n",
    "\n",
    "\n",
    "lh10\n",
    "5331542.0 333342.8752218952\n",
    "10977079.75 410285.7884011308\n",
    "8902336.2 3746975.56843198\n",
    "14045249.5 10113.307760075335\n",
    "\n",
    "hs11\n",
    "7140500.9 617645.3569687787  #tolto il negativo\n",
    "2287805.5 138331.65329110326#tolto il negativo\n",
    "46346781.0 29931538.316608094#tolto il negativo\n",
    "1640299.0 734031.8945490039#tolto il negativo"
   ]
  },
  {
   "cell_type": "code",
   "execution_count": null,
   "metadata": {},
   "outputs": [],
   "source": [
    "1250067.3/2397440.75,2397440.75/2397440.75,56194.09999999963/2397440.75,16440.099999999627/2397440.75,"
   ]
  },
  {
   "cell_type": "code",
   "execution_count": null,
   "metadata": {},
   "outputs": [],
   "source": [
    "5331542.0 /14045249.5,10977079.75 /14045249.5,8902336.2 /14045249.5,14045249.5 /14045249.5\n"
   ]
  },
  {
   "cell_type": "code",
   "execution_count": null,
   "metadata": {},
   "outputs": [],
   "source": [
    "7140500.9 /46346781,2287805.5 /46346781,46346781.0/46346781,1640299.0 /46346781"
   ]
  },
  {
   "cell_type": "code",
   "execution_count": null,
   "metadata": {},
   "outputs": [],
   "source": [
    "MAX = np.max([res_ori,max(res_etn),max(res_stm),max(res_tag),max(res_dym)])\n",
    "res_etnN = res_etn/MAX\n",
    "res_stmN = res_stm/MAX\n",
    "res_tagN = res_tag/MAX\n",
    "res_dymN = res_dym/MAX"
   ]
  },
  {
   "cell_type": "code",
   "execution_count": null,
   "metadata": {},
   "outputs": [],
   "source": [
    "np.mean(res_etnN),np.std(res_etnN)"
   ]
  },
  {
   "cell_type": "code",
   "execution_count": null,
   "metadata": {},
   "outputs": [],
   "source": []
  },
  {
   "cell_type": "code",
   "execution_count": null,
   "metadata": {},
   "outputs": [],
   "source": [
    "MAX"
   ]
  },
  {
   "cell_type": "code",
   "execution_count": null,
   "metadata": {},
   "outputs": [],
   "source": []
  },
  {
   "cell_type": "code",
   "execution_count": null,
   "metadata": {},
   "outputs": [],
   "source": []
  },
  {
   "cell_type": "markdown",
   "metadata": {},
   "source": [
    "# asp e s-metric\n",
    "# agg 1 ora"
   ]
  },
  {
   "cell_type": "code",
   "execution_count": null,
   "metadata": {},
   "outputs": [],
   "source": [
    "60/5"
   ]
  },
  {
   "cell_type": "code",
   "execution_count": null,
   "metadata": {},
   "outputs": [],
   "source": [
    "def load_origin_graph(file_name,gap=299):\n",
    "    data_in = cs.load_data(\"../Datasets/\"+file_name+\".dat\")\n",
    "    gap = (300*12)-1 \n",
    "    graphs_in = cs.build_graphs(data_in,gap=gap)\n",
    "    return graphs_in\n",
    "\n",
    "def load_ETNgen_graph(file_name):\n",
    "    path = \"../Generated_graphs/Multiple_run/\"+file_name+\"/\"\n",
    "    gap = (300*12)-1 \n",
    "    graphs = []\n",
    "    for i in os.listdir(path):\n",
    "        data_in = cs.load_data(path+i)\n",
    "        graphs_in = cs.build_graphs(data_in,gap=gap)\n",
    "        graphs.append(graphs_in)\n",
    "    return graphs\n",
    "\n",
    "\n",
    "def load_dym_graph(file_name):\n",
    "    path = \"../Competitors_generated_graphs/Dymond/Multiple_run/\"+file_name+\"/\"\n",
    "    gap = 12 \n",
    "    graphs = []\n",
    "    for i in os.listdir(path):\n",
    "        print(path+i)\n",
    "        data_in = cs.load_data(path+i)\n",
    "        graphs_in = cs.build_graphs(data_in,gap=gap)\n",
    "        graphs.append(graphs_in)\n",
    "    return graphs\n",
    "\n",
    "def load_stm_graph(file_name):\n",
    "    path = \"../Competitors_generated_graphs/STM/Multiple_run/\"+file_name+\"/\"\n",
    "    gap = 12 \n",
    "    graphs = []\n",
    "    for i in os.listdir(path):\n",
    "        print(path+i)\n",
    "        data_in = cs.load_data(path+i)\n",
    "        graphs_in = cs.build_graphs(data_in,gap=gap)\n",
    "        graphs.append(graphs_in)\n",
    "    return graphs\n",
    "\n",
    "def load_tag_graph(file_name):\n",
    "    path = \"../Competitors_generated_graphs/TagGen/Multiple_run/\"+file_name+\"/\"\n",
    "    gap = 12\n",
    "    graphs = []\n",
    "    for i in os.listdir(path):\n",
    "        print(path+i)\n",
    "        data_in = cs.load_data(path+i)\n",
    "        graphs_in = cs.build_graphs(data_in,gap=gap)\n",
    "        graphs.append(graphs_in)\n",
    "    return graphs"
   ]
  },
  {
   "cell_type": "code",
   "execution_count": null,
   "metadata": {},
   "outputs": [],
   "source": [
    "import networkx as nx\n",
    "import numpy as np\n",
    "from scipy import stats\n",
    "import matplotlib.pyplot as plt\n",
    "\n",
    "from topological_metrics import *\n",
    "\n",
    "import os"
   ]
  },
  {
   "cell_type": "code",
   "execution_count": null,
   "metadata": {},
   "outputs": [],
   "source": [
    "file_name = \"InVS13\"\n",
    "#file_name = \"LH10\"\n",
    "#file_name = \"High_School11\"\n",
    "\n",
    "\n",
    "ori = load_origin_graph(file_name)\n",
    "etn_gen = load_ETNgen_graph(file_name)\n",
    "dym_gen = load_dym_graph(file_name)\n",
    "stm_gen = load_stm_graph(file_name)\n",
    "tag_gen = load_tag_graph(file_name)"
   ]
  },
  {
   "cell_type": "code",
   "execution_count": null,
   "metadata": {},
   "outputs": [],
   "source": [
    "len(ori),len(etn_gen[0]),len(stm_gen[0]),len(tag_gen[0]),len(dym_gen[0])"
   ]
  },
  {
   "cell_type": "code",
   "execution_count": null,
   "metadata": {},
   "outputs": [],
   "source": []
  },
  {
   "cell_type": "code",
   "execution_count": null,
   "metadata": {},
   "outputs": [],
   "source": [
    "res = []\n",
    "for graph in ori:\n",
    "    largest_cc = max(nx.connected_components(graph), key=len) # get the biggest connected components\n",
    "    sub_G = graph.subgraph(largest_cc).copy()  # get subgrph\n",
    "    res.append(nx.average_shortest_path_length(sub_G))\n",
    "    \n",
    "np.save(\"topology_results/original_distributions/\"+file_name+\"/hasp.npy\",res)"
   ]
  },
  {
   "cell_type": "code",
   "execution_count": null,
   "metadata": {},
   "outputs": [],
   "source": [
    "def aspl_hour(comp):\n",
    "    res = []\n",
    "    for graphs in comp:\n",
    "        tmp = []\n",
    "        for graph in graphs:\n",
    "            largest_cc = max(nx.connected_components(graph), key=len) # get the biggest connected components\n",
    "            sub_G = graph.subgraph(largest_cc).copy()  # get subgrph\n",
    "            tmp.append(nx.average_shortest_path_length(sub_G))\n",
    "        res.append(tmp)\n",
    "        \n",
    "    return np.array(res,dtype=object)"
   ]
  },
  {
   "cell_type": "code",
   "execution_count": null,
   "metadata": {},
   "outputs": [],
   "source": [
    "res_etn = aspl_hour(etn_gen)\n",
    "np.save(\"topology_results/etngen/Multiple_run/distributions/\"+file_name+\"/hasp.npy\",res_etn)"
   ]
  },
  {
   "cell_type": "code",
   "execution_count": null,
   "metadata": {},
   "outputs": [],
   "source": [
    "res_stm = aspl_hour(stm_gen)\n",
    "np.save(\"topology_results/stmgen/Multiple_run/distributions/\"+file_name+\"/hasp.npy\",res_stm)"
   ]
  },
  {
   "cell_type": "code",
   "execution_count": null,
   "metadata": {},
   "outputs": [],
   "source": [
    "res_tag = aspl_hour(tag_gen)\n",
    "np.save(\"topology_results/taggen/Multiple_run/distributions/\"+file_name+\"/hasp.npy\",res_tag)"
   ]
  },
  {
   "cell_type": "code",
   "execution_count": null,
   "metadata": {},
   "outputs": [],
   "source": [
    "res_dym = aspl_hour(dym_gen)\n",
    "np.save(\"topology_results/dymgen/Multiple_run/distributions/\"+file_name+\"/hasp.npy\",res_dym)"
   ]
  },
  {
   "cell_type": "code",
   "execution_count": null,
   "metadata": {},
   "outputs": [],
   "source": []
  },
  {
   "cell_type": "code",
   "execution_count": null,
   "metadata": {},
   "outputs": [],
   "source": [
    "from scipy.stats import ks_2samp\n",
    "\n",
    "print(\"etn\",ks_2samp(res,res_etn[0])[0])\n",
    "print(\"stm\",ks_2samp(res,res_stm[0])[0])\n",
    "print(\"tag\",ks_2samp(res,res_tag[0])[0])\n",
    "print(\"dym\",ks_2samp(res,res_dym[0])[0])\n"
   ]
  },
  {
   "cell_type": "markdown",
   "metadata": {},
   "source": [
    "# smetric"
   ]
  },
  {
   "cell_type": "code",
   "execution_count": null,
   "metadata": {},
   "outputs": [],
   "source": []
  },
  {
   "cell_type": "code",
   "execution_count": null,
   "metadata": {},
   "outputs": [],
   "source": [
    "file_name = \"InVS13\"\n",
    "file_name = \"LH10\"\n",
    "file_name = \"High_School11\"\n",
    "\n",
    "\n",
    "ori = load_origin_graph(file_name)\n",
    "etn_gen = load_ETNgen_graph(file_name)\n",
    "dym_gen = load_dym_graph(file_name)\n",
    "stm_gen = load_stm_graph(file_name)\n",
    "tag_gen = load_tag_graph(file_name)"
   ]
  },
  {
   "cell_type": "code",
   "execution_count": null,
   "metadata": {},
   "outputs": [],
   "source": [
    "# s metric come in 16 dymond\n",
    "def s_metric(graphs):\n",
    "    res = []\n",
    "    res_in = 0\n",
    "    for i,j in graphs.edges():\n",
    "        d_i = graphs.degree(i)\n",
    "        d_j = graphs.degree(j)\n",
    "        res_in = res_in + d_i*d_j\n",
    "    return res_in"
   ]
  },
  {
   "cell_type": "code",
   "execution_count": null,
   "metadata": {},
   "outputs": [],
   "source": [
    "res = []\n",
    "\n",
    "for g in ori:\n",
    "    res.append(s_metric(g))\n",
    "    \n",
    "    \n",
    "np.save(\"topology_results/original_distributions/\"+file_name+\"/hs_metric.npy\",res)"
   ]
  },
  {
   "cell_type": "code",
   "execution_count": null,
   "metadata": {},
   "outputs": [],
   "source": [
    "\n",
    "\n",
    "def smetric_hour(comp):\n",
    "    res = []\n",
    "    for graphs in comp:\n",
    "        tmp = []\n",
    "        for graph in graphs:\n",
    "            tmp.append(s_metric(graph))\n",
    "        res.append(tmp)\n",
    "        \n",
    "    return np.array(res,dtype=object)"
   ]
  },
  {
   "cell_type": "code",
   "execution_count": null,
   "metadata": {},
   "outputs": [],
   "source": [
    "res_etn = smetric_hour(etn_gen)\n",
    "np.save(\"topology_results/etngen/Multiple_run/distributions/\"+file_name+\"/hs_metric.npy\",res_etn)"
   ]
  },
  {
   "cell_type": "code",
   "execution_count": null,
   "metadata": {},
   "outputs": [],
   "source": [
    "res_stm = smetric_hour(stm_gen)\n",
    "np.save(\"topology_results/stmgen/Multiple_run/distributions/\"+file_name+\"/hs_metric.npy\",res_stm)\n",
    "\n",
    "res_tag = smetric_hour(tag_gen)\n",
    "np.save(\"topology_results/taggen/Multiple_run/distributions/\"+file_name+\"/hs_metric.npy\",res_tag)\n",
    "\n",
    "res_dym = smetric_hour(dym_gen)\n",
    "np.save(\"topology_results/dymgen/Multiple_run/distributions/\"+file_name+\"/hs_metric.npy\",res_dym)"
   ]
  },
  {
   "cell_type": "code",
   "execution_count": null,
   "metadata": {},
   "outputs": [],
   "source": []
  },
  {
   "cell_type": "code",
   "execution_count": null,
   "metadata": {},
   "outputs": [],
   "source": [
    "from scipy.stats import ks_2samp\n",
    "\n",
    "print(\"etn\",ks_2samp(res,res_etn[0])[0])\n",
    "print(\"stm\",ks_2samp(res,res_stm[0])[0])\n",
    "print(\"tag\",ks_2samp(res,res_tag[0])[0])\n",
    "print(\"dym\",ks_2samp(res,res_dym[0])[0])\n"
   ]
  },
  {
   "cell_type": "code",
   "execution_count": null,
   "metadata": {},
   "outputs": [],
   "source": []
  }
 ],
 "metadata": {
  "interpreter": {
   "hash": "bb17086194d7d73ddadbbf43f541071d992a7ee65541854f310228bfe926c80e"
  },
  "kernelspec": {
   "display_name": "Python 3 (ipykernel)",
   "language": "python",
   "name": "python3"
  },
  "language_info": {
   "codemirror_mode": {
    "name": "ipython",
    "version": 3
   },
   "file_extension": ".py",
   "mimetype": "text/x-python",
   "name": "python",
   "nbconvert_exporter": "python",
   "pygments_lexer": "ipython3",
   "version": "3.10.11"
  }
 },
 "nbformat": 4,
 "nbformat_minor": 4
}
