{
 "cells": [
  {
   "cell_type": "code",
   "execution_count": 275,
   "metadata": {},
   "outputs": [
    {
     "name": "stdout",
     "output_type": "stream",
     "text": [
      "The autoreload extension is already loaded. To reload it, use:\n",
      "  %reload_ext autoreload\n"
     ]
    }
   ],
   "source": [
    "import construction as cs\n",
    "import networkx as nx\n",
    "import numpy as np\n",
    "import pandas as pd\n",
    "import matplotlib.pyplot as plt\n",
    "from scipy.stats import ks_2samp\n",
    "\n",
    "\n",
    "import dynamic_metrics as ds\n",
    "\n",
    "\n",
    "import matplotlib.pyplot as plt\n",
    "\n",
    "### read font\n",
    "from matplotlib import font_manager\n",
    "\n",
    "font_dirs = ['Barlow/']\n",
    "font_files = font_manager.findSystemFonts(fontpaths=font_dirs)\n",
    "\n",
    "for font_file in font_files:\n",
    "    font_manager.fontManager.addfont(font_file)\n",
    "\n",
    "# set font\n",
    "plt.rcParams['font.family'] = 'Barlow'\n",
    "\n",
    "import networkx as nx\n",
    "%matplotlib inline\n",
    "%config InlineBackend.figure_format = 'retina'\n",
    "\n",
    "\n",
    "\n",
    "\n",
    "%load_ext autoreload\n",
    "%autoreload 2"
   ]
  },
  {
   "cell_type": "code",
   "execution_count": 276,
   "metadata": {},
   "outputs": [],
   "source": [
    "def load_origin_graph(file_name,gap=299):\n",
    "    data_in = cs.load_data(\"../Datasets/\"+file_name+\"t.dat\")\n",
    "    graphs_in = cs.build_graphs(data_in,gap=gap)\n",
    "    return graphs_in\n",
    "\n",
    "def load_ETNgen_graph(file_name,gap=299):\n",
    "    path = \"../Generated_graphs/ETNgen-\"+file_name+\"t.dat\" \n",
    "    graphs = []\n",
    "    data_in = cs.load_data(path)\n",
    "    graphs = cs.build_graphs(data_in,gap)\n",
    "    return graphs\n",
    "\n",
    "\n",
    "def load_tag_graph(file_name):\n",
    "    path = \"../Competitors_generated_graphs/TagGen/\"+file_name+\"t_599_generato_TagGen.dat\"\n",
    "    gap = 0 \n",
    "    graphs = []\n",
    "    data_in = cs.load_data(path)\n",
    "    graphs = cs.build_graphs(data_in,gap)\n",
    "    return graphs"
   ]
  },
  {
   "cell_type": "code",
   "execution_count": 277,
   "metadata": {},
   "outputs": [],
   "source": [
    "import os "
   ]
  },
  {
   "cell_type": "code",
   "execution_count": 278,
   "metadata": {},
   "outputs": [
    {
     "data": {
      "text/plain": [
       "(1007, 1008, 1007)"
      ]
     },
     "execution_count": 278,
     "metadata": {},
     "output_type": "execute_result"
    }
   ],
   "source": [
    "file_name = \"DTU_SMS_1set\"\n",
    "orig_graphs = load_origin_graph(file_name,gap=599)\n",
    "etn_gen = load_ETNgen_graph(file_name)\n",
    "tag_gen = load_tag_graph(file_name)\n",
    "\n",
    "len(orig_graphs),len(etn_gen),len(tag_gen)"
   ]
  },
  {
   "cell_type": "code",
   "execution_count": null,
   "metadata": {},
   "outputs": [],
   "source": []
  },
  {
   "cell_type": "code",
   "execution_count": 250,
   "metadata": {},
   "outputs": [],
   "source": [
    "nb_nodes_lh = [75,[75.0,0],[182.4, 12.009995836801943],[18.6, 2.727636339397171],[75.0,0]]\n",
    "nb_nodes_in = [92,[92.0,0],[200.6, 28.51385628076287],[91.7, 0.45825756949558394],[92.0,0]]\n",
    "nb_nodes_hs = [126,[126.0,0],[370.6, 18.211260252931424],[58.7, 6.542935121182236],[126.0,0]]"
   ]
  },
  {
   "cell_type": "code",
   "execution_count": null,
   "metadata": {},
   "outputs": [],
   "source": []
  },
  {
   "cell_type": "code",
   "execution_count": 251,
   "metadata": {},
   "outputs": [],
   "source": [
    "import os\n",
    "\n",
    "path = \"dynamic_results/SI/\"+file_name\n",
    "COV = path+\"/coverage\"\n",
    "MFPTs = path+\"/MFPT\"\n",
    "\n",
    "if not os.path.exists(path):\n",
    "    os.makedirs(path)\n",
    "    os.makedirs(COV)\n",
    "    os.makedirs(MFPTs)"
   ]
  },
  {
   "cell_type": "code",
   "execution_count": null,
   "metadata": {},
   "outputs": [],
   "source": []
  },
  {
   "cell_type": "code",
   "execution_count": null,
   "metadata": {},
   "outputs": [],
   "source": []
  },
  {
   "cell_type": "markdown",
   "metadata": {},
   "source": [
    "# coverage"
   ]
  },
  {
   "cell_type": "markdown",
   "metadata": {},
   "source": [
    "k volte, con n0 e t0 random"
   ]
  },
  {
   "cell_type": "code",
   "execution_count": 252,
   "metadata": {},
   "outputs": [],
   "source": [
    "from scipy.stats import ks_2samp"
   ]
  },
  {
   "cell_type": "code",
   "execution_count": 253,
   "metadata": {},
   "outputs": [
    {
     "name": "stdout",
     "output_type": "stream",
     "text": [
      "ETN done\n",
      "TAG done\n"
     ]
    }
   ],
   "source": [
    "K = 500\n",
    "T = 500\n",
    "c_stm,c_mio,c_tag,c_dym = [],[],[],[]\n",
    "\n",
    "c_orig = ds.coverage(orig_graphs,K,T)\n",
    "c_stab = ds.coverage(orig_graphs,K,T)\n",
    "for etn in [etn_gen]:\n",
    "    c_mio.append(ds.coverage(etn,K,T))\n",
    "print(\"ETN done\")\n",
    "for tag in [tag_gen]:\n",
    "    c_tag.append(ds.coverage(tag,K,T))\n",
    "print(\"TAG done\")"
   ]
  },
  {
   "cell_type": "code",
   "execution_count": 254,
   "metadata": {},
   "outputs": [],
   "source": [
    "def mean_ks(c_orig,c_gens):\n",
    "    res = []\n",
    "    for i in c_gens:\n",
    "        res.append(ks_2samp(c_orig,i)[0])\n",
    "    return np.mean(res),np.std(res)"
   ]
  },
  {
   "cell_type": "code",
   "execution_count": 255,
   "metadata": {},
   "outputs": [
    {
     "name": "stdout",
     "output_type": "stream",
     "text": [
      "coverage\n",
      "orig vs sta \t 0.044\n",
      "orig vs mio \t (0.48, 0.0)\n",
      "orig vs tag \t (0.316, 0.0)\n"
     ]
    }
   ],
   "source": [
    "\n",
    "print(\"coverage\")\n",
    "print(\"orig vs sta \\t\",ks_2samp(c_orig, c_stab)[0])\n",
    "print(\"orig vs mio \\t\",mean_ks(c_orig, c_mio))\n",
    "print(\"orig vs tag \\t\",mean_ks(c_orig, c_tag))"
   ]
  },
  {
   "cell_type": "code",
   "execution_count": 256,
   "metadata": {},
   "outputs": [],
   "source": [
    "np.save(COV+\"/stab\",c_stab)\n",
    "np.save(COV+\"/orig\",c_orig)\n",
    "np.save(COV+\"/tag\",c_tag)\n",
    "np.save(COV+\"/etn\",c_mio)"
   ]
  },
  {
   "cell_type": "code",
   "execution_count": null,
   "metadata": {},
   "outputs": [],
   "source": []
  },
  {
   "cell_type": "markdown",
   "metadata": {},
   "source": [
    "# MFPT"
   ]
  },
  {
   "cell_type": "code",
   "execution_count": 113,
   "metadata": {},
   "outputs": [
    {
     "data": {
      "text/plain": [
       "'dynamic_results/SI/DTU_calls_1set/MFPT'"
      ]
     },
     "execution_count": 113,
     "metadata": {},
     "output_type": "execute_result"
    }
   ],
   "source": [
    "MFPTs"
   ]
  },
  {
   "cell_type": "code",
   "execution_count": 279,
   "metadata": {},
   "outputs": [
    {
     "data": {
      "text/plain": [
       "(1003, 1005, 1003)"
      ]
     },
     "execution_count": 279,
     "metadata": {},
     "output_type": "execute_result"
    }
   ],
   "source": [
    "file_name = \"DTU_calls_1set\"\n",
    "\n",
    "orig_graphs = load_origin_graph(file_name,gap=599)\n",
    "etn_gen = load_ETNgen_graph(file_name)\n",
    "tag_gen = load_tag_graph(file_name)\n",
    "\n",
    "len(orig_graphs),len(etn_gen),len(tag_gen)"
   ]
  },
  {
   "cell_type": "code",
   "execution_count": 280,
   "metadata": {},
   "outputs": [],
   "source": [
    "K = 1\n",
    "m_ori = ds.MFPT(orig_graphs,K)"
   ]
  },
  {
   "cell_type": "code",
   "execution_count": 281,
   "metadata": {},
   "outputs": [
    {
     "name": "stdout",
     "output_type": "stream",
     "text": [
      "1\n",
      "2\n"
     ]
    }
   ],
   "source": [
    "m_ori2 = [x for x in m_ori if x < max(m_ori)-10]\n",
    "print(1)\n",
    "m_stb = ds.MFPT(orig_graphs,K)\n",
    "m_stb2 = [x for x in m_stb if x < max(m_ori)-10]\n",
    "print(2)"
   ]
  },
  {
   "cell_type": "code",
   "execution_count": 287,
   "metadata": {},
   "outputs": [
    {
     "name": "stdout",
     "output_type": "stream",
     "text": [
      "\t 1\n",
      "ETN done\n",
      "\t 1\n",
      "TAG done\n"
     ]
    }
   ],
   "source": [
    "m_mio2,m_tag2,= [],[]\n",
    "\n",
    "c = 0\n",
    "for etn in [etn_gen]:\n",
    "    c = c + 1\n",
    "    print(\"\\t\",c)\n",
    "    m_mio = ds.MFPT(etn,K)\n",
    "    tmp = [x for x in m_mio if x < max(m_ori)-10]\n",
    "    m_mio2.append(tmp)\n",
    "print(\"ETN done\")\n",
    "\n",
    "c = 0\n",
    "for tag in [tag_gen]:\n",
    "    c = c + 1\n",
    "    print(\"\\t\",c)\n",
    "    m_tag = ds.MFPT(tag,K)\n",
    "    tmp = [x for x in m_tag if x < max(m_ori)-10]\n",
    "    m_tag2.append(tmp)\n",
    "print(\"TAG done\")\n"
   ]
  },
  {
   "cell_type": "code",
   "execution_count": 295,
   "metadata": {},
   "outputs": [
    {
     "data": {
      "text/plain": [
       "(94864, 94864)"
      ]
     },
     "execution_count": 295,
     "metadata": {},
     "output_type": "execute_result"
    }
   ],
   "source": [
    "len(m_ori),len(m_mio)"
   ]
  },
  {
   "cell_type": "code",
   "execution_count": null,
   "metadata": {},
   "outputs": [],
   "source": []
  },
  {
   "cell_type": "code",
   "execution_count": null,
   "metadata": {},
   "outputs": [],
   "source": []
  },
  {
   "cell_type": "code",
   "execution_count": null,
   "metadata": {},
   "outputs": [],
   "source": []
  },
  {
   "cell_type": "code",
   "execution_count": 298,
   "metadata": {},
   "outputs": [
    {
     "name": "stdout",
     "output_type": "stream",
     "text": [
      "orig vs sta \t 5.2707033226513916e-05\n",
      "orig vs mio \t 0.9937278630460449\n",
      "orig vs mio \t 0.04029979760499241\n"
     ]
    }
   ],
   "source": [
    "print(\"orig vs sta \\t\",ks_2samp(m_ori, m_stb)[0])\n",
    "print(\"orig vs mio \\t\",ks_2samp(m_ori, m_mio)[0])\n",
    "print(\"orig vs mio \\t\",ks_2samp(m_ori, m_tag)[0])"
   ]
  },
  {
   "cell_type": "code",
   "execution_count": 299,
   "metadata": {},
   "outputs": [
    {
     "name": "stdout",
     "output_type": "stream",
     "text": [
      "orig vs sta \t 0.0069091361037669765\n",
      "orig vs mio \t 0.9938332771124979\n",
      "orig vs mio \t 0.9534913138809242\n"
     ]
    }
   ],
   "source": [
    "print(\"orig vs sta \\t\",ks_2samp(m_ori2, m_stb2)[0])\n",
    "print(\"orig vs mio \\t\",ks_2samp(m_ori2, m_mio)[0])\n",
    "print(\"orig vs mio \\t\",ks_2samp(m_ori2, m_tag)[0])"
   ]
  },
  {
   "cell_type": "code",
   "execution_count": null,
   "metadata": {},
   "outputs": [],
   "source": []
  },
  {
   "cell_type": "code",
   "execution_count": 17,
   "metadata": {},
   "outputs": [],
   "source": [
    "np.save(MFPTs+\"/stab\",m_stb2)\n",
    "np.save(MFPTs+\"/orig\",m_ori2)\n",
    "np.save(MFPTs+\"/tag\",m_tag)\n",
    "np.save(MFPTs+\"/etn\",m_mio)\n",
    "np.save(MFPTs+\"/dym\",m_dym)\n",
    "np.save(MFPTs+\"/stm\",m_stm)"
   ]
  },
  {
   "cell_type": "code",
   "execution_count": null,
   "metadata": {},
   "outputs": [],
   "source": []
  },
  {
   "cell_type": "code",
   "execution_count": 18,
   "metadata": {},
   "outputs": [
    {
     "data": {
      "text/plain": [
       "'dynamic_results/InVS13/Multiple_run/MFPT'"
      ]
     },
     "execution_count": 18,
     "metadata": {},
     "output_type": "execute_result"
    }
   ],
   "source": [
    "MFPTs"
   ]
  },
  {
   "cell_type": "code",
   "execution_count": null,
   "metadata": {},
   "outputs": [],
   "source": []
  },
  {
   "cell_type": "code",
   "execution_count": null,
   "metadata": {},
   "outputs": [],
   "source": []
  },
  {
   "cell_type": "code",
   "execution_count": null,
   "metadata": {},
   "outputs": [],
   "source": []
  },
  {
   "cell_type": "markdown",
   "metadata": {},
   "source": [
    "# SIR model"
   ]
  },
  {
   "cell_type": "code",
   "execution_count": 164,
   "metadata": {},
   "outputs": [],
   "source": [
    "file_name = \"DTU_SMS_1set\""
   ]
  },
  {
   "cell_type": "code",
   "execution_count": 165,
   "metadata": {},
   "outputs": [
    {
     "data": {
      "text/plain": [
       "'dynamic_results/SI/DTU_SMS_1set'"
      ]
     },
     "execution_count": 165,
     "metadata": {},
     "output_type": "execute_result"
    }
   ],
   "source": [
    "import os\n",
    "\n",
    "path = \"dynamic_results/SI/\"+file_name+\"\"\n",
    "R0 = path+\"/R0/\"\n",
    "la025 = R0+\"la025\"\n",
    "la015 = R0+\"la015\"\n",
    "la001 = R0+\"la001\"\n",
    "if not os.path.exists(la001):\n",
    "    os.makedirs(la025)\n",
    "    os.makedirs(la015)\n",
    "    os.makedirs(la001)\n",
    "path"
   ]
  },
  {
   "cell_type": "code",
   "execution_count": 166,
   "metadata": {},
   "outputs": [
    {
     "data": {
      "text/plain": [
       "(1007, 1008, 1007)"
      ]
     },
     "execution_count": 166,
     "metadata": {},
     "output_type": "execute_result"
    }
   ],
   "source": [
    "\n",
    "orig_graphs = load_origin_graph(file_name,gap=599)\n",
    "etn_gen = load_ETNgen_graph(file_name)\n",
    "tag_gen = load_tag_graph(file_name)\n",
    "\n",
    "len(orig_graphs),len(etn_gen),len(tag_gen)"
   ]
  },
  {
   "cell_type": "code",
   "execution_count": null,
   "metadata": {},
   "outputs": [],
   "source": []
  },
  {
   "cell_type": "code",
   "execution_count": null,
   "metadata": {},
   "outputs": [],
   "source": []
  },
  {
   "cell_type": "code",
   "execution_count": null,
   "metadata": {},
   "outputs": [],
   "source": []
  },
  {
   "cell_type": "code",
   "execution_count": null,
   "metadata": {},
   "outputs": [],
   "source": []
  },
  {
   "cell_type": "code",
   "execution_count": 169,
   "metadata": {},
   "outputs": [
    {
     "name": "stdout",
     "output_type": "stream",
     "text": [
      "R0 lambda 0.25 0.25\n",
      "Done ETN\n",
      "Done TAG\n",
      "orig vs sta \t 0.09\n",
      "orig vs etn \t (0.15, 0.0)\n",
      "orig vs tag \t (0.21, 0.0)\n"
     ]
    }
   ],
   "source": [
    "for lambd in [0.25]:\n",
    "    mu =0.005\n",
    "    K = 100\n",
    "\n",
    "\n",
    "    if lambd == 0.25:\n",
    "        la = la025\n",
    "    if lambd == 0.15:\n",
    "        la = la015\n",
    "    if lambd == 0.01:\n",
    "        la = la001\n",
    "\n",
    "    print(\"R0 lambda\",lambd,lambd)\n",
    "    r_ori = ds.compute_r0(K,orig_graphs,lambd,mu)\n",
    "    r_sta = ds.compute_r0(K,orig_graphs,lambd,mu)\n",
    "    r_etn,r_stm,r_tag,r_dym = [],[],[],[]\n",
    "    for etn in [etn_gen]:\n",
    "        r_etn.append(ds.compute_r0(K,etn,lambd,mu))\n",
    "    print(\"Done ETN\")\n",
    "    for tag in [tag_gen]:\n",
    "        r_tag.append(ds.compute_r0(K,tag,lambd,mu))\n",
    "    print(\"Done TAG\")\n",
    "\n",
    "    print(\"orig vs sta \\t\",ks_2samp(r_ori, r_sta)[0])\n",
    "    print(\"orig vs etn \\t\",mean_ks(r_ori, r_etn))\n",
    "    print(\"orig vs tag \\t\",mean_ks(r_ori, r_tag))\n",
    "\n",
    "    np.save(la+\"/stab\",r_sta)\n",
    "    np.save(la+\"/orig\",r_ori)\n",
    "    np.save(la+\"/tag\",r_tag)\n",
    "    np.save(la+\"/etn\",r_etn)"
   ]
  },
  {
   "cell_type": "code",
   "execution_count": 172,
   "metadata": {},
   "outputs": [
    {
     "name": "stdout",
     "output_type": "stream",
     "text": [
      "R0 lambda 0.15 0.15\n",
      "Done ETN\n",
      "Done TAG\n",
      "orig vs sta \t 0.11\n",
      "orig vs etn \t (0.19, 0.0)\n",
      "orig vs tag \t (0.12, 0.0)\n"
     ]
    }
   ],
   "source": [
    "for lambd in [0.15]:\n",
    "    mu =0.005\n",
    "    K = 100\n",
    "\n",
    "\n",
    "    if lambd == 0.25:\n",
    "        la = la025\n",
    "    if lambd == 0.15:\n",
    "        la = la015\n",
    "    if lambd == 0.01:\n",
    "        la = la001\n",
    "\n",
    "    print(\"R0 lambda\",lambd,lambd)\n",
    "    r_ori = ds.compute_r0(K,orig_graphs,lambd,mu)\n",
    "    r_sta = ds.compute_r0(K,orig_graphs,lambd,mu)\n",
    "    r_etn,r_stm,r_tag,r_dym = [],[],[],[]\n",
    "    for etn in [etn_gen]:\n",
    "        r_etn.append(ds.compute_r0(K,etn,lambd,mu))\n",
    "    print(\"Done ETN\")\n",
    "    for tag in [tag_gen]:\n",
    "        r_tag.append(ds.compute_r0(K,tag,lambd,mu))\n",
    "    print(\"Done TAG\")\n",
    "\n",
    "    print(\"orig vs sta \\t\",ks_2samp(r_ori, r_sta)[0])\n",
    "    print(\"orig vs etn \\t\",mean_ks(r_ori, r_etn))\n",
    "    print(\"orig vs tag \\t\",mean_ks(r_ori, r_tag))\n",
    "\n",
    "    np.save(la+\"/stab\",r_sta)\n",
    "    np.save(la+\"/orig\",r_ori)\n",
    "    np.save(la+\"/tag\",r_tag)\n",
    "    np.save(la+\"/etn\",r_etn)"
   ]
  },
  {
   "cell_type": "code",
   "execution_count": 179,
   "metadata": {},
   "outputs": [
    {
     "name": "stdout",
     "output_type": "stream",
     "text": [
      "R0 lambda 0.01 0.01\n",
      "Done ETN\n",
      "Done TAG\n",
      "orig vs sta \t 0.0\n",
      "orig vs etn \t (0.06, 0.0)\n",
      "orig vs tag \t (0.09, 0.0)\n"
     ]
    }
   ],
   "source": [
    "for lambd in [0.01]:\n",
    "    mu =0.005\n",
    "    K = 100\n",
    "\n",
    "\n",
    "    if lambd == 0.25:\n",
    "        la = la025\n",
    "    if lambd == 0.15:\n",
    "        la = la015\n",
    "    if lambd == 0.01:\n",
    "        la = la001\n",
    "\n",
    "    print(\"R0 lambda\",lambd,lambd)\n",
    "    r_ori = ds.compute_r0(K,orig_graphs,lambd,mu)\n",
    "    r_sta = ds.compute_r0(K,orig_graphs,lambd,mu)\n",
    "    r_etn,r_stm,r_tag,r_dym = [],[],[],[]\n",
    "    for etn in [etn_gen]:\n",
    "        r_etn.append(ds.compute_r0(K,etn,lambd,mu))\n",
    "    print(\"Done ETN\")\n",
    "    for tag in [tag_gen]:\n",
    "        r_tag.append(ds.compute_r0(K,tag,lambd,mu))\n",
    "    print(\"Done TAG\")\n",
    "\n",
    "    print(\"orig vs sta \\t\",ks_2samp(r_ori, r_sta)[0])\n",
    "    print(\"orig vs etn \\t\",mean_ks(r_ori, r_etn))\n",
    "    print(\"orig vs tag \\t\",mean_ks(r_ori, r_tag))\n",
    "\n",
    "    np.save(la+\"/stab\",r_sta)\n",
    "    np.save(la+\"/orig\",r_ori)\n",
    "    np.save(la+\"/tag\",r_tag)\n",
    "    np.save(la+\"/etn\",r_etn)"
   ]
  },
  {
   "cell_type": "code",
   "execution_count": null,
   "metadata": {},
   "outputs": [],
   "source": []
  },
  {
   "cell_type": "markdown",
   "metadata": {},
   "source": [
    "# plot"
   ]
  },
  {
   "cell_type": "code",
   "execution_count": 6,
   "metadata": {},
   "outputs": [],
   "source": [
    "\n",
    "ORIGINAL_COLOR = '#474747' #dark grey\n",
    "ETN_COLOR =  '#fb7041' #'#E5865E' # arancio\n",
    "TAG_COLOR = '#96ccc8' # light blue\n",
    "STM_COLOR = '#bad1f2' #8F2E27' # rosso\n",
    "DYM_COLOR = '#559ca6' # teal\n",
    "\n",
    "\n",
    "\n",
    "line_width = 1.5\n"
   ]
  },
  {
   "cell_type": "code",
   "execution_count": 7,
   "metadata": {},
   "outputs": [],
   "source": [
    "import os"
   ]
  },
  {
   "cell_type": "code",
   "execution_count": 13,
   "metadata": {},
   "outputs": [],
   "source": [
    "def load_cov(file_name):\n",
    "    \n",
    "    ori = np.load(\"dynamic_results/SI/\"+file_name+\"/coverage/orig.npy\")\n",
    "    stb = np.load(\"dynamic_results/SI/\"+file_name+\"/coverage/stab.npy\")\n",
    "    etn = np.load(\"dynamic_results/SI/\"+file_name+\"/coverage/etn.npy\")\n",
    "    tag = np.load(\"dynamic_results/SI/\"+file_name+\"/coverage/tag.npy\")\n",
    "    \n",
    "    return ori,stb,etn,tag"
   ]
  },
  {
   "cell_type": "code",
   "execution_count": 14,
   "metadata": {},
   "outputs": [],
   "source": [
    "def load_mfpt(file_name):\n",
    "    \n",
    "    ori = np.load(\"dynamic_results/SI/\"+file_name+\"/MFPT/orig.npy\")\n",
    "    stb = np.load(\"dynamic_results/SI/\"+file_name+\"/MFPT/stab.npy\")\n",
    "    etn = np.load(\"dynamic_results/SI/\"+file_name+\"/MFPT/etn.npy\", allow_pickle=True)\n",
    "    tag = np.load(\"dynamic_results/SI/\"+file_name+\"/MFPT/tag.npy\", allow_pickle=True)\n",
    "    return ori,stb,etn,tag\n",
    "\n",
    "def load_r0(file_name,lambd=\"la001\"):\n",
    "    ori = np.load(\"dynamic_results/SI/\"+file_name+\"/R0/\"+lambd+\"/orig.npy\")\n",
    "    stb = np.load(\"dynamic_results/SI/\"+file_name+\"/R0/\"+lambd+\"/stab.npy\")\n",
    "    etn = np.load(\"dynamic_results/SI/\"+file_name+\"/R0/\"+lambd+\"/etn.npy\")\n",
    "    tag = np.load(\"dynamic_results/SI/\"+file_name+\"/R0/\"+lambd+\"/tag.npy\")\n",
    "    \n",
    "    return ori,stb,etn,tag"
   ]
  },
  {
   "cell_type": "code",
   "execution_count": 15,
   "metadata": {},
   "outputs": [],
   "source": [
    "file_name = \"High_School12\"\n",
    "cov = load_cov(file_name)\n",
    "mfpt = load_mfpt(file_name)\n",
    "ro_025 = load_r0(file_name,\"la025\")\n",
    "ro_015 = load_r0(file_name,\"la015\")\n",
    "ro_001 = load_r0(file_name,\"la001\")"
   ]
  },
  {
   "cell_type": "code",
   "execution_count": 21,
   "metadata": {},
   "outputs": [],
   "source": [
    "\n",
    "mfpt_ms = [ks_2samp(mfpt[0],mfpt[1])[0]]\n",
    "cov_ms = [ks_2samp(cov[0],cov[1])[0]]"
   ]
  },
  {
   "cell_type": "code",
   "execution_count": null,
   "metadata": {},
   "outputs": [],
   "source": []
  },
  {
   "cell_type": "code",
   "execution_count": 27,
   "metadata": {},
   "outputs": [],
   "source": [
    "for i in range(len(cov)-2):\n",
    "    tmp = []\n",
    "    tmp2 = []\n",
    "    for j in [cov[i+2]]:\n",
    "        tmp.append(ks_2samp(cov[0], j)[0])\n",
    "    for j in [mfpt[i+2]]:\n",
    "        tmp2.append(ks_2samp(mfpt[0], j)[0])\n",
    "    cov_ms.append([np.mean(tmp),np.std(tmp)])\n",
    "    mfpt_ms.append([np.mean(tmp2),np.std(tmp2)])\n"
   ]
  },
  {
   "cell_type": "code",
   "execution_count": null,
   "metadata": {},
   "outputs": [],
   "source": []
  },
  {
   "cell_type": "code",
   "execution_count": 28,
   "metadata": {},
   "outputs": [],
   "source": [
    "from matplotlib.patches import Patch\n",
    "from matplotlib.lines import Line2D\n",
    "\n",
    "def compute_ks_cov_mfpt(cov,mfpt):\n",
    "    \n",
    "    mfpt_ms = [ks_2samp(mfpt[0],mfpt[1])[0]]\n",
    "    cov_ms = [ks_2samp(cov[0],cov[1])[0]]\n",
    "    for i in range(len(cov)-2):\n",
    "        tmp = []\n",
    "        tmp2 = []\n",
    "        for j in [cov[i+2]]:\n",
    "            tmp.append(ks_2samp(cov[0], j)[0])\n",
    "        for j in [mfpt[i+2]]:\n",
    "            tmp2.append(ks_2samp(mfpt[0], j)[0])\n",
    "        cov_ms.append([np.mean(tmp),np.std(tmp)])\n",
    "        mfpt_ms.append([np.mean(tmp2),np.std(tmp2)])\n",
    "        \n",
    "    return cov_ms,mfpt_ms\n",
    "\n",
    "\n",
    "\n",
    "def plot_cov_mfpt(ax,file_name,legend=False):\n",
    "    \n",
    "    if file_name == \"LH10\":\n",
    "        #ax.set_title(\"Hospital\")\n",
    "        ax.set_ylabel(\"Hospital\")\n",
    "    if file_name == \"InVS13\":\n",
    "        ax.set_ylabel(\"Workplace\")\n",
    "    if file_name == \"High_School11\":\n",
    "        ax.set_ylabel(\"High school\")\n",
    "        \n",
    "    cov = load_cov(file_name)\n",
    "    mfpt = load_mfpt(file_name)\n",
    "    \n",
    "    x = np.arange(2)\n",
    "    cov_ms, mfpt_ms = compute_ks_cov_mfpt(cov,mfpt)\n",
    "    x1 = np.array([cov_ms[0],mfpt_ms[0]])\n",
    "    x2 = np.array([cov_ms[1],mfpt_ms[1]])\n",
    "    x3 = np.array([cov_ms[2],mfpt_ms[2]])\n",
    "    x4 = np.array([cov_ms[3],mfpt_ms[3]])\n",
    "    x5 = np.array([cov_ms[4],mfpt_ms[4]])\n",
    "\n",
    "    \n",
    "    error_bar_style = dict(ecolor=ORIGINAL_COLOR, alpha=0.8, lw=1.5, capsize=4, capthick=1)\n",
    "\n",
    "    width = 0.2\n",
    "    rects1 = ax.bar(x - 0.3, x2[:,0], width, yerr=x2[:,1], label='ETN-gen',color=ETN_COLOR, error_kw=error_bar_style)\n",
    "    rects4 = ax.bar(x - 0.1, x3[:,0], width, yerr=x3[:,1], label='STM',color=STM_COLOR, error_kw=error_bar_style)\n",
    "    rects5 = ax.bar(x + 0.1, x5[:,0], width, yerr=x5[:,1], label='TagGen',color=TAG_COLOR, error_kw=error_bar_style)\n",
    "    rects4 = ax.bar(x + 0.3 , x4[:,0], width, yerr=x4[:,1], label='Dymond',color=DYM_COLOR, error_kw=error_bar_style)\n",
    "    ax.plot([-0.45,0.45],[x1[0],x1[0]],linewidth=3, label='Stability',color=ORIGINAL_COLOR)\n",
    "    ax.plot([1-0.45,1.45],[x1[1],x1[1]],linewidth=3, label='Stability',color=ORIGINAL_COLOR)\n",
    "    \n",
    "              \n",
    "    ax.tick_params(bottom=False, right=False,left=False)\n",
    "    ax.set_axisbelow(True)\n",
    "    \n",
    "    ax.yaxis.grid(True, color='lightgrey')\n",
    "    ax.xaxis.grid(False)\n",
    "    \n",
    "    #ax.yaxis.grid(True, color='#FFFFFF')\n",
    "    #ax.set_facecolor('#EFEFEF')\n",
    "    #ax.xaxis.grid(False)\n",
    "    \n",
    "    \n",
    "    ax.spines['top'].set_visible(False)\n",
    "    ax.spines['right'].set_visible(False)\n",
    "    ax.spines['left'].set_visible(False)\n",
    "    ax.spines['bottom'].set_color('#DDDDDD')    \n",
    "    \n",
    "    labels = [\"Coverage\",\"MFPT\"]\n",
    "    ax.set_xticks(x)\n",
    "    ax.set_xticklabels(labels,rotation=0)\n",
    "    ax.set_ylim((0,1))"
   ]
  },
  {
   "cell_type": "code",
   "execution_count": null,
   "metadata": {},
   "outputs": [],
   "source": []
  },
  {
   "cell_type": "code",
   "execution_count": 29,
   "metadata": {},
   "outputs": [],
   "source": [
    "file_name == \"High_School12\"\n",
    "cov = load_cov(file_name)\n",
    "mfpt = load_mfpt(file_name)\n",
    "\n",
    "x = np.arange(2)\n",
    "cov_ms, mfpt_ms = compute_ks_cov_mfpt(cov,mfpt)"
   ]
  },
  {
   "cell_type": "code",
   "execution_count": null,
   "metadata": {},
   "outputs": [],
   "source": []
  },
  {
   "cell_type": "code",
   "execution_count": null,
   "metadata": {},
   "outputs": [],
   "source": []
  },
  {
   "cell_type": "code",
   "execution_count": 41,
   "metadata": {},
   "outputs": [],
   "source": [
    "\n",
    "def compute_ks_r0(la25,la15,la01):\n",
    "    orig_25 = la25[0]\n",
    "    orig_15 = la15[0]\n",
    "    orig_01 = la01[0]\n",
    "    res = [[[ks_2samp(la25[0], la25[1])[0]],[ks_2samp(la15[0], la15[1])[0]],[ks_2samp(la01[0], la01[1])[0]]]]\n",
    "    for i in range(len(la25)-2):\n",
    "        i = i+2\n",
    "        tmp = []\n",
    "        for j in [la25[i]]:\n",
    "            tmp.append(ks_2samp(orig_25, j)[0])\n",
    "        ks_25 = np.array([np.mean(tmp),np.std(tmp)])\n",
    "        \n",
    "        tmp = []\n",
    "        for j in [la15[i]]:\n",
    "            tmp.append(ks_2samp(orig_15, j)[0])\n",
    "        ks_15 = np.array([np.mean(tmp),np.std(tmp)])\n",
    "        \n",
    "        \n",
    "        tmp = []\n",
    "        for j in [la01[i]]:\n",
    "            tmp.append(ks_2samp(orig_01, j)[0])\n",
    "        ks_01 = np.array([np.mean(tmp),np.std(tmp)])\n",
    "        \n",
    "        res.append(np.array([ks_25,ks_15,ks_01]))\n",
    "        \n",
    "    return res"
   ]
  },
  {
   "cell_type": "code",
   "execution_count": null,
   "metadata": {},
   "outputs": [],
   "source": []
  },
  {
   "cell_type": "code",
   "execution_count": null,
   "metadata": {},
   "outputs": [],
   "source": []
  },
  {
   "cell_type": "code",
   "execution_count": 31,
   "metadata": {},
   "outputs": [],
   "source": [
    "def plot_r0(ax,file_name,legend=False):\n",
    "    #if file_name == \"LH10\":\n",
    "        #ax.set_title(\"Hospital\")\n",
    "    #    ax.set_ylabel(\"Hospital\")\n",
    "    #if file_name == \"InVS13\":\n",
    "    #    ax.set_ylabel(\"Workplace\")\n",
    "    #if file_name == \"High_School11\":\n",
    "    #    ax.set_ylabel(\"High school\")\n",
    "        \n",
    "    r0_025 = load_r0(file_name,\"la025\")\n",
    "    r0_015 = load_r0(file_name,\"la015\")\n",
    "    r0_001 = load_r0(file_name,\"la001\")\n",
    "    x1,x2,x3,x4,x5 = compute_ks_r0(r0_025,r0_015,r0_001)\n",
    "    x = np.arange(3)\n",
    "    width = 0.2\n",
    "    \n",
    "    error_bar_style = dict(ecolor=ORIGINAL_COLOR, alpha=0.8, lw=1.5, capsize=4, capthick=1)\n",
    "\n",
    "    rects1 = ax.bar(x - 0.3, x2[:,0], width, label='ETN-gen',color=ETN_COLOR, yerr=x2[:,1], error_kw=error_bar_style)\n",
    "    rects4 = ax.bar(x - 0.1, x3[:,0], width, label='STM',color=STM_COLOR, yerr=x3[:,1], error_kw=error_bar_style)\n",
    "    rects5 = ax.bar(x + 0.1, x5[:,0], width, label='TagGen',color=TAG_COLOR, yerr=x5[:,1], error_kw=error_bar_style)\n",
    "    rects4 = ax.bar(x + 0.3 , x4[:,0], width, label='Dymond',color=DYM_COLOR, yerr=x4[:,1], error_kw=error_bar_style)\n",
    "    \n",
    "    ax.plot([-0.45,0.45],[x1[0],x1[0]],linewidth=3, label='Stability',color=ORIGINAL_COLOR)\n",
    "    ax.plot([1-0.45,1.45],[x1[1],x1[1]],linewidth=3, label='Stability',color=ORIGINAL_COLOR)\n",
    "    ax.plot([2-0.45,2.45],[x1[2],x1[2]],linewidth=3, label='Stability',color=ORIGINAL_COLOR)\n",
    "    \n",
    "          \n",
    "    ax.tick_params(bottom=False, right=False,left=False)\n",
    "    ax.set_axisbelow(True)\n",
    "    \n",
    "    #ax.yaxis.grid(True, color='#FFFFFF')\n",
    "    #ax.set_facecolor('#EFEFEF')\n",
    "    #ax.xaxis.grid(False)\n",
    "    \n",
    "    ax.yaxis.grid(True, color='lightgrey')\n",
    "    ax.xaxis.grid(False)\n",
    "    \n",
    "    ax.spines['top'].set_visible(False)\n",
    "    ax.spines['right'].set_visible(False)\n",
    "    ax.spines['left'].set_visible(False)\n",
    "    ax.spines['bottom'].set_color('#DDDDDD')\n",
    "    \n",
    "    \n",
    "\n",
    "    labels = [r\"$\\lambda$ = 0.25\",r\"$\\lambda$ = 0.15\",r\"$\\lambda$ = 0.01\"]\n",
    "    ax.set_xticks(x)\n",
    "    ax.set_xticklabels(labels,rotation=0)\n",
    "    ax.set_ylim((0,1))\n",
    "    \n",
    "    if legend:\n",
    "        c = 0"
   ]
  },
  {
   "cell_type": "code",
   "execution_count": null,
   "metadata": {},
   "outputs": [],
   "source": []
  },
  {
   "cell_type": "code",
   "execution_count": null,
   "metadata": {},
   "outputs": [],
   "source": []
  },
  {
   "cell_type": "code",
   "execution_count": 11,
   "metadata": {},
   "outputs": [],
   "source": [
    "ORIGINAL_COLOR = \"#020005\"\n",
    "ETN_COLOR = \"#F3AA20\" \n",
    "STM_COLOR = \"#2A445E\" \n",
    "TAG_COLOR = \"#841E62\"\n",
    "DYM_COLOR = \"#346B6D\"\n",
    "\n",
    "\n",
    "\n",
    "\n",
    "\n",
    "\n",
    "ORIGINAL_COLOR = '#474747' #dark grey\n",
    "ETN_COLOR =  '#fb7041' #'#E5865E' # arancio\n",
    "TAG_COLOR = '#96ccc8' # light blue\n",
    "STM_COLOR = '#bad1f2' #8F2E27' # rosso\n",
    "DYM_COLOR = '#559ca6' # teal\n",
    "\n",
    "\n",
    "\n",
    "line_width = 1.5"
   ]
  },
  {
   "cell_type": "code",
   "execution_count": null,
   "metadata": {
    "scrolled": false
   },
   "outputs": [],
   "source": []
  },
  {
   "cell_type": "code",
   "execution_count": null,
   "metadata": {},
   "outputs": [],
   "source": []
  },
  {
   "cell_type": "code",
   "execution_count": null,
   "metadata": {},
   "outputs": [],
   "source": []
  },
  {
   "cell_type": "code",
   "execution_count": null,
   "metadata": {},
   "outputs": [],
   "source": []
  },
  {
   "cell_type": "code",
   "execution_count": 52,
   "metadata": {},
   "outputs": [],
   "source": [
    "\n",
    "def plot_cov_mfpt2(ax,file_name,legend=False):\n",
    "    \n",
    "    if file_name == \"High_School12\":\n",
    "        #ax.set_title(\"Hospital\")\n",
    "        ax.set_title(\"High school 2\")\n",
    "    if file_name == \"High_School13\":\n",
    "        ax.set_title(\"High school 3\")\n",
    "    if file_name == \"primary_school\":\n",
    "        ax.set_title(\"Primary school\")\n",
    "        \n",
    "    cov = load_cov(file_name)\n",
    "    mfpt = load_mfpt(file_name)\n",
    "    \n",
    "    x = np.arange(2)\n",
    "    cov_ms, mfpt_ms = compute_ks_cov_mfpt(cov,mfpt)\n",
    "    x1 = np.array([cov_ms[0],mfpt_ms[0]])\n",
    "    x2 = np.array([cov_ms[1],mfpt_ms[1]])\n",
    "    x3 = np.array([cov_ms[2],mfpt_ms[2]])\n",
    "    \n",
    "    width = 0.2\n",
    "    rects1 = ax.bar(x - 0.1, x2[:,0], width, label='ETN-gen',color=ETN_COLOR)\n",
    "    rects5 = ax.bar(x + 0.1, x3[:,0], width, label='TagGen',color=TAG_COLOR)\n",
    "    ax.plot([-0.45,0.45],[x1[0],x1[0]],linewidth=3, label='Stability',color=ORIGINAL_COLOR)\n",
    "    ax.plot([1-0.45,1.45],[x1[1],x1[1]],linewidth=3, label='Stability',color=ORIGINAL_COLOR)\n",
    "    \n",
    "              \n",
    "    ax.tick_params(bottom=False, right=False,left=False)\n",
    "    ax.set_axisbelow(True)\n",
    "    \n",
    "    ax.yaxis.grid(True, color='lightgrey')\n",
    "    ax.xaxis.grid(False)\n",
    "    \n",
    "    #ax.yaxis.grid(True, color='#FFFFFF')\n",
    "    #ax.set_facecolor('#EFEFEF')\n",
    "    #ax.xaxis.grid(False)\n",
    "    \n",
    "    \n",
    "    ax.spines['top'].set_visible(False)\n",
    "    ax.spines['right'].set_visible(False)\n",
    "    ax.spines['left'].set_visible(False)\n",
    "    ax.spines['bottom'].set_color('#DDDDDD')    \n",
    "    \n",
    "    labels = [\"Coverage\",\"MFPT\"]\n",
    "    ax.set_xticks(x)\n",
    "    ax.set_xticklabels(labels,rotation=0)\n",
    "    ax.set_ylim((0,1))\n",
    "\n",
    "def plot_r02(ax,file_name,legend=False):\n",
    "    #if file_name == \"LH10\":\n",
    "        #ax.set_title(\"Hospital\")\n",
    "    #    ax.set_ylabel(\"Hospital\")\n",
    "    #if file_name == \"InVS13\":\n",
    "    #    ax.set_ylabel(\"Workplace\")\n",
    "    #if file_name == \"High_School11\":\n",
    "    #    ax.set_ylabel(\"High school\")\n",
    "        \n",
    "    r0_025 = load_r0(file_name,\"la025\")\n",
    "    r0_015 = load_r0(file_name,\"la015\")\n",
    "    r0_001 = load_r0(file_name,\"la001\")\n",
    "    x1,x2,x3 = compute_ks_r0(r0_025,r0_015,r0_001)\n",
    "    x = np.arange(3)\n",
    "    width = 0.2\n",
    "    \n",
    "\n",
    "    rects1 = ax.bar(x - 0.1, x2[:,0], width, label='ETN-gen',color=ETN_COLOR)\n",
    "    rects5 = ax.bar(x + 0.1, x3[:,0], width, label='TagGen',color=TAG_COLOR)\n",
    "    \n",
    "    ax.plot([-0.35,0.35],[x1[0],x1[0]],linewidth=3, label='Stability',color=ORIGINAL_COLOR)\n",
    "    ax.plot([1-0.35,1.35],[x1[1],x1[1]],linewidth=3, label='Stability',color=ORIGINAL_COLOR)\n",
    "    ax.plot([2-0.35,2.35],[x1[2],x1[2]],linewidth=3, label='Stability',color=ORIGINAL_COLOR)\n",
    "    \n",
    "          \n",
    "    ax.tick_params(bottom=False, right=False,left=False)\n",
    "    ax.set_axisbelow(True)\n",
    "    \n",
    "    #ax.yaxis.grid(True, color='#FFFFFF')\n",
    "    #ax.set_facecolor('#EFEFEF')\n",
    "    #ax.xaxis.grid(False)\n",
    "    \n",
    "    ax.yaxis.grid(True, color='lightgrey')\n",
    "    ax.xaxis.grid(False)\n",
    "    \n",
    "    ax.spines['top'].set_visible(False)\n",
    "    ax.spines['right'].set_visible(False)\n",
    "    ax.spines['left'].set_visible(False)\n",
    "    ax.spines['bottom'].set_color('#DDDDDD')\n",
    "    \n",
    "    \n",
    "\n",
    "    labels = [r\"$\\lambda$ = 0.25\",r\"$\\lambda$ = 0.15\",r\"$\\lambda$ = 0.01\"]\n",
    "    ax.set_xticks(x)\n",
    "    ax.set_xticklabels(labels,rotation=0)\n",
    "    ax.set_ylim((0,1))\n",
    "    \n",
    "    if legend:\n",
    "        c = 0"
   ]
  },
  {
   "cell_type": "code",
   "execution_count": 51,
   "metadata": {},
   "outputs": [
    {
     "data": {
      "text/plain": [
       "Text(-0.01, 0.2, 'SIR model')"
      ]
     },
     "execution_count": 51,
     "metadata": {},
     "output_type": "execute_result"
    },
    {
     "data": {
      "image/png": "[encoded data removed]",
      "text/plain": [
       "<Figure size 864x432 with 6 Axes>"
      ]
     },
     "metadata": {
      "image/png": {
       "height": 462,
       "width": 876
      }
     },
     "output_type": "display_data"
    }
   ],
   "source": [
    "fig, ax = plt.subplots(2,3, figsize=(12,6))#, gridspec_kw={'width_ratios': [2, 3]})\n",
    "fig.tight_layout(h_pad=2,w_pad=-1)\n",
    "\n",
    "\n",
    "plot_cov_mfpt2(ax[0][0],\"High_School12\")\n",
    "plot_r02(ax[1][0],\"High_School12\")\n",
    "\n",
    "plot_cov_mfpt2(ax[0][1],\"High_School13\")\n",
    "plot_r02(ax[1][1],\"High_School13\")\n",
    "\n",
    "plot_cov_mfpt2(ax[0][2],\"primary_school\",legend=True)\n",
    "plot_r02(ax[1][2],\"primary_school\",legend=True)\n",
    "\n",
    "ax[0][1].tick_params(axis='y', colors='white')\n",
    "ax[1][1].tick_params(axis='y', colors='white')\n",
    "ax[0][2].tick_params(axis='y', colors='white')\n",
    "ax[1][2].tick_params(axis='y', colors='white')\n",
    "\n",
    "\n",
    "legend_elements = [Line2D([0], [0], color=ORIGINAL_COLOR, lw=3,label='Original'),\n",
    "                   Patch(facecolor=ETN_COLOR, edgecolor=ETN_COLOR,label='ETN-Gen'),\n",
    "                   Patch(facecolor=TAG_COLOR, edgecolor=TAG_COLOR,label='TagGen')]\n",
    "\n",
    "# Create the figure\n",
    "ax[1][0].legend(handles=legend_elements,loc='center left', bbox_to_anchor=(-0.2, -0.2),ncol=5)\n",
    "\n",
    "fig.text(-0.01, 0.66, 'Random walk',fontdict={'size':14,'color':'#4d4d4d'},weight=\"bold\",rotation=90)\n",
    "fig.text(-0.01, 0.2, 'SIR model',fontdict={'size':14,'color':'#4d4d4d'},weight=\"bold\",rotation=90)\n",
    "\n",
    "\n",
    "#fig.savefig(\"dynamic_main_test_WithE_V4.pdf\", bbox_inches = 'tight')"
   ]
  },
  {
   "cell_type": "code",
   "execution_count": null,
   "metadata": {},
   "outputs": [],
   "source": []
  },
  {
   "cell_type": "code",
   "execution_count": null,
   "metadata": {},
   "outputs": [],
   "source": [
    "\n"
   ]
  },
  {
   "cell_type": "code",
   "execution_count": null,
   "metadata": {},
   "outputs": [],
   "source": []
  },
  {
   "cell_type": "code",
   "execution_count": null,
   "metadata": {},
   "outputs": [],
   "source": []
  },
  {
   "cell_type": "code",
   "execution_count": null,
   "metadata": {},
   "outputs": [],
   "source": []
  },
  {
   "cell_type": "code",
   "execution_count": null,
   "metadata": {},
   "outputs": [],
   "source": []
  },
  {
   "cell_type": "code",
   "execution_count": null,
   "metadata": {},
   "outputs": [],
   "source": []
  },
  {
   "cell_type": "code",
   "execution_count": 75,
   "metadata": {},
   "outputs": [],
   "source": [
    "def plot_cov_mfpt3(ax,file_name,legend=False):\n",
    "    \n",
    "    if file_name == \"High_School12\":\n",
    "        #ax.set_title(\"Hospital\")\n",
    "        ax.set_title(\"High school 2\")\n",
    "    if file_name == \"High_School13\":\n",
    "        ax.set_title(\"High school 3\")\n",
    "    if file_name == \"primary_school\":\n",
    "        ax.set_title(\"Primary school\")\n",
    "        \n",
    "        \n",
    "    cov = load_cov(file_name)\n",
    "    mfpt = load_mfpt(file_name)\n",
    "    \n",
    "    x = np.arange(2)\n",
    "    cov_ms, mfpt_ms = compute_ks_cov_mfpt(cov,mfpt)\n",
    "    x1 = np.array([cov_ms[0],mfpt_ms[0]])\n",
    "    x2 = np.array([cov_ms[1],mfpt_ms[1]])\n",
    "    x3 = np.array([cov_ms[2],mfpt_ms[2]])\n",
    "    \n",
    "    \n",
    "    width = 0.2\n",
    "    rects1 = ax.bar(x - 0.1, x2[:,0], width, label='ETN-gen',color=ETN_COLOR)\n",
    "    rects5 = ax.bar(x + 0.1, x3[:,0], width, label='TagGen',color=TAG_COLOR)\n",
    "    ax.plot([-0.45,0.45],[x1[0],x1[0]],linewidth=3, label='Stability',color=ORIGINAL_COLOR)\n",
    "    ax.plot([1-0.45,1.45],[x1[1],x1[1]],linewidth=3, label='Stability',color=ORIGINAL_COLOR)\n",
    "    \n",
    "              \n",
    "    ax.tick_params(bottom=False, right=False,left=False)\n",
    "    ax.set_axisbelow(True)\n",
    "    \n",
    "    ax.yaxis.grid(True, color='lightgrey')\n",
    "    ax.xaxis.grid(False)\n",
    "    \n",
    "    #ax.yaxis.grid(True, color='#FFFFFF')\n",
    "    #ax.set_facecolor('#EFEFEF')\n",
    "    #ax.xaxis.grid(False)\n",
    "    \n",
    "    \n",
    "    ax.spines['top'].set_visible(False)\n",
    "    ax.spines['right'].set_visible(False)\n",
    "    ax.spines['left'].set_visible(False)\n",
    "    ax.spines['bottom'].set_color('#DDDDDD')    \n",
    "    \n",
    "    labels = [\"Coverage\",\"MFPT\"]\n",
    "    ax.set_xticks(x)\n",
    "    ax.set_xticklabels(labels,rotation=0)\n",
    "    ax.set_ylim((0,1))\n",
    "\n",
    "def plot_r03(ax,file_name,legend=False):\n",
    "    \n",
    "    if file_name == \"High_School12\":\n",
    "        #ax.set_title(\"Hospital\")\n",
    "        ax.set_title(\"High school 2\")\n",
    "    if file_name == \"High_School13\":\n",
    "        ax.set_title(\"High school 3\")\n",
    "    if file_name == \"primary_school\":\n",
    "        ax.set_title(\"Primary school\")\n",
    "        \n",
    "    r0_025 = load_r0(file_name,\"la025\")\n",
    "    r0_015 = load_r0(file_name,\"la015\")\n",
    "    r0_001 = load_r0(file_name,\"la001\")\n",
    "    x1,x2,x3 = compute_ks_r0(r0_025,r0_015,r0_001)\n",
    "    x = np.arange(3)\n",
    "    width = 0.2\n",
    "    \n",
    "    \n",
    "\n",
    "    rects1 = ax.bar(x - 0.1, x2[:,0], width, label='ETN-gen',color=ETN_COLOR)\n",
    "    rects5 = ax.bar(x + 0.1, x3[:,0], width, label='TagGen',color=TAG_COLOR)\n",
    "    \n",
    "    ax.plot([-0.45,0.45],[x1[0],x1[0]],linewidth=3, label='Stability',color=ORIGINAL_COLOR)\n",
    "    ax.plot([1-0.45,1.45],[x1[1],x1[1]],linewidth=3, label='Stability',color=ORIGINAL_COLOR)\n",
    "    ax.plot([2-0.45,2.45],[x1[2],x1[2]],linewidth=3, label='Stability',color=ORIGINAL_COLOR)\n",
    "    \n",
    "          \n",
    "    ax.tick_params(bottom=False, right=False,left=False)\n",
    "    ax.set_axisbelow(True)\n",
    "    \n",
    "    #ax.yaxis.grid(True, color='#FFFFFF')\n",
    "    #ax.set_facecolor('#EFEFEF')\n",
    "    #ax.xaxis.grid(False)\n",
    "    \n",
    "    ax.yaxis.grid(True, color='lightgrey')\n",
    "    ax.xaxis.grid(False)\n",
    "    \n",
    "    ax.spines['top'].set_visible(False)\n",
    "    ax.spines['right'].set_visible(False)\n",
    "    ax.spines['left'].set_visible(False)\n",
    "    ax.spines['bottom'].set_color('#DDDDDD')\n",
    "    \n",
    "    \n",
    "\n",
    "    labels = [r\"$\\lambda$ = 0.25\",r\"$\\lambda$ = 0.15\",r\"$\\lambda$ = 0.01\"]\n",
    "    ax.set_xticks(x)\n",
    "    ax.set_xticklabels(labels,rotation=0)\n",
    "    ax.set_ylim((0,1))\n",
    "    \n",
    "    if legend:\n",
    "        c = 0\n",
    "        \n",
    "def empty_plot(ax):\n",
    "    \n",
    "    ax.plot()\n",
    "    ax.yaxis.grid(False)\n",
    "    ax.xaxis.grid(False)\n",
    "    ax.spines['top'].set_visible(False)\n",
    "    ax.spines['right'].set_visible(False)\n",
    "    ax.spines['left'].set_visible(False)\n",
    "    ax.spines['bottom'].set_visible(False)\n",
    "    # No ticks\n",
    "    ax.set_xticks([])\n",
    "    ax.set_yticks([])"
   ]
  },
  {
   "cell_type": "code",
   "execution_count": 78,
   "metadata": {},
   "outputs": [
    {
     "data": {
      "image/png": "[encoded data removed]",
      "text/plain": [
       "<Figure size 864x216 with 7 Axes>"
      ]
     },
     "metadata": {
      "image/png": {
       "height": 274,
       "width": 850
      }
     },
     "output_type": "display_data"
    }
   ],
   "source": [
    "fig, ax = plt.subplots(1,7, figsize=(12,3), gridspec_kw={'width_ratios': [1,1,1,0.2,1.5,1.5,1.5]})\n",
    "fig.tight_layout(w_pad=-1)\n",
    "\n",
    "\n",
    "plot_cov_mfpt3(ax[0],\"High_School12\")\n",
    "plot_cov_mfpt3(ax[1],\"High_School13\")\n",
    "plot_cov_mfpt3(ax[2],\"primary_school\",legend=True)\n",
    "\n",
    "empty_plot(ax[3])\n",
    "\n",
    "plot_r03(ax[4],\"High_School12\")\n",
    "plot_r03(ax[5],\"High_School13\")\n",
    "plot_r03(ax[6],\"primary_school\",legend=True)\n",
    "\n",
    "\n",
    "ax[1].tick_params(axis='y', colors='white')\n",
    "ax[2].tick_params(axis='y', colors='white')\n",
    "\n",
    "#ax[4].tick_params(axis='y', colors='white')\n",
    "ax[5].tick_params(axis='y', colors='white')\n",
    "ax[6].tick_params(axis='y', colors='white')\n",
    "\n",
    "legend_elements = [Line2D([0], [0], color=ORIGINAL_COLOR, lw=3,label='Original'),\n",
    "                   Patch(facecolor=ETN_COLOR, edgecolor=ETN_COLOR,label='ETN-Gen'),\n",
    "                   Patch(facecolor=TAG_COLOR, edgecolor=TAG_COLOR,label='TagGen')]\n",
    "\n",
    "# Create the figure\n",
    "ax[0].legend(handles=legend_elements,loc='center left', bbox_to_anchor=(-0.2, -0.2),ncol=5)\n",
    "\n",
    "fig.text(0.17, 1.08, 'Random walk',fontdict={'size':14,'color':'#4d4d4d'},weight=\"bold\")\n",
    "fig.text(0.682, 1.08, 'SIR model',fontdict={'size':14,'color':'#4d4d4d'},weight=\"bold\")\n",
    "\n",
    "\n",
    "fig.savefig(\"dynamic_SI_ks_face.pdf\", bbox_inches = 'tight')"
   ]
  },
  {
   "cell_type": "markdown",
   "metadata": {},
   "source": [
    "# sms calls"
   ]
  },
  {
   "cell_type": "code",
   "execution_count": null,
   "metadata": {},
   "outputs": [],
   "source": []
  },
  {
   "cell_type": "code",
   "execution_count": null,
   "metadata": {},
   "outputs": [],
   "source": []
  },
  {
   "cell_type": "code",
   "execution_count": 257,
   "metadata": {},
   "outputs": [],
   "source": [
    "\n",
    "def compute_ks_cov_mfpt(cov,mfpt):\n",
    "    \n",
    "    mfpt_ms = [ks_2samp(mfpt[0],mfpt[1])[0]]\n",
    "    cov_ms = [ks_2samp(cov[0],cov[1])[0]]\n",
    "    for i in range(len(cov)-2):\n",
    "        tmp = []\n",
    "        tmp2 = []\n",
    "        for j in cov[i+2]:\n",
    "            tmp.append(ks_2samp(cov[0], j)[0])\n",
    "        for j in [mfpt[i+2]]:\n",
    "            tmp2.append(ks_2samp(mfpt[0], j)[0])\n",
    "        cov_ms.append([np.mean(tmp),np.std(tmp)])\n",
    "        mfpt_ms.append([np.mean(tmp2),np.std(tmp2)])\n",
    "        \n",
    "    return cov_ms,mfpt_ms"
   ]
  },
  {
   "cell_type": "code",
   "execution_count": null,
   "metadata": {},
   "outputs": [],
   "source": []
  },
  {
   "cell_type": "code",
   "execution_count": null,
   "metadata": {},
   "outputs": [],
   "source": []
  },
  {
   "cell_type": "code",
   "execution_count": null,
   "metadata": {},
   "outputs": [],
   "source": []
  },
  {
   "cell_type": "code",
   "execution_count": 270,
   "metadata": {},
   "outputs": [],
   "source": [
    "\n",
    "def compute_ks_r0(la25,la15,la01):\n",
    "    orig_25 = la25[0]\n",
    "    orig_15 = la15[0]\n",
    "    orig_01 = la01[0]\n",
    "    res = [[[ks_2samp(la25[0], la25[1])[0]],[ks_2samp(la15[0], la15[1])[0]],[ks_2samp(la01[0], la01[1])[0]]]]\n",
    "    for i in range(len(la25)-2):\n",
    "        i = i+2\n",
    "        tmp = []\n",
    "        for j in la25[i]:\n",
    "            tmp.append(ks_2samp(orig_25, j)[0])\n",
    "        ks_25 = np.array([np.mean(tmp),np.std(tmp)])\n",
    "        \n",
    "        tmp = []\n",
    "        for j in la15[i]:\n",
    "            tmp.append(ks_2samp(orig_15, j)[0])\n",
    "        ks_15 = np.array([np.mean(tmp),np.std(tmp)])\n",
    "        \n",
    "        \n",
    "        tmp = []\n",
    "        for j in la01[i]:\n",
    "            tmp.append(ks_2samp(orig_01, j)[0])\n",
    "        ks_01 = np.array([np.mean(tmp),np.std(tmp)])\n",
    "        \n",
    "        res.append(np.array([ks_25,ks_15,ks_01]))\n",
    "        \n",
    "    return res"
   ]
  },
  {
   "cell_type": "code",
   "execution_count": 273,
   "metadata": {},
   "outputs": [],
   "source": [
    "def plot_cov_mfpt3(ax,file_name,legend=False):\n",
    "    \n",
    "\n",
    "    if file_name == \"DTU_calls_1set\":\n",
    "        #ax.set_title(\"Hospital\")\n",
    "        ax.set_title(\"Calls 1\")\n",
    "    if file_name == \"FF_calls_1set\":\n",
    "        ax.set_title(\"Calls 2\")\n",
    "    if file_name == \"DTU_SMS_1set\":\n",
    "        ax.set_title(\"SMS 1\")\n",
    "    if file_name == \"FF_SMS_1set\":\n",
    "        ax.set_title(\"SMS 2\")\n",
    "        \n",
    "        \n",
    "        \n",
    "    cov = load_cov(file_name)\n",
    "    mfpt = load_mfpt(file_name)\n",
    "    \n",
    "    x = np.arange(2)\n",
    "    cov_ms, mfpt_ms = compute_ks_cov_mfpt(cov,mfpt)\n",
    "    x1 = np.array([cov_ms[0],mfpt_ms[0]])\n",
    "    x2 = np.array([cov_ms[1],mfpt_ms[1]])\n",
    "    x3 = np.array([cov_ms[2],mfpt_ms[2]])\n",
    "    \n",
    "    \n",
    "    width = 0.2\n",
    "    rects1 = ax.bar(x - 0.1, x2[:,0], width, label='ETN-gen',color=ETN_COLOR)\n",
    "    rects5 = ax.bar(x + 0.1, x3[:,0], width, label='TagGen',color=TAG_COLOR)\n",
    "    ax.plot([-0.45,0.45],[x1[0],x1[0]],linewidth=3, label='Stability',color=ORIGINAL_COLOR)\n",
    "    ax.plot([1-0.45,1.45],[x1[1],x1[1]],linewidth=3, label='Stability',color=ORIGINAL_COLOR)\n",
    "    \n",
    "              \n",
    "    ax.tick_params(bottom=False, right=False,left=False)\n",
    "    ax.set_axisbelow(True)\n",
    "    \n",
    "    ax.yaxis.grid(True, color='lightgrey')\n",
    "    ax.xaxis.grid(False)\n",
    "    \n",
    "    #ax.yaxis.grid(True, color='#FFFFFF')\n",
    "    #ax.set_facecolor('#EFEFEF')\n",
    "    #ax.xaxis.grid(False)\n",
    "    \n",
    "    \n",
    "    ax.spines['top'].set_visible(False)\n",
    "    ax.spines['right'].set_visible(False)\n",
    "    ax.spines['left'].set_visible(False)\n",
    "    ax.spines['bottom'].set_color('#DDDDDD')    \n",
    "    \n",
    "    labels = [\"Coverage\",\"MFPT\"]\n",
    "    ax.set_xticks(x)\n",
    "    ax.set_xticklabels(labels,rotation=0)\n",
    "    ax.set_ylim((0,1))\n",
    "\n",
    "def plot_r03(ax,file_name,legend=False):\n",
    "\n",
    "\n",
    "    if file_name == \"DTU_calls_1set\":\n",
    "        #ax.set_title(\"Hospital\")\n",
    "        ax.set_title(\"Calls 1\")\n",
    "    if file_name == \"FF_calls_1set\":\n",
    "        ax.set_title(\"Calls 2\")\n",
    "    if file_name == \"DTU_SMS_1set\":\n",
    "        ax.set_title(\"SMS 1\")\n",
    "    if file_name == \"FF_SMS_1set\":\n",
    "        ax.set_title(\"SMS 2\")\n",
    "        \n",
    "    r0_025 = load_r0(file_name,\"la025\")\n",
    "    r0_015 = load_r0(file_name,\"la015\")\n",
    "    r0_001 = load_r0(file_name,\"la001\")\n",
    "    x1,x2,x3 = compute_ks_r0(r0_025,r0_015,r0_001)\n",
    "    x = np.arange(3)\n",
    "    width = 0.2\n",
    "    \n",
    "    \n",
    "\n",
    "    rects1 = ax.bar(x - 0.1, x2[:,0], width, label='ETN-gen',color=ETN_COLOR)\n",
    "    rects5 = ax.bar(x + 0.1, x3[:,0], width, label='TagGen',color=TAG_COLOR)\n",
    "    \n",
    "    ax.plot([-0.45,0.45],[x1[0],x1[0]],linewidth=3, label='Stability',color=ORIGINAL_COLOR)\n",
    "    ax.plot([1-0.45,1.45],[x1[1],x1[1]],linewidth=3, label='Stability',color=ORIGINAL_COLOR)\n",
    "    ax.plot([2-0.45,2.45],[x1[2],x1[2]],linewidth=3, label='Stability',color=ORIGINAL_COLOR)\n",
    "    \n",
    "          \n",
    "    ax.tick_params(bottom=False, right=False,left=False)\n",
    "    ax.set_axisbelow(True)\n",
    "    \n",
    "    #ax.yaxis.grid(True, color='#FFFFFF')\n",
    "    #ax.set_facecolor('#EFEFEF')\n",
    "    #ax.xaxis.grid(False)\n",
    "    \n",
    "    ax.yaxis.grid(True, color='lightgrey')\n",
    "    ax.xaxis.grid(False)\n",
    "    \n",
    "    ax.spines['top'].set_visible(False)\n",
    "    ax.spines['right'].set_visible(False)\n",
    "    ax.spines['left'].set_visible(False)\n",
    "    ax.spines['bottom'].set_color('#DDDDDD')\n",
    "    \n",
    "    \n",
    "\n",
    "    labels = [r\"$\\lambda$ = 0.25\",r\"$\\lambda$ = 0.15\",r\"$\\lambda$ = 0.01\"]\n",
    "    ax.set_xticks(x)\n",
    "    ax.set_xticklabels(labels,rotation=0)\n",
    "    ax.set_ylim((0,1))\n",
    "    \n",
    "    if legend:\n",
    "        c = 0\n",
    "        \n",
    "def empty_plot(ax):\n",
    "    \n",
    "    ax.plot()\n",
    "    ax.yaxis.grid(False)\n",
    "    ax.xaxis.grid(False)\n",
    "    ax.spines['top'].set_visible(False)\n",
    "    ax.spines['right'].set_visible(False)\n",
    "    ax.spines['left'].set_visible(False)\n",
    "    ax.spines['bottom'].set_visible(False)\n",
    "    # No ticks\n",
    "    ax.set_xticks([])\n",
    "    ax.set_yticks([])"
   ]
  },
  {
   "cell_type": "code",
   "execution_count": 303,
   "metadata": {},
   "outputs": [
    {
     "data": {
      "image/png": "[encoded data removed]",
      "text/plain": [
       "<Figure size 1080x216 with 9 Axes>"
      ]
     },
     "metadata": {
      "image/png": {
       "height": 274,
       "width": 1066
      }
     },
     "output_type": "display_data"
    }
   ],
   "source": [
    "fig, ax = plt.subplots(1,9, figsize=(15,3), gridspec_kw={'width_ratios': [1,1,1,1,0.2,1.5,1.5,1.5,1.5]})\n",
    "fig.tight_layout(w_pad=-1)\n",
    "\n",
    "\n",
    "plot_cov_mfpt3(ax[0],\"DTU_calls_1set\")\n",
    "plot_cov_mfpt3(ax[1],\"FF_calls_1set\")\n",
    "plot_cov_mfpt3(ax[2],\"DTU_SMS_1set\")\n",
    "plot_cov_mfpt3(ax[3],\"FF_SMS_1set\",legend=True)\n",
    "\n",
    "empty_plot(ax[4])\n",
    "\n",
    "plot_r03(ax[5],\"DTU_calls_1set\")\n",
    "plot_r03(ax[6],\"FF_calls_1set\")\n",
    "plot_r03(ax[7],\"DTU_SMS_1set\")\n",
    "plot_r03(ax[8],\"FF_SMS_1set\",legend=True)\n",
    "\n",
    "\n",
    "ax[1].tick_params(axis='y', colors='white')\n",
    "ax[2].tick_params(axis='y', colors='white')\n",
    "ax[3].tick_params(axis='y', colors='white')\n",
    "\n",
    "\n",
    "#ax[4].tick_params(axis='y', colors='white')\n",
    "ax[5].tick_params(axis='y', colors='white')\n",
    "ax[6].tick_params(axis='y', colors='white')\n",
    "ax[7].tick_params(axis='y', colors='white')\n",
    "ax[8].tick_params(axis='y', colors='white')\n",
    "\n",
    "\n",
    "legend_elements = [Line2D([0], [0], color=ORIGINAL_COLOR, lw=3,label='Original'),\n",
    "                   Patch(facecolor=ETN_COLOR, edgecolor=ETN_COLOR,label='ETN-Gen'),\n",
    "                   Patch(facecolor=TAG_COLOR, edgecolor=TAG_COLOR,label='TagGen')]\n",
    "\n",
    "# Create the figure\n",
    "ax[0].legend(handles=legend_elements,loc='center left', bbox_to_anchor=(-0.2, -0.2),ncol=5)\n",
    "\n",
    "fig.text(0.17, 1.08, 'Random walk',fontdict={'size':14,'color':'#4d4d4d'},weight=\"bold\")\n",
    "fig.text(0.682, 1.08, 'SIR model',fontdict={'size':14,'color':'#4d4d4d'},weight=\"bold\")\n",
    "\n",
    "\n",
    "fig.savefig(\"dynamic_SI_ks_sms_calls.pdf\", bbox_inches = 'tight')"
   ]
  },
  {
   "cell_type": "code",
   "execution_count": null,
   "metadata": {},
   "outputs": [],
   "source": []
  },
  {
   "cell_type": "code",
   "execution_count": null,
   "metadata": {},
   "outputs": [],
   "source": []
  }
 ],
 "metadata": {
  "kernelspec": {
   "display_name": "Python 3",
   "language": "python",
   "name": "python3"
  },
  "language_info": {
   "codemirror_mode": {
    "name": "ipython",
    "version": 3
   },
   "file_extension": ".py",
   "mimetype": "text/x-python",
   "name": "python",
   "nbconvert_exporter": "python",
   "pygments_lexer": "ipython3",
   "version": "3.8.8"
  }
 },
 "nbformat": 4,
 "nbformat_minor": 4
}
