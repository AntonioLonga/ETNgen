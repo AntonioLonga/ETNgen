{
 "cells": [
  {
   "cell_type": "code",
   "execution_count": 1,
   "metadata": {},
   "outputs": [],
   "source": [
    "import construction as cs\n",
    "import networkx as nx\n",
    "import numpy as np\n",
    "import pandas as pd\n",
    "import matplotlib.pyplot as plt\n",
    "from scipy.stats import ks_2samp\n",
    "\n",
    "\n",
    "import dynamic_metrics as ds\n",
    "\n",
    "\n",
    "import matplotlib.pyplot as plt\n",
    "\n",
    "### read font\n",
    "from matplotlib import font_manager\n",
    "\n",
    "font_dirs = ['Barlow/']\n",
    "font_files = font_manager.findSystemFonts(fontpaths=font_dirs)\n",
    "\n",
    "for font_file in font_files:\n",
    "    font_manager.fontManager.addfont(font_file)\n",
    "\n",
    "# set font\n",
    "plt.rcParams['font.family'] = 'Barlow'\n",
    "\n",
    "import networkx as nx\n",
    "%matplotlib inline\n",
    "%config InlineBackend.figure_format = 'retina'\n",
    "\n",
    "\n",
    "\n",
    "\n",
    "%load_ext autoreload\n",
    "%autoreload 2"
   ]
  },
  {
   "cell_type": "code",
   "execution_count": 12,
   "metadata": {},
   "outputs": [],
   "source": [
    "def load_origin_graph(file_name,gap=299):\n",
    "    data_in = cs.load_data(\"../Datasets/\"+file_name+\".dat\")\n",
    "    graphs_in = cs.build_graphs(data_in,gap=gap)\n",
    "    return graphs_in\n",
    "\n",
    "def load_ETNgen_graph(file_name):\n",
    "    data_in = cs.load_data(\"../Generated_graphs/ETNgen-\"+file_name+\".dat\")\n",
    "    gap = 299 \n",
    "    graphs_in = cs.build_graphs(data_in,gap=gap)\n",
    "    return graphs_in\n",
    "\n",
    "\n",
    "def load_tag_graph(file_name):\n",
    "    data_in = cs.load_data(\"../Competitors_generated_graphs/TagGen/\"+file_name+\"_generato_TagGen.dat\")\n",
    "    gap = 0 \n",
    "    graphs_in = cs.build_graphs(data_in,gap=gap)\n",
    "    return graphs_in\n",
    "\n"
   ]
  },
  {
   "cell_type": "code",
   "execution_count": null,
   "metadata": {},
   "outputs": [],
   "source": []
  },
  {
   "cell_type": "code",
   "execution_count": 111,
   "metadata": {},
   "outputs": [],
   "source": [
    "file_name = \"DTU_SMS_1sett\"\n",
    "orig_graphs = load_origin_graph(file_name,gap=599)\n",
    "etn_gen = load_ETNgen_graph(file_name)\n",
    "tag_gen = load_tag_graph(file_name+\"_599\")"
   ]
  },
  {
   "cell_type": "code",
   "execution_count": 112,
   "metadata": {},
   "outputs": [
    {
     "name": "stdout",
     "output_type": "stream",
     "text": [
      "1007 1007 1008\n"
     ]
    }
   ],
   "source": [
    "print(len(orig_graphs),len(tag_gen),len(etn_gen))"
   ]
  },
  {
   "cell_type": "code",
   "execution_count": 113,
   "metadata": {},
   "outputs": [],
   "source": [
    "import os\n",
    "file_name = \"DTU_SMS_1set\"\n",
    "path = \"dynamic_results/SI/\"+file_name\n",
    "COV = path+\"/coverage\"\n",
    "MFPTs = path+\"/MFPT\"\n",
    "\n",
    "if not os.path.exists(path):\n",
    "    os.makedirs(path)\n",
    "    os.makedirs(COV)\n",
    "    os.makedirs(MFPTs)"
   ]
  },
  {
   "cell_type": "markdown",
   "metadata": {},
   "source": [
    "# coverage"
   ]
  },
  {
   "cell_type": "markdown",
   "metadata": {},
   "source": [
    "k volte, con n0 e t0 random"
   ]
  },
  {
   "cell_type": "code",
   "execution_count": 114,
   "metadata": {},
   "outputs": [],
   "source": [
    "from scipy.stats import ks_2samp"
   ]
  },
  {
   "cell_type": "code",
   "execution_count": 115,
   "metadata": {},
   "outputs": [
    {
     "name": "stdout",
     "output_type": "stream",
     "text": [
      "coverage\n",
      "orig vs sta \t 0.011\n",
      "orig vs etn \t 0.503\n",
      "orig vs tag \t 0.35\n"
     ]
    }
   ],
   "source": [
    "K = 1000\n",
    "T = 500\n",
    "c_orig = ds.coverage(orig_graphs,K,T)\n",
    "c_stab = ds.coverage(orig_graphs,K,T)\n",
    "c_mio = ds.coverage(etn_gen,K,T)\n",
    "c_tag = ds.coverage(tag_gen,K,T)\n",
    "\n",
    "print(\"coverage\")\n",
    "print(\"orig vs sta \\t\",ks_2samp(c_orig, c_stab)[0])\n",
    "print(\"orig vs etn \\t\",ks_2samp(c_orig, c_mio)[0])\n",
    "print(\"orig vs tag \\t\",ks_2samp(c_orig, c_tag)[0])\n",
    "\n",
    "np.save(COV+\"/stab\",c_stab)\n",
    "np.save(COV+\"/orig\",c_orig)\n",
    "np.save(COV+\"/tag\",c_tag)\n",
    "np.save(COV+\"/etn\",c_mio)"
   ]
  },
  {
   "cell_type": "code",
   "execution_count": 116,
   "metadata": {},
   "outputs": [
    {
     "name": "stdout",
     "output_type": "stream",
     "text": [
      "MFPS\n",
      "orig vs sta \t 0.006045634174251761\n",
      "orig vs etn \t 0.6995101414133583\n",
      "orig vs tag \t 0.23768883388133547\n"
     ]
    }
   ],
   "source": [
    "print(\"MFPS\")\n",
    "print(\"orig vs sta \\t\",compute_kl_divergence(c_orig, c_stab))\n",
    "print(\"orig vs etn \\t\",compute_kl_divergence(c_orig, c_mio))\n",
    "print(\"orig vs tag \\t\",compute_kl_divergence(c_orig, c_tag))"
   ]
  },
  {
   "cell_type": "code",
   "execution_count": null,
   "metadata": {},
   "outputs": [],
   "source": []
  },
  {
   "cell_type": "code",
   "execution_count": null,
   "metadata": {},
   "outputs": [],
   "source": []
  },
  {
   "cell_type": "markdown",
   "metadata": {},
   "source": [
    "# MFPT"
   ]
  },
  {
   "cell_type": "code",
   "execution_count": 117,
   "metadata": {},
   "outputs": [
    {
     "name": "stdout",
     "output_type": "stream",
     "text": [
      "dynamic_results/SI/DTU_SMS_1set/MFPT\n",
      "1007 1007 1008\n"
     ]
    }
   ],
   "source": [
    "file_name = \"DTU_SMS_1set\"\n",
    "\n",
    "path = \"dynamic_results/SI/\"+file_name\n",
    "MFPTs = path+\"/MFPT\"\n",
    "\n",
    "orig_graphs = load_origin_graph(file_name+\"t\",gap=599)\n",
    "etn_gen = load_ETNgen_graph(file_name+\"t\")\n",
    "tag_gen = load_tag_graph(file_name+\"t_599\")\n",
    "print(MFPTs)\n",
    "print(len(orig_graphs),len(tag_gen),len(etn_gen))"
   ]
  },
  {
   "cell_type": "code",
   "execution_count": 118,
   "metadata": {},
   "outputs": [
    {
     "name": "stdout",
     "output_type": "stream",
     "text": [
      "1\n",
      "2\n",
      "3\n",
      "6\n"
     ]
    }
   ],
   "source": [
    "K = 1\n",
    "m_ori = ds.MFPT(orig_graphs,K)\n",
    "print(1)\n",
    "m_stb = ds.MFPT(orig_graphs,K)\n",
    "print(2)\n",
    "m_etn = ds.MFPT(etn_gen,K)\n",
    "print(3)\n",
    "m_tag = ds.MFPT(tag_gen,K)\n",
    "print(6)"
   ]
  },
  {
   "cell_type": "code",
   "execution_count": 120,
   "metadata": {},
   "outputs": [
    {
     "name": "stdout",
     "output_type": "stream",
     "text": [
      "MFPS\n",
      "orig vs sta \t 9.996384913720631e-06\n",
      "orig vs etn \t 3.778168393406012\n",
      "orig vs tag \t 0.0017530499726690686\n"
     ]
    }
   ],
   "source": [
    "print(\"MFPS\")\n",
    "print(\"orig vs sta \\t\",compute_kl_divergence(m_ori, m_stb))\n",
    "print(\"orig vs etn \\t\",compute_kl_divergence(m_ori, m_etn))\n",
    "print(\"orig vs tag \\t\",compute_kl_divergence(m_ori, m_tag))"
   ]
  },
  {
   "cell_type": "code",
   "execution_count": null,
   "metadata": {},
   "outputs": [],
   "source": []
  },
  {
   "cell_type": "code",
   "execution_count": 121,
   "metadata": {},
   "outputs": [],
   "source": [
    "np.save(MFPTs+\"/stab\",m_stb)\n",
    "np.save(MFPTs+\"/orig\",m_ori)\n",
    "np.save(MFPTs+\"/tag\",m_tag)\n",
    "np.save(MFPTs+\"/etn\",m_etn)"
   ]
  },
  {
   "cell_type": "code",
   "execution_count": null,
   "metadata": {},
   "outputs": [],
   "source": []
  },
  {
   "cell_type": "code",
   "execution_count": 71,
   "metadata": {},
   "outputs": [],
   "source": [
    "def compute_probs(data, n=10): \n",
    "    data = np.array(data)\n",
    "    h, e = np.histogram(data, n)\n",
    "    p = h/data.shape[0]\n",
    "    return e, p\n",
    "\n",
    "def support_intersection(p, q): \n",
    "    sup_int = (\n",
    "        list(\n",
    "            filter(\n",
    "                lambda x: (x[0]!=0) & (x[1]!=0), zip(p, q)\n",
    "            )\n",
    "        )\n",
    "    )\n",
    "    return sup_int\n",
    "\n",
    "def get_probs(list_of_tuples): \n",
    "    p = np.array([p[0] for p in list_of_tuples])\n",
    "    q = np.array([p[1] for p in list_of_tuples])\n",
    "    return p, q\n",
    "\n",
    "def kl_divergence(p, q): \n",
    "    return np.sum(p*np.log(p/q))\n",
    "\n",
    "def js_divergence(p, q):\n",
    "    m = (1./2.)*(p + q)\n",
    "    return (1./2.)*kl_divergence(p, m) + (1./2.)*kl_divergence(q, m)\n",
    "\n",
    "def compute_kl_divergence(train_sample, test_sample, n_bins=50): \n",
    "    \"\"\"\n",
    "    Computes the KL Divergence using the support \n",
    "    intersection between two different samples\n",
    "    \"\"\"\n",
    "    E = 0.0000000001\n",
    "    e, p = compute_probs(train_sample, n=n_bins)\n",
    "    _, q = compute_probs(test_sample, n=e)\n",
    "    \n",
    "    p = np.array(p) + E \n",
    "    q = np.array(q) + E \n",
    "    \n",
    "    p = p/sum(p)\n",
    "    q = q/sum(q)\n",
    "    \n",
    "    list_of_tuples = support_intersection(p, q)\n",
    "    p, q = get_probs(list_of_tuples)\n",
    "    \n",
    "    return kl_divergence(p, q)\n"
   ]
  },
  {
   "cell_type": "markdown",
   "metadata": {},
   "source": [
    "# SIR model"
   ]
  },
  {
   "cell_type": "code",
   "execution_count": null,
   "metadata": {},
   "outputs": [],
   "source": []
  },
  {
   "cell_type": "code",
   "execution_count": 229,
   "metadata": {},
   "outputs": [],
   "source": [
    "import os\n",
    "file_name = \"DTU_calls_1set\"\n",
    "\n",
    "path = \"dynamic_results/SI/\"+file_name\n",
    "R0 = path+\"/R0/\"\n",
    "la025 = R0+\"la025\"\n",
    "la015 = R0+\"la015\"\n",
    "la001 = R0+\"la001\"\n",
    "if not os.path.exists(la001):\n",
    "    os.makedirs(la025)\n",
    "    os.makedirs(la015)\n",
    "    os.makedirs(la001)\n",
    "    "
   ]
  },
  {
   "cell_type": "code",
   "execution_count": 230,
   "metadata": {},
   "outputs": [],
   "source": [
    "file_nametmp = \"DTU_calls_1sett\"\n",
    "orig_graphs = load_origin_graph(file_nametmp,gap=599)\n",
    "etn_gen = load_ETNgen_graph(file_nametmp)\n",
    "tag_gen = load_tag_graph(file_nametmp+\"_599\")"
   ]
  },
  {
   "cell_type": "code",
   "execution_count": 231,
   "metadata": {},
   "outputs": [
    {
     "name": "stdout",
     "output_type": "stream",
     "text": [
      "1003 1005 1003\n"
     ]
    }
   ],
   "source": [
    "print(len(orig_graphs),len(etn_gen),len(tag_gen))"
   ]
  },
  {
   "cell_type": "code",
   "execution_count": null,
   "metadata": {},
   "outputs": [],
   "source": []
  },
  {
   "cell_type": "code",
   "execution_count": 232,
   "metadata": {},
   "outputs": [
    {
     "name": "stdout",
     "output_type": "stream",
     "text": [
      "R0 lambda 0.25 dynamic_results/SI/DTU_calls_1set/R0/la025\n",
      "orig vs sta \t 0.49\n",
      "orig vs etn \t 0.32\n",
      "orig vs tag \t 0.38\n",
      "\n",
      "\n",
      "orig vs sta \t 13.423123273296572\n",
      "orig vs etn \t 13.613560220566892\n",
      "orig vs tag \t 14.017661751831037\n",
      "R0 lambda 0.15 dynamic_results/SI/DTU_calls_1set/R0/la015\n",
      "orig vs sta \t 0.37\n",
      "orig vs etn \t 0.29\n",
      "orig vs tag \t 0.29\n",
      "\n",
      "\n",
      "orig vs sta \t 9.242148963434344\n",
      "orig vs etn \t 9.373936235455355\n",
      "orig vs tag \t 9.768725933180917\n",
      "R0 lambda 0.01 dynamic_results/SI/DTU_calls_1set/R0/la001\n",
      "orig vs sta \t 0.03\n",
      "orig vs etn \t 0.02\n",
      "orig vs tag \t 0.06\n",
      "\n",
      "\n",
      "orig vs sta \t 0.7518715194877343\n",
      "orig vs etn \t 0.752281779491039\n",
      "orig vs tag \t 0.8542359783156747\n"
     ]
    }
   ],
   "source": [
    "for lambd in [0.25,0.15,0.01]:\n",
    "    \n",
    "    if lambd == 0.25:\n",
    "        la = la025\n",
    "    if lambd == 0.15:\n",
    "        la = la015\n",
    "    if lambd == 0.01:\n",
    "        la = la001\n",
    "        \n",
    "    K = 100\n",
    "    mu = 0.005\n",
    "    \n",
    "    print(\"R0 lambda\",lambd,la)\n",
    "    r_ori = ds.compute_r0(K,orig_graphs,lambd,mu)\n",
    "    r_sta = ds.compute_r0(K,orig_graphs,lambd,mu)\n",
    "    r_etn = ds.compute_r0(K,etn_gen,lambd,mu)\n",
    "    r_tag = ds.compute_r0(K,tag_gen,lambd,mu)\n",
    "    \n",
    "    r_ori  = r_ori/np.sum(r_ori)\n",
    "    r_sta  = r_sta/np.sum(r_sta)\n",
    "    r_etn  = r_etn/np.sum(r_etn)\n",
    "    r_tag  = r_tag/np.sum(r_tag)\n",
    "    \n",
    "    print(\"orig vs sta \\t\",ks_2samp(r_ori, r_sta)[0])\n",
    "    print(\"orig vs etn \\t\",ks_2samp(r_ori, r_etn)[0])\n",
    "    print(\"orig vs tag \\t\",ks_2samp(r_ori, r_tag)[0])\n",
    "\n",
    "    print(\"\\n\")\n",
    "    print(\"orig vs sta \\t\",compute_kl_divergence(r_ori, r_sta))\n",
    "    print(\"orig vs etn \\t\",compute_kl_divergence(r_ori, r_etn))\n",
    "    print(\"orig vs tag \\t\",compute_kl_divergence(r_ori, r_tag))\n",
    "\n",
    "    np.save(la+\"/stab\",r_sta)\n",
    "    np.save(la+\"/orig\",r_ori)\n",
    "    np.save(la+\"/tag\",r_tag)\n",
    "    np.save(la+\"/etn\",r_etn)"
   ]
  },
  {
   "cell_type": "code",
   "execution_count": null,
   "metadata": {},
   "outputs": [],
   "source": []
  },
  {
   "cell_type": "code",
   "execution_count": null,
   "metadata": {},
   "outputs": [],
   "source": []
  },
  {
   "cell_type": "code",
   "execution_count": null,
   "metadata": {},
   "outputs": [],
   "source": []
  },
  {
   "cell_type": "code",
   "execution_count": null,
   "metadata": {},
   "outputs": [],
   "source": []
  },
  {
   "cell_type": "code",
   "execution_count": 195,
   "metadata": {},
   "outputs": [],
   "source": [
    "file_nametmp = \"DTU_SMS_1sett\"\n",
    "orig_graphs = load_origin_graph(file_nametmp,gap=599)\n",
    "etn_gen = load_ETNgen_graph(file_nametmp)\n",
    "tag_gen = load_tag_graph(file_nametmp+\"_599\")"
   ]
  },
  {
   "cell_type": "code",
   "execution_count": 196,
   "metadata": {},
   "outputs": [],
   "source": [
    "lambd = 0.15\n",
    "r_ori = ds.compute_r0(K,orig_graphs,lambd,mu)\n",
    "r_sta = ds.compute_r0(K,orig_graphs,lambd,mu)\n",
    "r_etn = ds.compute_r0(K,etn_gen,lambd,mu)\n",
    "r_tag = ds.compute_r0(K,tag_gen,lambd,mu)"
   ]
  },
  {
   "cell_type": "code",
   "execution_count": 197,
   "metadata": {},
   "outputs": [
    {
     "data": {
      "image/png": "[encoded data removed]",
      "text/plain": [
       "<Figure size 720x360 with 3 Axes>"
      ]
     },
     "metadata": {
      "image/png": {
       "height": 316,
       "width": 590
      },
      "needs_background": "light"
     },
     "output_type": "display_data"
    }
   ],
   "source": [
    "plt.figure(figsize=(10,5))\n",
    "plt.subplot(1,3,1)\n",
    "plt.title(\"originale\")\n",
    "plt.hist(r_ori)\n",
    "plt.subplot(1,3,2)\n",
    "plt.title(\"ETN\")\n",
    "plt.hist(r_etn)\n",
    "plt.subplot(1,3,3)\n",
    "plt.title(\"TAG\")\n",
    "plt.hist(r_tag)\n",
    "plt.show()"
   ]
  },
  {
   "cell_type": "code",
   "execution_count": 198,
   "metadata": {},
   "outputs": [],
   "source": [
    "r_ori2  = r_ori/np.sum(r_ori)\n",
    "r_sta2  = r_sta/np.sum(r_sta)\n",
    "r_etn2  = r_etn/np.sum(r_etn)\n",
    "r_tag2  = r_tag/np.sum(r_tag)"
   ]
  },
  {
   "cell_type": "code",
   "execution_count": 199,
   "metadata": {},
   "outputs": [
    {
     "name": "stdout",
     "output_type": "stream",
     "text": [
      "0.10600964272431598\n",
      "0.18052644446906144\n",
      "0.03132479605296474\n"
     ]
    }
   ],
   "source": [
    "print(compute_kl_divergence(r_ori,r_sta,50))\n",
    "print(compute_kl_divergence(r_ori,r_etn,50))\n",
    "print(compute_kl_divergence(r_ori,r_tag,50))"
   ]
  },
  {
   "cell_type": "code",
   "execution_count": 200,
   "metadata": {},
   "outputs": [
    {
     "name": "stdout",
     "output_type": "stream",
     "text": [
      "15.321546090189601\n",
      "14.965897371697444\n",
      "14.627297469770104\n"
     ]
    }
   ],
   "source": [
    "print(compute_kl_divergence(r_ori2,r_sta2,50))\n",
    "print(compute_kl_divergence(r_ori2,r_etn2,50))\n",
    "print(compute_kl_divergence(r_ori2,r_tag2,50))"
   ]
  },
  {
   "cell_type": "markdown",
   "metadata": {},
   "source": [
    "# plot"
   ]
  },
  {
   "cell_type": "code",
   "execution_count": 41,
   "metadata": {},
   "outputs": [],
   "source": [
    "\n",
    "ORIGINAL_COLOR = '#474747' #dark grey\n",
    "ETN_COLOR =  '#fb7041' #'#E5865E' # arancio\n",
    "TAG_COLOR = '#96ccc8' # light blue\n",
    "STM_COLOR = '#bad1f2' #8F2E27' # rosso\n",
    "DYM_COLOR = '#559ca6' # teal\n",
    "\n",
    "line_width = 1.5"
   ]
  },
  {
   "cell_type": "code",
   "execution_count": 73,
   "metadata": {},
   "outputs": [],
   "source": [
    "def load_cov(file_name):\n",
    "    \n",
    "    ori = np.load(\"dynamic_results/SI/\"+file_name+\"/coverage/orig.npy\")\n",
    "    stb = np.load(\"dynamic_results/SI/\"+file_name+\"/coverage/stab.npy\")\n",
    "    etn = np.load(\"dynamic_results/SI/\"+file_name+\"/coverage/etn.npy\")\n",
    "    tag = np.load(\"dynamic_results/SI/\"+file_name+\"/coverage/tag.npy\")\n",
    "    \n",
    "    return ori,stb,etn,tag\n",
    "\n",
    "\n",
    "def load_mfpt(file_name):\n",
    "    \n",
    "    ori = np.load(\"dynamic_results/SI/\"+file_name+\"/MFPT/orig.npy\")\n",
    "    stb = np.load(\"dynamic_results/SI/\"+file_name+\"/MFPT/stab.npy\")\n",
    "    etn = np.load(\"dynamic_results/SI/\"+file_name+\"/MFPT/etn.npy\")\n",
    "    tag = np.load(\"dynamic_results/SI/\"+file_name+\"/MFPT/tag.npy\")\n",
    "    \n",
    "    return ori,stb,etn,tag\n",
    "\n",
    "def load_r0(file_name,lambd=\"la001\"):\n",
    "    \n",
    "    ori = np.load(\"dynamic_results/SI/\"+file_name+\"/R0/\"+lambd+\"/orig.npy\")\n",
    "    stb = np.load(\"dynamic_results/SI/\"+file_name+\"/R0/\"+lambd+\"/stab.npy\")\n",
    "    etn = np.load(\"dynamic_results/SI/\"+file_name+\"/R0/\"+lambd+\"/etn.npy\")\n",
    "    tag = np.load(\"dynamic_results/SI/\"+file_name+\"/R0/\"+lambd+\"/tag.npy\")\n",
    "    \n",
    "    return ori,stb,etn,tag"
   ]
  },
  {
   "cell_type": "code",
   "execution_count": null,
   "metadata": {},
   "outputs": [],
   "source": []
  },
  {
   "cell_type": "code",
   "execution_count": 89,
   "metadata": {},
   "outputs": [],
   "source": [
    "\n",
    "def plot_cov_mfpt3(ax,file_name,legend=False):\n",
    "    \n",
    "    \n",
    "    if file_name == \"High_School12\":\n",
    "        ax.set_title(\"High school 2\")\n",
    "    if file_name == \"High_School13\":\n",
    "        ax.set_title(\"High school 3\")\n",
    "    if file_name == \"primary_school\":\n",
    "        ax.set_title(\"Primary school\")\n",
    "        \n",
    "        \n",
    "    cov = load_cov(file_name)\n",
    "    mfpt = load_mfpt(file_name)\n",
    "    \n",
    "    x = np.arange(2)\n",
    "    cov_ms, mfpt_ms = compute_ks_cov_mfpt(cov,mfpt)\n",
    "    x1 = np.array([cov_ms[0],mfpt_ms[0]])\n",
    "    x2 = np.array([cov_ms[1],mfpt_ms[1]])\n",
    "    x3 = np.array([cov_ms[2],mfpt_ms[2]])\n",
    "    \n",
    "    \n",
    "    width = 0.2\n",
    "    rects1 = ax.bar(x - 0.3, x2[:,0], width,  label='ETN-gen',color=ETN_COLOR)\n",
    "    rects5 = ax.bar(x + 0.1, x3[:,0], width,  label='TagGen',color=TAG_COLOR)\n",
    "    ax.plot([-0.45,0.45],[x1[0],x1[0]],linewidth=3, label='Stability',color=ORIGINAL_COLOR)\n",
    "    ax.plot([1-0.45,1.45],[x1[1],x1[1]],linewidth=3, label='Stability',color=ORIGINAL_COLOR)\n",
    "    \n",
    "              \n",
    "    ax.tick_params(bottom=False, right=False,left=False)\n",
    "    ax.set_axisbelow(True)\n",
    "    \n",
    "    ax.yaxis.grid(True, color='lightgrey')\n",
    "    ax.xaxis.grid(False)\n",
    "    \n",
    "    #ax.yaxis.grid(True, color='#FFFFFF')\n",
    "    #ax.set_facecolor('#EFEFEF')\n",
    "    #ax.xaxis.grid(False)\n",
    "    \n",
    "    \n",
    "    ax.spines['top'].set_visible(False)\n",
    "    ax.spines['right'].set_visible(False)\n",
    "    ax.spines['left'].set_visible(False)\n",
    "    ax.spines['bottom'].set_color('#DDDDDD')    \n",
    "    \n",
    "    labels = [\"Coverage\",\"MFPT\"]\n",
    "    ax.set_xticks(x)\n",
    "    ax.set_xticklabels(labels,rotation=0)\n",
    "    ax.set_ylim((0,1))\n",
    "\n",
    "def plot_r03(ax,file_name,legend=False):\n",
    "    \n",
    "    if file_name == \"High_School12\":\n",
    "        ax.set_title(\"High school 2\")\n",
    "    if file_name == \"High_School13\":\n",
    "        ax.set_title(\"High school 3\")\n",
    "    if file_name == \"primary_school\":\n",
    "        ax.set_title(\"Primary school\")\n",
    "        \n",
    "    r0_025 = load_r0(file_name,\"la025\")\n",
    "    r0_015 = load_r0(file_name,\"la015\")\n",
    "    r0_001 = load_r0(file_name,\"la001\")\n",
    "    x1,x2,x3 = compute_ks_r0(r0_025,r0_015,r0_001)\n",
    "    x = np.arange(3)\n",
    "    width = 0.2\n",
    "    \n",
    "\n",
    "    rects1 = ax.bar(x - 0.3, x2, width, label='ETN-gen',color=ETN_COLOR)\n",
    "    rects5 = ax.bar(x + 0.1, x3, width, label='TagGen',color=TAG_COLOR)\n",
    "    \n",
    "    ax.plot([-0.45,0.45],[x1[0],x1[0]],linewidth=3, label='Stability',color=ORIGINAL_COLOR)\n",
    "    ax.plot([1-0.45,1.45],[x1[1],x1[1]],linewidth=3, label='Stability',color=ORIGINAL_COLOR)\n",
    "    ax.plot([2-0.45,2.45],[x1[2],x1[2]],linewidth=3, label='Stability',color=ORIGINAL_COLOR)\n",
    "    \n",
    "          \n",
    "    ax.tick_params(bottom=False, right=False,left=False)\n",
    "    ax.set_axisbelow(True)\n",
    "    \n",
    "    #ax.yaxis.grid(True, color='#FFFFFF')\n",
    "    #ax.set_facecolor('#EFEFEF')\n",
    "    #ax.xaxis.grid(False)\n",
    "    \n",
    "    ax.yaxis.grid(True, color='lightgrey')\n",
    "    ax.xaxis.grid(False)\n",
    "    \n",
    "    ax.spines['top'].set_visible(False)\n",
    "    ax.spines['right'].set_visible(False)\n",
    "    ax.spines['left'].set_visible(False)\n",
    "    ax.spines['bottom'].set_color('#DDDDDD')\n",
    "    \n",
    "    \n",
    "\n",
    "    labels = [r\"$\\lambda$ = 0.25\",r\"$\\lambda$ = 0.15\",r\"$\\lambda$ = 0.01\"]\n",
    "    ax.set_xticks(x)\n",
    "    ax.set_xticklabels(labels,rotation=0)\n",
    "    ax.set_ylim((0,1))\n",
    "    \n",
    "    if legend:\n",
    "        c = 0\n",
    "        \n",
    "def empty_plot(ax):\n",
    "    \n",
    "    ax.plot()\n",
    "    ax.yaxis.grid(False)\n",
    "    ax.xaxis.grid(False)\n",
    "    ax.spines['top'].set_visible(False)\n",
    "    ax.spines['right'].set_visible(False)\n",
    "    ax.spines['left'].set_visible(False)\n",
    "    ax.spines['bottom'].set_visible(False)\n",
    "    # No ticks\n",
    "    ax.set_xticks([])\n",
    "    ax.set_yticks([])"
   ]
  },
  {
   "cell_type": "code",
   "execution_count": 90,
   "metadata": {},
   "outputs": [
    {
     "data": {
      "text/plain": [
       "Text(0.682, 1.08, 'SIR model')"
      ]
     },
     "execution_count": 90,
     "metadata": {},
     "output_type": "execute_result"
    },
    {
     "data": {
      "image/png": "[encoded data removed]",
      "text/plain": [
       "<Figure size 864x216 with 7 Axes>"
      ]
     },
     "metadata": {
      "image/png": {
       "height": 274,
       "width": 850
      }
     },
     "output_type": "display_data"
    }
   ],
   "source": [
    "fig, ax = plt.subplots(1,7, figsize=(12,3), gridspec_kw={'width_ratios': [1,1,1,0.2,1.5,1.5,1.5]})\n",
    "fig.tight_layout(w_pad=-1)\n",
    "\n",
    "\n",
    "plot_cov_mfpt3(ax[0],\"High_School12\")\n",
    "plot_cov_mfpt3(ax[1],\"High_School13\")\n",
    "plot_cov_mfpt3(ax[2],\"primary_school\",legend=True)\n",
    "\n",
    "empty_plot(ax[3])\n",
    "\n",
    "plot_r03(ax[4],\"High_School12\")\n",
    "plot_r03(ax[5],\"High_School13\")\n",
    "plot_r03(ax[6],\"primary_school\",legend=True)\n",
    "\n",
    "\n",
    "ax[1].tick_params(axis='y', colors='white')\n",
    "ax[2].tick_params(axis='y', colors='white')\n",
    "\n",
    "#ax[4].tick_params(axis='y', colors='white')\n",
    "ax[5].tick_params(axis='y', colors='white')\n",
    "ax[6].tick_params(axis='y', colors='white')\n",
    "\n",
    "legend_elements = [Line2D([0], [0], color=ORIGINAL_COLOR, lw=3,label='Original'),\n",
    "                   Patch(facecolor=ETN_COLOR, edgecolor=ETN_COLOR,label='ETN-Gen'),\n",
    "                   Patch(facecolor=STM_COLOR, edgecolor=STM_COLOR,label='STM'),\n",
    "                   Patch(facecolor=TAG_COLOR, edgecolor=TAG_COLOR,label='TagGen'),\n",
    "                   Patch(facecolor=DYM_COLOR, edgecolor=DYM_COLOR,label='Dymond')]\n",
    "\n",
    "# Create the figure\n",
    "ax[0].legend(handles=legend_elements,loc='center left', bbox_to_anchor=(-0.2, -0.2),ncol=5)\n",
    "\n",
    "fig.text(0.17, 1.08, 'Random walk',fontdict={'size':14,'color':'#4d4d4d'},weight=\"bold\")\n",
    "fig.text(0.682, 1.08, 'SIR model',fontdict={'size':14,'color':'#4d4d4d'},weight=\"bold\")\n",
    "\n",
    "\n",
    "#fig.savefig(\"dynamic_main_test_WithE_V5.pdf\", bbox_inches = 'tight')"
   ]
  },
  {
   "cell_type": "code",
   "execution_count": null,
   "metadata": {},
   "outputs": [],
   "source": []
  }
 ],
 "metadata": {
  "kernelspec": {
   "display_name": "Python 3",
   "language": "python",
   "name": "python3"
  },
  "language_info": {
   "codemirror_mode": {
    "name": "ipython",
    "version": 3
   },
   "file_extension": ".py",
   "mimetype": "text/x-python",
   "name": "python",
   "nbconvert_exporter": "python",
   "pygments_lexer": "ipython3",
   "version": "3.8.8"
  }
 },
 "nbformat": 4,
 "nbformat_minor": 4
}
