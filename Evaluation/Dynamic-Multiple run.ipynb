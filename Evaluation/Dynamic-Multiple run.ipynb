{
 "cells": [
  {
   "cell_type": "code",
   "execution_count": 1,
   "metadata": {},
   "outputs": [],
   "source": [
    "import construction as cs\n",
    "import networkx as nx\n",
    "import numpy as np\n",
    "import pandas as pd\n",
    "import matplotlib.pyplot as plt\n",
    "from scipy.stats import ks_2samp\n",
    "\n",
    "\n",
    "import dynamic_metrics as ds\n",
    "\n",
    "\n",
    "import matplotlib.pyplot as plt\n",
    "\n",
    "### read font\n",
    "from matplotlib import font_manager\n",
    "\n",
    "font_dirs = ['Barlow/']\n",
    "font_files = font_manager.findSystemFonts(fontpaths=font_dirs)\n",
    "\n",
    "for font_file in font_files:\n",
    "    font_manager.fontManager.addfont(font_file)\n",
    "\n",
    "# set font\n",
    "plt.rcParams['font.family'] = 'Barlow'\n",
    "\n",
    "import networkx as nx\n",
    "%matplotlib inline\n",
    "%config InlineBackend.figure_format = 'retina'\n",
    "\n",
    "\n",
    "\n",
    "\n",
    "%load_ext autoreload\n",
    "%autoreload 2"
   ]
  },
  {
   "cell_type": "code",
   "execution_count": 2,
   "metadata": {},
   "outputs": [],
   "source": [
    "def load_origin_graph(file_name,gap=299):\n",
    "    data_in = cs.load_data(\"../Datasets/\"+file_name+\".dat\")\n",
    "    gap = 299 \n",
    "    graphs_in = cs.build_graphs(data_in,gap=gap)\n",
    "    return graphs_in\n",
    "\n",
    "def load_ETNgen_graph(file_name):\n",
    "    path = \"../Generated_graphs/Multiple_run/\"+file_name+\"/\"\n",
    "    gap = 299 \n",
    "    graphs = []\n",
    "    for i in os.listdir(path):\n",
    "        print(path+i)\n",
    "        data_in = cs.load_data(path+i)\n",
    "        graphs_in = cs.build_graphs(data_in,gap=gap)\n",
    "        graphs.append(graphs_in)\n",
    "    return graphs\n",
    "\n",
    "\n",
    "def load_dym_graph(file_name):\n",
    "    path = \"../Competitors_generated_graphs/Dymond/Multiple_run/\"+file_name+\"/\"\n",
    "    gap = 0 \n",
    "    graphs = []\n",
    "    for i in os.listdir(path):\n",
    "        print(path+i)\n",
    "        data_in = cs.load_data(path+i)\n",
    "        graphs_in = cs.build_graphs(data_in,gap=gap)\n",
    "        graphs.append(graphs_in)\n",
    "    return graphs\n",
    "\n",
    "def load_stm_graph(file_name):\n",
    "    path = \"../Competitors_generated_graphs/STM/Multiple_run/\"+file_name+\"/\"\n",
    "    gap = 0 \n",
    "    graphs = []\n",
    "    for i in os.listdir(path):\n",
    "        print(path+i)\n",
    "        data_in = cs.load_data(path+i)\n",
    "        graphs_in = cs.build_graphs(data_in,gap=gap)\n",
    "        graphs.append(graphs_in)\n",
    "    return graphs\n",
    "\n",
    "def load_tag_graph(file_name):\n",
    "    path = \"../Competitors_generated_graphs/TagGen/Multiple_run/\"+file_name+\"/\"\n",
    "    gap = 0 \n",
    "    graphs = []\n",
    "    for i in os.listdir(path):\n",
    "        print(path+i)\n",
    "        data_in = cs.load_data(path+i)\n",
    "        graphs_in = cs.build_graphs(data_in,gap=gap)\n",
    "        graphs.append(graphs_in)\n",
    "    return graphs"
   ]
  },
  {
   "cell_type": "code",
   "execution_count": 3,
   "metadata": {},
   "outputs": [],
   "source": [
    "import os "
   ]
  },
  {
   "cell_type": "code",
   "execution_count": 4,
   "metadata": {},
   "outputs": [
    {
     "name": "stdout",
     "output_type": "stream",
     "text": [
      "../Generated_graphs/Multiple_run/High_School11/hs_5.dat\n",
      "../Generated_graphs/Multiple_run/High_School11/hs_6.dat\n",
      "../Generated_graphs/Multiple_run/High_School11/hs_7.dat\n",
      "../Generated_graphs/Multiple_run/High_School11/hs_9.dat\n",
      "../Generated_graphs/Multiple_run/High_School11/hs_1.dat\n",
      "../Generated_graphs/Multiple_run/High_School11/hs_2.dat\n",
      "../Generated_graphs/Multiple_run/High_School11/hs_8.dat\n",
      "../Generated_graphs/Multiple_run/High_School11/hs_0.dat\n",
      "../Generated_graphs/Multiple_run/High_School11/hs_4.dat\n",
      "../Generated_graphs/Multiple_run/High_School11/hs_3.dat\n",
      "../Competitors_generated_graphs/Dymond/Multiple_run/High_School11/High_School11_dym1.dat\n",
      "../Competitors_generated_graphs/Dymond/Multiple_run/High_School11/High_School11_dym7.dat\n",
      "../Competitors_generated_graphs/Dymond/Multiple_run/High_School11/High_School11_dym8.dat\n",
      "../Competitors_generated_graphs/Dymond/Multiple_run/High_School11/High_School11_dym6.dat\n",
      "../Competitors_generated_graphs/Dymond/Multiple_run/High_School11/High_School11_dym3.dat\n",
      "../Competitors_generated_graphs/Dymond/Multiple_run/High_School11/High_School11_dym0.dat\n"
     ]
    },
    {
     "ename": "KeyboardInterrupt",
     "evalue": "",
     "output_type": "error",
     "traceback": [
      "\u001b[0;31m---------------------------------------------------------------------------\u001b[0m",
      "\u001b[0;31mKeyboardInterrupt\u001b[0m                         Traceback (most recent call last)",
      "\u001b[0;32m<ipython-input-4-43ffccc5bef4>\u001b[0m in \u001b[0;36m<module>\u001b[0;34m\u001b[0m\n\u001b[1;32m      2\u001b[0m \u001b[0morig_graphs\u001b[0m \u001b[0;34m=\u001b[0m \u001b[0mload_origin_graph\u001b[0m\u001b[0;34m(\u001b[0m\u001b[0mfile_name\u001b[0m\u001b[0;34m,\u001b[0m\u001b[0mgap\u001b[0m\u001b[0;34m=\u001b[0m\u001b[0;36m299\u001b[0m\u001b[0;34m)\u001b[0m\u001b[0;34m\u001b[0m\u001b[0;34m\u001b[0m\u001b[0m\n\u001b[1;32m      3\u001b[0m \u001b[0metn_gen\u001b[0m \u001b[0;34m=\u001b[0m \u001b[0mload_ETNgen_graph\u001b[0m\u001b[0;34m(\u001b[0m\u001b[0mfile_name\u001b[0m\u001b[0;34m)\u001b[0m\u001b[0;34m\u001b[0m\u001b[0;34m\u001b[0m\u001b[0m\n\u001b[0;32m----> 4\u001b[0;31m \u001b[0mdym_gen\u001b[0m \u001b[0;34m=\u001b[0m \u001b[0mload_dym_graph\u001b[0m\u001b[0;34m(\u001b[0m\u001b[0mfile_name\u001b[0m\u001b[0;34m)\u001b[0m\u001b[0;34m\u001b[0m\u001b[0;34m\u001b[0m\u001b[0m\n\u001b[0m\u001b[1;32m      5\u001b[0m \u001b[0mtag_gen\u001b[0m \u001b[0;34m=\u001b[0m \u001b[0mload_tag_graph\u001b[0m\u001b[0;34m(\u001b[0m\u001b[0mfile_name\u001b[0m\u001b[0;34m)\u001b[0m\u001b[0;34m\u001b[0m\u001b[0;34m\u001b[0m\u001b[0m\n\u001b[1;32m      6\u001b[0m \u001b[0mstm_gen\u001b[0m \u001b[0;34m=\u001b[0m \u001b[0mload_stm_graph\u001b[0m\u001b[0;34m(\u001b[0m\u001b[0mfile_name\u001b[0m\u001b[0;34m)\u001b[0m\u001b[0;34m\u001b[0m\u001b[0;34m\u001b[0m\u001b[0m\n",
      "\u001b[0;32m<ipython-input-2-dbaf3b169d20>\u001b[0m in \u001b[0;36mload_dym_graph\u001b[0;34m(file_name)\u001b[0m\n\u001b[1;32m     24\u001b[0m         \u001b[0mprint\u001b[0m\u001b[0;34m(\u001b[0m\u001b[0mpath\u001b[0m\u001b[0;34m+\u001b[0m\u001b[0mi\u001b[0m\u001b[0;34m)\u001b[0m\u001b[0;34m\u001b[0m\u001b[0;34m\u001b[0m\u001b[0m\n\u001b[1;32m     25\u001b[0m         \u001b[0mdata_in\u001b[0m \u001b[0;34m=\u001b[0m \u001b[0mcs\u001b[0m\u001b[0;34m.\u001b[0m\u001b[0mload_data\u001b[0m\u001b[0;34m(\u001b[0m\u001b[0mpath\u001b[0m\u001b[0;34m+\u001b[0m\u001b[0mi\u001b[0m\u001b[0;34m)\u001b[0m\u001b[0;34m\u001b[0m\u001b[0;34m\u001b[0m\u001b[0m\n\u001b[0;32m---> 26\u001b[0;31m         \u001b[0mgraphs_in\u001b[0m \u001b[0;34m=\u001b[0m \u001b[0mcs\u001b[0m\u001b[0;34m.\u001b[0m\u001b[0mbuild_graphs\u001b[0m\u001b[0;34m(\u001b[0m\u001b[0mdata_in\u001b[0m\u001b[0;34m,\u001b[0m\u001b[0mgap\u001b[0m\u001b[0;34m=\u001b[0m\u001b[0mgap\u001b[0m\u001b[0;34m)\u001b[0m\u001b[0;34m\u001b[0m\u001b[0;34m\u001b[0m\u001b[0m\n\u001b[0m\u001b[1;32m     27\u001b[0m         \u001b[0mgraphs\u001b[0m\u001b[0;34m.\u001b[0m\u001b[0mappend\u001b[0m\u001b[0;34m(\u001b[0m\u001b[0mgraphs_in\u001b[0m\u001b[0;34m)\u001b[0m\u001b[0;34m\u001b[0m\u001b[0;34m\u001b[0m\u001b[0m\n\u001b[1;32m     28\u001b[0m     \u001b[0;32mreturn\u001b[0m \u001b[0mgraphs\u001b[0m\u001b[0;34m\u001b[0m\u001b[0;34m\u001b[0m\u001b[0m\n",
      "\u001b[0;32m~/Desktop/Dottorato/GRAPHGEN/github/ETNgen/Evaluation/construction.py\u001b[0m in \u001b[0;36mbuild_graphs\u001b[0;34m(data, gap, with_labels, meta_path)\u001b[0m\n\u001b[1;32m     30\u001b[0m     \u001b[0mG\u001b[0m\u001b[0;34m.\u001b[0m\u001b[0madd_nodes_from\u001b[0m\u001b[0;34m(\u001b[0m\u001b[0mnodes\u001b[0m\u001b[0;34m)\u001b[0m\u001b[0;34m\u001b[0m\u001b[0;34m\u001b[0m\u001b[0m\n\u001b[1;32m     31\u001b[0m \u001b[0;34m\u001b[0m\u001b[0m\n\u001b[0;32m---> 32\u001b[0;31m     \u001b[0msplitted_data\u001b[0m \u001b[0;34m=\u001b[0m \u001b[0msplit_input_data\u001b[0m\u001b[0;34m(\u001b[0m\u001b[0mdata\u001b[0m\u001b[0;34m,\u001b[0m\u001b[0mgap\u001b[0m\u001b[0;34m)\u001b[0m\u001b[0;34m\u001b[0m\u001b[0;34m\u001b[0m\u001b[0m\n\u001b[0m\u001b[1;32m     33\u001b[0m     \u001b[0;32mfor\u001b[0m \u001b[0mt\u001b[0m \u001b[0;32min\u001b[0m \u001b[0msplitted_data\u001b[0m\u001b[0;34m:\u001b[0m\u001b[0;34m\u001b[0m\u001b[0;34m\u001b[0m\u001b[0m\n\u001b[1;32m     34\u001b[0m         \u001b[0mg\u001b[0m \u001b[0;34m=\u001b[0m \u001b[0mG\u001b[0m\u001b[0;34m.\u001b[0m\u001b[0mcopy\u001b[0m\u001b[0;34m(\u001b[0m\u001b[0;34m)\u001b[0m\u001b[0;34m\u001b[0m\u001b[0;34m\u001b[0m\u001b[0m\n",
      "\u001b[0;32m~/Desktop/Dottorato/GRAPHGEN/github/ETNgen/Evaluation/construction.py\u001b[0m in \u001b[0;36msplit_input_data\u001b[0;34m(data, gap)\u001b[0m\n\u001b[1;32m     46\u001b[0m \u001b[0;34m\u001b[0m\u001b[0m\n\u001b[1;32m     47\u001b[0m     \u001b[0;32mfor\u001b[0m \u001b[0mi\u001b[0m \u001b[0;32min\u001b[0m \u001b[0mrange\u001b[0m\u001b[0;34m(\u001b[0m\u001b[0mmax\u001b[0m\u001b[0;34m(\u001b[0m\u001b[0mtimes\u001b[0m\u001b[0;34m)\u001b[0m\u001b[0;34m+\u001b[0m\u001b[0;36m1\u001b[0m\u001b[0;34m)\u001b[0m\u001b[0;34m:\u001b[0m\u001b[0;34m\u001b[0m\u001b[0;34m\u001b[0m\u001b[0m\n\u001b[0;32m---> 48\u001b[0;31m         \u001b[0mtmp\u001b[0m \u001b[0;34m=\u001b[0m \u001b[0mdata\u001b[0m\u001b[0;34m[\u001b[0m\u001b[0mdata\u001b[0m\u001b[0;34m.\u001b[0m\u001b[0mt\u001b[0m \u001b[0;34m==\u001b[0m \u001b[0mi\u001b[0m\u001b[0;34m]\u001b[0m\u001b[0;34m.\u001b[0m\u001b[0mto_numpy\u001b[0m\u001b[0;34m(\u001b[0m\u001b[0;34m)\u001b[0m\u001b[0;34m\u001b[0m\u001b[0;34m\u001b[0m\u001b[0m\n\u001b[0m\u001b[1;32m     49\u001b[0m         \u001b[0;32mif\u001b[0m \u001b[0mtmp\u001b[0m\u001b[0;34m.\u001b[0m\u001b[0mshape\u001b[0m\u001b[0;34m[\u001b[0m\u001b[0;36m0\u001b[0m\u001b[0;34m]\u001b[0m \u001b[0;34m==\u001b[0m \u001b[0;36m0\u001b[0m\u001b[0;34m:\u001b[0m\u001b[0;34m\u001b[0m\u001b[0;34m\u001b[0m\u001b[0m\n\u001b[1;32m     50\u001b[0m             \u001b[0mtmp\u001b[0m \u001b[0;34m=\u001b[0m \u001b[0;34m[\u001b[0m\u001b[0;34m[\u001b[0m\u001b[0mi\u001b[0m\u001b[0;34m,\u001b[0m\u001b[0;36m0\u001b[0m\u001b[0;34m,\u001b[0m\u001b[0;36m0\u001b[0m\u001b[0;34m]\u001b[0m\u001b[0;34m]\u001b[0m\u001b[0;34m\u001b[0m\u001b[0;34m\u001b[0m\u001b[0m\n",
      "\u001b[0;32m~/.local/lib/python3.8/site-packages/pandas/core/frame.py\u001b[0m in \u001b[0;36m__getitem__\u001b[0;34m(self, key)\u001b[0m\n\u001b[1;32m   3447\u001b[0m         \u001b[0;31m# Do we have a (boolean) 1d indexer?\u001b[0m\u001b[0;34m\u001b[0m\u001b[0;34m\u001b[0m\u001b[0;34m\u001b[0m\u001b[0m\n\u001b[1;32m   3448\u001b[0m         \u001b[0;32mif\u001b[0m \u001b[0mcom\u001b[0m\u001b[0;34m.\u001b[0m\u001b[0mis_bool_indexer\u001b[0m\u001b[0;34m(\u001b[0m\u001b[0mkey\u001b[0m\u001b[0;34m)\u001b[0m\u001b[0;34m:\u001b[0m\u001b[0;34m\u001b[0m\u001b[0;34m\u001b[0m\u001b[0m\n\u001b[0;32m-> 3449\u001b[0;31m             \u001b[0;32mreturn\u001b[0m \u001b[0mself\u001b[0m\u001b[0;34m.\u001b[0m\u001b[0m_getitem_bool_array\u001b[0m\u001b[0;34m(\u001b[0m\u001b[0mkey\u001b[0m\u001b[0;34m)\u001b[0m\u001b[0;34m\u001b[0m\u001b[0;34m\u001b[0m\u001b[0m\n\u001b[0m\u001b[1;32m   3450\u001b[0m \u001b[0;34m\u001b[0m\u001b[0m\n\u001b[1;32m   3451\u001b[0m         \u001b[0;31m# We are left with two options: a single key, and a collection of keys,\u001b[0m\u001b[0;34m\u001b[0m\u001b[0;34m\u001b[0m\u001b[0;34m\u001b[0m\u001b[0m\n",
      "\u001b[0;32m~/.local/lib/python3.8/site-packages/pandas/core/frame.py\u001b[0m in \u001b[0;36m_getitem_bool_array\u001b[0;34m(self, key)\u001b[0m\n\u001b[1;32m   3502\u001b[0m         \u001b[0mkey\u001b[0m \u001b[0;34m=\u001b[0m \u001b[0mcheck_bool_indexer\u001b[0m\u001b[0;34m(\u001b[0m\u001b[0mself\u001b[0m\u001b[0;34m.\u001b[0m\u001b[0mindex\u001b[0m\u001b[0;34m,\u001b[0m \u001b[0mkey\u001b[0m\u001b[0;34m)\u001b[0m\u001b[0;34m\u001b[0m\u001b[0;34m\u001b[0m\u001b[0m\n\u001b[1;32m   3503\u001b[0m         \u001b[0mindexer\u001b[0m \u001b[0;34m=\u001b[0m \u001b[0mkey\u001b[0m\u001b[0;34m.\u001b[0m\u001b[0mnonzero\u001b[0m\u001b[0;34m(\u001b[0m\u001b[0;34m)\u001b[0m\u001b[0;34m[\u001b[0m\u001b[0;36m0\u001b[0m\u001b[0;34m]\u001b[0m\u001b[0;34m\u001b[0m\u001b[0;34m\u001b[0m\u001b[0m\n\u001b[0;32m-> 3504\u001b[0;31m         \u001b[0;32mreturn\u001b[0m \u001b[0mself\u001b[0m\u001b[0;34m.\u001b[0m\u001b[0m_take_with_is_copy\u001b[0m\u001b[0;34m(\u001b[0m\u001b[0mindexer\u001b[0m\u001b[0;34m,\u001b[0m \u001b[0maxis\u001b[0m\u001b[0;34m=\u001b[0m\u001b[0;36m0\u001b[0m\u001b[0;34m)\u001b[0m\u001b[0;34m\u001b[0m\u001b[0;34m\u001b[0m\u001b[0m\n\u001b[0m\u001b[1;32m   3505\u001b[0m \u001b[0;34m\u001b[0m\u001b[0m\n\u001b[1;32m   3506\u001b[0m     \u001b[0;32mdef\u001b[0m \u001b[0m_getitem_multilevel\u001b[0m\u001b[0;34m(\u001b[0m\u001b[0mself\u001b[0m\u001b[0;34m,\u001b[0m \u001b[0mkey\u001b[0m\u001b[0;34m)\u001b[0m\u001b[0;34m:\u001b[0m\u001b[0;34m\u001b[0m\u001b[0;34m\u001b[0m\u001b[0m\n",
      "\u001b[0;32m~/.local/lib/python3.8/site-packages/pandas/core/generic.py\u001b[0m in \u001b[0;36m_take_with_is_copy\u001b[0;34m(self, indices, axis)\u001b[0m\n\u001b[1;32m   3626\u001b[0m         \u001b[0mSee\u001b[0m \u001b[0mthe\u001b[0m \u001b[0mdocstring\u001b[0m \u001b[0mof\u001b[0m\u001b[0;31m \u001b[0m\u001b[0;31m`\u001b[0m\u001b[0mtake\u001b[0m\u001b[0;31m`\u001b[0m \u001b[0;32mfor\u001b[0m \u001b[0mfull\u001b[0m \u001b[0mexplanation\u001b[0m \u001b[0mof\u001b[0m \u001b[0mthe\u001b[0m \u001b[0mparameters\u001b[0m\u001b[0;34m.\u001b[0m\u001b[0;34m\u001b[0m\u001b[0;34m\u001b[0m\u001b[0m\n\u001b[1;32m   3627\u001b[0m         \"\"\"\n\u001b[0;32m-> 3628\u001b[0;31m         \u001b[0mresult\u001b[0m \u001b[0;34m=\u001b[0m \u001b[0mself\u001b[0m\u001b[0;34m.\u001b[0m\u001b[0mtake\u001b[0m\u001b[0;34m(\u001b[0m\u001b[0mindices\u001b[0m\u001b[0;34m=\u001b[0m\u001b[0mindices\u001b[0m\u001b[0;34m,\u001b[0m \u001b[0maxis\u001b[0m\u001b[0;34m=\u001b[0m\u001b[0maxis\u001b[0m\u001b[0;34m)\u001b[0m\u001b[0;34m\u001b[0m\u001b[0;34m\u001b[0m\u001b[0m\n\u001b[0m\u001b[1;32m   3629\u001b[0m         \u001b[0;31m# Maybe set copy if we didn't actually change the index.\u001b[0m\u001b[0;34m\u001b[0m\u001b[0;34m\u001b[0m\u001b[0;34m\u001b[0m\u001b[0m\n\u001b[1;32m   3630\u001b[0m         \u001b[0;32mif\u001b[0m \u001b[0;32mnot\u001b[0m \u001b[0mresult\u001b[0m\u001b[0;34m.\u001b[0m\u001b[0m_get_axis\u001b[0m\u001b[0;34m(\u001b[0m\u001b[0maxis\u001b[0m\u001b[0;34m)\u001b[0m\u001b[0;34m.\u001b[0m\u001b[0mequals\u001b[0m\u001b[0;34m(\u001b[0m\u001b[0mself\u001b[0m\u001b[0;34m.\u001b[0m\u001b[0m_get_axis\u001b[0m\u001b[0;34m(\u001b[0m\u001b[0maxis\u001b[0m\u001b[0;34m)\u001b[0m\u001b[0;34m)\u001b[0m\u001b[0;34m:\u001b[0m\u001b[0;34m\u001b[0m\u001b[0;34m\u001b[0m\u001b[0m\n",
      "\u001b[0;32m~/.local/lib/python3.8/site-packages/pandas/core/generic.py\u001b[0m in \u001b[0;36mtake\u001b[0;34m(self, indices, axis, is_copy, **kwargs)\u001b[0m\n\u001b[1;32m   3613\u001b[0m         \u001b[0mself\u001b[0m\u001b[0;34m.\u001b[0m\u001b[0m_consolidate_inplace\u001b[0m\u001b[0;34m(\u001b[0m\u001b[0;34m)\u001b[0m\u001b[0;34m\u001b[0m\u001b[0;34m\u001b[0m\u001b[0m\n\u001b[1;32m   3614\u001b[0m \u001b[0;34m\u001b[0m\u001b[0m\n\u001b[0;32m-> 3615\u001b[0;31m         new_data = self._mgr.take(\n\u001b[0m\u001b[1;32m   3616\u001b[0m             \u001b[0mindices\u001b[0m\u001b[0;34m,\u001b[0m \u001b[0maxis\u001b[0m\u001b[0;34m=\u001b[0m\u001b[0mself\u001b[0m\u001b[0;34m.\u001b[0m\u001b[0m_get_block_manager_axis\u001b[0m\u001b[0;34m(\u001b[0m\u001b[0maxis\u001b[0m\u001b[0;34m)\u001b[0m\u001b[0;34m,\u001b[0m \u001b[0mverify\u001b[0m\u001b[0;34m=\u001b[0m\u001b[0;32mTrue\u001b[0m\u001b[0;34m\u001b[0m\u001b[0;34m\u001b[0m\u001b[0m\n\u001b[1;32m   3617\u001b[0m         )\n",
      "\u001b[0;32m~/.local/lib/python3.8/site-packages/pandas/core/internals/managers.py\u001b[0m in \u001b[0;36mtake\u001b[0;34m(self, indexer, axis, verify)\u001b[0m\n\u001b[1;32m    863\u001b[0m \u001b[0;34m\u001b[0m\u001b[0m\n\u001b[1;32m    864\u001b[0m         \u001b[0mnew_labels\u001b[0m \u001b[0;34m=\u001b[0m \u001b[0mself\u001b[0m\u001b[0;34m.\u001b[0m\u001b[0maxes\u001b[0m\u001b[0;34m[\u001b[0m\u001b[0maxis\u001b[0m\u001b[0;34m]\u001b[0m\u001b[0;34m.\u001b[0m\u001b[0mtake\u001b[0m\u001b[0;34m(\u001b[0m\u001b[0mindexer\u001b[0m\u001b[0;34m)\u001b[0m\u001b[0;34m\u001b[0m\u001b[0;34m\u001b[0m\u001b[0m\n\u001b[0;32m--> 865\u001b[0;31m         return self.reindex_indexer(\n\u001b[0m\u001b[1;32m    866\u001b[0m             \u001b[0mnew_axis\u001b[0m\u001b[0;34m=\u001b[0m\u001b[0mnew_labels\u001b[0m\u001b[0;34m,\u001b[0m\u001b[0;34m\u001b[0m\u001b[0;34m\u001b[0m\u001b[0m\n\u001b[1;32m    867\u001b[0m             \u001b[0mindexer\u001b[0m\u001b[0;34m=\u001b[0m\u001b[0mindexer\u001b[0m\u001b[0;34m,\u001b[0m\u001b[0;34m\u001b[0m\u001b[0;34m\u001b[0m\u001b[0m\n",
      "\u001b[0;32m~/.local/lib/python3.8/site-packages/pandas/core/internals/managers.py\u001b[0m in \u001b[0;36mreindex_indexer\u001b[0;34m(self, new_axis, indexer, axis, fill_value, allow_dups, copy, consolidate, only_slice)\u001b[0m\n\u001b[1;32m    678\u001b[0m             )\n\u001b[1;32m    679\u001b[0m         \u001b[0;32melse\u001b[0m\u001b[0;34m:\u001b[0m\u001b[0;34m\u001b[0m\u001b[0;34m\u001b[0m\u001b[0m\n\u001b[0;32m--> 680\u001b[0;31m             new_blocks = [\n\u001b[0m\u001b[1;32m    681\u001b[0m                 blk.take_nd(\n\u001b[1;32m    682\u001b[0m                     \u001b[0mindexer\u001b[0m\u001b[0;34m,\u001b[0m\u001b[0;34m\u001b[0m\u001b[0;34m\u001b[0m\u001b[0m\n",
      "\u001b[0;32m~/.local/lib/python3.8/site-packages/pandas/core/internals/managers.py\u001b[0m in \u001b[0;36m<listcomp>\u001b[0;34m(.0)\u001b[0m\n\u001b[1;32m    679\u001b[0m         \u001b[0;32melse\u001b[0m\u001b[0;34m:\u001b[0m\u001b[0;34m\u001b[0m\u001b[0;34m\u001b[0m\u001b[0m\n\u001b[1;32m    680\u001b[0m             new_blocks = [\n\u001b[0;32m--> 681\u001b[0;31m                 blk.take_nd(\n\u001b[0m\u001b[1;32m    682\u001b[0m                     \u001b[0mindexer\u001b[0m\u001b[0;34m,\u001b[0m\u001b[0;34m\u001b[0m\u001b[0;34m\u001b[0m\u001b[0m\n\u001b[1;32m    683\u001b[0m                     \u001b[0maxis\u001b[0m\u001b[0;34m=\u001b[0m\u001b[0;36m1\u001b[0m\u001b[0;34m,\u001b[0m\u001b[0;34m\u001b[0m\u001b[0;34m\u001b[0m\u001b[0m\n",
      "\u001b[0;32m~/.local/lib/python3.8/site-packages/pandas/core/internals/blocks.py\u001b[0m in \u001b[0;36mtake_nd\u001b[0;34m(self, indexer, axis, new_mgr_locs, fill_value)\u001b[0m\n\u001b[1;32m   1143\u001b[0m             \u001b[0mallow_fill\u001b[0m \u001b[0;34m=\u001b[0m \u001b[0;32mTrue\u001b[0m\u001b[0;34m\u001b[0m\u001b[0;34m\u001b[0m\u001b[0m\n\u001b[1;32m   1144\u001b[0m \u001b[0;34m\u001b[0m\u001b[0m\n\u001b[0;32m-> 1145\u001b[0;31m         new_values = algos.take_nd(\n\u001b[0m\u001b[1;32m   1146\u001b[0m             \u001b[0mvalues\u001b[0m\u001b[0;34m,\u001b[0m \u001b[0mindexer\u001b[0m\u001b[0;34m,\u001b[0m \u001b[0maxis\u001b[0m\u001b[0;34m=\u001b[0m\u001b[0maxis\u001b[0m\u001b[0;34m,\u001b[0m \u001b[0mallow_fill\u001b[0m\u001b[0;34m=\u001b[0m\u001b[0mallow_fill\u001b[0m\u001b[0;34m,\u001b[0m \u001b[0mfill_value\u001b[0m\u001b[0;34m=\u001b[0m\u001b[0mfill_value\u001b[0m\u001b[0;34m\u001b[0m\u001b[0;34m\u001b[0m\u001b[0m\n\u001b[1;32m   1147\u001b[0m         )\n",
      "\u001b[0;32m~/.local/lib/python3.8/site-packages/pandas/core/array_algos/take.py\u001b[0m in \u001b[0;36mtake_nd\u001b[0;34m(arr, indexer, axis, fill_value, allow_fill)\u001b[0m\n\u001b[1;32m    106\u001b[0m \u001b[0;34m\u001b[0m\u001b[0m\n\u001b[1;32m    107\u001b[0m     \u001b[0marr\u001b[0m \u001b[0;34m=\u001b[0m \u001b[0mnp\u001b[0m\u001b[0;34m.\u001b[0m\u001b[0masarray\u001b[0m\u001b[0;34m(\u001b[0m\u001b[0marr\u001b[0m\u001b[0;34m)\u001b[0m\u001b[0;34m\u001b[0m\u001b[0;34m\u001b[0m\u001b[0m\n\u001b[0;32m--> 108\u001b[0;31m     \u001b[0;32mreturn\u001b[0m \u001b[0m_take_nd_ndarray\u001b[0m\u001b[0;34m(\u001b[0m\u001b[0marr\u001b[0m\u001b[0;34m,\u001b[0m \u001b[0mindexer\u001b[0m\u001b[0;34m,\u001b[0m \u001b[0maxis\u001b[0m\u001b[0;34m,\u001b[0m \u001b[0mfill_value\u001b[0m\u001b[0;34m,\u001b[0m \u001b[0mallow_fill\u001b[0m\u001b[0;34m)\u001b[0m\u001b[0;34m\u001b[0m\u001b[0;34m\u001b[0m\u001b[0m\n\u001b[0m\u001b[1;32m    109\u001b[0m \u001b[0;34m\u001b[0m\u001b[0m\n\u001b[1;32m    110\u001b[0m \u001b[0;34m\u001b[0m\u001b[0m\n",
      "\u001b[0;32m~/.local/lib/python3.8/site-packages/pandas/core/array_algos/take.py\u001b[0m in \u001b[0;36m_take_nd_ndarray\u001b[0;34m(arr, indexer, axis, fill_value, allow_fill)\u001b[0m\n\u001b[1;32m    123\u001b[0m         \u001b[0mindexer\u001b[0m \u001b[0;34m=\u001b[0m \u001b[0mensure_platform_int\u001b[0m\u001b[0;34m(\u001b[0m\u001b[0mindexer\u001b[0m\u001b[0;34m)\u001b[0m\u001b[0;34m\u001b[0m\u001b[0;34m\u001b[0m\u001b[0m\n\u001b[1;32m    124\u001b[0m \u001b[0;34m\u001b[0m\u001b[0m\n\u001b[0;32m--> 125\u001b[0;31m     indexer, dtype, fill_value, mask_info = _take_preprocess_indexer_and_fill_value(\n\u001b[0m\u001b[1;32m    126\u001b[0m         \u001b[0marr\u001b[0m\u001b[0;34m,\u001b[0m \u001b[0mindexer\u001b[0m\u001b[0;34m,\u001b[0m \u001b[0mfill_value\u001b[0m\u001b[0;34m,\u001b[0m \u001b[0mallow_fill\u001b[0m\u001b[0;34m\u001b[0m\u001b[0;34m\u001b[0m\u001b[0m\n\u001b[1;32m    127\u001b[0m     )\n",
      "\u001b[0;32m~/.local/lib/python3.8/site-packages/pandas/core/array_algos/take.py\u001b[0m in \u001b[0;36m_take_preprocess_indexer_and_fill_value\u001b[0;34m(arr, indexer, fill_value, allow_fill)\u001b[0m\n\u001b[1;32m    532\u001b[0m         \u001b[0;32mif\u001b[0m \u001b[0mdtype\u001b[0m \u001b[0;34m!=\u001b[0m \u001b[0marr\u001b[0m\u001b[0;34m.\u001b[0m\u001b[0mdtype\u001b[0m\u001b[0;34m:\u001b[0m\u001b[0;34m\u001b[0m\u001b[0;34m\u001b[0m\u001b[0m\n\u001b[1;32m    533\u001b[0m             \u001b[0;31m# check if promotion is actually required based on indexer\u001b[0m\u001b[0;34m\u001b[0m\u001b[0;34m\u001b[0m\u001b[0;34m\u001b[0m\u001b[0m\n\u001b[0;32m--> 534\u001b[0;31m             \u001b[0mmask\u001b[0m \u001b[0;34m=\u001b[0m \u001b[0mindexer\u001b[0m \u001b[0;34m==\u001b[0m \u001b[0;34m-\u001b[0m\u001b[0;36m1\u001b[0m\u001b[0;34m\u001b[0m\u001b[0;34m\u001b[0m\u001b[0m\n\u001b[0m\u001b[1;32m    535\u001b[0m             \u001b[0mneeds_masking\u001b[0m \u001b[0;34m=\u001b[0m \u001b[0mmask\u001b[0m\u001b[0;34m.\u001b[0m\u001b[0many\u001b[0m\u001b[0;34m(\u001b[0m\u001b[0;34m)\u001b[0m\u001b[0;34m\u001b[0m\u001b[0;34m\u001b[0m\u001b[0m\n\u001b[1;32m    536\u001b[0m             \u001b[0mmask_info\u001b[0m \u001b[0;34m=\u001b[0m \u001b[0mmask\u001b[0m\u001b[0;34m,\u001b[0m \u001b[0mneeds_masking\u001b[0m\u001b[0;34m\u001b[0m\u001b[0;34m\u001b[0m\u001b[0m\n",
      "\u001b[0;31mKeyboardInterrupt\u001b[0m: "
     ]
    }
   ],
   "source": [
    "file_name = \"High_School11\"\n",
    "orig_graphs = load_origin_graph(file_name,gap=299)\n",
    "etn_gen = load_ETNgen_graph(file_name)\n",
    "dym_gen = load_dym_graph(file_name)\n",
    "tag_gen = load_tag_graph(file_name)\n",
    "stm_gen = load_stm_graph(file_name)"
   ]
  },
  {
   "cell_type": "code",
   "execution_count": 8,
   "metadata": {},
   "outputs": [
    {
     "data": {
      "text/plain": [
       "(126.0, 0.0)"
      ]
     },
     "execution_count": 8,
     "metadata": {},
     "output_type": "execute_result"
    }
   ],
   "source": [
    "r = []\n",
    "for i in etn_gen:\n",
    "    r.append(len(i[0]))\n",
    "np.mean(r),np.std(r)"
   ]
  },
  {
   "cell_type": "code",
   "execution_count": null,
   "metadata": {},
   "outputs": [],
   "source": [
    "nb_nodes_lh = [75,[75.0,0],[182.4, 12.009995836801943],[18.6, 2.727636339397171],[75.0,0]]\n",
    "nb_nodes_in = [92,[92.0,0],[200.6, 28.51385628076287],[91.7, 0.45825756949558394],[92.0,0]]\n",
    "nb_nodes_hs = [126,[126.0,0],[370.5.6, 18.211260252931424],[58.7, 6.542935121182236],[126.0,0]]"
   ]
  },
  {
   "cell_type": "code",
   "execution_count": null,
   "metadata": {},
   "outputs": [],
   "source": [
    "2 ETN_COLOR\n",
    "3 STM_COLOR\n",
    "5 TAG_COLOR\n",
    "4 DYM_COLOR"
   ]
  },
  {
   "cell_type": "code",
   "execution_count": 5,
   "metadata": {},
   "outputs": [],
   "source": [
    "import os\n",
    "\n",
    "path = \"dynamic_results/\"+file_name+\"/Multiple_run\"\n",
    "COV = path+\"/coverage\"\n",
    "MFPTs = path+\"/MFPT\"\n",
    "\n",
    "if not os.path.exists(path):\n",
    "    os.makedirs(path)\n",
    "    os.makedirs(COV)\n",
    "    os.makedirs(MFPTs)"
   ]
  },
  {
   "cell_type": "markdown",
   "metadata": {},
   "source": [
    "# coverage"
   ]
  },
  {
   "cell_type": "markdown",
   "metadata": {},
   "source": [
    "k volte, con n0 e t0 random"
   ]
  },
  {
   "cell_type": "code",
   "execution_count": 6,
   "metadata": {},
   "outputs": [],
   "source": [
    "from scipy.stats import ks_2samp"
   ]
  },
  {
   "cell_type": "code",
   "execution_count": 7,
   "metadata": {},
   "outputs": [
    {
     "name": "stdout",
     "output_type": "stream",
     "text": [
      "STM done\n",
      "ETN done\n",
      "TAG done\n",
      "DYM done\n"
     ]
    }
   ],
   "source": [
    "K = 1000\n",
    "T = 500\n",
    "c_stm,c_mio,c_tag,c_dym = [],[],[],[]\n",
    "for stm in stm_gen:\n",
    "    c_stm.append(ds.coverage(stm,K,T))\n",
    "print(\"STM done\")\n",
    "c_orig = ds.coverage(orig_graphs,K,T)\n",
    "c_stab = ds.coverage(orig_graphs,K,T)\n",
    "for etn in etn_gen:\n",
    "    c_mio.append(ds.coverage(etn,K,T))\n",
    "print(\"ETN done\")\n",
    "for tag in tag_gen:\n",
    "    c_tag.append(ds.coverage(tag,K,T))\n",
    "print(\"TAG done\")\n",
    "for dym in dym_gen:\n",
    "    c_dym.append( ds.coverage(dym,K,T))\n",
    "print(\"DYM done\")\n"
   ]
  },
  {
   "cell_type": "code",
   "execution_count": 7,
   "metadata": {},
   "outputs": [],
   "source": [
    "def mean_ks(c_orig,c_gens):\n",
    "    res = []\n",
    "    for i in c_gens:\n",
    "        res.append(ks_2samp(c_orig,i)[0])\n",
    "    return np.mean(res),np.std(res)"
   ]
  },
  {
   "cell_type": "code",
   "execution_count": 9,
   "metadata": {},
   "outputs": [
    {
     "name": "stdout",
     "output_type": "stream",
     "text": [
      "coverage\n",
      "orig vs sta \t 0.022\n",
      "orig vs mio \t (0.15020000000000003, 0.011034491379306979)\n",
      "orig vs tag \t (0.6621, 0.2576961194896035)\n",
      "orig vs dym \t (0.9883, 0.007616429609731853)\n",
      "orig vs stm \t (0.8328, 0.05575087443260418)\n"
     ]
    }
   ],
   "source": [
    "\n",
    "print(\"coverage\")\n",
    "print(\"orig vs sta \\t\",ks_2samp(c_orig, c_stab)[0])\n",
    "print(\"orig vs mio \\t\",mean_ks(c_orig, c_mio))\n",
    "print(\"orig vs tag \\t\",mean_ks(c_orig, c_tag))\n",
    "print(\"orig vs dym \\t\",mean_ks(c_orig, c_dym))\n",
    "print(\"orig vs stm \\t\",mean_ks(c_orig, c_stm))"
   ]
  },
  {
   "cell_type": "code",
   "execution_count": 10,
   "metadata": {},
   "outputs": [],
   "source": [
    "np.save(COV+\"/stab\",c_stab)\n",
    "np.save(COV+\"/orig\",c_orig)\n",
    "np.save(COV+\"/tag\",c_tag)\n",
    "np.save(COV+\"/etn\",c_mio)\n",
    "np.save(COV+\"/dym\",c_dym)\n",
    "np.save(COV+\"/stm\",c_stm)"
   ]
  },
  {
   "cell_type": "code",
   "execution_count": null,
   "metadata": {},
   "outputs": [],
   "source": []
  },
  {
   "cell_type": "markdown",
   "metadata": {},
   "source": [
    "# MFPT"
   ]
  },
  {
   "cell_type": "code",
   "execution_count": 11,
   "metadata": {},
   "outputs": [
    {
     "data": {
      "text/plain": [
       "'dynamic_results/InVS13/Multiple_run/MFPT'"
      ]
     },
     "execution_count": 11,
     "metadata": {},
     "output_type": "execute_result"
    }
   ],
   "source": [
    "path = \"dynamic_results/\"+file_name+\"/Multiple_run\"\n",
    "MFPTs = path+\"/MFPT\"\n",
    "MFPTs"
   ]
  },
  {
   "cell_type": "code",
   "execution_count": 80,
   "metadata": {},
   "outputs": [
    {
     "name": "stdout",
     "output_type": "stream",
     "text": [
      "../Generated_graphs/Multiple_run/LH10/lh_7.dat\n",
      "../Generated_graphs/Multiple_run/LH10/lh_1.dat\n",
      "../Generated_graphs/Multiple_run/LH10/lh_3.dat\n",
      "../Generated_graphs/Multiple_run/LH10/lh_9.dat\n",
      "../Generated_graphs/Multiple_run/LH10/lh_5.dat\n",
      "../Generated_graphs/Multiple_run/LH10/lh_8.dat\n",
      "../Generated_graphs/Multiple_run/LH10/lh_4.dat\n",
      "../Generated_graphs/Multiple_run/LH10/lh_6.dat\n",
      "../Generated_graphs/Multiple_run/LH10/lh_0.dat\n",
      "../Generated_graphs/Multiple_run/LH10/lh_2.dat\n",
      "../Competitors_generated_graphs/Dymond/Multiple_run/LH10/LH10_dym7.dat\n",
      "../Competitors_generated_graphs/Dymond/Multiple_run/LH10/LH10_dym8.dat\n",
      "../Competitors_generated_graphs/Dymond/Multiple_run/LH10/LH10_dym4.dat\n",
      "../Competitors_generated_graphs/Dymond/Multiple_run/LH10/LH10_dym5.dat\n",
      "../Competitors_generated_graphs/Dymond/Multiple_run/LH10/LH10_dym9.dat\n",
      "../Competitors_generated_graphs/Dymond/Multiple_run/LH10/LH10_dym3.dat\n",
      "../Competitors_generated_graphs/Dymond/Multiple_run/LH10/LH10_dym0.dat\n",
      "../Competitors_generated_graphs/Dymond/Multiple_run/LH10/LH10_dym1.dat\n",
      "../Competitors_generated_graphs/Dymond/Multiple_run/LH10/LH10_dym2.dat\n",
      "../Competitors_generated_graphs/Dymond/Multiple_run/LH10/LH10_dym6.dat\n",
      "../Competitors_generated_graphs/TagGen/Multiple_run/LH10/LH10_1_generato_TagGen.dat\n",
      "../Competitors_generated_graphs/TagGen/Multiple_run/LH10/LH10_3_generato_TagGen.dat\n",
      "../Competitors_generated_graphs/TagGen/Multiple_run/LH10/LH10_2_generato_TagGen.dat\n",
      "../Competitors_generated_graphs/TagGen/Multiple_run/LH10/LH10_0_generato_TagGen.dat\n",
      "../Competitors_generated_graphs/TagGen/Multiple_run/LH10/LH10_4_generato_TagGen.dat\n",
      "../Competitors_generated_graphs/STM/Multiple_run/LH10/LH10_STM_7.dat\n",
      "../Competitors_generated_graphs/STM/Multiple_run/LH10/LH10_STM_9.dat\n",
      "../Competitors_generated_graphs/STM/Multiple_run/LH10/LH10_STM_5.dat\n",
      "../Competitors_generated_graphs/STM/Multiple_run/LH10/LH10_STM_6.dat\n",
      "../Competitors_generated_graphs/STM/Multiple_run/LH10/LH10_STM_3.dat\n",
      "../Competitors_generated_graphs/STM/Multiple_run/LH10/LH10_STM_4.dat\n",
      "../Competitors_generated_graphs/STM/Multiple_run/LH10/LH10_STM_1.dat\n",
      "../Competitors_generated_graphs/STM/Multiple_run/LH10/LH10_STM_2.dat\n",
      "../Competitors_generated_graphs/STM/Multiple_run/LH10/LH10_STM_8.dat\n",
      "../Competitors_generated_graphs/STM/Multiple_run/LH10/LH10_STM_0.dat\n",
      "dynamic_results/LH10/Multiple_run/MFPT\n"
     ]
    }
   ],
   "source": [
    "orig_graphs = load_origin_graph(file_name,gap=299)\n",
    "etn_gen = load_ETNgen_graph(file_name)\n",
    "dym_gen = load_dym_graph(file_name)\n",
    "tag_gen = load_tag_graph(file_name)\n",
    "stm_gen = load_stm_graph(file_name)\n",
    "print(MFPTs)"
   ]
  },
  {
   "cell_type": "code",
   "execution_count": 12,
   "metadata": {},
   "outputs": [
    {
     "name": "stdout",
     "output_type": "stream",
     "text": [
      "1\n",
      "2\n",
      "\t 1\n",
      "\t 2\n",
      "\t 3\n",
      "\t 4\n",
      "\t 5\n",
      "\t 6\n",
      "\t 7\n",
      "\t 8\n",
      "\t 9\n",
      "\t 10\n",
      "STM done\n",
      "\t 1\n",
      "\t 2\n",
      "\t 3\n",
      "\t 4\n",
      "\t 5\n",
      "\t 6\n",
      "\t 7\n",
      "\t 8\n",
      "\t 9\n",
      "\t 10\n",
      "ETN done\n",
      "\t 1\n",
      "\t 2\n",
      "\t 3\n",
      "\t 4\n",
      "\t 5\n",
      "\t 6\n",
      "\t 7\n",
      "\t 8\n",
      "\t 9\n",
      "\t 10\n",
      "TAG done\n",
      "\t 1\n",
      "\t 2\n",
      "\t 3\n",
      "\t 4\n",
      "\t 5\n",
      "\t 6\n",
      "\t 7\n",
      "\t 8\n",
      "\t 9\n",
      "\t 10\n",
      "SYM done\n"
     ]
    }
   ],
   "source": [
    "K = 1\n",
    "m_ori = ds.MFPT(orig_graphs,K)\n",
    "m_ori2 = [x for x in m_ori if x < max(m_ori)-10]\n",
    "print(1)\n",
    "m_stb = ds.MFPT(orig_graphs,K)\n",
    "m_stb2 = [x for x in m_stb if x < max(m_ori)-10]\n",
    "print(2)\n",
    "\n",
    "m_stm,m_mio,m_tag,m_dym = [],[],[],[]\n",
    "\n",
    "c = 0\n",
    "for stm in stm_gen:\n",
    "    c = c + 1\n",
    "    print(\"\\t\",c)\n",
    "    tmp = ds.MFPT(stm,K)\n",
    "    tmp = [x for x in tmp if x < max(m_ori)-10]\n",
    "    m_stm.append(tmp)\n",
    "print(\"STM done\")\n",
    "\n",
    "c = 0\n",
    "for etn in etn_gen:\n",
    "    c = c + 1\n",
    "    print(\"\\t\",c)\n",
    "    tmp = ds.MFPT(etn,K)\n",
    "    tmp = [x for x in tmp if x < max(m_ori)-10]\n",
    "    m_mio.append(tmp)\n",
    "print(\"ETN done\")\n",
    "\n",
    "c = 0\n",
    "for tag in tag_gen:\n",
    "    c = c + 1\n",
    "    print(\"\\t\",c)\n",
    "    tmp = ds.MFPT(tag,K)\n",
    "    tmp = [x for x in tmp if x < max(m_ori)-10]\n",
    "    m_tag.append(tmp)\n",
    "print(\"TAG done\")\n",
    "\n",
    "c = 0\n",
    "for dym in dym_gen:\n",
    "    c = c + 1\n",
    "    print(\"\\t\",c)\n",
    "    tmp = ds.MFPT(dym,K)\n",
    "    tmp = [x for x in tmp if x < max(m_ori)-10]\n",
    "    m_dym.append(tmp)\n",
    "print(\"SYM done\")"
   ]
  },
  {
   "cell_type": "code",
   "execution_count": 14,
   "metadata": {},
   "outputs": [
    {
     "name": "stdout",
     "output_type": "stream",
     "text": [
      "orig vs sta \t 0.025522436521852068\n",
      "orig vs mio \t (0.07365609478166155, 0.009576130652626249)\n",
      "orig vs mio \t (0.22230303186684858, 0.10860556447110008)\n",
      "orig vs mio \t (0.24128762443103993, 0.016039598949868623)\n",
      "orig vs mio \t (0.731202443297359, 0.10469546666805511)\n"
     ]
    }
   ],
   "source": [
    "print(\"orig vs sta \\t\",ks_2samp(m_ori2, m_stb2)[0])\n",
    "print(\"orig vs mio \\t\",mean_ks(m_ori2, m_mio))\n",
    "print(\"orig vs mio \\t\",mean_ks(m_ori2, m_tag))\n",
    "print(\"orig vs mio \\t\",mean_ks(m_ori2, m_dym))\n",
    "print(\"orig vs mio \\t\",mean_ks(m_ori2, m_stm))"
   ]
  },
  {
   "cell_type": "code",
   "execution_count": null,
   "metadata": {},
   "outputs": [],
   "source": []
  },
  {
   "cell_type": "code",
   "execution_count": 17,
   "metadata": {},
   "outputs": [],
   "source": [
    "np.save(MFPTs+\"/stab\",m_stb2)\n",
    "np.save(MFPTs+\"/orig\",m_ori2)\n",
    "np.save(MFPTs+\"/tag\",m_tag)\n",
    "np.save(MFPTs+\"/etn\",m_mio)\n",
    "np.save(MFPTs+\"/dym\",m_dym)\n",
    "np.save(MFPTs+\"/stm\",m_stm)"
   ]
  },
  {
   "cell_type": "code",
   "execution_count": null,
   "metadata": {},
   "outputs": [],
   "source": []
  },
  {
   "cell_type": "code",
   "execution_count": 18,
   "metadata": {},
   "outputs": [
    {
     "data": {
      "text/plain": [
       "'dynamic_results/InVS13/Multiple_run/MFPT'"
      ]
     },
     "execution_count": 18,
     "metadata": {},
     "output_type": "execute_result"
    }
   ],
   "source": [
    "MFPTs"
   ]
  },
  {
   "cell_type": "code",
   "execution_count": null,
   "metadata": {},
   "outputs": [],
   "source": []
  },
  {
   "cell_type": "code",
   "execution_count": null,
   "metadata": {},
   "outputs": [],
   "source": []
  },
  {
   "cell_type": "code",
   "execution_count": null,
   "metadata": {},
   "outputs": [],
   "source": []
  },
  {
   "cell_type": "markdown",
   "metadata": {},
   "source": [
    "# SIR model"
   ]
  },
  {
   "cell_type": "code",
   "execution_count": null,
   "metadata": {},
   "outputs": [],
   "source": []
  },
  {
   "cell_type": "code",
   "execution_count": 5,
   "metadata": {},
   "outputs": [
    {
     "data": {
      "text/plain": [
       "'dynamic_results/InVS13/Multiple_run'"
      ]
     },
     "execution_count": 5,
     "metadata": {},
     "output_type": "execute_result"
    }
   ],
   "source": [
    "import os\n",
    "\n",
    "path = \"dynamic_results/\"+file_name+\"/Multiple_run\"\n",
    "R0 = path+\"/R0/\"\n",
    "la025 = R0+\"la025\"\n",
    "la015 = R0+\"la015\"\n",
    "la001 = R0+\"la001\"\n",
    "if not os.path.exists(la001):\n",
    "    os.makedirs(la025)\n",
    "    os.makedirs(la015)\n",
    "    os.makedirs(la001)\n",
    "path"
   ]
  },
  {
   "cell_type": "code",
   "execution_count": 88,
   "metadata": {},
   "outputs": [
    {
     "name": "stdout",
     "output_type": "stream",
     "text": [
      "../Generated_graphs/Multiple_run/LH10/lh_7.dat\n",
      "../Generated_graphs/Multiple_run/LH10/lh_1.dat\n",
      "../Generated_graphs/Multiple_run/LH10/lh_3.dat\n",
      "../Generated_graphs/Multiple_run/LH10/lh_9.dat\n",
      "../Generated_graphs/Multiple_run/LH10/lh_5.dat\n",
      "../Generated_graphs/Multiple_run/LH10/lh_8.dat\n",
      "../Generated_graphs/Multiple_run/LH10/lh_4.dat\n",
      "../Generated_graphs/Multiple_run/LH10/lh_6.dat\n",
      "../Generated_graphs/Multiple_run/LH10/lh_0.dat\n",
      "../Generated_graphs/Multiple_run/LH10/lh_2.dat\n",
      "../Competitors_generated_graphs/Dymond/Multiple_run/LH10/LH10_dym7.dat\n",
      "../Competitors_generated_graphs/Dymond/Multiple_run/LH10/LH10_dym8.dat\n",
      "../Competitors_generated_graphs/Dymond/Multiple_run/LH10/LH10_dym4.dat\n",
      "../Competitors_generated_graphs/Dymond/Multiple_run/LH10/LH10_dym5.dat\n",
      "../Competitors_generated_graphs/Dymond/Multiple_run/LH10/LH10_dym9.dat\n",
      "../Competitors_generated_graphs/Dymond/Multiple_run/LH10/LH10_dym3.dat\n",
      "../Competitors_generated_graphs/Dymond/Multiple_run/LH10/LH10_dym0.dat\n",
      "../Competitors_generated_graphs/Dymond/Multiple_run/LH10/LH10_dym1.dat\n",
      "../Competitors_generated_graphs/Dymond/Multiple_run/LH10/LH10_dym2.dat\n",
      "../Competitors_generated_graphs/Dymond/Multiple_run/LH10/LH10_dym6.dat\n",
      "../Competitors_generated_graphs/TagGen/Multiple_run/LH10/LH10_1_generato_TagGen.dat\n",
      "../Competitors_generated_graphs/TagGen/Multiple_run/LH10/LH10_3_generato_TagGen.dat\n",
      "../Competitors_generated_graphs/TagGen/Multiple_run/LH10/LH10_2_generato_TagGen.dat\n",
      "../Competitors_generated_graphs/TagGen/Multiple_run/LH10/LH10_0_generato_TagGen.dat\n",
      "../Competitors_generated_graphs/TagGen/Multiple_run/LH10/LH10_4_generato_TagGen.dat\n",
      "../Competitors_generated_graphs/STM/Multiple_run/LH10/LH10_STM_7.dat\n",
      "../Competitors_generated_graphs/STM/Multiple_run/LH10/LH10_STM_9.dat\n",
      "../Competitors_generated_graphs/STM/Multiple_run/LH10/LH10_STM_5.dat\n",
      "../Competitors_generated_graphs/STM/Multiple_run/LH10/LH10_STM_6.dat\n",
      "../Competitors_generated_graphs/STM/Multiple_run/LH10/LH10_STM_3.dat\n",
      "../Competitors_generated_graphs/STM/Multiple_run/LH10/LH10_STM_4.dat\n",
      "../Competitors_generated_graphs/STM/Multiple_run/LH10/LH10_STM_1.dat\n",
      "../Competitors_generated_graphs/STM/Multiple_run/LH10/LH10_STM_2.dat\n",
      "../Competitors_generated_graphs/STM/Multiple_run/LH10/LH10_STM_8.dat\n",
      "../Competitors_generated_graphs/STM/Multiple_run/LH10/LH10_STM_0.dat\n"
     ]
    }
   ],
   "source": [
    "orig_graphs = load_origin_graph(file_name,gap=299)\n",
    "etn_gen = load_ETNgen_graph(file_name)\n",
    "dym_gen = load_dym_graph(file_name)\n",
    "tag_gen = load_tag_graph(file_name)\n",
    "stm_gen = load_stm_graph(file_name)"
   ]
  },
  {
   "cell_type": "code",
   "execution_count": null,
   "metadata": {},
   "outputs": [],
   "source": []
  },
  {
   "cell_type": "code",
   "execution_count": null,
   "metadata": {},
   "outputs": [],
   "source": []
  },
  {
   "cell_type": "code",
   "execution_count": null,
   "metadata": {},
   "outputs": [],
   "source": []
  },
  {
   "cell_type": "code",
   "execution_count": null,
   "metadata": {},
   "outputs": [],
   "source": []
  },
  {
   "cell_type": "code",
   "execution_count": 8,
   "metadata": {},
   "outputs": [
    {
     "name": "stdout",
     "output_type": "stream",
     "text": [
      "R0 lambda 0.25 0.25\n",
      "Done ETN\n",
      "Done STM\n",
      "Done TAG\n",
      "Done DYM\n",
      "orig vs sta \t 0.13\n",
      "orig vs etn \t (0.28700000000000003, 0.0681248853210044)\n",
      "orig vs stm \t (0.583, 0.027586228448267452)\n",
      "orig vs tag \t (0.643, 0.25239057034683365)\n",
      "orig vs dym \t (0.184, 0.0749933330370107)\n",
      "R0 lambda 0.15 0.15\n",
      "Done ETN\n",
      "Done STM\n",
      "Done TAG\n",
      "Done DYM\n",
      "orig vs sta \t 0.1\n",
      "orig vs etn \t (0.181, 0.04437341546466759)\n",
      "orig vs stm \t (0.6260000000000001, 0.033823069050575534)\n",
      "orig vs tag \t (0.5770000000000001, 0.26555790329041234)\n",
      "orig vs dym \t (0.11200000000000002, 0.05706137047074842)\n",
      "R0 lambda 0.01 0.01\n",
      "Done ETN\n",
      "Done STM\n",
      "Done TAG\n",
      "Done DYM\n",
      "orig vs sta \t 0.03\n",
      "orig vs etn \t (0.033, 0.024103941586387897)\n",
      "orig vs stm \t (0.541, 0.07867019766086775)\n",
      "orig vs tag \t (0.306, 0.194381069037085)\n",
      "orig vs dym \t (0.043, 0.04405678154382137)\n"
     ]
    }
   ],
   "source": [
    "for lambd in [0.25,0.15,0.01]:\n",
    "    mu =0.005\n",
    "    K = 100\n",
    "\n",
    "\n",
    "    if lambd == 0.25:\n",
    "        la = la025\n",
    "    if lambd == 0.15:\n",
    "        la = la015\n",
    "    if lambd == 0.01:\n",
    "        la = la001\n",
    "\n",
    "    print(\"R0 lambda\",lambd,lambd)\n",
    "    r_ori = ds.compute_r0(K,orig_graphs,lambd,mu)\n",
    "    r_sta = ds.compute_r0(K,orig_graphs,lambd,mu)\n",
    "    r_etn,r_stm,r_tag,r_dym = [],[],[],[]\n",
    "    for etn in etn_gen:\n",
    "        r_etn.append(ds.compute_r0(K,etn,lambd,mu))\n",
    "    print(\"Done ETN\")\n",
    "    for stm in stm_gen:\n",
    "        r_stm.append(ds.compute_r0(K,stm,lambd,mu))\n",
    "    print(\"Done STM\")\n",
    "    for tag in tag_gen:\n",
    "        r_tag.append(ds.compute_r0(K,tag,lambd,mu))\n",
    "    print(\"Done TAG\")\n",
    "    for dym in dym_gen:\n",
    "        r_dym.append(ds.compute_r0(K,dym,lambd,mu))\n",
    "    print(\"Done DYM\")\n",
    "\n",
    "    print(\"orig vs sta \\t\",ks_2samp(r_ori, r_sta)[0])\n",
    "    print(\"orig vs etn \\t\",mean_ks(r_ori, r_etn))\n",
    "    print(\"orig vs stm \\t\",mean_ks(r_ori, r_stm))\n",
    "    print(\"orig vs tag \\t\",mean_ks(r_ori, r_tag))\n",
    "    print(\"orig vs dym \\t\",mean_ks(r_ori, r_dym))\n",
    "\n",
    "    np.save(la+\"/stab\",r_sta)\n",
    "    np.save(la+\"/orig\",r_ori)\n",
    "    np.save(la+\"/tag\",r_tag)\n",
    "    np.save(la+\"/etn\",r_etn)\n",
    "    np.save(la+\"/dym\",r_dym)\n",
    "    np.save(la+\"/stm\",r_stm)"
   ]
  },
  {
   "cell_type": "code",
   "execution_count": null,
   "metadata": {},
   "outputs": [],
   "source": []
  },
  {
   "cell_type": "code",
   "execution_count": null,
   "metadata": {},
   "outputs": [],
   "source": []
  },
  {
   "cell_type": "code",
   "execution_count": null,
   "metadata": {},
   "outputs": [],
   "source": []
  },
  {
   "cell_type": "markdown",
   "metadata": {},
   "source": [
    "# plot"
   ]
  },
  {
   "cell_type": "code",
   "execution_count": 5,
   "metadata": {},
   "outputs": [],
   "source": [
    "ORIGINAL_COLOR = \"#4C4C4C\"\n",
    "ETN_COLOR = \"#5100FF\"\n",
    "STM_COLOR = \"#FF6A74\"\n",
    "TAG_COLOR = \"#63CA82\"\n",
    "DYM_COLOR = \"#FFD579\"\n",
    "\n",
    "\n",
    "\n",
    "ORIGINAL_COLOR = \"#020005\"\n",
    "ETN_COLOR = \"#ffb000\" \n",
    "STM_COLOR = \"#762f22\"\n",
    "TAG_COLOR = \"#f3e79d\"\n",
    "DYM_COLOR = \"#785478\"#\"#503850\"\n",
    "\n",
    "    \n",
    "ORIGINAL_COLOR = \"#020005\"\n",
    "ETN_COLOR = \"#20639b\" \n",
    "STM_COLOR = \"#3caea3\"\n",
    "TAG_COLOR = \"#f6d55c\"\n",
    "DYM_COLOR = \"#ed553b\"\n",
    "\n",
    "\n",
    "\n",
    "ORIGINAL_COLOR = \"#020005\"\n",
    "ETN_COLOR = \"#F3AA20\" \n",
    "STM_COLOR = \"#2A445E\" \n",
    "TAG_COLOR = \"#841E62\"\n",
    "DYM_COLOR = \"#346B6D\"\n"
   ]
  },
  {
   "cell_type": "code",
   "execution_count": 6,
   "metadata": {},
   "outputs": [],
   "source": [
    "import os\n"
   ]
  },
  {
   "cell_type": "code",
   "execution_count": 7,
   "metadata": {},
   "outputs": [],
   "source": [
    "def load_cov(file_name):\n",
    "    \n",
    "    ori = np.load(\"dynamic_results/\"+file_name+\"/Multiple_run/coverage/orig.npy\")\n",
    "    stb = np.load(\"dynamic_results/\"+file_name+\"/Multiple_run/coverage/stab.npy\")\n",
    "    etn = np.load(\"dynamic_results/\"+file_name+\"/Multiple_run/coverage/etn.npy\")\n",
    "    tag = np.load(\"dynamic_results/\"+file_name+\"/Multiple_run/coverage/tag.npy\")\n",
    "    stm = np.load(\"dynamic_results/\"+file_name+\"/Multiple_run/coverage/stm.npy\")\n",
    "    dym = np.load(\"dynamic_results/\"+file_name+\"/Multiple_run/coverage/dym.npy\")\n",
    "    \n",
    "    return ori,stb,etn,tag,stm,dym"
   ]
  },
  {
   "cell_type": "code",
   "execution_count": 8,
   "metadata": {},
   "outputs": [],
   "source": [
    "\n",
    "\n",
    "def load_mfpt(file_name):\n",
    "    \n",
    "    ori = np.load(\"dynamic_results/\"+file_name+\"/Multiple_run/MFPT/orig.npy\")\n",
    "    stb = np.load(\"dynamic_results/\"+file_name+\"/Multiple_run/MFPT/stab.npy\")\n",
    "    etn = np.load(\"dynamic_results/\"+file_name+\"/Multiple_run/MFPT/etn.npy\", allow_pickle=True)\n",
    "    tag = np.load(\"dynamic_results/\"+file_name+\"/Multiple_run/MFPT/tag.npy\", allow_pickle=True)\n",
    "    stm = np.load(\"dynamic_results/\"+file_name+\"/Multiple_run/MFPT/stm.npy\", allow_pickle=True)\n",
    "    dym = np.load(\"dynamic_results/\"+file_name+\"/Multiple_run/MFPT/dym.npy\", allow_pickle=True)\n",
    "    \n",
    "    return ori,stb,etn,tag,stm,dym\n",
    "\n",
    "def load_r0(file_name,lambd=\"la001\"):\n",
    "    ori = np.load(\"dynamic_results/\"+file_name+\"/Multiple_run/R0/\"+lambd+\"/orig.npy\")\n",
    "    stb = np.load(\"dynamic_results/\"+file_name+\"/Multiple_run/R0/\"+lambd+\"/stab.npy\")\n",
    "    etn = np.load(\"dynamic_results/\"+file_name+\"/Multiple_run/R0/\"+lambd+\"/etn.npy\")\n",
    "    tag = np.load(\"dynamic_results/\"+file_name+\"/Multiple_run/R0/\"+lambd+\"/tag.npy\")\n",
    "    stm = np.load(\"dynamic_results/\"+file_name+\"/Multiple_run/R0/\"+lambd+\"/stm.npy\")\n",
    "    dym = np.load(\"dynamic_results/\"+file_name+\"/Multiple_run/R0/\"+lambd+\"/dym.npy\")\n",
    "    \n",
    "    return ori,stb,etn,tag,stm,dym"
   ]
  },
  {
   "cell_type": "code",
   "execution_count": 9,
   "metadata": {},
   "outputs": [],
   "source": [
    "file_name = \"InVS13\"\n",
    "cov = load_cov(file_name)\n",
    "mfpt = load_mfpt(file_name)\n",
    "ro_025 = load_r0(file_name,\"la025\")\n",
    "ro_015 = load_r0(file_name,\"la015\")\n",
    "ro_001 = load_r0(file_name,\"la001\")"
   ]
  },
  {
   "cell_type": "code",
   "execution_count": 10,
   "metadata": {},
   "outputs": [],
   "source": [
    "from matplotlib.patches import Patch\n",
    "from matplotlib.lines import Line2D\n",
    "\n",
    "def compute_ks_cov_mfpt(cov,mfpt):\n",
    "    \n",
    "    mfpt_ms = [ks_2samp(mfpt[0],mfpt[1])[0]]\n",
    "    cov_ms = [ks_2samp(cov[0],cov[1])[0]]\n",
    "    for i in range(len(cov)-2):\n",
    "        tmp = []\n",
    "        tmp2 = []\n",
    "        for j in cov[i+2]:\n",
    "            tmp.append(ks_2samp(cov[0], j)[0])\n",
    "        for j in mfpt[i+2]:\n",
    "            tmp2.append(ks_2samp(mfpt[0], j)[0])\n",
    "        cov_ms.append([np.mean(tmp),np.std(tmp)])\n",
    "        mfpt_ms.append([np.mean(tmp2),np.std(tmp2)])\n",
    "        \n",
    "    return cov_ms,mfpt_ms\n",
    "\n",
    "\n",
    "\n",
    "def plot_cov_mfpt(ax,file_name,legend=False):\n",
    "    if file_name == \"LH10\":\n",
    "        ax.set_title(\"Hospital\")\n",
    "    if file_name == \"InVS13\":\n",
    "        ax.set_title(\"Workplace\")\n",
    "    if file_name == \"High_School11\":\n",
    "        ax.set_title(\"High school\")\n",
    "    cov = load_cov(file_name)\n",
    "    mfpt = load_mfpt(file_name)\n",
    "    \n",
    "    x = np.arange(2)\n",
    "    cov_ms, mfpt_ms = compute_ks_cov_mfpt(cov,mfpt)\n",
    "    x1 = np.array([cov_ms[0],mfpt_ms[0]])\n",
    "    x2 = np.array([cov_ms[1],mfpt_ms[1]])\n",
    "    x3 = np.array([cov_ms[2],mfpt_ms[2]])\n",
    "    x4 = np.array([cov_ms[3],mfpt_ms[3]])\n",
    "    x5 = np.array([cov_ms[4],mfpt_ms[4]])\n",
    "\n",
    "    width = 0.2\n",
    "    rects1 = ax.bar(x - 0.3, x2[:,0], width, yerr=x2[:,1], label='ETN-gen',color=ETN_COLOR)\n",
    "    rects4 = ax.bar(x - 0.1, x3[:,0], width, yerr=x3[:,1], label='STM',color=STM_COLOR)\n",
    "    rects5 = ax.bar(x + 0.1, x5[:,0], width, yerr=x5[:,1], label='TagGen',color=TAG_COLOR)\n",
    "    rects4 = ax.bar(x + 0.3 , x4[:,0], width, yerr=x4[:,1], label='Dymond',color=DYM_COLOR)\n",
    "    ax.plot([-0.45,0.45],[x1[0],x1[0]],\"--\",linewidth=3, label='Stability',color=ORIGINAL_COLOR)\n",
    "    ax.plot([1-0.45,1.45],[x1[1],x1[1]],\"--\",linewidth=3, label='Stability',color=ORIGINAL_COLOR)\n",
    "    \n",
    "              \n",
    "    ax.tick_params(bottom=False, right=False,left=False)\n",
    "    ax.set_axisbelow(True)\n",
    "    ax.yaxis.grid(True, color='#FFFFFF')\n",
    "    ax.set_facecolor('#EFEFEF')\n",
    "    ax.xaxis.grid(False)\n",
    "    ax.spines['top'].set_visible(False)\n",
    "    ax.spines['right'].set_visible(False)\n",
    "    ax.spines['left'].set_visible(False)\n",
    "    ax.spines['bottom'].set_color('#DDDDDD')    \n",
    "    \n",
    "    labels = [\"Coverage\",\"MFPT\"]\n",
    "    ax.set_xticks(x)\n",
    "    ax.set_xticklabels(labels,rotation=0)\n",
    "    ax.set_ylim((0,1))"
   ]
  },
  {
   "cell_type": "code",
   "execution_count": null,
   "metadata": {},
   "outputs": [],
   "source": []
  },
  {
   "cell_type": "code",
   "execution_count": 15,
   "metadata": {},
   "outputs": [],
   "source": [
    "file_name == \"High_School11\"\n",
    "cov = load_cov(file_name)\n",
    "mfpt = load_mfpt(file_name)\n",
    "\n",
    "x = np.arange(2)\n",
    "cov_ms, mfpt_ms = compute_ks_cov_mfpt(cov,mfpt)"
   ]
  },
  {
   "cell_type": "code",
   "execution_count": 23,
   "metadata": {},
   "outputs": [
    {
     "data": {
      "text/plain": [
       "1000"
      ]
     },
     "execution_count": 23,
     "metadata": {},
     "output_type": "execute_result"
    }
   ],
   "source": [
    "len(cov[0])"
   ]
  },
  {
   "cell_type": "code",
   "execution_count": null,
   "metadata": {},
   "outputs": [],
   "source": []
  },
  {
   "cell_type": "code",
   "execution_count": 11,
   "metadata": {},
   "outputs": [],
   "source": [
    "def compute_ks_r0(la25,la15,la01):\n",
    "    orig_25 = la25[0]\n",
    "    orig_15 = la15[0]\n",
    "    orig_01 = la01[0]\n",
    "    res = [[[ks_2samp(la25[0], la25[1])[0]],[ks_2samp(la15[0], la15[1])[0]],[ks_2samp(la01[0], la01[1])[0]]]]\n",
    "    for i in range(len(la25)-2):\n",
    "        i = i+2\n",
    "        tmp = []\n",
    "        for j in la25[i]:\n",
    "            tmp.append(ks_2samp(orig_25, j)[0])\n",
    "        ks_25 = np.array([np.mean(tmp),np.std(tmp)])\n",
    "        \n",
    "        tmp = []\n",
    "        for j in la15[i]:\n",
    "            tmp.append(ks_2samp(orig_15, j)[0])\n",
    "        ks_15 = np.array([np.mean(tmp),np.std(tmp)])\n",
    "        \n",
    "        \n",
    "        tmp = []\n",
    "        for j in la01[i]:\n",
    "            tmp.append(ks_2samp(orig_01, j)[0])\n",
    "        ks_01 = np.array([np.mean(tmp),np.std(tmp)])\n",
    "        \n",
    "        res.append(np.array([ks_25,ks_15,ks_01]))\n",
    "        \n",
    "    return res"
   ]
  },
  {
   "cell_type": "code",
   "execution_count": null,
   "metadata": {},
   "outputs": [],
   "source": []
  },
  {
   "cell_type": "code",
   "execution_count": null,
   "metadata": {},
   "outputs": [],
   "source": []
  },
  {
   "cell_type": "code",
   "execution_count": 12,
   "metadata": {},
   "outputs": [],
   "source": [
    "def plot_r0(ax,file_name,legend=False):\n",
    "    if file_name == \"LH10\":\n",
    "        ax.set_title(\"Hospital\")\n",
    "    if file_name == \"InVS13\":\n",
    "        ax.set_title(\"Workplace\")\n",
    "    if file_name == \"High_School11\":\n",
    "        ax.set_title(\"High school\")\n",
    "        \n",
    "    r0_025 = load_r0(file_name,\"la025\")\n",
    "    r0_015 = load_r0(file_name,\"la015\")\n",
    "    r0_001 = load_r0(file_name,\"la001\")\n",
    "    x1,x2,x3,x4,x5 = compute_ks_r0(r0_025,r0_015,r0_001)\n",
    "    x = np.arange(3)\n",
    "    width = 0.2\n",
    "    rects1 = ax.bar(x - 0.3, x2[:,0], width, label='ETN-gen',color=ETN_COLOR, yerr=x2[:,1])\n",
    "    rects4 = ax.bar(x - 0.1, x3[:,0], width, label='STM',color=STM_COLOR, yerr=x3[:,1])\n",
    "    rects5 = ax.bar(x + 0.1, x5[:,0], width, label='TagGen',color=TAG_COLOR, yerr=x5[:,1])\n",
    "    rects4 = ax.bar(x + 0.3 , x4[:,0], width, label='Dymond',color=DYM_COLOR, yerr=x4[:,1],)\n",
    "    \n",
    "    ax.plot([-0.45,0.45],[x1[0],x1[0]],\"--\",linewidth=3, label='Stability',color=ORIGINAL_COLOR)\n",
    "    ax.plot([1-0.45,1.45],[x1[1],x1[1]],\"--\",linewidth=3, label='Stability',color=ORIGINAL_COLOR)\n",
    "    ax.plot([2-0.45,2.45],[x1[2],x1[2]],\"--\",linewidth=3, label='Stability',color=ORIGINAL_COLOR)\n",
    "    \n",
    "          \n",
    "    ax.tick_params(bottom=False, right=False,left=False)\n",
    "    ax.set_axisbelow(True)\n",
    "    ax.yaxis.grid(True, color='#FFFFFF')\n",
    "    ax.set_facecolor('#EFEFEF')\n",
    "    ax.xaxis.grid(False)\n",
    "    ax.spines['top'].set_visible(False)\n",
    "    ax.spines['right'].set_visible(False)\n",
    "    ax.spines['left'].set_visible(False)\n",
    "    ax.spines['bottom'].set_color('#DDDDDD')\n",
    "    \n",
    "    \n",
    "\n",
    "    labels = [r\"$\\lambda$ = 0.25\",r\"$\\lambda$ = 0.15\",r\"$\\lambda$ = 0.01\"]\n",
    "    ax.set_xticks(x)\n",
    "    ax.set_xticklabels(labels,rotation=0)\n",
    "    ax.set_ylim((0,1))\n",
    "    if legend:\n",
    "\n",
    "\n",
    "        legend_elements = [Line2D([0], [0], color=ORIGINAL_COLOR, lw=3,ls=\"--\",label='Original'),\n",
    "                           Patch(facecolor=ETN_COLOR, edgecolor=ETN_COLOR,label='ETN-Gen'),\n",
    "                           Patch(facecolor=STM_COLOR, edgecolor=STM_COLOR,label='STM'),\n",
    "                           Patch(facecolor=TAG_COLOR, edgecolor=TAG_COLOR,label='TagGen'),\n",
    "                           Patch(facecolor=DYM_COLOR, edgecolor=DYM_COLOR,label='Dymond')]\n",
    "\n",
    "        # Create the figure\n",
    "        ax.legend(handles=legend_elements,loc='center left', bbox_to_anchor=(-0.85, -0.25),ncol=5)\n",
    "\n"
   ]
  },
  {
   "cell_type": "code",
   "execution_count": null,
   "metadata": {},
   "outputs": [],
   "source": []
  },
  {
   "cell_type": "code",
   "execution_count": null,
   "metadata": {},
   "outputs": [],
   "source": []
  },
  {
   "cell_type": "code",
   "execution_count": 13,
   "metadata": {},
   "outputs": [],
   "source": [
    "ORIGINAL_COLOR = \"#020005\"\n",
    "ETN_COLOR = \"#F3AA20\" \n",
    "STM_COLOR = \"#2A445E\" \n",
    "TAG_COLOR = \"#841E62\"\n",
    "DYM_COLOR = \"#346B6D\"\n"
   ]
  },
  {
   "cell_type": "code",
   "execution_count": 14,
   "metadata": {
    "scrolled": false
   },
   "outputs": [
    {
     "data": {
      "image/png": "[encoded data removed]",
      "text/plain": [
       "<Figure size 864x648 with 6 Axes>"
      ]
     },
     "metadata": {
      "image/png": {
       "height": 644,
       "width": 812
      },
      "needs_background": "light"
     },
     "output_type": "display_data"
    }
   ],
   "source": [
    "fig, ax = plt.subplots(3,2, figsize=(12,9), gridspec_kw={'width_ratios': [2, 3]})\n",
    "fig.tight_layout(pad=3.0)\n",
    "plot_cov_mfpt(ax[0][0],\"LH10\")\n",
    "plot_r0(ax[0][1],\"LH10\")\n",
    "\n",
    "plot_cov_mfpt(ax[1][0],\"InVS13\")\n",
    "plot_r0(ax[1][1],\"InVS13\")\n",
    "\n",
    "\n",
    "plot_cov_mfpt(ax[2][0],\"High_School11\",legend=True)\n",
    "plot_r0(ax[2][1],\"High_School11\",legend=True)\n",
    "\n",
    "#fig.savefig(\"dynamic_main_test_WithE.pdf\", bbox_inches = 'tight')"
   ]
  },
  {
   "cell_type": "code",
   "execution_count": null,
   "metadata": {},
   "outputs": [],
   "source": []
  },
  {
   "cell_type": "code",
   "execution_count": null,
   "metadata": {},
   "outputs": [],
   "source": []
  },
  {
   "cell_type": "code",
   "execution_count": null,
   "metadata": {},
   "outputs": [],
   "source": []
  }
 ],
 "metadata": {
  "kernelspec": {
   "display_name": "Python 3",
   "language": "python",
   "name": "python3"
  },
  "language_info": {
   "codemirror_mode": {
    "name": "ipython",
    "version": 3
   },
   "file_extension": ".py",
   "mimetype": "text/x-python",
   "name": "python",
   "nbconvert_exporter": "python",
   "pygments_lexer": "ipython3",
   "version": "3.8.8"
  }
 },
 "nbformat": 4,
 "nbformat_minor": 4
}
